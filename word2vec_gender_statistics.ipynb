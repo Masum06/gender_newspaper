{
  "nbformat": 4,
  "nbformat_minor": 0,
  "metadata": {
    "colab": {
      "name": "word2vec_gender_statistics.ipynb",
      "version": "0.3.2",
      "provenance": [],
      "include_colab_link": true
    },
    "kernelspec": {
      "name": "python3",
      "display_name": "Python 3"
    },
    "accelerator": "GPU"
  },
  "cells": [
    {
      "cell_type": "markdown",
      "metadata": {
        "id": "view-in-github",
        "colab_type": "text"
      },
      "source": [
        "[View in Colaboratory](https://colab.research.google.com/github/Masum06/gender_newspaper/blob/master/word2vec_gender_statistics.ipynb)"
      ]
    },
    {
      "metadata": {
        "id": "4JD_l8U60vmh",
        "colab_type": "text"
      },
      "cell_type": "markdown",
      "source": [
        "**Description:**\n",
        "\n",
        "\n",
        "*   Load 3 trained models, A0, A1, B0\n",
        "*   Calculate similarity between 2 different Gensim word2vec model using numpy\n",
        "*   Make statistical calculations with the models, such as Mean, Standar Deviation\n",
        "*   Calculate number of words outside Standard Deviation\n",
        "*   Print the words outside norm\n",
        "*   Plot the histogram of words using Matplotlib\n",
        "*   Runtime calculation\n",
        "\n",
        "\n"
      ]
    },
    {
      "metadata": {
        "id": "v2071cph1gXB",
        "colab_type": "text"
      },
      "cell_type": "markdown",
      "source": [
        "### 1. Connect to Google drive"
      ]
    },
    {
      "metadata": {
        "id": "DxqotBND1kfO",
        "colab_type": "code",
        "colab": {
          "base_uri": "https://localhost:8080/",
          "height": 110
        },
        "outputId": "ccd5452d-a74c-4257-acb4-018a0795b7fa"
      },
      "cell_type": "code",
      "source": [
        "!apt-get install -y -qq software-properties-common python-software-properties module-init-tools\n",
        "!add-apt-repository -y ppa:alessandro-strada/ppa 2>&1 > /dev/null\n",
        "!apt-get update -qq 2>&1 > /dev/null\n",
        "!apt-get -y install -qq google-drive-ocamlfuse fuse\n",
        "from google.colab import auth\n",
        "auth.authenticate_user()\n",
        "from oauth2client.client import GoogleCredentials\n",
        "creds = GoogleCredentials.get_application_default()\n",
        "import getpass\n",
        "!google-drive-ocamlfuse -headless -id={creds.client_id} -secret={creds.client_secret} < /dev/null 2>&1 | grep URL\n",
        "vcode = getpass.getpass()\n",
        "!echo {vcode} | google-drive-ocamlfuse -headless -id={creds.client_id} -secret={creds.client_secret}"
      ],
      "execution_count": 1,
      "outputs": [
        {
          "output_type": "stream",
          "text": [
            "Please, open the following URL in a web browser: https://accounts.google.com/o/oauth2/auth?client_id=32555940559.apps.googleusercontent.com&redirect_uri=urn%3Aietf%3Awg%3Aoauth%3A2.0%3Aoob&scope=https%3A%2F%2Fwww.googleapis.com%2Fauth%2Fdrive&response_type=code&access_type=offline&approval_prompt=force\r\n",
            "··········\n",
            "Please, open the following URL in a web browser: https://accounts.google.com/o/oauth2/auth?client_id=32555940559.apps.googleusercontent.com&redirect_uri=urn%3Aietf%3Awg%3Aoauth%3A2.0%3Aoob&scope=https%3A%2F%2Fwww.googleapis.com%2Fauth%2Fdrive&response_type=code&access_type=offline&approval_prompt=force\n",
            "Please enter the verification code: Access token retrieved correctly.\n"
          ],
          "name": "stdout"
        }
      ]
    },
    {
      "metadata": {
        "id": "WGPaQfoj1uIf",
        "colab_type": "code",
        "colab": {},
        "cellView": "code"
      },
      "cell_type": "code",
      "source": [
        "#@title Default title text\n",
        "!mkdir -p drive\n",
        "!google-drive-ocamlfuse drive"
      ],
      "execution_count": 0,
      "outputs": []
    },
    {
      "metadata": {
        "id": "it6H9pGYczyv",
        "colab_type": "code",
        "colab": {
          "base_uri": "https://localhost:8080/",
          "height": 417
        },
        "outputId": "df7dc937-4f37-42a1-8a6b-2ac196fac735"
      },
      "cell_type": "code",
      "source": [
        "ls -l drive/data/models/"
      ],
      "execution_count": 3,
      "outputs": [
        {
          "output_type": "stream",
          "text": [
            "total 419182\r\n",
            "-rw-r--r-- 1 root root 14873810 Aug 14 11:28 bothReplaced_model_0\r\n",
            "-rw-r--r-- 1 root root 14873846 Aug 14 11:34 bothReplaced_model_1\r\n",
            "-rw-r--r-- 1 root root 14873864 Aug 14 11:39 bothReplaced_model_2\r\n",
            "-rw-r--r-- 1 root root 14873768 Aug 14 11:45 bothReplaced_model_3\r\n",
            "-rw-r--r-- 1 root root 14873837 Aug 14 11:50 bothReplaced_model_4\r\n",
            "-rw-r--r-- 1 root root 24828279 Aug 14 09:49 femaleReplaced_model_0\r\n",
            "-rw-r--r-- 1 root root 24828277 Aug 14 09:55 femaleReplaced_model_1\r\n",
            "-rw-r--r-- 1 root root 24828228 Aug 14 10:01 femaleReplaced_model_2\r\n",
            "-rw-r--r-- 1 root root 24828216 Aug 14 10:07 femaleReplaced_model_3\r\n",
            "-rw-r--r-- 1 root root 24828250 Aug 14 10:13 femaleReplaced_model_4\r\n",
            "-rw-r--r-- 1 root root 18186890 Aug 14 09:21 maleReplaced_model_0\r\n",
            "-rw-r--r-- 1 root root 18186881 Aug 14 09:26 maleReplaced_model_1\r\n",
            "-rw-r--r-- 1 root root 18186853 Aug 14 09:32 maleReplaced_model_2\r\n",
            "-rw-r--r-- 1 root root 18186900 Aug 14 09:37 maleReplaced_model_3\r\n",
            "-rw-r--r-- 1 root root 18186858 Aug 14 09:43 maleReplaced_model_4\r\n",
            "-rw-r--r-- 1 root root 27957371 Aug 14 10:59 nonGender_model_0\r\n",
            "-rw-r--r-- 1 root root 27957346 Aug 14 11:05 nonGender_model_1\r\n",
            "-rw-r--r-- 1 root root 27957344 Aug 14 11:11 nonGender_model_2\r\n",
            "-rw-r--r-- 1 root root 27957311 Aug 14 11:17 nonGender_model_3\r\n",
            "-rw-r--r-- 1 root root 27957325 Aug 14 11:22 nonGender_model_4\r\n",
            "drwxr-xr-x 2 root root     4096 Aug 14 08:56 \u001b[0m\u001b[01;34mold models\u001b[0m/\r\n"
          ],
          "name": "stdout"
        }
      ]
    },
    {
      "metadata": {
        "id": "T8ZOy13Fcjvy",
        "colab_type": "code",
        "colab": {
          "base_uri": "https://localhost:8080/",
          "height": 35
        },
        "outputId": "ab0faec4-1fdb-445e-e636-7e0decd2ed03"
      },
      "cell_type": "code",
      "source": [
        "!cp drive/data/models/* ./"
      ],
      "execution_count": 4,
      "outputs": [
        {
          "output_type": "stream",
          "text": [
            "cp: -r not specified; omitting directory 'drive/data/models/old models'\r\n"
          ],
          "name": "stdout"
        }
      ]
    },
    {
      "metadata": {
        "id": "uICWKtwbZJgM",
        "colab_type": "code",
        "colab": {
          "base_uri": "https://localhost:8080/",
          "height": 472
        },
        "outputId": "aabf21ca-da86-43bd-d85c-31674b399e14"
      },
      "cell_type": "code",
      "source": [
        "ls -l"
      ],
      "execution_count": 5,
      "outputs": [
        {
          "output_type": "stream",
          "text": [
            "total 419232\r\n",
            "-rw-r--r-- 1 root root     2544 Aug 16 09:29 adc.json\r\n",
            "-rw-r--r-- 1 root root 14873810 Aug 16 09:30 bothReplaced_model_0\r\n",
            "-rw-r--r-- 1 root root 14873846 Aug 16 09:30 bothReplaced_model_1\r\n",
            "-rw-r--r-- 1 root root 14873864 Aug 16 09:30 bothReplaced_model_2\r\n",
            "-rw-r--r-- 1 root root 14873768 Aug 16 09:30 bothReplaced_model_3\r\n",
            "-rw-r--r-- 1 root root 14873837 Aug 16 09:30 bothReplaced_model_4\r\n",
            "lrwxrwxrwx 1 root root        8 Aug 15 00:55 \u001b[0m\u001b[01;36mdatalab\u001b[0m -> \u001b[01;34m/content\u001b[0m/\r\n",
            "drwxr-xr-x 2 root root     4096 Aug 16 09:29 \u001b[01;34mdrive\u001b[0m/\r\n",
            "-rw-r--r-- 1 root root 24828279 Aug 16 09:30 femaleReplaced_model_0\r\n",
            "-rw-r--r-- 1 root root 24828277 Aug 16 09:30 femaleReplaced_model_1\r\n",
            "-rw-r--r-- 1 root root 24828228 Aug 16 09:30 femaleReplaced_model_2\r\n",
            "-rw-r--r-- 1 root root 24828216 Aug 16 09:30 femaleReplaced_model_3\r\n",
            "-rw-r--r-- 1 root root 24828250 Aug 16 09:30 femaleReplaced_model_4\r\n",
            "-rw-r--r-- 1 root root 18186890 Aug 16 09:30 maleReplaced_model_0\r\n",
            "-rw-r--r-- 1 root root 18186881 Aug 16 09:30 maleReplaced_model_1\r\n",
            "-rw-r--r-- 1 root root 18186853 Aug 16 09:30 maleReplaced_model_2\r\n",
            "-rw-r--r-- 1 root root 18186900 Aug 16 09:30 maleReplaced_model_3\r\n",
            "-rw-r--r-- 1 root root 18186858 Aug 16 09:30 maleReplaced_model_4\r\n",
            "-rw-r--r-- 1 root root 27957371 Aug 16 09:30 nonGender_model_0\r\n",
            "-rw-r--r-- 1 root root 27957346 Aug 16 09:30 nonGender_model_1\r\n",
            "-rw-r--r-- 1 root root 27957344 Aug 16 09:31 nonGender_model_2\r\n",
            "-rw-r--r-- 1 root root 27957311 Aug 16 09:31 nonGender_model_3\r\n",
            "-rw-r--r-- 1 root root 27957325 Aug 16 09:31 nonGender_model_4\r\n",
            "drwxr-xr-x 2 root root     4096 Aug 15 00:55 \u001b[01;34msample_data\u001b[0m/\r\n"
          ],
          "name": "stdout"
        }
      ]
    },
    {
      "metadata": {
        "id": "51d_ChAx1quZ",
        "colab_type": "text"
      },
      "cell_type": "markdown",
      "source": [
        "### Installation and Downloading model"
      ]
    },
    {
      "metadata": {
        "id": "XGG8XqpvMg8i",
        "colab_type": "code",
        "colab": {}
      },
      "cell_type": "code",
      "source": [
        "!pip install gensim"
      ],
      "execution_count": 0,
      "outputs": []
    },
    {
      "metadata": {
        "id": "8xuA1SBMwhEl",
        "colab_type": "text"
      },
      "cell_type": "markdown",
      "source": [
        "###Load 2 models"
      ]
    },
    {
      "metadata": {
        "id": "JMaKl0a1wjh7",
        "colab_type": "code",
        "colab": {
          "base_uri": "https://localhost:8080/",
          "height": 1116
        },
        "outputId": "f98e7fad-af67-4a1a-b3e8-1022c169e2ee"
      },
      "cell_type": "code",
      "source": [
        "import gensim\n",
        "B0 = gensim.models.Word2Vec.load('bothReplaced_model_0')\n",
        "A0 = gensim.models.Word2Vec.load('nonGender_model_0')\n",
        "A1 = gensim.models.Word2Vec.load('nonGender_model_1')"
      ],
      "execution_count": 9,
      "outputs": [
        {
          "output_type": "error",
          "ename": "FileNotFoundError",
          "evalue": "ignored",
          "traceback": [
            "\u001b[0;31m---------------------------------------------------------------------------\u001b[0m",
            "\u001b[0;31mFileNotFoundError\u001b[0m                         Traceback (most recent call last)",
            "\u001b[0;32m<ipython-input-9-b70473f8a9f6>\u001b[0m in \u001b[0;36m<module>\u001b[0;34m()\u001b[0m\n\u001b[1;32m      1\u001b[0m \u001b[0;32mimport\u001b[0m \u001b[0mgensim\u001b[0m\u001b[0;34m\u001b[0m\u001b[0m\n\u001b[1;32m      2\u001b[0m \u001b[0;31m#B0 = gensim.models.Word2Vec.load('bothReplaced_model_0')\u001b[0m\u001b[0;34m\u001b[0m\u001b[0;34m\u001b[0m\u001b[0m\n\u001b[0;32m----> 3\u001b[0;31m \u001b[0mA0\u001b[0m \u001b[0;34m=\u001b[0m \u001b[0mgensim\u001b[0m\u001b[0;34m.\u001b[0m\u001b[0mmodels\u001b[0m\u001b[0;34m.\u001b[0m\u001b[0mWord2Vec\u001b[0m\u001b[0;34m.\u001b[0m\u001b[0mload\u001b[0m\u001b[0;34m(\u001b[0m\u001b[0;34m'nonGender_model_0'\u001b[0m\u001b[0;34m)\u001b[0m\u001b[0;34m\u001b[0m\u001b[0m\n\u001b[0m\u001b[1;32m      4\u001b[0m \u001b[0mA1\u001b[0m \u001b[0;34m=\u001b[0m \u001b[0mgensim\u001b[0m\u001b[0;34m.\u001b[0m\u001b[0mmodels\u001b[0m\u001b[0;34m.\u001b[0m\u001b[0mWord2Vec\u001b[0m\u001b[0;34m.\u001b[0m\u001b[0mload\u001b[0m\u001b[0;34m(\u001b[0m\u001b[0;34m'nonGender_model_1'\u001b[0m\u001b[0;34m)\u001b[0m\u001b[0;34m\u001b[0m\u001b[0m\n",
            "\u001b[0;32m/usr/local/lib/python3.6/dist-packages/gensim/models/word2vec.py\u001b[0m in \u001b[0;36mload\u001b[0;34m(cls, *args, **kwargs)\u001b[0m\n\u001b[1;32m   1274\u001b[0m         \"\"\"\n\u001b[1;32m   1275\u001b[0m         \u001b[0;32mtry\u001b[0m\u001b[0;34m:\u001b[0m\u001b[0;34m\u001b[0m\u001b[0m\n\u001b[0;32m-> 1276\u001b[0;31m             \u001b[0mmodel\u001b[0m \u001b[0;34m=\u001b[0m \u001b[0msuper\u001b[0m\u001b[0;34m(\u001b[0m\u001b[0mWord2Vec\u001b[0m\u001b[0;34m,\u001b[0m \u001b[0mcls\u001b[0m\u001b[0;34m)\u001b[0m\u001b[0;34m.\u001b[0m\u001b[0mload\u001b[0m\u001b[0;34m(\u001b[0m\u001b[0;34m*\u001b[0m\u001b[0margs\u001b[0m\u001b[0;34m,\u001b[0m \u001b[0;34m**\u001b[0m\u001b[0mkwargs\u001b[0m\u001b[0;34m)\u001b[0m\u001b[0;34m\u001b[0m\u001b[0m\n\u001b[0m\u001b[1;32m   1277\u001b[0m \u001b[0;34m\u001b[0m\u001b[0m\n\u001b[1;32m   1278\u001b[0m             \u001b[0;31m# for backward compatibility for `max_final_vocab` feature\u001b[0m\u001b[0;34m\u001b[0m\u001b[0;34m\u001b[0m\u001b[0m\n",
            "\u001b[0;32m/usr/local/lib/python3.6/dist-packages/gensim/models/base_any2vec.py\u001b[0m in \u001b[0;36mload\u001b[0;34m(cls, *args, **kwargs)\u001b[0m\n\u001b[1;32m   1099\u001b[0m \u001b[0;34m\u001b[0m\u001b[0m\n\u001b[1;32m   1100\u001b[0m         \"\"\"\n\u001b[0;32m-> 1101\u001b[0;31m         \u001b[0mmodel\u001b[0m \u001b[0;34m=\u001b[0m \u001b[0msuper\u001b[0m\u001b[0;34m(\u001b[0m\u001b[0mBaseWordEmbeddingsModel\u001b[0m\u001b[0;34m,\u001b[0m \u001b[0mcls\u001b[0m\u001b[0;34m)\u001b[0m\u001b[0;34m.\u001b[0m\u001b[0mload\u001b[0m\u001b[0;34m(\u001b[0m\u001b[0;34m*\u001b[0m\u001b[0margs\u001b[0m\u001b[0;34m,\u001b[0m \u001b[0;34m**\u001b[0m\u001b[0mkwargs\u001b[0m\u001b[0;34m)\u001b[0m\u001b[0;34m\u001b[0m\u001b[0m\n\u001b[0m\u001b[1;32m   1102\u001b[0m         \u001b[0;32mif\u001b[0m \u001b[0;32mnot\u001b[0m \u001b[0mhasattr\u001b[0m\u001b[0;34m(\u001b[0m\u001b[0mmodel\u001b[0m\u001b[0;34m,\u001b[0m \u001b[0;34m'ns_exponent'\u001b[0m\u001b[0;34m)\u001b[0m\u001b[0;34m:\u001b[0m\u001b[0;34m\u001b[0m\u001b[0m\n\u001b[1;32m   1103\u001b[0m             \u001b[0mmodel\u001b[0m\u001b[0;34m.\u001b[0m\u001b[0mns_exponent\u001b[0m \u001b[0;34m=\u001b[0m \u001b[0;36m0.75\u001b[0m\u001b[0;34m\u001b[0m\u001b[0m\n",
            "\u001b[0;32m/usr/local/lib/python3.6/dist-packages/gensim/models/base_any2vec.py\u001b[0m in \u001b[0;36mload\u001b[0;34m(cls, fname_or_handle, **kwargs)\u001b[0m\n\u001b[1;32m    481\u001b[0m \u001b[0;34m\u001b[0m\u001b[0m\n\u001b[1;32m    482\u001b[0m         \"\"\"\n\u001b[0;32m--> 483\u001b[0;31m         \u001b[0;32mreturn\u001b[0m \u001b[0msuper\u001b[0m\u001b[0;34m(\u001b[0m\u001b[0mBaseAny2VecModel\u001b[0m\u001b[0;34m,\u001b[0m \u001b[0mcls\u001b[0m\u001b[0;34m)\u001b[0m\u001b[0;34m.\u001b[0m\u001b[0mload\u001b[0m\u001b[0;34m(\u001b[0m\u001b[0mfname_or_handle\u001b[0m\u001b[0;34m,\u001b[0m \u001b[0;34m**\u001b[0m\u001b[0mkwargs\u001b[0m\u001b[0;34m)\u001b[0m\u001b[0;34m\u001b[0m\u001b[0m\n\u001b[0m\u001b[1;32m    484\u001b[0m \u001b[0;34m\u001b[0m\u001b[0m\n\u001b[1;32m    485\u001b[0m     \u001b[0;32mdef\u001b[0m \u001b[0msave\u001b[0m\u001b[0;34m(\u001b[0m\u001b[0mself\u001b[0m\u001b[0;34m,\u001b[0m \u001b[0mfname_or_handle\u001b[0m\u001b[0;34m,\u001b[0m \u001b[0;34m**\u001b[0m\u001b[0mkwargs\u001b[0m\u001b[0;34m)\u001b[0m\u001b[0;34m:\u001b[0m\u001b[0;34m\u001b[0m\u001b[0m\n",
            "\u001b[0;32m/usr/local/lib/python3.6/dist-packages/gensim/utils.py\u001b[0m in \u001b[0;36mload\u001b[0;34m(cls, fname, mmap)\u001b[0m\n\u001b[1;32m    418\u001b[0m \u001b[0;34m\u001b[0m\u001b[0m\n\u001b[1;32m    419\u001b[0m         \u001b[0mobj\u001b[0m \u001b[0;34m=\u001b[0m \u001b[0munpickle\u001b[0m\u001b[0;34m(\u001b[0m\u001b[0mfname\u001b[0m\u001b[0;34m)\u001b[0m\u001b[0;34m\u001b[0m\u001b[0m\n\u001b[0;32m--> 420\u001b[0;31m         \u001b[0mobj\u001b[0m\u001b[0;34m.\u001b[0m\u001b[0m_load_specials\u001b[0m\u001b[0;34m(\u001b[0m\u001b[0mfname\u001b[0m\u001b[0;34m,\u001b[0m \u001b[0mmmap\u001b[0m\u001b[0;34m,\u001b[0m \u001b[0mcompress\u001b[0m\u001b[0;34m,\u001b[0m \u001b[0msubname\u001b[0m\u001b[0;34m)\u001b[0m\u001b[0;34m\u001b[0m\u001b[0m\n\u001b[0m\u001b[1;32m    421\u001b[0m         \u001b[0mlogger\u001b[0m\u001b[0;34m.\u001b[0m\u001b[0minfo\u001b[0m\u001b[0;34m(\u001b[0m\u001b[0;34m\"loaded %s\"\u001b[0m\u001b[0;34m,\u001b[0m \u001b[0mfname\u001b[0m\u001b[0;34m)\u001b[0m\u001b[0;34m\u001b[0m\u001b[0m\n\u001b[1;32m    422\u001b[0m         \u001b[0;32mreturn\u001b[0m \u001b[0mobj\u001b[0m\u001b[0;34m\u001b[0m\u001b[0m\n",
            "\u001b[0;32m/usr/local/lib/python3.6/dist-packages/gensim/utils.py\u001b[0m in \u001b[0;36m_load_specials\u001b[0;34m(self, fname, mmap, compress, subname)\u001b[0m\n\u001b[1;32m    448\u001b[0m             \u001b[0mcfname\u001b[0m \u001b[0;34m=\u001b[0m \u001b[0;34m'.'\u001b[0m\u001b[0;34m.\u001b[0m\u001b[0mjoin\u001b[0m\u001b[0;34m(\u001b[0m\u001b[0;34m(\u001b[0m\u001b[0mfname\u001b[0m\u001b[0;34m,\u001b[0m \u001b[0mattrib\u001b[0m\u001b[0;34m)\u001b[0m\u001b[0;34m)\u001b[0m\u001b[0;34m\u001b[0m\u001b[0m\n\u001b[1;32m    449\u001b[0m             \u001b[0mlogger\u001b[0m\u001b[0;34m.\u001b[0m\u001b[0minfo\u001b[0m\u001b[0;34m(\u001b[0m\u001b[0;34m\"loading %s recursively from %s.* with mmap=%s\"\u001b[0m\u001b[0;34m,\u001b[0m \u001b[0mattrib\u001b[0m\u001b[0;34m,\u001b[0m \u001b[0mcfname\u001b[0m\u001b[0;34m,\u001b[0m \u001b[0mmmap\u001b[0m\u001b[0;34m)\u001b[0m\u001b[0;34m\u001b[0m\u001b[0m\n\u001b[0;32m--> 450\u001b[0;31m             \u001b[0mgetattr\u001b[0m\u001b[0;34m(\u001b[0m\u001b[0mself\u001b[0m\u001b[0;34m,\u001b[0m \u001b[0mattrib\u001b[0m\u001b[0;34m)\u001b[0m\u001b[0;34m.\u001b[0m\u001b[0m_load_specials\u001b[0m\u001b[0;34m(\u001b[0m\u001b[0mcfname\u001b[0m\u001b[0;34m,\u001b[0m \u001b[0mmmap\u001b[0m\u001b[0;34m,\u001b[0m \u001b[0mcompress\u001b[0m\u001b[0;34m,\u001b[0m \u001b[0msubname\u001b[0m\u001b[0;34m)\u001b[0m\u001b[0;34m\u001b[0m\u001b[0m\n\u001b[0m\u001b[1;32m    451\u001b[0m \u001b[0;34m\u001b[0m\u001b[0m\n\u001b[1;32m    452\u001b[0m         \u001b[0;32mfor\u001b[0m \u001b[0mattrib\u001b[0m \u001b[0;32min\u001b[0m \u001b[0mgetattr\u001b[0m\u001b[0;34m(\u001b[0m\u001b[0mself\u001b[0m\u001b[0;34m,\u001b[0m \u001b[0;34m'__numpys'\u001b[0m\u001b[0;34m,\u001b[0m \u001b[0;34m[\u001b[0m\u001b[0;34m]\u001b[0m\u001b[0;34m)\u001b[0m\u001b[0;34m:\u001b[0m\u001b[0;34m\u001b[0m\u001b[0m\n",
            "\u001b[0;32m/usr/local/lib/python3.6/dist-packages/gensim/utils.py\u001b[0m in \u001b[0;36m_load_specials\u001b[0;34m(self, fname, mmap, compress, subname)\u001b[0m\n\u001b[1;32m    459\u001b[0m                 \u001b[0mval\u001b[0m \u001b[0;34m=\u001b[0m \u001b[0mnp\u001b[0m\u001b[0;34m.\u001b[0m\u001b[0mload\u001b[0m\u001b[0;34m(\u001b[0m\u001b[0msubname\u001b[0m\u001b[0;34m(\u001b[0m\u001b[0mfname\u001b[0m\u001b[0;34m,\u001b[0m \u001b[0mattrib\u001b[0m\u001b[0;34m)\u001b[0m\u001b[0;34m)\u001b[0m\u001b[0;34m[\u001b[0m\u001b[0;34m'val'\u001b[0m\u001b[0;34m]\u001b[0m\u001b[0;34m\u001b[0m\u001b[0m\n\u001b[1;32m    460\u001b[0m             \u001b[0;32melse\u001b[0m\u001b[0;34m:\u001b[0m\u001b[0;34m\u001b[0m\u001b[0m\n\u001b[0;32m--> 461\u001b[0;31m                 \u001b[0mval\u001b[0m \u001b[0;34m=\u001b[0m \u001b[0mnp\u001b[0m\u001b[0;34m.\u001b[0m\u001b[0mload\u001b[0m\u001b[0;34m(\u001b[0m\u001b[0msubname\u001b[0m\u001b[0;34m(\u001b[0m\u001b[0mfname\u001b[0m\u001b[0;34m,\u001b[0m \u001b[0mattrib\u001b[0m\u001b[0;34m)\u001b[0m\u001b[0;34m,\u001b[0m \u001b[0mmmap_mode\u001b[0m\u001b[0;34m=\u001b[0m\u001b[0mmmap\u001b[0m\u001b[0;34m)\u001b[0m\u001b[0;34m\u001b[0m\u001b[0m\n\u001b[0m\u001b[1;32m    462\u001b[0m \u001b[0;34m\u001b[0m\u001b[0m\n\u001b[1;32m    463\u001b[0m             \u001b[0msetattr\u001b[0m\u001b[0;34m(\u001b[0m\u001b[0mself\u001b[0m\u001b[0;34m,\u001b[0m \u001b[0mattrib\u001b[0m\u001b[0;34m,\u001b[0m \u001b[0mval\u001b[0m\u001b[0;34m)\u001b[0m\u001b[0;34m\u001b[0m\u001b[0m\n",
            "\u001b[0;32m/usr/local/lib/python3.6/dist-packages/numpy/lib/npyio.py\u001b[0m in \u001b[0;36mload\u001b[0;34m(file, mmap_mode, allow_pickle, fix_imports, encoding)\u001b[0m\n\u001b[1;32m    370\u001b[0m     \u001b[0mown_fid\u001b[0m \u001b[0;34m=\u001b[0m \u001b[0;32mFalse\u001b[0m\u001b[0;34m\u001b[0m\u001b[0m\n\u001b[1;32m    371\u001b[0m     \u001b[0;32mif\u001b[0m \u001b[0misinstance\u001b[0m\u001b[0;34m(\u001b[0m\u001b[0mfile\u001b[0m\u001b[0;34m,\u001b[0m \u001b[0mbasestring\u001b[0m\u001b[0;34m)\u001b[0m\u001b[0;34m:\u001b[0m\u001b[0;34m\u001b[0m\u001b[0m\n\u001b[0;32m--> 372\u001b[0;31m         \u001b[0mfid\u001b[0m \u001b[0;34m=\u001b[0m \u001b[0mopen\u001b[0m\u001b[0;34m(\u001b[0m\u001b[0mfile\u001b[0m\u001b[0;34m,\u001b[0m \u001b[0;34m\"rb\"\u001b[0m\u001b[0;34m)\u001b[0m\u001b[0;34m\u001b[0m\u001b[0m\n\u001b[0m\u001b[1;32m    373\u001b[0m         \u001b[0mown_fid\u001b[0m \u001b[0;34m=\u001b[0m \u001b[0;32mTrue\u001b[0m\u001b[0;34m\u001b[0m\u001b[0m\n\u001b[1;32m    374\u001b[0m     \u001b[0;32melif\u001b[0m \u001b[0mis_pathlib_path\u001b[0m\u001b[0;34m(\u001b[0m\u001b[0mfile\u001b[0m\u001b[0;34m)\u001b[0m\u001b[0;34m:\u001b[0m\u001b[0;34m\u001b[0m\u001b[0m\n",
            "\u001b[0;31mFileNotFoundError\u001b[0m: [Errno 2] No such file or directory: 'nonGender_model_0.wv.vectors.npy'"
          ]
        }
      ]
    },
    {
      "metadata": {
        "id": "OQzOyL0fd8vP",
        "colab_type": "text"
      },
      "cell_type": "markdown",
      "source": [
        "### Similarity Matrix with numpy/Cupy"
      ]
    },
    {
      "metadata": {
        "id": "llNLoa7FjeWt",
        "colab_type": "code",
        "colab": {}
      },
      "cell_type": "code",
      "source": [
        "import numpy as np"
      ],
      "execution_count": 0,
      "outputs": []
    },
    {
      "metadata": {
        "id": "pNMBIfvMheAt",
        "colab_type": "code",
        "colab": {
          "base_uri": "https://localhost:8080/",
          "height": 110
        },
        "outputId": "64520311-7078-4e65-e1c3-3d1b21646a84"
      },
      "cell_type": "code",
      "source": [
        "mat1 = model1.wv.syn0/np.linalg.norm(model1.wv.syn0, axis=1).reshape(-1, 1) # NORMALIZE\n",
        "mat2 = model2.wv.syn0/np.linalg.norm(model2.wv.syn0, axis=1).reshape(-1, 1)"
      ],
      "execution_count": 0,
      "outputs": [
        {
          "output_type": "stream",
          "text": [
            "/usr/local/lib/python3.6/dist-packages/ipykernel_launcher.py:1: DeprecationWarning: Call to deprecated `syn0` (Attribute will be removed in 4.0.0, use self.wv.vectors instead).\n",
            "  \"\"\"Entry point for launching an IPython kernel.\n",
            "/usr/local/lib/python3.6/dist-packages/ipykernel_launcher.py:2: DeprecationWarning: Call to deprecated `syn0` (Attribute will be removed in 4.0.0, use self.wv.vectors instead).\n",
            "  \n"
          ],
          "name": "stderr"
        }
      ]
    },
    {
      "metadata": {
        "id": "Xu7Lw4-ijoSz",
        "colab_type": "code",
        "colab": {
          "base_uri": "https://localhost:8080/",
          "height": 35
        },
        "outputId": "b0a29ae8-ebd4-4801-9159-a57c55f7c12f"
      },
      "cell_type": "code",
      "source": [
        "np.linalg.norm(mat1[59])"
      ],
      "execution_count": 0,
      "outputs": [
        {
          "output_type": "execute_result",
          "data": {
            "text/plain": [
              "1.0"
            ]
          },
          "metadata": {
            "tags": []
          },
          "execution_count": 11
        }
      ]
    },
    {
      "metadata": {
        "id": "onjYQZeEhm2n",
        "colab_type": "code",
        "colab": {
          "base_uri": "https://localhost:8080/",
          "height": 92
        },
        "outputId": "638b9933-c2ba-4083-9d52-b1cef1a6c38c"
      },
      "cell_type": "code",
      "source": [
        "size = len(model1.wv.syn0)\n",
        "print(size)"
      ],
      "execution_count": 0,
      "outputs": [
        {
          "output_type": "stream",
          "text": [
            "94734\n"
          ],
          "name": "stdout"
        },
        {
          "output_type": "stream",
          "text": [
            "/usr/local/lib/python3.6/dist-packages/ipykernel_launcher.py:1: DeprecationWarning: Call to deprecated `syn0` (Attribute will be removed in 4.0.0, use self.wv.vectors instead).\n",
            "  \"\"\"Entry point for launching an IPython kernel.\n"
          ],
          "name": "stderr"
        }
      ]
    },
    {
      "metadata": {
        "id": "N_9AfSaeiY2H",
        "colab_type": "code",
        "colab": {
          "base_uri": "https://localhost:8080/",
          "height": 35
        },
        "outputId": "ec49e51a-3f7c-4102-b6e5-f0af7da0a8a4"
      },
      "cell_type": "code",
      "source": [
        "mat1.shape"
      ],
      "execution_count": 0,
      "outputs": [
        {
          "output_type": "execute_result",
          "data": {
            "text/plain": [
              "(94734, 100)"
            ]
          },
          "metadata": {
            "tags": []
          },
          "execution_count": 13
        }
      ]
    },
    {
      "metadata": {
        "id": "jR61oOIHi6fK",
        "colab_type": "code",
        "colab": {
          "base_uri": "https://localhost:8080/",
          "height": 35
        },
        "outputId": "a34a2664-a149-4e90-d352-3ca98bdc6778"
      },
      "cell_type": "code",
      "source": [
        "ones = np.ones((size, 1))\n",
        "print(ones.shape)"
      ],
      "execution_count": 0,
      "outputs": [
        {
          "output_type": "stream",
          "text": [
            "(94734, 1)\n"
          ],
          "name": "stdout"
        }
      ]
    },
    {
      "metadata": {
        "id": "nAXRgaNPm2iI",
        "colab_type": "code",
        "colab": {}
      },
      "cell_type": "code",
      "source": [
        "import time"
      ],
      "execution_count": 0,
      "outputs": []
    },
    {
      "metadata": {
        "id": "jywyjw1njJ2D",
        "colab_type": "code",
        "colab": {
          "base_uri": "https://localhost:8080/",
          "height": 54
        },
        "outputId": "63dc8779-3e9c-4fac-ee72-bcff757f31ba"
      },
      "cell_type": "code",
      "source": [
        "start_time = time.time()\n",
        "similarity_mat1_multiplier = mat1.T @ ones\n",
        "similarity_mat1 = mat1@similarity_mat1_multiplier\n",
        "end_time = time.time()\n",
        "print(\"%s seconds\" % (end_time - start_time))\n",
        "print(similarity_mat1.shape)"
      ],
      "execution_count": 0,
      "outputs": [
        {
          "output_type": "stream",
          "text": [
            "0.08306717872619629 seconds\n",
            "(94734, 1)\n"
          ],
          "name": "stdout"
        }
      ]
    },
    {
      "metadata": {
        "id": "eBZNRxizj0jk",
        "colab_type": "code",
        "colab": {
          "base_uri": "https://localhost:8080/",
          "height": 54
        },
        "outputId": "dc99b061-02e8-4787-8fc2-0930b6570bf2"
      },
      "cell_type": "code",
      "source": [
        "start_time = time.time()\n",
        "similarity_mat2_multiplier = mat2.T @ ones\n",
        "similarity_mat2 = mat2 @ similarity_mat2_multiplier\n",
        "end_time = time.time()\n",
        "print(\"%s seconds\" % (end_time - start_time))\n",
        "print(similarity_mat2.shape)"
      ],
      "execution_count": 0,
      "outputs": [
        {
          "output_type": "stream",
          "text": [
            "0.06743669509887695 seconds\n",
            "(94734, 1)\n"
          ],
          "name": "stdout"
        }
      ]
    },
    {
      "metadata": {
        "id": "ROxTb_xl12nS",
        "colab_type": "text"
      },
      "cell_type": "markdown",
      "source": [
        "### Statistics"
      ]
    },
    {
      "metadata": {
        "id": "-VYafOd7pGwj",
        "colab_type": "code",
        "colab": {}
      },
      "cell_type": "code",
      "source": [
        "change_matrix = (similarity_mat1/similarity_mat2).reshape(-1)"
      ],
      "execution_count": 0,
      "outputs": []
    },
    {
      "metadata": {
        "id": "qXm5pMNEoGzf",
        "colab_type": "code",
        "colab": {
          "base_uri": "https://localhost:8080/",
          "height": 35
        },
        "outputId": "0cff0e79-aacb-4c65-c77c-52e46311cd09"
      },
      "cell_type": "code",
      "source": [
        "print(change_matrix)"
      ],
      "execution_count": 0,
      "outputs": [
        {
          "output_type": "stream",
          "text": [
            "[1.01638709 0.93703821 1.00903267 ... 0.5375523  1.07114469 1.01028138]\n"
          ],
          "name": "stdout"
        }
      ]
    },
    {
      "metadata": {
        "id": "bgybEkELNfxH",
        "colab_type": "code",
        "colab": {}
      },
      "cell_type": "code",
      "source": [
        "k = 1\n",
        "for i in change_matrix:\n",
        "  print(i, end=\", \")\n",
        "  if k%7 == 0:\n",
        "    print()\n",
        "  k+=1"
      ],
      "execution_count": 0,
      "outputs": []
    },
    {
      "metadata": {
        "id": "Xdknhf1DQrT_",
        "colab_type": "code",
        "colab": {
          "base_uri": "https://localhost:8080/",
          "height": 54
        },
        "outputId": "9a98a68b-7aa6-4aa1-cf13-edbf0965b153"
      },
      "cell_type": "code",
      "source": [
        "hist, _ = np.histogram(change_matrix, bins=20)\n",
        "print(hist)"
      ],
      "execution_count": 0,
      "outputs": [
        {
          "output_type": "stream",
          "text": [
            "[    4     0     1     1     1     0     2    21 94545   145     6     1\n",
            "     3     2     0     1     0     0     0     1]\n"
          ],
          "name": "stdout"
        }
      ]
    },
    {
      "metadata": {
        "id": "j9srpNrpSbAF",
        "colab_type": "code",
        "colab": {
          "base_uri": "https://localhost:8080/",
          "height": 181
        },
        "outputId": "2d56798f-73ff-4d4d-ca12-25a474330024"
      },
      "cell_type": "code",
      "source": [
        "change_matrix[change_matrix<-50]"
      ],
      "execution_count": 0,
      "outputs": [
        {
          "output_type": "execute_result",
          "data": {
            "text/plain": [
              "array([-143.00914442, -398.99322584,  -95.38105705, -108.77047702,\n",
              "       -742.13236814, -498.41039495, -112.88796326, -120.53128717,\n",
              "        -79.09526515, -101.06832927, -136.77078869,  -84.17627431,\n",
              "       -112.1062134 , -773.68652457,  -58.46775408,  -85.67409199,\n",
              "        -71.0040236 ,  -62.24278807, -142.55329545, -741.71203935,\n",
              "        -83.20477196,  -75.27196324, -204.92068242,  -82.5325554 ,\n",
              "       -151.94548137, -213.88938069,  -84.31301918, -131.93146432,\n",
              "        -54.76417333, -580.3248639 , -125.30828911,  -93.92861052,\n",
              "       -126.7602052 ,  -95.39447695, -712.71967003])"
            ]
          },
          "metadata": {
            "tags": []
          },
          "execution_count": 48
        }
      ]
    },
    {
      "metadata": {
        "id": "_zL9x3ywUEv-",
        "colab_type": "code",
        "colab": {}
      },
      "cell_type": "code",
      "source": [
        "std = change_matrix.std()"
      ],
      "execution_count": 0,
      "outputs": []
    },
    {
      "metadata": {
        "id": "ZkbCBcMAUI5o",
        "colab_type": "code",
        "colab": {
          "base_uri": "https://localhost:8080/",
          "height": 35
        },
        "outputId": "fa9553c5-73c1-4b39-acac-b70a0f925e71"
      },
      "cell_type": "code",
      "source": [
        "mean = change_matrix.mean()\n",
        "print(mean)"
      ],
      "execution_count": 0,
      "outputs": [
        {
          "output_type": "stream",
          "text": [
            "1.0007349285804605\n"
          ],
          "name": "stdout"
        }
      ]
    },
    {
      "metadata": {
        "id": "Kib5g_HhTO6K",
        "colab_type": "code",
        "colab": {
          "base_uri": "https://localhost:8080/",
          "height": 35
        },
        "outputId": "da199f89-f082-4a82-e4d9-cb092d97e2dd"
      },
      "cell_type": "code",
      "source": [
        "std_mul = 1\n",
        "deviated_index = np.append(np.where( change_matrix > mean + std_mul*std ), np.where( change_matrix < mean - std_mul*std ) )\n",
        "print(len(deviated_index))"
      ],
      "execution_count": 0,
      "outputs": [
        {
          "output_type": "stream",
          "text": [
            "367\n"
          ],
          "name": "stdout"
        }
      ]
    },
    {
      "metadata": {
        "id": "YorQsJBbV4se",
        "colab_type": "code",
        "colab": {
          "base_uri": "https://localhost:8080/",
          "height": 35
        },
        "outputId": "a9757d46-4560-4986-f68c-91830475fec6"
      },
      "cell_type": "code",
      "source": [
        "std_mul = 1\n",
        "deviated_index = np.append(np.where( change_matrix > 1.1 ), np.where( change_matrix < 0.9 ) )\n",
        "print(len(deviated_index))"
      ],
      "execution_count": 0,
      "outputs": [
        {
          "output_type": "stream",
          "text": [
            "42923\n"
          ],
          "name": "stdout"
        }
      ]
    },
    {
      "metadata": {
        "id": "O0jkgG-BWanI",
        "colab_type": "code",
        "colab": {}
      },
      "cell_type": "code",
      "source": [
        "model1.wv[\"the\"]"
      ],
      "execution_count": 0,
      "outputs": []
    },
    {
      "metadata": {
        "id": "32hHyvQEXFlv",
        "colab_type": "code",
        "colab": {}
      },
      "cell_type": "code",
      "source": [
        "model2.wv.syn0[model2.wv.vocab['girl'].index]"
      ],
      "execution_count": 0,
      "outputs": []
    },
    {
      "metadata": {
        "id": "136zTeOQTo-X",
        "colab_type": "code",
        "colab": {
          "base_uri": "https://localhost:8080/",
          "height": 35
        },
        "outputId": "229877ef-c95b-42cd-f10a-9a7e7d6238ac"
      },
      "cell_type": "code",
      "source": [
        "change_matrix[model2.wv.vocab['girl'].index]"
      ],
      "execution_count": 0,
      "outputs": [
        {
          "output_type": "execute_result",
          "data": {
            "text/plain": [
              "0.9741434699634213"
            ]
          },
          "metadata": {
            "tags": []
          },
          "execution_count": 65
        }
      ]
    },
    {
      "metadata": {
        "id": "_jm-GsHPXJH6",
        "colab_type": "code",
        "colab": {}
      },
      "cell_type": "code",
      "source": [
        "index2word = {}\n",
        "for word in model2.wv.vocab:\n",
        "  i = model2.wv.vocab[word].index\n",
        "  index2word[i] = word"
      ],
      "execution_count": 0,
      "outputs": []
    },
    {
      "metadata": {
        "id": "RuDfn-SIXcf_",
        "colab_type": "code",
        "colab": {}
      },
      "cell_type": "code",
      "source": [
        "for i in deviated_index:\n",
        "  print(i, index2word[i])"
      ],
      "execution_count": 0,
      "outputs": []
    },
    {
      "metadata": {
        "id": "hB-RwpTcMfol",
        "colab_type": "text"
      },
      "cell_type": "markdown",
      "source": [
        "### Plotting"
      ]
    },
    {
      "metadata": {
        "id": "tFeWWk3gp75W",
        "colab_type": "code",
        "colab": {}
      },
      "cell_type": "code",
      "source": [
        "# PLOTTING HISTOGRAM\n",
        "import matplotlib.pyplot as plt\n",
        "#a = np.hstack((change_matrix.normal(size=1000), change_matrix.normal(loc=5, scale=2, size=1000)))\n",
        "_ = plt.hist(change_matrix)\n",
        "_ = plt.xlabel('ratio of 2 vector\\'s total difference')\n",
        "_ = plt.ylabel('number of vectors with this ratio')\n",
        "plt.title(\"Histogram of change matrix\")\n",
        "plt.show()"
      ],
      "execution_count": 0,
      "outputs": []
    },
    {
      "metadata": {
        "id": "xdHoE2OkqwSA",
        "colab_type": "code",
        "colab": {}
      },
      "cell_type": "code",
      "source": [
        "import matplotlib.pyplot as plt\n",
        "import numpy as np\n",
        "\n",
        "plt.hist(change_matrix, bins=5, range=[-1, 4], histtype='step',edgecolor='r',linewidth=3)\n",
        "H, bins = np.histogram(data[:6], bins=5, range=[-1, 4])\n",
        "H+=np.histogram(data[6:], bins=5,range=[-1, 4])[0]\n",
        "\n",
        "plt.bar(bins[:-1],H,width=1)\n",
        "\n",
        "plt.show()"
      ],
      "execution_count": 0,
      "outputs": []
    },
    {
      "metadata": {
        "id": "dShguJhMXEwl",
        "colab_type": "text"
      },
      "cell_type": "markdown",
      "source": [
        "https://matplotlib.org/api/_as_gen/matplotlib.pyplot.hist.html"
      ]
    },
    {
      "metadata": {
        "id": "Y_60bxBeqCfb",
        "colab_type": "code",
        "colab": {
          "base_uri": "https://localhost:8080/",
          "height": 347
        },
        "outputId": "f045e19d-bf52-457e-ecf1-1337fe5b56aa"
      },
      "cell_type": "code",
      "source": [
        "import matplotlib.pyplot as plt\n",
        "#B = np.random.rand(1000)*100-50\n",
        "_ = plt.hist(change_matrix, bins=100)\n",
        "plt.show()"
      ],
      "execution_count": 0,
      "outputs": [
        {
          "output_type": "display_data",
          "data": {
            "image/png": "[encoded data removed]",
            "text/plain": [
              "<matplotlib.figure.Figure at 0x7ffac0d09be0>"
            ]
          },
          "metadata": {
            "tags": []
          }
        }
      ]
    },
    {
      "metadata": {
        "id": "Wrb31SnpZzAg",
        "colab_type": "text"
      },
      "cell_type": "markdown",
      "source": [
        "### Difference from \"Woman\" \"Man\""
      ]
    },
    {
      "metadata": {
        "id": "S6_dKKcDSZ9b",
        "colab_type": "code",
        "colab": {}
      },
      "cell_type": "code",
      "source": [
        ""
      ],
      "execution_count": 0,
      "outputs": []
    },
    {
      "metadata": {
        "id": "cijkeVf14FRm",
        "colab_type": "text"
      },
      "cell_type": "markdown",
      "source": [
        "### Time Calculation"
      ]
    },
    {
      "metadata": {
        "id": "g92RX8Yq4HLb",
        "colab_type": "code",
        "colab": {}
      },
      "cell_type": "code",
      "source": [
        "from datetime import datetime\n",
        "from dateutil.relativedelta import relativedelta\n",
        "\n",
        "def diff(t_a, t_b):\n",
        "    t_diff = relativedelta(t_b, t_a)  # later/end time comes first!\n",
        "    return '{h}h {m}m {s}s'.format(h=t_diff.hours, m=t_diff.minutes, s=t_diff.seconds)"
      ],
      "execution_count": 0,
      "outputs": []
    },
    {
      "metadata": {
        "id": "V3QtW7Oy4IZk",
        "colab_type": "code",
        "colab": {}
      },
      "cell_type": "code",
      "source": [
        "t_a = datetime.now()\n",
        "\n",
        "for i in range(100):\n",
        "  t_b = datetime.now()\n",
        "  print(\"index: \",i, \"time: \", diff(t_a, t_b))"
      ],
      "execution_count": 0,
      "outputs": []
    },
    {
      "metadata": {
        "id": "8YnQVoOM4erJ",
        "colab_type": "code",
        "colab": {}
      },
      "cell_type": "code",
      "source": [
        ""
      ],
      "execution_count": 0,
      "outputs": []
    }
  ]
}