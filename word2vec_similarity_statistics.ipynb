{
  "nbformat": 4,
  "nbformat_minor": 0,
  "metadata": {
    "colab": {
      "name": "word2vec_similarity_statistics.ipynb",
      "version": "0.3.2",
      "provenance": [],
      "include_colab_link": true
    },
    "kernelspec": {
      "name": "python3",
      "display_name": "Python 3"
    },
    "accelerator": "GPU"
  },
  "cells": [
    {
      "cell_type": "markdown",
      "metadata": {
        "id": "view-in-github",
        "colab_type": "text"
      },
      "source": [
        "[View in Colaboratory](https://colab.research.google.com/github/Masum06/gender_newspaper/blob/master/word2vec_similarity_statistics.ipynb)"
      ]
    },
    {
      "metadata": {
        "id": "4JD_l8U60vmh",
        "colab_type": "text"
      },
      "cell_type": "markdown",
      "source": [
        "**Description:**\n",
        "\n",
        "\n",
        "*   Calculate similarity between 2 different Gensim word2vec model using numpy\n",
        "*   Make statistical calculations with the models, such as Mean, Standar Deviation\n",
        "*   Calculate number of words outside Standard Deviation\n",
        "*   Print the words outside norm\n",
        "*   Plot the histogram of words using Matplotlib\n",
        "\n",
        "\n"
      ]
    },
    {
      "metadata": {
        "id": "51d_ChAx1quZ",
        "colab_type": "text"
      },
      "cell_type": "markdown",
      "source": [
        "### Installation and Downloading model"
      ]
    },
    {
      "metadata": {
        "id": "nNgRX8lnMYPA",
        "colab_type": "code",
        "colab": {
          "base_uri": "https://localhost:8080/",
          "height": 128
        },
        "outputId": "bb1a50c2-5e81-4c1c-e6b8-6103a55b3925"
      },
      "cell_type": "code",
      "source": [
        "!pip install lxml"
      ],
      "execution_count": 1,
      "outputs": [
        {
          "output_type": "stream",
          "text": [
            "Collecting lxml\n",
            "\u001b[?25l  Downloading https://files.pythonhosted.org/packages/d1/81/5a3e70c8adc20fb295a2f4c9fdf09af8295c7a00ccec6ee3d31084cbf272/lxml-4.2.3-cp36-cp36m-manylinux1_x86_64.whl (5.9MB)\n",
            "\u001b[K    100% |████████████████████████████████| 5.9MB 4.0MB/s \n",
            "\u001b[?25hInstalling collected packages: lxml\n",
            "Successfully installed lxml-4.2.3\n"
          ],
          "name": "stdout"
        }
      ]
    },
    {
      "metadata": {
        "id": "XGG8XqpvMg8i",
        "colab_type": "code",
        "colab": {
          "base_uri": "https://localhost:8080/",
          "height": 783
        },
        "outputId": "19f09f0f-eacd-4b66-ea87-3537385546e0"
      },
      "cell_type": "code",
      "source": [
        "!pip install gensim"
      ],
      "execution_count": 2,
      "outputs": [
        {
          "output_type": "stream",
          "text": [
            "Collecting gensim\n",
            "\u001b[?25l  Downloading https://files.pythonhosted.org/packages/86/f3/37504f07651330ddfdefa631ca5246974a60d0908216539efda842fd080f/gensim-3.5.0-cp36-cp36m-manylinux1_x86_64.whl (23.5MB)\n",
            "\u001b[K    100% |████████████████████████████████| 23.5MB 1.7MB/s \n",
            "\u001b[?25hCollecting smart-open>=1.2.1 (from gensim)\n",
            "  Downloading https://files.pythonhosted.org/packages/cf/3d/5f3a9a296d0ba8e00e263a8dee76762076b9eb5ddc254ccaa834651c8d65/smart_open-1.6.0.tar.gz\n",
            "Requirement already satisfied: scipy>=0.18.1 in /usr/local/lib/python3.6/dist-packages (from gensim) (0.19.1)\n",
            "Requirement already satisfied: six>=1.5.0 in /usr/local/lib/python3.6/dist-packages (from gensim) (1.11.0)\n",
            "Requirement already satisfied: numpy>=1.11.3 in /usr/local/lib/python3.6/dist-packages (from gensim) (1.14.5)\n",
            "Collecting boto>=2.32 (from smart-open>=1.2.1->gensim)\n",
            "\u001b[?25l  Downloading https://files.pythonhosted.org/packages/23/10/c0b78c27298029e4454a472a1919bde20cb182dab1662cec7f2ca1dcc523/boto-2.49.0-py2.py3-none-any.whl (1.4MB)\n",
            "\u001b[K    100% |████████████████████████████████| 1.4MB 14.6MB/s \n",
            "\u001b[?25hCollecting bz2file (from smart-open>=1.2.1->gensim)\n",
            "  Downloading https://files.pythonhosted.org/packages/61/39/122222b5e85cd41c391b68a99ee296584b2a2d1d233e7ee32b4532384f2d/bz2file-0.98.tar.gz\n",
            "Requirement already satisfied: requests in /usr/local/lib/python3.6/dist-packages (from smart-open>=1.2.1->gensim) (2.18.4)\n",
            "Collecting boto3 (from smart-open>=1.2.1->gensim)\n",
            "\u001b[?25l  Downloading https://files.pythonhosted.org/packages/2b/69/ce291161cc82e3edad9f057b9158f5723882d41d8935d6aa5a53a26bb8b7/boto3-1.7.62-py2.py3-none-any.whl (128kB)\n",
            "\u001b[K    100% |████████████████████████████████| 133kB 21.2MB/s \n",
            "\u001b[?25hRequirement already satisfied: chardet<3.1.0,>=3.0.2 in /usr/local/lib/python3.6/dist-packages (from requests->smart-open>=1.2.1->gensim) (3.0.4)\n",
            "Requirement already satisfied: idna<2.7,>=2.5 in /usr/local/lib/python3.6/dist-packages (from requests->smart-open>=1.2.1->gensim) (2.6)\n",
            "Requirement already satisfied: urllib3<1.23,>=1.21.1 in /usr/local/lib/python3.6/dist-packages (from requests->smart-open>=1.2.1->gensim) (1.22)\n",
            "Requirement already satisfied: certifi>=2017.4.17 in /usr/local/lib/python3.6/dist-packages (from requests->smart-open>=1.2.1->gensim) (2018.4.16)\n",
            "Collecting jmespath<1.0.0,>=0.7.1 (from boto3->smart-open>=1.2.1->gensim)\n",
            "  Downloading https://files.pythonhosted.org/packages/b7/31/05c8d001f7f87f0f07289a5fc0fc3832e9a57f2dbd4d3b0fee70e0d51365/jmespath-0.9.3-py2.py3-none-any.whl\n",
            "Collecting s3transfer<0.2.0,>=0.1.10 (from boto3->smart-open>=1.2.1->gensim)\n",
            "\u001b[?25l  Downloading https://files.pythonhosted.org/packages/d7/14/2a0004d487464d120c9fb85313a75cd3d71a7506955be458eebfe19a6b1d/s3transfer-0.1.13-py2.py3-none-any.whl (59kB)\n",
            "\u001b[K    100% |████████████████████████████████| 61kB 22.2MB/s \n",
            "\u001b[?25hCollecting botocore<1.11.0,>=1.10.62 (from boto3->smart-open>=1.2.1->gensim)\n",
            "\u001b[?25l  Downloading https://files.pythonhosted.org/packages/24/ec/95df2edaa21e426581f41745e0de355170b8cb6eed2a2a5641c0c348df33/botocore-1.10.62-py2.py3-none-any.whl (4.4MB)\n",
            "\u001b[K    100% |████████████████████████████████| 4.4MB 6.2MB/s \n",
            "\u001b[?25hRequirement already satisfied: python-dateutil<3.0.0,>=2.1; python_version >= \"2.7\" in /usr/local/lib/python3.6/dist-packages (from botocore<1.11.0,>=1.10.62->boto3->smart-open>=1.2.1->gensim) (2.5.3)\n",
            "Collecting docutils>=0.10 (from botocore<1.11.0,>=1.10.62->boto3->smart-open>=1.2.1->gensim)\n",
            "\u001b[?25l  Downloading https://files.pythonhosted.org/packages/36/fa/08e9e6e0e3cbd1d362c3bbee8d01d0aedb2155c4ac112b19ef3cae8eed8d/docutils-0.14-py3-none-any.whl (543kB)\n",
            "\u001b[K    100% |████████████████████████████████| 552kB 21.9MB/s \n",
            "\u001b[?25hBuilding wheels for collected packages: smart-open, bz2file\n",
            "  Running setup.py bdist_wheel for smart-open ... \u001b[?25l-\b \bdone\n",
            "\u001b[?25h  Stored in directory: /content/.cache/pip/wheels/73/f1/9b/ccf93d4ba073b6f79b1ed9df68ab5ce048d8136d0efcf90b30\n",
            "  Running setup.py bdist_wheel for bz2file ... \u001b[?25l-\b \bdone\n",
            "\u001b[?25h  Stored in directory: /content/.cache/pip/wheels/81/75/d6/e1317bf09bf1af5a30befc2a007869fa6e1f516b8f7c591cb9\n",
            "Successfully built smart-open bz2file\n",
            "Installing collected packages: boto, bz2file, jmespath, docutils, botocore, s3transfer, boto3, smart-open, gensim\n",
            "Successfully installed boto-2.49.0 boto3-1.7.62 botocore-1.10.62 bz2file-0.98 docutils-0.14 gensim-3.5.0 jmespath-0.9.3 s3transfer-0.1.13 smart-open-1.6.0\n"
          ],
          "name": "stdout"
        }
      ]
    },
    {
      "metadata": {
        "id": "KqfICs-iiD3N",
        "colab_type": "text"
      },
      "cell_type": "markdown",
      "source": [
        "### Download Trained Models"
      ]
    },
    {
      "metadata": {
        "id": "lvHx0zv6iCtU",
        "colab_type": "code",
        "colab": {
          "base_uri": "https://localhost:8080/",
          "height": 401
        },
        "outputId": "5845fbab-be77-49b7-e73b-20ec71bbb40e"
      },
      "cell_type": "code",
      "source": [
        "%%bash\n",
        "git clone https://github.com/jeroenmeulenaar/python3-mega.git python3mega\n",
        "cd python3mega\n",
        "pip install -r requirements.txt"
      ],
      "execution_count": 3,
      "outputs": [
        {
          "output_type": "stream",
          "text": [
            "Requirement already satisfied: requests>=1.1.0 in /usr/local/lib/python3.6/dist-packages (from -r requirements.txt (line 1)) (2.18.4)\n",
            "Collecting URLObject>=2.1.1 (from -r requirements.txt (line 2))\n",
            "  Downloading https://files.pythonhosted.org/packages/e2/b8/1d0a916f4b34c4618846e6da0e4eeaa8fcb4a2f39e006434fe38acb74b34/URLObject-2.4.3.tar.gz\n",
            "Collecting pycrypto>=2.6 (from -r requirements.txt (line 3))\n",
            "  Downloading https://files.pythonhosted.org/packages/60/db/645aa9af249f059cc3a368b118de33889219e0362141e75d4eaf6f80f163/pycrypto-2.6.1.tar.gz (446kB)\n",
            "Requirement already satisfied: chardet<3.1.0,>=3.0.2 in /usr/local/lib/python3.6/dist-packages (from requests>=1.1.0->-r requirements.txt (line 1)) (3.0.4)\n",
            "Requirement already satisfied: idna<2.7,>=2.5 in /usr/local/lib/python3.6/dist-packages (from requests>=1.1.0->-r requirements.txt (line 1)) (2.6)\n",
            "Requirement already satisfied: urllib3<1.23,>=1.21.1 in /usr/local/lib/python3.6/dist-packages (from requests>=1.1.0->-r requirements.txt (line 1)) (1.22)\n",
            "Requirement already satisfied: certifi>=2017.4.17 in /usr/local/lib/python3.6/dist-packages (from requests>=1.1.0->-r requirements.txt (line 1)) (2018.4.16)\n",
            "Building wheels for collected packages: URLObject, pycrypto\n",
            "  Running setup.py bdist_wheel for URLObject: started\n",
            "  Running setup.py bdist_wheel for URLObject: finished with status 'done'\n",
            "  Stored in directory: /content/.cache/pip/wheels/fd/7e/18/ccb55ecc2834f945b769c1ff1df12ca5a14400ccfc58e3c515\n",
            "  Running setup.py bdist_wheel for pycrypto: started\n",
            "  Running setup.py bdist_wheel for pycrypto: finished with status 'done'\n",
            "  Stored in directory: /content/.cache/pip/wheels/27/02/5e/77a69d0c16bb63c6ed32f5386f33a2809c94bd5414a2f6c196\n",
            "Successfully built URLObject pycrypto\n",
            "Installing collected packages: URLObject, pycrypto\n",
            "Successfully installed URLObject-2.4.3 pycrypto-2.6.1\n"
          ],
          "name": "stdout"
        },
        {
          "output_type": "stream",
          "text": [
            "Cloning into 'python3mega'...\n"
          ],
          "name": "stderr"
        }
      ]
    },
    {
      "metadata": {
        "id": "BtKrU2piiWAp",
        "colab_type": "code",
        "colab": {}
      },
      "cell_type": "code",
      "source": [
        "import os\n",
        "os.chdir(\"python3mega\")\n",
        "from mega import Mega\n",
        "m = Mega.from_ephemeral()\n",
        "os.chdir(\"..\")"
      ],
      "execution_count": 0,
      "outputs": []
    },
    {
      "metadata": {
        "id": "sNpLvKQ3iZSh",
        "colab_type": "code",
        "colab": {}
      },
      "cell_type": "code",
      "source": [
        "m.download_from_url('https://mega.nz/#!1BJ1iYKZ!05H-DDnvzcfN4btuCF3ThExeG5T1xKvjzkOm2U6x5Uk')"
      ],
      "execution_count": 0,
      "outputs": []
    },
    {
      "metadata": {
        "id": "4M1T8uI1vASY",
        "colab_type": "code",
        "colab": {}
      },
      "cell_type": "code",
      "source": [
        "m.download_from_url('https://mega.nz/#!MdYlBYRQ!qav9Yh_gjnhwiHonVYwfe_qq6rLZCglCbuA5AlFqX6U')"
      ],
      "execution_count": 0,
      "outputs": []
    },
    {
      "metadata": {
        "id": "iBIQxen-w3Nc",
        "colab_type": "code",
        "colab": {
          "base_uri": "https://localhost:8080/",
          "height": 35
        },
        "outputId": "41ef1c16-ef88-4ebc-c6f4-f7e3f82db456"
      },
      "cell_type": "code",
      "source": [
        "ls"
      ],
      "execution_count": 7,
      "outputs": [
        {
          "output_type": "stream",
          "text": [
            "\u001b[0m\u001b[01;34mdatalab\u001b[0m/  model_news_db_1  model_news_db_2  \u001b[01;34mpython3mega\u001b[0m/\r\n"
          ],
          "name": "stdout"
        }
      ]
    },
    {
      "metadata": {
        "id": "8xuA1SBMwhEl",
        "colab_type": "text"
      },
      "cell_type": "markdown",
      "source": [
        "###Load 2 models"
      ]
    },
    {
      "metadata": {
        "id": "JMaKl0a1wjh7",
        "colab_type": "code",
        "colab": {}
      },
      "cell_type": "code",
      "source": [
        "import gensim\n",
        "model1 = gensim.models.Word2Vec.load('model_news_db_1')\n",
        "model2 = gensim.models.Word2Vec.load('model_news_db_2')"
      ],
      "execution_count": 0,
      "outputs": []
    },
    {
      "metadata": {
        "id": "OQzOyL0fd8vP",
        "colab_type": "text"
      },
      "cell_type": "markdown",
      "source": [
        "### Similarity Matrix with numpy/Cupy"
      ]
    },
    {
      "metadata": {
        "id": "llNLoa7FjeWt",
        "colab_type": "code",
        "colab": {}
      },
      "cell_type": "code",
      "source": [
        "import numpy as np"
      ],
      "execution_count": 0,
      "outputs": []
    },
    {
      "metadata": {
        "id": "pNMBIfvMheAt",
        "colab_type": "code",
        "colab": {
          "base_uri": "https://localhost:8080/",
          "height": 110
        },
        "outputId": "64520311-7078-4e65-e1c3-3d1b21646a84"
      },
      "cell_type": "code",
      "source": [
        "mat1 = model1.wv.syn0/np.linalg.norm(model1.wv.syn0, axis=1).reshape(-1, 1) # NORMALIZE\n",
        "mat2 = model2.wv.syn0/np.linalg.norm(model2.wv.syn0, axis=1).reshape(-1, 1) "
      ],
      "execution_count": 10,
      "outputs": [
        {
          "output_type": "stream",
          "text": [
            "/usr/local/lib/python3.6/dist-packages/ipykernel_launcher.py:1: DeprecationWarning: Call to deprecated `syn0` (Attribute will be removed in 4.0.0, use self.wv.vectors instead).\n",
            "  \"\"\"Entry point for launching an IPython kernel.\n",
            "/usr/local/lib/python3.6/dist-packages/ipykernel_launcher.py:2: DeprecationWarning: Call to deprecated `syn0` (Attribute will be removed in 4.0.0, use self.wv.vectors instead).\n",
            "  \n"
          ],
          "name": "stderr"
        }
      ]
    },
    {
      "metadata": {
        "id": "Xu7Lw4-ijoSz",
        "colab_type": "code",
        "colab": {
          "base_uri": "https://localhost:8080/",
          "height": 35
        },
        "outputId": "b0a29ae8-ebd4-4801-9159-a57c55f7c12f"
      },
      "cell_type": "code",
      "source": [
        "np.linalg.norm(mat1[59])"
      ],
      "execution_count": 11,
      "outputs": [
        {
          "output_type": "execute_result",
          "data": {
            "text/plain": [
              "1.0"
            ]
          },
          "metadata": {
            "tags": []
          },
          "execution_count": 11
        }
      ]
    },
    {
      "metadata": {
        "id": "onjYQZeEhm2n",
        "colab_type": "code",
        "colab": {
          "base_uri": "https://localhost:8080/",
          "height": 92
        },
        "outputId": "638b9933-c2ba-4083-9d52-b1cef1a6c38c"
      },
      "cell_type": "code",
      "source": [
        "size = len(model1.wv.syn0)\n",
        "print(size)"
      ],
      "execution_count": 12,
      "outputs": [
        {
          "output_type": "stream",
          "text": [
            "94734\n"
          ],
          "name": "stdout"
        },
        {
          "output_type": "stream",
          "text": [
            "/usr/local/lib/python3.6/dist-packages/ipykernel_launcher.py:1: DeprecationWarning: Call to deprecated `syn0` (Attribute will be removed in 4.0.0, use self.wv.vectors instead).\n",
            "  \"\"\"Entry point for launching an IPython kernel.\n"
          ],
          "name": "stderr"
        }
      ]
    },
    {
      "metadata": {
        "id": "N_9AfSaeiY2H",
        "colab_type": "code",
        "colab": {
          "base_uri": "https://localhost:8080/",
          "height": 35
        },
        "outputId": "ec49e51a-3f7c-4102-b6e5-f0af7da0a8a4"
      },
      "cell_type": "code",
      "source": [
        "mat1.shape"
      ],
      "execution_count": 13,
      "outputs": [
        {
          "output_type": "execute_result",
          "data": {
            "text/plain": [
              "(94734, 100)"
            ]
          },
          "metadata": {
            "tags": []
          },
          "execution_count": 13
        }
      ]
    },
    {
      "metadata": {
        "id": "jR61oOIHi6fK",
        "colab_type": "code",
        "colab": {
          "base_uri": "https://localhost:8080/",
          "height": 35
        },
        "outputId": "a34a2664-a149-4e90-d352-3ca98bdc6778"
      },
      "cell_type": "code",
      "source": [
        "ones = np.ones((size, 1))\n",
        "print(ones.shape)"
      ],
      "execution_count": 14,
      "outputs": [
        {
          "output_type": "stream",
          "text": [
            "(94734, 1)\n"
          ],
          "name": "stdout"
        }
      ]
    },
    {
      "metadata": {
        "id": "nAXRgaNPm2iI",
        "colab_type": "code",
        "colab": {}
      },
      "cell_type": "code",
      "source": [
        "import time"
      ],
      "execution_count": 0,
      "outputs": []
    },
    {
      "metadata": {
        "id": "jywyjw1njJ2D",
        "colab_type": "code",
        "colab": {
          "base_uri": "https://localhost:8080/",
          "height": 54
        },
        "outputId": "63dc8779-3e9c-4fac-ee72-bcff757f31ba"
      },
      "cell_type": "code",
      "source": [
        "start_time = time.time()\n",
        "similarity_mat1_multiplier = mat1.T @ ones\n",
        "similarity_mat1 = mat1@similarity_mat1_multiplier\n",
        "end_time = time.time()\n",
        "print(\"%s seconds\" % (end_time - start_time))\n",
        "print(similarity_mat1.shape)"
      ],
      "execution_count": 16,
      "outputs": [
        {
          "output_type": "stream",
          "text": [
            "0.08306717872619629 seconds\n",
            "(94734, 1)\n"
          ],
          "name": "stdout"
        }
      ]
    },
    {
      "metadata": {
        "id": "eBZNRxizj0jk",
        "colab_type": "code",
        "colab": {
          "base_uri": "https://localhost:8080/",
          "height": 54
        },
        "outputId": "dc99b061-02e8-4787-8fc2-0930b6570bf2"
      },
      "cell_type": "code",
      "source": [
        "start_time = time.time()\n",
        "similarity_mat2_multiplier = mat2.T @ ones\n",
        "similarity_mat2 = mat2 @ similarity_mat2_multiplier\n",
        "end_time = time.time()\n",
        "print(\"%s seconds\" % (end_time - start_time))\n",
        "print(similarity_mat2.shape)"
      ],
      "execution_count": 17,
      "outputs": [
        {
          "output_type": "stream",
          "text": [
            "0.06743669509887695 seconds\n",
            "(94734, 1)\n"
          ],
          "name": "stdout"
        }
      ]
    },
    {
      "metadata": {
        "id": "ROxTb_xl12nS",
        "colab_type": "text"
      },
      "cell_type": "markdown",
      "source": [
        "### Statistics"
      ]
    },
    {
      "metadata": {
        "id": "-VYafOd7pGwj",
        "colab_type": "code",
        "colab": {}
      },
      "cell_type": "code",
      "source": [
        "change_matrix = (similarity_mat1/similarity_mat2).reshape(-1)"
      ],
      "execution_count": 0,
      "outputs": []
    },
    {
      "metadata": {
        "id": "qXm5pMNEoGzf",
        "colab_type": "code",
        "colab": {
          "base_uri": "https://localhost:8080/",
          "height": 35
        },
        "outputId": "0cff0e79-aacb-4c65-c77c-52e46311cd09"
      },
      "cell_type": "code",
      "source": [
        "print(change_matrix)"
      ],
      "execution_count": 19,
      "outputs": [
        {
          "output_type": "stream",
          "text": [
            "[1.01638709 0.93703821 1.00903267 ... 0.5375523  1.07114469 1.01028138]\n"
          ],
          "name": "stdout"
        }
      ]
    },
    {
      "metadata": {
        "id": "bgybEkELNfxH",
        "colab_type": "code",
        "colab": {}
      },
      "cell_type": "code",
      "source": [
        "k = 1\n",
        "for i in change_matrix:\n",
        "  print(i, end=\", \")\n",
        "  if k%7 == 0:\n",
        "    print()\n",
        "  k+=1"
      ],
      "execution_count": 0,
      "outputs": []
    },
    {
      "metadata": {
        "id": "Xdknhf1DQrT_",
        "colab_type": "code",
        "colab": {
          "base_uri": "https://localhost:8080/",
          "height": 54
        },
        "outputId": "9a98a68b-7aa6-4aa1-cf13-edbf0965b153"
      },
      "cell_type": "code",
      "source": [
        "hist, _ = np.histogram(change_matrix, bins=20)\n",
        "print(hist)"
      ],
      "execution_count": 29,
      "outputs": [
        {
          "output_type": "stream",
          "text": [
            "[    4     0     1     1     1     0     2    21 94545   145     6     1\n",
            "     3     2     0     1     0     0     0     1]\n"
          ],
          "name": "stdout"
        }
      ]
    },
    {
      "metadata": {
        "id": "j9srpNrpSbAF",
        "colab_type": "code",
        "colab": {
          "base_uri": "https://localhost:8080/",
          "height": 181
        },
        "outputId": "2d56798f-73ff-4d4d-ca12-25a474330024"
      },
      "cell_type": "code",
      "source": [
        "change_matrix[change_matrix<-50]"
      ],
      "execution_count": 0,
      "outputs": [
        {
          "output_type": "execute_result",
          "data": {
            "text/plain": [
              "array([-143.00914442, -398.99322584,  -95.38105705, -108.77047702,\n",
              "       -742.13236814, -498.41039495, -112.88796326, -120.53128717,\n",
              "        -79.09526515, -101.06832927, -136.77078869,  -84.17627431,\n",
              "       -112.1062134 , -773.68652457,  -58.46775408,  -85.67409199,\n",
              "        -71.0040236 ,  -62.24278807, -142.55329545, -741.71203935,\n",
              "        -83.20477196,  -75.27196324, -204.92068242,  -82.5325554 ,\n",
              "       -151.94548137, -213.88938069,  -84.31301918, -131.93146432,\n",
              "        -54.76417333, -580.3248639 , -125.30828911,  -93.92861052,\n",
              "       -126.7602052 ,  -95.39447695, -712.71967003])"
            ]
          },
          "metadata": {
            "tags": []
          },
          "execution_count": 48
        }
      ]
    },
    {
      "metadata": {
        "id": "_zL9x3ywUEv-",
        "colab_type": "code",
        "colab": {}
      },
      "cell_type": "code",
      "source": [
        "std = change_matrix.std()"
      ],
      "execution_count": 0,
      "outputs": []
    },
    {
      "metadata": {
        "id": "ZkbCBcMAUI5o",
        "colab_type": "code",
        "colab": {
          "base_uri": "https://localhost:8080/",
          "height": 35
        },
        "outputId": "fa9553c5-73c1-4b39-acac-b70a0f925e71"
      },
      "cell_type": "code",
      "source": [
        "mean = change_matrix.mean()\n",
        "print(mean)"
      ],
      "execution_count": 37,
      "outputs": [
        {
          "output_type": "stream",
          "text": [
            "1.0007349285804605\n"
          ],
          "name": "stdout"
        }
      ]
    },
    {
      "metadata": {
        "id": "Kib5g_HhTO6K",
        "colab_type": "code",
        "colab": {
          "base_uri": "https://localhost:8080/",
          "height": 35
        },
        "outputId": "da199f89-f082-4a82-e4d9-cb092d97e2dd"
      },
      "cell_type": "code",
      "source": [
        "std_mul = 1\n",
        "deviated_index = np.append(np.where( change_matrix > mean + std_mul*std ), np.where( change_matrix < mean - std_mul*std ) )\n",
        "print(len(deviated_index))"
      ],
      "execution_count": 42,
      "outputs": [
        {
          "output_type": "stream",
          "text": [
            "367\n"
          ],
          "name": "stdout"
        }
      ]
    },
    {
      "metadata": {
        "id": "YorQsJBbV4se",
        "colab_type": "code",
        "colab": {
          "base_uri": "https://localhost:8080/",
          "height": 35
        },
        "outputId": "a9757d46-4560-4986-f68c-91830475fec6"
      },
      "cell_type": "code",
      "source": [
        "std_mul = 1\n",
        "deviated_index = np.append(np.where( change_matrix > 1.1 ), np.where( change_matrix < 0.9 ) )\n",
        "print(len(deviated_index))"
      ],
      "execution_count": 66,
      "outputs": [
        {
          "output_type": "stream",
          "text": [
            "42923\n"
          ],
          "name": "stdout"
        }
      ]
    },
    {
      "metadata": {
        "id": "O0jkgG-BWanI",
        "colab_type": "code",
        "colab": {}
      },
      "cell_type": "code",
      "source": [
        "model1.wv[\"the\"]"
      ],
      "execution_count": 0,
      "outputs": []
    },
    {
      "metadata": {
        "id": "32hHyvQEXFlv",
        "colab_type": "code",
        "colab": {}
      },
      "cell_type": "code",
      "source": [
        "model2.wv.syn0[model2.wv.vocab['girl'].index]"
      ],
      "execution_count": 0,
      "outputs": []
    },
    {
      "metadata": {
        "id": "136zTeOQTo-X",
        "colab_type": "code",
        "colab": {
          "base_uri": "https://localhost:8080/",
          "height": 35
        },
        "outputId": "229877ef-c95b-42cd-f10a-9a7e7d6238ac"
      },
      "cell_type": "code",
      "source": [
        "change_matrix[model2.wv.vocab['girl'].index]"
      ],
      "execution_count": 65,
      "outputs": [
        {
          "output_type": "execute_result",
          "data": {
            "text/plain": [
              "0.9741434699634213"
            ]
          },
          "metadata": {
            "tags": []
          },
          "execution_count": 65
        }
      ]
    },
    {
      "metadata": {
        "id": "_jm-GsHPXJH6",
        "colab_type": "code",
        "colab": {}
      },
      "cell_type": "code",
      "source": [
        "index2word = {}\n",
        "for word in model2.wv.vocab:\n",
        "  i = model2.wv.vocab[word].index\n",
        "  index2word[i] = word"
      ],
      "execution_count": 0,
      "outputs": []
    },
    {
      "metadata": {
        "id": "RuDfn-SIXcf_",
        "colab_type": "code",
        "colab": {}
      },
      "cell_type": "code",
      "source": [
        "for i in deviated_index:\n",
        "  print(i, index2word[i])"
      ],
      "execution_count": 0,
      "outputs": []
    },
    {
      "metadata": {
        "id": "hB-RwpTcMfol",
        "colab_type": "text"
      },
      "cell_type": "markdown",
      "source": [
        "### Plotting"
      ]
    },
    {
      "metadata": {
        "id": "dShguJhMXEwl",
        "colab_type": "text"
      },
      "cell_type": "markdown",
      "source": [
        "https://matplotlib.org/api/_as_gen/matplotlib.pyplot.hist.html"
      ]
    },
    {
      "metadata": {
        "id": "Y_60bxBeqCfb",
        "colab_type": "code",
        "colab": {
          "base_uri": "https://localhost:8080/",
          "height": 347
        },
        "outputId": "f045e19d-bf52-457e-ecf1-1337fe5b56aa"
      },
      "cell_type": "code",
      "source": [
        "import matplotlib.pyplot as plt\n",
        "#B = np.random.rand(1000)*100-50\n",
        "_ = plt.hist(change_matrix, bins=100)\n",
        "plt.show()"
      ],
      "execution_count": 28,
      "outputs": [
        {
          "output_type": "display_data",
          "data": {
            "image/png": "[encoded data removed]",
            "text/plain": [
              "<matplotlib.figure.Figure at 0x7ffac0d09be0>"
            ]
          },
          "metadata": {
            "tags": []
          }
        }
      ]
    },
    {
      "metadata": {
        "id": "Wrb31SnpZzAg",
        "colab_type": "text"
      },
      "cell_type": "markdown",
      "source": [
        "### Difference from \"Woman\" \"Man\""
      ]
    },
    {
      "metadata": {
        "id": "S6_dKKcDSZ9b",
        "colab_type": "code",
        "colab": {}
      },
      "cell_type": "code",
      "source": [
        ""
      ],
      "execution_count": 0,
      "outputs": []
    }
  ]
}