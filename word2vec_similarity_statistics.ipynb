{
  "nbformat": 4,
  "nbformat_minor": 0,
  "metadata": {
    "colab": {
      "name": "word2vec_similarity_statistics.ipynb",
      "version": "0.3.2",
      "provenance": [],
      "include_colab_link": true
    },
    "kernelspec": {
      "name": "python3",
      "display_name": "Python 3"
    },
    "accelerator": "GPU"
  },
  "cells": [
    {
      "cell_type": "markdown",
      "metadata": {
        "id": "view-in-github",
        "colab_type": "text"
      },
      "source": [
        "[View in Colaboratory](https://colab.research.google.com/github/Masum06/gender_newspaper/blob/master/word2vec_similarity_statistics.ipynb)"
      ]
    },
    {
      "metadata": {
        "id": "nNgRX8lnMYPA",
        "colab_type": "code",
        "colab": {
          "base_uri": "https://localhost:8080/",
          "height": 128
        },
        "outputId": "bb1a50c2-5e81-4c1c-e6b8-6103a55b3925"
      },
      "cell_type": "code",
      "source": [
        "!pip install lxml"
      ],
      "execution_count": 1,
      "outputs": [
        {
          "output_type": "stream",
          "text": [
            "Collecting lxml\n",
            "\u001b[?25l  Downloading https://files.pythonhosted.org/packages/d1/81/5a3e70c8adc20fb295a2f4c9fdf09af8295c7a00ccec6ee3d31084cbf272/lxml-4.2.3-cp36-cp36m-manylinux1_x86_64.whl (5.9MB)\n",
            "\u001b[K    100% |████████████████████████████████| 5.9MB 4.0MB/s \n",
            "\u001b[?25hInstalling collected packages: lxml\n",
            "Successfully installed lxml-4.2.3\n"
          ],
          "name": "stdout"
        }
      ]
    },
    {
      "metadata": {
        "id": "XGG8XqpvMg8i",
        "colab_type": "code",
        "colab": {
          "base_uri": "https://localhost:8080/",
          "height": 783
        },
        "outputId": "19f09f0f-eacd-4b66-ea87-3537385546e0"
      },
      "cell_type": "code",
      "source": [
        "!pip install gensim"
      ],
      "execution_count": 2,
      "outputs": [
        {
          "output_type": "stream",
          "text": [
            "Collecting gensim\n",
            "\u001b[?25l  Downloading https://files.pythonhosted.org/packages/86/f3/37504f07651330ddfdefa631ca5246974a60d0908216539efda842fd080f/gensim-3.5.0-cp36-cp36m-manylinux1_x86_64.whl (23.5MB)\n",
            "\u001b[K    100% |████████████████████████████████| 23.5MB 1.7MB/s \n",
            "\u001b[?25hCollecting smart-open>=1.2.1 (from gensim)\n",
            "  Downloading https://files.pythonhosted.org/packages/cf/3d/5f3a9a296d0ba8e00e263a8dee76762076b9eb5ddc254ccaa834651c8d65/smart_open-1.6.0.tar.gz\n",
            "Requirement already satisfied: scipy>=0.18.1 in /usr/local/lib/python3.6/dist-packages (from gensim) (0.19.1)\n",
            "Requirement already satisfied: six>=1.5.0 in /usr/local/lib/python3.6/dist-packages (from gensim) (1.11.0)\n",
            "Requirement already satisfied: numpy>=1.11.3 in /usr/local/lib/python3.6/dist-packages (from gensim) (1.14.5)\n",
            "Collecting boto>=2.32 (from smart-open>=1.2.1->gensim)\n",
            "\u001b[?25l  Downloading https://files.pythonhosted.org/packages/23/10/c0b78c27298029e4454a472a1919bde20cb182dab1662cec7f2ca1dcc523/boto-2.49.0-py2.py3-none-any.whl (1.4MB)\n",
            "\u001b[K    100% |████████████████████████████████| 1.4MB 14.6MB/s \n",
            "\u001b[?25hCollecting bz2file (from smart-open>=1.2.1->gensim)\n",
            "  Downloading https://files.pythonhosted.org/packages/61/39/122222b5e85cd41c391b68a99ee296584b2a2d1d233e7ee32b4532384f2d/bz2file-0.98.tar.gz\n",
            "Requirement already satisfied: requests in /usr/local/lib/python3.6/dist-packages (from smart-open>=1.2.1->gensim) (2.18.4)\n",
            "Collecting boto3 (from smart-open>=1.2.1->gensim)\n",
            "\u001b[?25l  Downloading https://files.pythonhosted.org/packages/2b/69/ce291161cc82e3edad9f057b9158f5723882d41d8935d6aa5a53a26bb8b7/boto3-1.7.62-py2.py3-none-any.whl (128kB)\n",
            "\u001b[K    100% |████████████████████████████████| 133kB 21.2MB/s \n",
            "\u001b[?25hRequirement already satisfied: chardet<3.1.0,>=3.0.2 in /usr/local/lib/python3.6/dist-packages (from requests->smart-open>=1.2.1->gensim) (3.0.4)\n",
            "Requirement already satisfied: idna<2.7,>=2.5 in /usr/local/lib/python3.6/dist-packages (from requests->smart-open>=1.2.1->gensim) (2.6)\n",
            "Requirement already satisfied: urllib3<1.23,>=1.21.1 in /usr/local/lib/python3.6/dist-packages (from requests->smart-open>=1.2.1->gensim) (1.22)\n",
            "Requirement already satisfied: certifi>=2017.4.17 in /usr/local/lib/python3.6/dist-packages (from requests->smart-open>=1.2.1->gensim) (2018.4.16)\n",
            "Collecting jmespath<1.0.0,>=0.7.1 (from boto3->smart-open>=1.2.1->gensim)\n",
            "  Downloading https://files.pythonhosted.org/packages/b7/31/05c8d001f7f87f0f07289a5fc0fc3832e9a57f2dbd4d3b0fee70e0d51365/jmespath-0.9.3-py2.py3-none-any.whl\n",
            "Collecting s3transfer<0.2.0,>=0.1.10 (from boto3->smart-open>=1.2.1->gensim)\n",
            "\u001b[?25l  Downloading https://files.pythonhosted.org/packages/d7/14/2a0004d487464d120c9fb85313a75cd3d71a7506955be458eebfe19a6b1d/s3transfer-0.1.13-py2.py3-none-any.whl (59kB)\n",
            "\u001b[K    100% |████████████████████████████████| 61kB 22.2MB/s \n",
            "\u001b[?25hCollecting botocore<1.11.0,>=1.10.62 (from boto3->smart-open>=1.2.1->gensim)\n",
            "\u001b[?25l  Downloading https://files.pythonhosted.org/packages/24/ec/95df2edaa21e426581f41745e0de355170b8cb6eed2a2a5641c0c348df33/botocore-1.10.62-py2.py3-none-any.whl (4.4MB)\n",
            "\u001b[K    100% |████████████████████████████████| 4.4MB 6.2MB/s \n",
            "\u001b[?25hRequirement already satisfied: python-dateutil<3.0.0,>=2.1; python_version >= \"2.7\" in /usr/local/lib/python3.6/dist-packages (from botocore<1.11.0,>=1.10.62->boto3->smart-open>=1.2.1->gensim) (2.5.3)\n",
            "Collecting docutils>=0.10 (from botocore<1.11.0,>=1.10.62->boto3->smart-open>=1.2.1->gensim)\n",
            "\u001b[?25l  Downloading https://files.pythonhosted.org/packages/36/fa/08e9e6e0e3cbd1d362c3bbee8d01d0aedb2155c4ac112b19ef3cae8eed8d/docutils-0.14-py3-none-any.whl (543kB)\n",
            "\u001b[K    100% |████████████████████████████████| 552kB 21.9MB/s \n",
            "\u001b[?25hBuilding wheels for collected packages: smart-open, bz2file\n",
            "  Running setup.py bdist_wheel for smart-open ... \u001b[?25l-\b \bdone\n",
            "\u001b[?25h  Stored in directory: /content/.cache/pip/wheels/73/f1/9b/ccf93d4ba073b6f79b1ed9df68ab5ce048d8136d0efcf90b30\n",
            "  Running setup.py bdist_wheel for bz2file ... \u001b[?25l-\b \bdone\n",
            "\u001b[?25h  Stored in directory: /content/.cache/pip/wheels/81/75/d6/e1317bf09bf1af5a30befc2a007869fa6e1f516b8f7c591cb9\n",
            "Successfully built smart-open bz2file\n",
            "Installing collected packages: boto, bz2file, jmespath, docutils, botocore, s3transfer, boto3, smart-open, gensim\n",
            "Successfully installed boto-2.49.0 boto3-1.7.62 botocore-1.10.62 bz2file-0.98 docutils-0.14 gensim-3.5.0 jmespath-0.9.3 s3transfer-0.1.13 smart-open-1.6.0\n"
          ],
          "name": "stdout"
        }
      ]
    },
    {
      "metadata": {
        "id": "KqfICs-iiD3N",
        "colab_type": "text"
      },
      "cell_type": "markdown",
      "source": [
        "### Download Trained Models"
      ]
    },
    {
      "metadata": {
        "id": "lvHx0zv6iCtU",
        "colab_type": "code",
        "colab": {
          "base_uri": "https://localhost:8080/",
          "height": 401
        },
        "outputId": "5845fbab-be77-49b7-e73b-20ec71bbb40e"
      },
      "cell_type": "code",
      "source": [
        "%%bash\n",
        "git clone https://github.com/jeroenmeulenaar/python3-mega.git python3mega\n",
        "cd python3mega\n",
        "pip install -r requirements.txt"
      ],
      "execution_count": 3,
      "outputs": [
        {
          "output_type": "stream",
          "text": [
            "Requirement already satisfied: requests>=1.1.0 in /usr/local/lib/python3.6/dist-packages (from -r requirements.txt (line 1)) (2.18.4)\n",
            "Collecting URLObject>=2.1.1 (from -r requirements.txt (line 2))\n",
            "  Downloading https://files.pythonhosted.org/packages/e2/b8/1d0a916f4b34c4618846e6da0e4eeaa8fcb4a2f39e006434fe38acb74b34/URLObject-2.4.3.tar.gz\n",
            "Collecting pycrypto>=2.6 (from -r requirements.txt (line 3))\n",
            "  Downloading https://files.pythonhosted.org/packages/60/db/645aa9af249f059cc3a368b118de33889219e0362141e75d4eaf6f80f163/pycrypto-2.6.1.tar.gz (446kB)\n",
            "Requirement already satisfied: chardet<3.1.0,>=3.0.2 in /usr/local/lib/python3.6/dist-packages (from requests>=1.1.0->-r requirements.txt (line 1)) (3.0.4)\n",
            "Requirement already satisfied: idna<2.7,>=2.5 in /usr/local/lib/python3.6/dist-packages (from requests>=1.1.0->-r requirements.txt (line 1)) (2.6)\n",
            "Requirement already satisfied: urllib3<1.23,>=1.21.1 in /usr/local/lib/python3.6/dist-packages (from requests>=1.1.0->-r requirements.txt (line 1)) (1.22)\n",
            "Requirement already satisfied: certifi>=2017.4.17 in /usr/local/lib/python3.6/dist-packages (from requests>=1.1.0->-r requirements.txt (line 1)) (2018.4.16)\n",
            "Building wheels for collected packages: URLObject, pycrypto\n",
            "  Running setup.py bdist_wheel for URLObject: started\n",
            "  Running setup.py bdist_wheel for URLObject: finished with status 'done'\n",
            "  Stored in directory: /content/.cache/pip/wheels/fd/7e/18/ccb55ecc2834f945b769c1ff1df12ca5a14400ccfc58e3c515\n",
            "  Running setup.py bdist_wheel for pycrypto: started\n",
            "  Running setup.py bdist_wheel for pycrypto: finished with status 'done'\n",
            "  Stored in directory: /content/.cache/pip/wheels/27/02/5e/77a69d0c16bb63c6ed32f5386f33a2809c94bd5414a2f6c196\n",
            "Successfully built URLObject pycrypto\n",
            "Installing collected packages: URLObject, pycrypto\n",
            "Successfully installed URLObject-2.4.3 pycrypto-2.6.1\n"
          ],
          "name": "stdout"
        },
        {
          "output_type": "stream",
          "text": [
            "Cloning into 'python3mega'...\n"
          ],
          "name": "stderr"
        }
      ]
    },
    {
      "metadata": {
        "id": "BtKrU2piiWAp",
        "colab_type": "code",
        "colab": {}
      },
      "cell_type": "code",
      "source": [
        "import os\n",
        "os.chdir(\"python3mega\")\n",
        "from mega import Mega\n",
        "m = Mega.from_ephemeral()\n",
        "os.chdir(\"..\")"
      ],
      "execution_count": 0,
      "outputs": []
    },
    {
      "metadata": {
        "id": "sNpLvKQ3iZSh",
        "colab_type": "code",
        "colab": {}
      },
      "cell_type": "code",
      "source": [
        "m.download_from_url('https://mega.nz/#!1BJ1iYKZ!05H-DDnvzcfN4btuCF3ThExeG5T1xKvjzkOm2U6x5Uk')"
      ],
      "execution_count": 0,
      "outputs": []
    },
    {
      "metadata": {
        "id": "4M1T8uI1vASY",
        "colab_type": "code",
        "colab": {}
      },
      "cell_type": "code",
      "source": [
        "m.download_from_url('https://mega.nz/#!MdYlBYRQ!qav9Yh_gjnhwiHonVYwfe_qq6rLZCglCbuA5AlFqX6U')"
      ],
      "execution_count": 0,
      "outputs": []
    },
    {
      "metadata": {
        "id": "iBIQxen-w3Nc",
        "colab_type": "code",
        "colab": {
          "base_uri": "https://localhost:8080/",
          "height": 35
        },
        "outputId": "41ef1c16-ef88-4ebc-c6f4-f7e3f82db456"
      },
      "cell_type": "code",
      "source": [
        "ls"
      ],
      "execution_count": 7,
      "outputs": [
        {
          "output_type": "stream",
          "text": [
            "\u001b[0m\u001b[01;34mdatalab\u001b[0m/  model_news_db_1  model_news_db_2  \u001b[01;34mpython3mega\u001b[0m/\r\n"
          ],
          "name": "stdout"
        }
      ]
    },
    {
      "metadata": {
        "id": "8xuA1SBMwhEl",
        "colab_type": "text"
      },
      "cell_type": "markdown",
      "source": [
        "###Load 2 models"
      ]
    },
    {
      "metadata": {
        "id": "JMaKl0a1wjh7",
        "colab_type": "code",
        "colab": {}
      },
      "cell_type": "code",
      "source": [
        "import gensim\n",
        "model1 = gensim.models.Word2Vec.load('model_news_db_1')\n",
        "model2 = gensim.models.Word2Vec.load('model_news_db_2')"
      ],
      "execution_count": 0,
      "outputs": []
    },
    {
      "metadata": {
        "id": "OQzOyL0fd8vP",
        "colab_type": "text"
      },
      "cell_type": "markdown",
      "source": [
        "### Similarity Matrix with numpy/Cupy"
      ]
    },
    {
      "metadata": {
        "id": "llNLoa7FjeWt",
        "colab_type": "code",
        "colab": {}
      },
      "cell_type": "code",
      "source": [
        "import numpy as np"
      ],
      "execution_count": 0,
      "outputs": []
    },
    {
      "metadata": {
        "id": "pNMBIfvMheAt",
        "colab_type": "code",
        "colab": {
          "base_uri": "https://localhost:8080/",
          "height": 110
        },
        "outputId": "64520311-7078-4e65-e1c3-3d1b21646a84"
      },
      "cell_type": "code",
      "source": [
        "mat1 = model1.wv.syn0/np.linalg.norm(model1.wv.syn0, axis=1).reshape(-1, 1) # NORMALIZE\n",
        "mat2 = model2.wv.syn0/np.linalg.norm(model2.wv.syn0, axis=1).reshape(-1, 1) "
      ],
      "execution_count": 10,
      "outputs": [
        {
          "output_type": "stream",
          "text": [
            "/usr/local/lib/python3.6/dist-packages/ipykernel_launcher.py:1: DeprecationWarning: Call to deprecated `syn0` (Attribute will be removed in 4.0.0, use self.wv.vectors instead).\n",
            "  \"\"\"Entry point for launching an IPython kernel.\n",
            "/usr/local/lib/python3.6/dist-packages/ipykernel_launcher.py:2: DeprecationWarning: Call to deprecated `syn0` (Attribute will be removed in 4.0.0, use self.wv.vectors instead).\n",
            "  \n"
          ],
          "name": "stderr"
        }
      ]
    },
    {
      "metadata": {
        "id": "Xu7Lw4-ijoSz",
        "colab_type": "code",
        "colab": {
          "base_uri": "https://localhost:8080/",
          "height": 35
        },
        "outputId": "b0a29ae8-ebd4-4801-9159-a57c55f7c12f"
      },
      "cell_type": "code",
      "source": [
        "np.linalg.norm(mat1[59])"
      ],
      "execution_count": 11,
      "outputs": [
        {
          "output_type": "execute_result",
          "data": {
            "text/plain": [
              "1.0"
            ]
          },
          "metadata": {
            "tags": []
          },
          "execution_count": 11
        }
      ]
    },
    {
      "metadata": {
        "id": "onjYQZeEhm2n",
        "colab_type": "code",
        "colab": {
          "base_uri": "https://localhost:8080/",
          "height": 92
        },
        "outputId": "638b9933-c2ba-4083-9d52-b1cef1a6c38c"
      },
      "cell_type": "code",
      "source": [
        "size = len(model1.wv.syn0)\n",
        "print(size)"
      ],
      "execution_count": 12,
      "outputs": [
        {
          "output_type": "stream",
          "text": [
            "94734\n"
          ],
          "name": "stdout"
        },
        {
          "output_type": "stream",
          "text": [
            "/usr/local/lib/python3.6/dist-packages/ipykernel_launcher.py:1: DeprecationWarning: Call to deprecated `syn0` (Attribute will be removed in 4.0.0, use self.wv.vectors instead).\n",
            "  \"\"\"Entry point for launching an IPython kernel.\n"
          ],
          "name": "stderr"
        }
      ]
    },
    {
      "metadata": {
        "id": "N_9AfSaeiY2H",
        "colab_type": "code",
        "colab": {
          "base_uri": "https://localhost:8080/",
          "height": 35
        },
        "outputId": "ec49e51a-3f7c-4102-b6e5-f0af7da0a8a4"
      },
      "cell_type": "code",
      "source": [
        "mat1.shape"
      ],
      "execution_count": 13,
      "outputs": [
        {
          "output_type": "execute_result",
          "data": {
            "text/plain": [
              "(94734, 100)"
            ]
          },
          "metadata": {
            "tags": []
          },
          "execution_count": 13
        }
      ]
    },
    {
      "metadata": {
        "id": "jR61oOIHi6fK",
        "colab_type": "code",
        "colab": {
          "base_uri": "https://localhost:8080/",
          "height": 35
        },
        "outputId": "a34a2664-a149-4e90-d352-3ca98bdc6778"
      },
      "cell_type": "code",
      "source": [
        "ones = np.ones((size, 1))\n",
        "print(ones.shape)"
      ],
      "execution_count": 14,
      "outputs": [
        {
          "output_type": "stream",
          "text": [
            "(94734, 1)\n"
          ],
          "name": "stdout"
        }
      ]
    },
    {
      "metadata": {
        "id": "nAXRgaNPm2iI",
        "colab_type": "code",
        "colab": {}
      },
      "cell_type": "code",
      "source": [
        "import time"
      ],
      "execution_count": 0,
      "outputs": []
    },
    {
      "metadata": {
        "id": "jywyjw1njJ2D",
        "colab_type": "code",
        "colab": {
          "base_uri": "https://localhost:8080/",
          "height": 54
        },
        "outputId": "63dc8779-3e9c-4fac-ee72-bcff757f31ba"
      },
      "cell_type": "code",
      "source": [
        "start_time = time.time()\n",
        "similarity_mat1_multiplier = mat1.T @ ones\n",
        "similarity_mat1 = mat1@similarity_mat1_multiplier\n",
        "end_time = time.time()\n",
        "print(\"%s seconds\" % (end_time - start_time))\n",
        "print(similarity_mat1.shape)"
      ],
      "execution_count": 16,
      "outputs": [
        {
          "output_type": "stream",
          "text": [
            "0.08306717872619629 seconds\n",
            "(94734, 1)\n"
          ],
          "name": "stdout"
        }
      ]
    },
    {
      "metadata": {
        "id": "eBZNRxizj0jk",
        "colab_type": "code",
        "colab": {
          "base_uri": "https://localhost:8080/",
          "height": 54
        },
        "outputId": "dc99b061-02e8-4787-8fc2-0930b6570bf2"
      },
      "cell_type": "code",
      "source": [
        "start_time = time.time()\n",
        "similarity_mat2_multiplier = mat2.T @ ones\n",
        "similarity_mat2 = mat2 @ similarity_mat2_multiplier\n",
        "end_time = time.time()\n",
        "print(\"%s seconds\" % (end_time - start_time))\n",
        "print(similarity_mat2.shape)"
      ],
      "execution_count": 17,
      "outputs": [
        {
          "output_type": "stream",
          "text": [
            "0.06743669509887695 seconds\n",
            "(94734, 1)\n"
          ],
          "name": "stdout"
        }
      ]
    },
    {
      "metadata": {
        "id": "-VYafOd7pGwj",
        "colab_type": "code",
        "colab": {}
      },
      "cell_type": "code",
      "source": [
        "change_matrix = (similarity_mat1/similarity_mat2).reshape(-1)"
      ],
      "execution_count": 0,
      "outputs": []
    },
    {
      "metadata": {
        "id": "qXm5pMNEoGzf",
        "colab_type": "code",
        "colab": {
          "base_uri": "https://localhost:8080/",
          "height": 35
        },
        "outputId": "0cff0e79-aacb-4c65-c77c-52e46311cd09"
      },
      "cell_type": "code",
      "source": [
        "print(change_matrix)"
      ],
      "execution_count": 19,
      "outputs": [
        {
          "output_type": "stream",
          "text": [
            "[1.01638709 0.93703821 1.00903267 ... 0.5375523  1.07114469 1.01028138]\n"
          ],
          "name": "stdout"
        }
      ]
    },
    {
      "metadata": {
        "id": "bgybEkELNfxH",
        "colab_type": "code",
        "colab": {}
      },
      "cell_type": "code",
      "source": [
        "k = 1\n",
        "for i in change_matrix:\n",
        "  print(i, end=\", \")\n",
        "  if k%7 == 0:\n",
        "    print()\n",
        "  k+=1"
      ],
      "execution_count": 0,
      "outputs": []
    },
    {
      "metadata": {
        "id": "Xdknhf1DQrT_",
        "colab_type": "code",
        "colab": {
          "base_uri": "https://localhost:8080/",
          "height": 181
        },
        "outputId": "399176b2-b47d-453d-a40a-28b35819186e"
      },
      "cell_type": "code",
      "source": [
        "hist, _ = np.histogram(change_matrix, bins=100)\n",
        "print(hist)"
      ],
      "execution_count": 21,
      "outputs": [
        {
          "output_type": "stream",
          "text": [
            "[    1     2     0     1     0     0     0     0     0     0     0     1\n",
            "     0     0     0     1     0     0     0     0     0     1     0     0\n",
            "     0     0     0     0     0     0     0     0     2     0     0     1\n",
            "     4     5     4     7     3     7    15   109 94411   100    20    11\n",
            "     8     6     2     0     2     2     0     0     1     0     0     0\n",
            "     0     2     0     1     0     1     1     0     0     0     0     0\n",
            "     0     0     0     0     0     0     0     1     0     0     0     0\n",
            "     0     0     0     0     0     0     0     0     0     0     0     0\n",
            "     0     0     0     1]\n"
          ],
          "name": "stdout"
        }
      ]
    },
    {
      "metadata": {
        "id": "j9srpNrpSbAF",
        "colab_type": "code",
        "colab": {
          "base_uri": "https://localhost:8080/",
          "height": 181
        },
        "outputId": "2d56798f-73ff-4d4d-ca12-25a474330024"
      },
      "cell_type": "code",
      "source": [
        "change_matrix[change_matrix<-50]"
      ],
      "execution_count": 0,
      "outputs": [
        {
          "output_type": "execute_result",
          "data": {
            "text/plain": [
              "array([-143.00914442, -398.99322584,  -95.38105705, -108.77047702,\n",
              "       -742.13236814, -498.41039495, -112.88796326, -120.53128717,\n",
              "        -79.09526515, -101.06832927, -136.77078869,  -84.17627431,\n",
              "       -112.1062134 , -773.68652457,  -58.46775408,  -85.67409199,\n",
              "        -71.0040236 ,  -62.24278807, -142.55329545, -741.71203935,\n",
              "        -83.20477196,  -75.27196324, -204.92068242,  -82.5325554 ,\n",
              "       -151.94548137, -213.88938069,  -84.31301918, -131.93146432,\n",
              "        -54.76417333, -580.3248639 , -125.30828911,  -93.92861052,\n",
              "       -126.7602052 ,  -95.39447695, -712.71967003])"
            ]
          },
          "metadata": {
            "tags": []
          },
          "execution_count": 48
        }
      ]
    },
    {
      "metadata": {
        "id": "_zL9x3ywUEv-",
        "colab_type": "code",
        "colab": {}
      },
      "cell_type": "code",
      "source": [
        "std = change_matrix.std()"
      ],
      "execution_count": 0,
      "outputs": []
    },
    {
      "metadata": {
        "id": "ZkbCBcMAUI5o",
        "colab_type": "code",
        "colab": {
          "base_uri": "https://localhost:8080/",
          "height": 35
        },
        "outputId": "6c40b4d0-c0a0-4a7d-84e1-d56b867c7c21"
      },
      "cell_type": "code",
      "source": [
        "mean = change_matrix.mean()\n",
        "print(mean)"
      ],
      "execution_count": 0,
      "outputs": [
        {
          "output_type": "stream",
          "text": [
            "1.0007349285804605\n"
          ],
          "name": "stdout"
        }
      ]
    },
    {
      "metadata": {
        "id": "Kib5g_HhTO6K",
        "colab_type": "code",
        "colab": {
          "base_uri": "https://localhost:8080/",
          "height": 290
        },
        "outputId": "45706239-a055-495e-f9f4-692d7f79e764"
      },
      "cell_type": "code",
      "source": [
        "deviated_index = np.append(np.where( change_matrix > mean + 2*std ), np.where( change_matrix < mean - 2*std ) )\n",
        "print(deviated_index)"
      ],
      "execution_count": 0,
      "outputs": [
        {
          "output_type": "stream",
          "text": [
            "[ 1301  1462  2215  3446  3793  3887  3969  5007  5592  5957  7914  7941\n",
            "  8287  8521  8550  8761  8762  9048 10028 10347 10728 10777 10961 11166\n",
            " 11341 12122 12256 12350 12499 12654 13977 14032 14373 14535 14696 14745\n",
            " 14864 15534 15682 16403 16646 16731 17531 17914 18001 19280 19795 19819\n",
            " 20195 20534 20536 22648 22890 24397 28752 29465 30867 33912 36259 44948\n",
            " 49907 51384 65492 67128 68412 72149 76039 76591 76812 78493 78641 78679\n",
            " 78920 79503 79864 80630 80693 82160 82547 84153 86024 86789 87101 88154\n",
            " 89078 89481 91417 91863 92448 92466 92584 93220 93389 93761 94528   783\n",
            "  1887  2114  3343  4035  4360  4913  4965  5794  5879  5880  6301  6510\n",
            "  6678  6912  7733  7957  8000  8248  8578  8823  9308 10080 10094 10639\n",
            " 10798 11209 11545 12007 12311 12727 12905 13130 13466 14855 15241 15874\n",
            " 16141 16201 16978 17344 18474 18595 18846 18922 21004 21702 22009 22131\n",
            " 23238 24606 28469 41397 48618 48775 50415 58066 58811 63442 67915 68346\n",
            " 69015 69434 69825 72072 72997 75387 75502 78799 80134 80165 80406 81940\n",
            " 83014 83126 84842 85131 87772 88368 89344 89621 90854 91520 92605 92682]\n"
          ],
          "name": "stdout"
        }
      ]
    },
    {
      "metadata": {
        "id": "O0jkgG-BWanI",
        "colab_type": "code",
        "colab": {
          "base_uri": "https://localhost:8080/",
          "height": 399
        },
        "outputId": "3a6ca5c8-5150-4739-b8d0-816cc25bd69f"
      },
      "cell_type": "code",
      "source": [
        "model1.wv[\"the\"]"
      ],
      "execution_count": 0,
      "outputs": [
        {
          "output_type": "execute_result",
          "data": {
            "text/plain": [
              "array([-2.6333303 ,  0.5747096 ,  0.46110594, -0.50188047,  1.4336454 ,\n",
              "       -1.5055449 , -2.908422  , -1.8006451 , -2.251178  ,  1.494885  ,\n",
              "       -0.18047835, -2.2215545 , -1.907814  ,  1.0764737 ,  0.26949915,\n",
              "        1.1174197 , -0.8915537 , -1.8479732 , -1.7742358 ,  0.129779  ,\n",
              "       -1.2553184 ,  0.67688566,  2.3779624 ,  1.7920463 , -0.1459565 ,\n",
              "       -1.9835279 , -1.6931363 , -2.1531217 ,  2.6503198 , -0.3757957 ,\n",
              "       -1.3220656 , -2.0589137 , -1.3163112 ,  1.3179191 ,  1.042441  ,\n",
              "       -0.7130622 , -0.8253703 ,  2.2846951 ,  0.38839906, -2.4592087 ,\n",
              "       -1.132584  ,  0.5401437 ,  1.6133444 ,  0.14130256, -0.08933382,\n",
              "       -1.3302153 , -4.2624693 ,  0.5672286 ,  0.37066364, -1.4817197 ,\n",
              "       -0.10836665,  2.1263947 , -0.8572838 , -0.83411324, -0.82964987,\n",
              "        1.4928914 ,  0.6465942 ,  0.18454427,  1.3978188 ,  1.0045924 ,\n",
              "       -1.315363  ,  1.0843585 ,  0.4640289 , -0.2517598 ,  0.3454195 ,\n",
              "        0.7426649 ,  0.7433699 ,  1.0507584 ,  1.6580534 ,  1.3411382 ,\n",
              "       -0.15603551,  0.73623407,  0.21734688,  0.11477572, -0.18314302,\n",
              "       -2.5091698 ,  2.5892506 ,  0.31084678, -1.7648158 , -1.298999  ,\n",
              "        2.364734  , -2.8019836 ,  0.44223312, -0.20573439,  0.75886714,\n",
              "       -0.7193603 ,  1.2687987 , -1.2307183 ,  0.6239654 ,  0.0255638 ,\n",
              "        0.5904853 , -0.49093395, -0.12841319,  1.2624344 ,  1.8728297 ,\n",
              "        0.25995678, -1.0846657 , -2.5385695 ,  0.28727704,  0.17735253],\n",
              "      dtype=float32)"
            ]
          },
          "metadata": {
            "tags": []
          },
          "execution_count": 65
        }
      ]
    },
    {
      "metadata": {
        "id": "32hHyvQEXFlv",
        "colab_type": "code",
        "colab": {}
      },
      "cell_type": "code",
      "source": [
        "model2.wv.syn0[model2.wv.vocab['girl'].index]"
      ],
      "execution_count": 0,
      "outputs": []
    },
    {
      "metadata": {
        "id": "_jm-GsHPXJH6",
        "colab_type": "code",
        "colab": {}
      },
      "cell_type": "code",
      "source": [
        "index2word = {}\n",
        "for word in model2.wv.vocab:\n",
        "  i = model2.wv.vocab[word].index\n",
        "  index2word[i] = word"
      ],
      "execution_count": 0,
      "outputs": []
    },
    {
      "metadata": {
        "id": "RuDfn-SIXcf_",
        "colab_type": "code",
        "colab": {
          "base_uri": "https://localhost:8080/",
          "height": 3290
        },
        "outputId": "55d36251-0bae-4d6a-b384-3089c2418e43"
      },
      "cell_type": "code",
      "source": [
        "for i in deviated_index:\n",
        "  print(i, index2word[i])"
      ],
      "execution_count": 0,
      "outputs": [
        {
          "output_type": "stream",
          "text": [
            "1301 apart\n",
            "1462 300\n",
            "2215 marking\n",
            "3446 prevention\n",
            "3793 equipped\n",
            "3887 tries\n",
            "3969 1972\n",
            "5007 invitation\n",
            "5592 riots\n",
            "5957 scholarship\n",
            "7914 evolved\n",
            "7941 disturbing\n",
            "8287 hawkers\n",
            "8521 floated\n",
            "8550 helm\n",
            "8761 curiosity\n",
            "8762 tainted\n",
            "9048 tracking\n",
            "10028 calories\n",
            "10347 branding\n",
            "10728 guise\n",
            "10777 absorb\n",
            "10961 shuttle\n",
            "11166 booths\n",
            "11341 sluggish\n",
            "12122 selfies\n",
            "12256 marching\n",
            "12350 comparable\n",
            "12499 supplement\n",
            "12654 relies\n",
            "13977 indulging\n",
            "14032 seating\n",
            "14373 inconsistent\n",
            "14535 frustrations\n",
            "14696 spoil\n",
            "14745 dwindling\n",
            "14864 perseverance\n",
            "15534 emphasized\n",
            "15682 ponder\n",
            "16403 hormuz\n",
            "16646 landlords\n",
            "16731 calculation\n",
            "17531 scepticism\n",
            "17914 agitations\n",
            "18001 conjunction\n",
            "19280 stricter\n",
            "19795 offline\n",
            "19819 bickering\n",
            "20195 daesh\n",
            "20534 braced\n",
            "20536 confine\n",
            "22648 dampen\n",
            "22890 detentions\n",
            "24397 fragility\n",
            "28752 consulates\n",
            "29465 maximize\n",
            "30867 payscale\n",
            "33912 pretexts\n",
            "36259 reorganising\n",
            "44948 armament\n",
            "49907 redeployment\n",
            "51384 marathons\n",
            "65492 adl\n",
            "67128 stabilises\n",
            "68412 contactmusic\n",
            "72149 bipa\n",
            "76039 sanghoti\n",
            "76591 stigmatise\n",
            "76812 bic\n",
            "78493 erdan\n",
            "78641 megabytes\n",
            "78679 skimp\n",
            "78920 lillestr\n",
            "79503 jobbatical\n",
            "79864 acclimatising\n",
            "80630 idolatrous\n",
            "80693 ashden\n",
            "82160 overdraft\n",
            "82547 zioyev\n",
            "84153 responsiblity\n",
            "86024 alights\n",
            "86789 stockers\n",
            "87101 jhatika\n",
            "88154 mohsinuddin\n",
            "89078 conveyer\n",
            "89481 uaw\n",
            "91417 sokoto\n",
            "91863 marra\n",
            "92448 muwallad\n",
            "92466 cornwallis\n",
            "92584 aquiline\n",
            "93220 soufri\n",
            "93389 kalboishaki\n",
            "93761 atartuk\n",
            "94528 sewall\n",
            "783 muslim\n",
            "1887 communication\n",
            "2114 bjp\n",
            "3343 gates\n",
            "4035 windows\n",
            "4360 branches\n",
            "4913 installed\n",
            "4965 similarly\n",
            "5794 pulling\n",
            "5879 barca\n",
            "5880 sophisticated\n",
            "6301 interviews\n",
            "6510 teeth\n",
            "6678 heights\n",
            "6912 combine\n",
            "7733 settlers\n",
            "7957 blessings\n",
            "8000 prosperous\n",
            "8248 decreased\n",
            "8578 fairs\n",
            "8823 insulin\n",
            "9308 nightmare\n",
            "10080 dock\n",
            "10094 fossil\n",
            "10639 complaining\n",
            "10798 piled\n",
            "11209 disadvantaged\n",
            "11545 wrongdoing\n",
            "12007 internally\n",
            "12311 slaves\n",
            "12727 locate\n",
            "12905 clinch\n",
            "13130 coups\n",
            "13466 weary\n",
            "14855 lest\n",
            "15241 misguided\n",
            "15874 nominating\n",
            "16141 declines\n",
            "16201 curtailed\n",
            "16978 conspirators\n",
            "17344 westerners\n",
            "18474 zionist\n",
            "18595 tolerable\n",
            "18846 negligible\n",
            "18922 gainer\n",
            "21004 safest\n",
            "21702 footballing\n",
            "22009 impede\n",
            "22131 opportune\n",
            "23238 roster\n",
            "24606 academies\n",
            "28469 repatriate\n",
            "41397 esc\n",
            "48618 encirclement\n",
            "48775 deferral\n",
            "50415 flexibilities\n",
            "58066 rampages\n",
            "58811 ppe\n",
            "63442 aqim\n",
            "67915 nuremburg\n",
            "68346 meridor\n",
            "69015 swfs\n",
            "69434 farmhouses\n",
            "69825 subsectors\n",
            "72072 memorisation\n",
            "72997 silversmiths\n",
            "75387 luv\n",
            "75502 gabe\n",
            "78799 latlateh\n",
            "80134 hadary\n",
            "80165 granthakendra\n",
            "80406 birthrate\n",
            "81940 rosters\n",
            "83014 jmi\n",
            "83126 supranational\n",
            "84842 handcraft\n",
            "85131 sugarmethod\n",
            "87772 bolsheviks\n",
            "88368 galston\n",
            "89344 chartering\n",
            "89621 1630\n",
            "90854 fenwick\n",
            "91520 nansen\n",
            "92605 amrohi\n",
            "92682 kabitapatra\n"
          ],
          "name": "stdout"
        }
      ]
    },
    {
      "metadata": {
        "id": "hB-RwpTcMfol",
        "colab_type": "text"
      },
      "cell_type": "markdown",
      "source": [
        "### Plotting"
      ]
    },
    {
      "metadata": {
        "id": "Y_60bxBeqCfb",
        "colab_type": "code",
        "colab": {
          "base_uri": "https://localhost:8080/",
          "height": 347
        },
        "outputId": "f045e19d-bf52-457e-ecf1-1337fe5b56aa"
      },
      "cell_type": "code",
      "source": [
        "import matplotlib.pyplot as plt\n",
        "#B = np.random.rand(1000)*100-50\n",
        "_ = plt.hist(change_matrix, bins=100)\n",
        "plt.show()"
      ],
      "execution_count": 28,
      "outputs": [
        {
          "output_type": "display_data",
          "data": {
            "image/png": "[encoded data removed]",
            "text/plain": [
              "<matplotlib.figure.Figure at 0x7ffac0d09be0>"
            ]
          },
          "metadata": {
            "tags": []
          }
        }
      ]
    },
    {
      "metadata": {
        "id": "S6_dKKcDSZ9b",
        "colab_type": "code",
        "colab": {}
      },
      "cell_type": "code",
      "source": [
        ""
      ],
      "execution_count": 0,
      "outputs": []
    }
  ]
}