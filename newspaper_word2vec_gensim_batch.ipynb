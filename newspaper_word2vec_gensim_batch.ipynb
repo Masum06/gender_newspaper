{
  "nbformat": 4,
  "nbformat_minor": 0,
  "metadata": {
    "colab": {
      "name": "newspaper word2vec gensim batch.ipynb",
      "version": "0.3.2",
      "provenance": [],
      "include_colab_link": true
    },
    "kernelspec": {
      "name": "python3",
      "display_name": "Python 3"
    },
    "accelerator": "GPU"
  },
  "cells": [
    {
      "cell_type": "markdown",
      "metadata": {
        "id": "view-in-github",
        "colab_type": "text"
      },
      "source": [
        "[View in Colaboratory](https://colab.research.google.com/github/Masum06/gender_newspaper/blob/master/newspaper_word2vec_gensim_batch.ipynb)"
      ]
    },
    {
      "metadata": {
        "id": "3WEY_Nsw2VSg",
        "colab_type": "text"
      },
      "cell_type": "markdown",
      "source": [
        "**Description**\n",
        "\n",
        "\n",
        "\n",
        "*   Install Gensim and Download Newspaper analyzed data\n",
        "*   Train Gensim word2vec with the selected Newspaper data\n",
        "*   Save trained model in batch\n",
        "\n"
      ]
    },
    {
      "metadata": {
        "id": "v2071cph1gXB",
        "colab_type": "text"
      },
      "cell_type": "markdown",
      "source": [
        "### 1. Connect to Google drive"
      ]
    },
    {
      "metadata": {
        "id": "DxqotBND1kfO",
        "colab_type": "code",
        "colab": {
          "base_uri": "https://localhost:8080/",
          "height": 110
        },
        "outputId": "c647b871-53a9-44c8-8a05-caac187567eb"
      },
      "cell_type": "code",
      "source": [
        "!apt-get install -y -qq software-properties-common python-software-properties module-init-tools\n",
        "!add-apt-repository -y ppa:alessandro-strada/ppa 2>&1 > /dev/null\n",
        "!apt-get update -qq 2>&1 > /dev/null\n",
        "!apt-get -y install -qq google-drive-ocamlfuse fuse\n",
        "from google.colab import auth\n",
        "auth.authenticate_user()\n",
        "from oauth2client.client import GoogleCredentials\n",
        "creds = GoogleCredentials.get_application_default()\n",
        "import getpass\n",
        "!google-drive-ocamlfuse -headless -id={creds.client_id} -secret={creds.client_secret} < /dev/null 2>&1 | grep URL\n",
        "vcode = getpass.getpass()\n",
        "!echo {vcode} | google-drive-ocamlfuse -headless -id={creds.client_id} -secret={creds.client_secret}"
      ],
      "execution_count": 1,
      "outputs": [
        {
          "output_type": "stream",
          "text": [
            "Please, open the following URL in a web browser: https://accounts.google.com/o/oauth2/auth?client_id=32555940559.apps.googleusercontent.com&redirect_uri=urn%3Aietf%3Awg%3Aoauth%3A2.0%3Aoob&scope=https%3A%2F%2Fwww.googleapis.com%2Fauth%2Fdrive&response_type=code&access_type=offline&approval_prompt=force\r\n",
            "··········\n",
            "Please, open the following URL in a web browser: https://accounts.google.com/o/oauth2/auth?client_id=32555940559.apps.googleusercontent.com&redirect_uri=urn%3Aietf%3Awg%3Aoauth%3A2.0%3Aoob&scope=https%3A%2F%2Fwww.googleapis.com%2Fauth%2Fdrive&response_type=code&access_type=offline&approval_prompt=force\n",
            "Please enter the verification code: Access token retrieved correctly.\n"
          ],
          "name": "stdout"
        }
      ]
    },
    {
      "metadata": {
        "id": "WGPaQfoj1uIf",
        "colab_type": "code",
        "colab": {},
        "cellView": "code"
      },
      "cell_type": "code",
      "source": [
        "#@title Default title text\n",
        "!mkdir -p drive\n",
        "!google-drive-ocamlfuse drive"
      ],
      "execution_count": 0,
      "outputs": []
    },
    {
      "metadata": {
        "id": "it6H9pGYczyv",
        "colab_type": "code",
        "colab": {
          "base_uri": "https://localhost:8080/",
          "height": 217
        },
        "outputId": "376d76bd-d74a-44ab-dac8-150de1ec6c87"
      },
      "cell_type": "code",
      "source": [
        "ls -l drive/data/newspaper_text/"
      ],
      "execution_count": 3,
      "outputs": [
        {
          "output_type": "stream",
          "text": [
            "total 998847\r\n",
            "-rw-r--r-- 1 root root 227817153 Aug  9 02:36 bothReplaced.txt\r\n",
            "-rw-r--r-- 1 root root  16748894 Aug  9 02:44 both_set.pickle\r\n",
            "-rw-r--r-- 1 root root 233148951 Aug  9 02:36 femaleReplaced.txt\r\n",
            "-rw-r--r-- 1 root root  16253484 Aug  9 02:44 intersection.pickle\r\n",
            "-rw-r--r-- 1 root root 228892288 Aug  9 02:36 maleReplaced.txt\r\n",
            "-rw-r--r-- 1 root root  18046887 Aug  9 02:44 man_set.pickle\r\n",
            "-rw-r--r-- 1 root root  22017202 Aug  9 02:44 none_set.pickle\r\n",
            "-rw-r--r-- 1 root root 234264261 Aug  8 03:02 nonGender.txt\r\n",
            "-rw-r--r-- 1 root root   4885118 Aug  9 02:42 uniqueNames.txt\r\n",
            "-rw-r--r-- 1 root root  20741813 Aug  9 02:44 woman_set.pickle\r\n"
          ],
          "name": "stdout"
        }
      ]
    },
    {
      "metadata": {
        "id": "T8ZOy13Fcjvy",
        "colab_type": "code",
        "colab": {}
      },
      "cell_type": "code",
      "source": [
        "!cp drive/data/newspaper_text/*.txt ./"
      ],
      "execution_count": 0,
      "outputs": []
    },
    {
      "metadata": {
        "id": "uICWKtwbZJgM",
        "colab_type": "code",
        "colab": {
          "base_uri": "https://localhost:8080/",
          "height": 235
        },
        "outputId": "f701fd42-8173-49db-8789-728c6ebfcb64"
      },
      "cell_type": "code",
      "source": [
        "ls -l"
      ],
      "execution_count": 5,
      "outputs": [
        {
          "output_type": "stream",
          "text": [
            "total 2079136\r\n",
            "-rw-r--r-- 1 root root 227817153 Aug 14 08:49 bothReplaced.txt\r\n",
            "drwxr-xr-x 1 root root      4096 Aug 14 08:48 \u001b[0m\u001b[01;34mdatalab\u001b[0m/\r\n",
            "drwxr-xr-x 2 root root      4096 Aug 14 08:49 \u001b[01;34mdrive\u001b[0m/\r\n",
            "-rw-r--r-- 1 root root 233148951 Aug 14 08:49 femaleReplaced.txt\r\n",
            "drwxr-xr-x 2 root root      4096 Aug 14 06:30 \u001b[01;34mglove\u001b[0m/\r\n",
            "-rw-r--r-- 1 root root 862182613 Aug 14 06:30 glove.6B.zip\r\n",
            "-rw-r--r-- 1 root root 228892288 Aug 14 08:50 maleReplaced.txt\r\n",
            "drwxr-xr-x 8 root root      4096 Aug 14 06:29 \u001b[01;34mMITIE\u001b[0m/\r\n",
            "-rw-r--r-- 1 root root 337804218 Aug 14 06:46 my_text_categorizer.dat\r\n",
            "-rw-r--r-- 1 root root 234264261 Aug 14 08:50 nonGender.txt\r\n",
            "-rw-r--r-- 1 root root   4885118 Aug 14 08:50 uniqueNames.txt\r\n"
          ],
          "name": "stdout"
        }
      ]
    },
    {
      "metadata": {
        "id": "EDP_lOuU7P3A",
        "colab_type": "text"
      },
      "cell_type": "markdown",
      "source": [
        "### 2. From Mega"
      ]
    },
    {
      "metadata": {
        "id": "juFBx7UM65GP",
        "colab_type": "code",
        "colab": {
          "base_uri": "https://localhost:8080/",
          "height": 357
        },
        "outputId": "663453a0-bc4f-48e0-e90f-8a9078f2727c"
      },
      "cell_type": "code",
      "source": [
        "%%bash\n",
        "git clone https://github.com/jeroenmeulenaar/python3-mega.git python3mega\n",
        "cd python3mega\n",
        "pip install -r requirements.txt"
      ],
      "execution_count": 0,
      "outputs": [
        {
          "output_type": "stream",
          "text": [
            "Requirement already satisfied: requests>=1.1.0 in /usr/local/lib/python3.6/dist-packages (from -r requirements.txt (line 1)) (2.18.4)\n",
            "Collecting URLObject>=2.1.1 (from -r requirements.txt (line 2))\n",
            "  Downloading https://files.pythonhosted.org/packages/e2/b8/1d0a916f4b34c4618846e6da0e4eeaa8fcb4a2f39e006434fe38acb74b34/URLObject-2.4.3.tar.gz\n",
            "Collecting pycrypto>=2.6 (from -r requirements.txt (line 3))\n",
            "  Downloading https://files.pythonhosted.org/packages/60/db/645aa9af249f059cc3a368b118de33889219e0362141e75d4eaf6f80f163/pycrypto-2.6.1.tar.gz (446kB)\n",
            "Requirement already satisfied: urllib3<1.23,>=1.21.1 in /usr/local/lib/python3.6/dist-packages (from requests>=1.1.0->-r requirements.txt (line 1)) (1.22)\n",
            "Requirement already satisfied: idna<2.7,>=2.5 in /usr/local/lib/python3.6/dist-packages (from requests>=1.1.0->-r requirements.txt (line 1)) (2.6)\n",
            "Requirement already satisfied: chardet<3.1.0,>=3.0.2 in /usr/local/lib/python3.6/dist-packages (from requests>=1.1.0->-r requirements.txt (line 1)) (3.0.4)\n",
            "Requirement already satisfied: certifi>=2017.4.17 in /usr/local/lib/python3.6/dist-packages (from requests>=1.1.0->-r requirements.txt (line 1)) (2018.4.16)\n",
            "Building wheels for collected packages: URLObject, pycrypto\n",
            "  Running setup.py bdist_wheel for URLObject: started\n",
            "  Running setup.py bdist_wheel for URLObject: finished with status 'done'\n",
            "  Stored in directory: /content/.cache/pip/wheels/fd/7e/18/ccb55ecc2834f945b769c1ff1df12ca5a14400ccfc58e3c515\n",
            "  Running setup.py bdist_wheel for pycrypto: started\n",
            "  Running setup.py bdist_wheel for pycrypto: finished with status 'done'\n",
            "  Stored in directory: /content/.cache/pip/wheels/27/02/5e/77a69d0c16bb63c6ed32f5386f33a2809c94bd5414a2f6c196\n",
            "Successfully built URLObject pycrypto\n",
            "Installing collected packages: URLObject, pycrypto\n",
            "Successfully installed URLObject-2.4.3 pycrypto-2.6.1\n"
          ],
          "name": "stdout"
        },
        {
          "output_type": "stream",
          "text": [
            "Cloning into 'python3mega'...\n"
          ],
          "name": "stderr"
        }
      ]
    },
    {
      "metadata": {
        "id": "n9YNeGYs65GK",
        "colab_type": "code",
        "colab": {}
      },
      "cell_type": "code",
      "source": [
        "import os\n",
        "os.chdir(\"python3mega\")\n",
        "from mega import Mega\n",
        "m = Mega.from_ephemeral()\n",
        "os.chdir(\"..\")\n",
        "#from python3mega.mega import Mega"
      ],
      "execution_count": 0,
      "outputs": []
    },
    {
      "metadata": {
        "id": "Mn8EArcy65GE",
        "colab_type": "code",
        "colab": {}
      },
      "cell_type": "code",
      "source": [
        "m.download_from_url('https://mega.nz/#!NMwSGSCJ!K5L_g9uioqMP2oXzHRmLRUItHFMuYk7PjPfka1P7_ek') #news_db.json"
      ],
      "execution_count": 0,
      "outputs": []
    },
    {
      "metadata": {
        "id": "a08O7nU-65F2",
        "colab_type": "code",
        "colab": {
          "base_uri": "https://localhost:8080/",
          "height": 34
        },
        "outputId": "9d6b980a-a5e1-44bf-be99-167a71f797a2"
      },
      "cell_type": "code",
      "source": [
        "ls"
      ],
      "execution_count": 0,
      "outputs": [
        {
          "output_type": "stream",
          "text": [
            "\u001b[0m\u001b[01;34mdatalab\u001b[0m/  news_db.json  \u001b[01;34mpython3mega\u001b[0m/\r\n"
          ],
          "name": "stdout"
        }
      ]
    },
    {
      "metadata": {
        "id": "oaX_7Jrg7YXw",
        "colab_type": "code",
        "colab": {}
      },
      "cell_type": "code",
      "source": [
        "!unzip newspaper_text.zip"
      ],
      "execution_count": 0,
      "outputs": []
    },
    {
      "metadata": {
        "id": "f5MGHbhf7f2z",
        "colab_type": "code",
        "colab": {}
      },
      "cell_type": "code",
      "source": [
        "!mv newspaper_text/*.txt ./"
      ],
      "execution_count": 0,
      "outputs": []
    },
    {
      "metadata": {
        "id": "XC2H0fvDP6xv",
        "colab_type": "text"
      },
      "cell_type": "markdown",
      "source": [
        "###Installation"
      ]
    },
    {
      "metadata": {
        "id": "kLgvhh9RUo8-",
        "colab_type": "code",
        "colab": {
          "base_uri": "https://localhost:8080/",
          "height": 783
        },
        "outputId": "3b9f284f-85e3-4876-9daf-be7e98aad2a3"
      },
      "cell_type": "code",
      "source": [
        "!pip install gensim"
      ],
      "execution_count": 6,
      "outputs": [
        {
          "output_type": "stream",
          "text": [
            "Collecting gensim\n",
            "\u001b[?25l  Downloading https://files.pythonhosted.org/packages/86/f3/37504f07651330ddfdefa631ca5246974a60d0908216539efda842fd080f/gensim-3.5.0-cp36-cp36m-manylinux1_x86_64.whl (23.5MB)\n",
            "\u001b[K    100% |████████████████████████████████| 23.5MB 1.6MB/s \n",
            "\u001b[?25hRequirement already satisfied: scipy>=0.18.1 in /usr/local/lib/python3.6/dist-packages (from gensim) (0.19.1)\n",
            "Requirement already satisfied: numpy>=1.11.3 in /usr/local/lib/python3.6/dist-packages (from gensim) (1.14.5)\n",
            "Collecting smart-open>=1.2.1 (from gensim)\n",
            "  Downloading https://files.pythonhosted.org/packages/cf/3d/5f3a9a296d0ba8e00e263a8dee76762076b9eb5ddc254ccaa834651c8d65/smart_open-1.6.0.tar.gz\n",
            "Requirement already satisfied: six>=1.5.0 in /usr/local/lib/python3.6/dist-packages (from gensim) (1.11.0)\n",
            "Collecting boto>=2.32 (from smart-open>=1.2.1->gensim)\n",
            "\u001b[?25l  Downloading https://files.pythonhosted.org/packages/23/10/c0b78c27298029e4454a472a1919bde20cb182dab1662cec7f2ca1dcc523/boto-2.49.0-py2.py3-none-any.whl (1.4MB)\n",
            "\u001b[K    100% |████████████████████████████████| 1.4MB 12.9MB/s \n",
            "\u001b[?25hCollecting bz2file (from smart-open>=1.2.1->gensim)\n",
            "  Downloading https://files.pythonhosted.org/packages/61/39/122222b5e85cd41c391b68a99ee296584b2a2d1d233e7ee32b4532384f2d/bz2file-0.98.tar.gz\n",
            "Requirement already satisfied: requests in /usr/local/lib/python3.6/dist-packages (from smart-open>=1.2.1->gensim) (2.18.4)\n",
            "Collecting boto3 (from smart-open>=1.2.1->gensim)\n",
            "\u001b[?25l  Downloading https://files.pythonhosted.org/packages/1c/83/cecf39782976d30bbc4519ef71b4eef7b5e91e19e115c14ba34aeccca6f3/boto3-1.7.76-py2.py3-none-any.whl (128kB)\n",
            "\u001b[K    100% |████████████████████████████████| 133kB 22.3MB/s \n",
            "\u001b[?25hRequirement already satisfied: certifi>=2017.4.17 in /usr/local/lib/python3.6/dist-packages (from requests->smart-open>=1.2.1->gensim) (2018.4.16)\n",
            "Requirement already satisfied: idna<2.7,>=2.5 in /usr/local/lib/python3.6/dist-packages (from requests->smart-open>=1.2.1->gensim) (2.6)\n",
            "Requirement already satisfied: chardet<3.1.0,>=3.0.2 in /usr/local/lib/python3.6/dist-packages (from requests->smart-open>=1.2.1->gensim) (3.0.4)\n",
            "Requirement already satisfied: urllib3<1.23,>=1.21.1 in /usr/local/lib/python3.6/dist-packages (from requests->smart-open>=1.2.1->gensim) (1.22)\n",
            "Collecting jmespath<1.0.0,>=0.7.1 (from boto3->smart-open>=1.2.1->gensim)\n",
            "  Downloading https://files.pythonhosted.org/packages/b7/31/05c8d001f7f87f0f07289a5fc0fc3832e9a57f2dbd4d3b0fee70e0d51365/jmespath-0.9.3-py2.py3-none-any.whl\n",
            "Collecting botocore<1.11.0,>=1.10.76 (from boto3->smart-open>=1.2.1->gensim)\n",
            "\u001b[?25l  Downloading https://files.pythonhosted.org/packages/4f/b2/ef59c0c5b1160111802d44223ae5f77df8fb7c4e087d20e4af74a7b23fc7/botocore-1.10.76-py2.py3-none-any.whl (4.4MB)\n",
            "\u001b[K    100% |████████████████████████████████| 4.4MB 6.9MB/s \n",
            "\u001b[?25hCollecting s3transfer<0.2.0,>=0.1.10 (from boto3->smart-open>=1.2.1->gensim)\n",
            "\u001b[?25l  Downloading https://files.pythonhosted.org/packages/d7/14/2a0004d487464d120c9fb85313a75cd3d71a7506955be458eebfe19a6b1d/s3transfer-0.1.13-py2.py3-none-any.whl (59kB)\n",
            "\u001b[K    100% |████████████████████████████████| 61kB 19.7MB/s \n",
            "\u001b[?25hCollecting docutils>=0.10 (from botocore<1.11.0,>=1.10.76->boto3->smart-open>=1.2.1->gensim)\n",
            "\u001b[?25l  Downloading https://files.pythonhosted.org/packages/36/fa/08e9e6e0e3cbd1d362c3bbee8d01d0aedb2155c4ac112b19ef3cae8eed8d/docutils-0.14-py3-none-any.whl (543kB)\n",
            "\u001b[K    100% |████████████████████████████████| 552kB 20.5MB/s \n",
            "\u001b[?25hRequirement already satisfied: python-dateutil<3.0.0,>=2.1; python_version >= \"2.7\" in /usr/local/lib/python3.6/dist-packages (from botocore<1.11.0,>=1.10.76->boto3->smart-open>=1.2.1->gensim) (2.5.3)\n",
            "Building wheels for collected packages: smart-open, bz2file\n",
            "  Running setup.py bdist_wheel for smart-open ... \u001b[?25l-\b \b\\\b \bdone\n",
            "\u001b[?25h  Stored in directory: /content/.cache/pip/wheels/73/f1/9b/ccf93d4ba073b6f79b1ed9df68ab5ce048d8136d0efcf90b30\n",
            "  Running setup.py bdist_wheel for bz2file ... \u001b[?25l-\b \bdone\n",
            "\u001b[?25h  Stored in directory: /content/.cache/pip/wheels/81/75/d6/e1317bf09bf1af5a30befc2a007869fa6e1f516b8f7c591cb9\n",
            "Successfully built smart-open bz2file\n",
            "Installing collected packages: boto, bz2file, jmespath, docutils, botocore, s3transfer, boto3, smart-open, gensim\n",
            "Successfully installed boto-2.49.0 boto3-1.7.76 botocore-1.10.76 bz2file-0.98 docutils-0.14 gensim-3.5.0 jmespath-0.9.3 s3transfer-0.1.13 smart-open-1.6.0\n"
          ],
          "name": "stdout"
        }
      ]
    },
    {
      "metadata": {
        "id": "uuO5PC1QQUrm",
        "colab_type": "text"
      },
      "cell_type": "markdown",
      "source": [
        "###Data preprocessing"
      ]
    },
    {
      "metadata": {
        "id": "8MqrqVk3r9t5",
        "colab_type": "code",
        "colab": {}
      },
      "cell_type": "code",
      "source": [
        "import numpy as np\n",
        "import os\n",
        "from random import shuffle\n",
        "import re\n",
        "import sys\n",
        "import json\n",
        "from gensim.models import Word2Vec"
      ],
      "execution_count": 0,
      "outputs": []
    },
    {
      "metadata": {
        "id": "H_yI85IC_aEP",
        "colab_type": "code",
        "colab": {}
      },
      "cell_type": "code",
      "source": [
        "from datetime import datetime\n",
        "from dateutil.relativedelta import relativedelta\n",
        "\n",
        "def diff(t_a, t_b):\n",
        "    t_diff = relativedelta(t_b, t_a)  # later/end time comes first!\n",
        "    return '{h}h {m}m {s}s'.format(h=t_diff.hours, m=t_diff.minutes, s=t_diff.seconds)"
      ],
      "execution_count": 0,
      "outputs": []
    },
    {
      "metadata": {
        "id": "zzP4SAhn1w9x",
        "colab_type": "code",
        "colab": {
          "base_uri": "https://localhost:8080/",
          "height": 199
        },
        "outputId": "540bb158-a4b4-4ad0-a964-5d2cba1cbe83"
      },
      "cell_type": "code",
      "source": [
        "files = ['nonGender', 'bothReplaced'] #'maleReplaced', 'femaleReplaced', \n",
        "\n",
        "model = \"to be deleted\"\n",
        "\n",
        "for data in files:\n",
        "  \n",
        "  # CREATING THE DATASET\n",
        "  with open(data+\".txt\", 'r') as myfile:\n",
        "      input_text=myfile.read().replace('\\n', '')\n",
        "\n",
        "  # remove parenthesis \n",
        "  input_text_noparens = re.sub(r'\\([^)]*\\)', '', input_text)\n",
        "  # store as list of sentences\n",
        "  sentences_strings = []\n",
        "  for line in input_text_noparens.split('\\n'):\n",
        "      m = re.match(r'^(?:(?P<precolon>[^:]{,20}):)?(?P<postcolon>.*)$', line)\n",
        "      sentences_strings.extend(sent for sent in m.groupdict()['postcolon'].split('.') if sent)\n",
        "  # store as list of lists of words\n",
        "  sentences = []\n",
        "  for sent_str in sentences_strings:\n",
        "      tokens = re.sub(r\"[^a-z0-9]+\", \" \", sent_str.lower()).split()\n",
        "      sentences.append(tokens)\n",
        "      \n",
        "  # BUILDING 5 MODELS AT A TIME\n",
        "  for i in range(5):\n",
        "    \n",
        "    del model\n",
        "\n",
        "    t_a = datetime.now()\n",
        "    \n",
        "    model = Word2Vec(sentences=sentences, size=100, window=10, min_count=0, workers=4, sg=0)\n",
        "    model_name = data+\"_model_\"+str(i)\n",
        "    model.save(model_name)\n",
        "    !cp $model_name drive/data/models/\n",
        "    \n",
        "    t_b = datetime.now()\n",
        "\n",
        "    print(\"Training time for \", model_name, diff(t_a, t_b))\n"
      ],
      "execution_count": 4,
      "outputs": [
        {
          "output_type": "stream",
          "text": [
            "Training time for  nonGender_model_0 0h 5m 48s\n",
            "Training time for  nonGender_model_1 0h 5m 48s\n",
            "Training time for  nonGender_model_2 0h 5m 48s\n",
            "Training time for  nonGender_model_3 0h 5m 49s\n",
            "Training time for  nonGender_model_4 0h 5m 48s\n",
            "Training time for  bothReplaced_model_0 0h 5m 29s\n",
            "Training time for  bothReplaced_model_1 0h 5m 31s\n",
            "Training time for  bothReplaced_model_2 0h 5m 31s\n",
            "Training time for  bothReplaced_model_3 0h 5m 31s\n",
            "Training time for  bothReplaced_model_4 0h 5m 28s\n"
          ],
          "name": "stdout"
        }
      ]
    },
    {
      "metadata": {
        "id": "Y-n5WcFZU9d8",
        "colab_type": "code",
        "colab": {
          "base_uri": "https://localhost:8080/",
          "height": 1308
        },
        "outputId": "b7f6fe23-756f-431c-dad9-dd07ea0bd634"
      },
      "cell_type": "code",
      "source": [
        "ls"
      ],
      "execution_count": 5,
      "outputs": [
        {
          "output_type": "stream",
          "text": [
            "bothReplaced_model_0\r\n",
            "bothReplaced_model_0.trainables.syn1neg.npy\r\n",
            "bothReplaced_model_0.wv.vectors.npy\r\n",
            "bothReplaced_model_1\r\n",
            "bothReplaced_model_1.trainables.syn1neg.npy\r\n",
            "bothReplaced_model_1.wv.vectors.npy\r\n",
            "bothReplaced_model_2\r\n",
            "bothReplaced_model_2.trainables.syn1neg.npy\r\n",
            "bothReplaced_model_2.wv.vectors.npy\r\n",
            "bothReplaced_model_3\r\n",
            "bothReplaced_model_3.trainables.syn1neg.npy\r\n",
            "bothReplaced_model_3.wv.vectors.npy\r\n",
            "bothReplaced_model_4\r\n",
            "bothReplaced_model_4.trainables.syn1neg.npy\r\n",
            "bothReplaced_model_4.wv.vectors.npy\r\n",
            "bothReplaced.txt\r\n",
            "\u001b[0m\u001b[01;34mdatalab\u001b[0m/\r\n",
            "\u001b[01;34mdrive\u001b[0m/\r\n",
            "femaleReplaced_model_0\r\n",
            "femaleReplaced_model_0.trainables.syn1neg.npy\r\n",
            "femaleReplaced_model_0.wv.vectors.npy\r\n",
            "femaleReplaced_model_1\r\n",
            "femaleReplaced_model_1.trainables.syn1neg.npy\r\n",
            "femaleReplaced_model_1.wv.vectors.npy\r\n",
            "femaleReplaced_model_2\r\n",
            "femaleReplaced_model_2.trainables.syn1neg.npy\r\n",
            "femaleReplaced_model_2.wv.vectors.npy\r\n",
            "femaleReplaced_model_3\r\n",
            "femaleReplaced_model_3.trainables.syn1neg.npy\r\n",
            "femaleReplaced_model_3.wv.vectors.npy\r\n",
            "femaleReplaced_model_4\r\n",
            "femaleReplaced_model_4.trainables.syn1neg.npy\r\n",
            "femaleReplaced_model_4.wv.vectors.npy\r\n",
            "femaleReplaced.txt\r\n",
            "\u001b[01;34mglove\u001b[0m/\r\n",
            "glove.6B.zip\r\n",
            "maleReplaced_model_0\r\n",
            "maleReplaced_model_0.trainables.syn1neg.npy\r\n",
            "maleReplaced_model_0.wv.vectors.npy\r\n",
            "maleReplaced_model_1\r\n",
            "maleReplaced_model_1.trainables.syn1neg.npy\r\n",
            "maleReplaced_model_1.wv.vectors.npy\r\n",
            "maleReplaced_model_2\r\n",
            "maleReplaced_model_2.trainables.syn1neg.npy\r\n",
            "maleReplaced_model_2.wv.vectors.npy\r\n",
            "maleReplaced_model_3\r\n",
            "maleReplaced_model_3.trainables.syn1neg.npy\r\n",
            "maleReplaced_model_3.wv.vectors.npy\r\n",
            "maleReplaced_model_4\r\n",
            "maleReplaced_model_4.trainables.syn1neg.npy\r\n",
            "maleReplaced_model_4.wv.vectors.npy\r\n",
            "maleReplaced.txt\r\n",
            "\u001b[01;34mMITIE\u001b[0m/\r\n",
            "my_text_categorizer.dat\r\n",
            "nonGender_model_0\r\n",
            "nonGender_model_0.trainables.syn1neg.npy\r\n",
            "nonGender_model_0.wv.vectors.npy\r\n",
            "nonGender_model_1\r\n",
            "nonGender_model_1.trainables.syn1neg.npy\r\n",
            "nonGender_model_1.wv.vectors.npy\r\n",
            "nonGender_model_2\r\n",
            "nonGender_model_2.trainables.syn1neg.npy\r\n",
            "nonGender_model_2.wv.vectors.npy\r\n",
            "nonGender_model_3\r\n",
            "nonGender_model_3.trainables.syn1neg.npy\r\n",
            "nonGender_model_3.wv.vectors.npy\r\n",
            "nonGender_model_4\r\n",
            "nonGender_model_4.trainables.syn1neg.npy\r\n",
            "nonGender_model_4.wv.vectors.npy\r\n",
            "nonGender.txt\r\n",
            "uniqueNames.txt\r\n"
          ],
          "name": "stdout"
        }
      ]
    },
    {
      "metadata": {
        "id": "jVX7ZSUc-ujX",
        "colab_type": "text"
      },
      "cell_type": "markdown",
      "source": [
        "https://radimrehurek.com/gensim/models/word2vec.html"
      ]
    },
    {
      "metadata": {
        "id": "DRJhHjMvtHE8",
        "colab_type": "text"
      },
      "cell_type": "markdown",
      "source": [
        "[Tutorial](https://rare-technologies.com/word2vec-tutorial/)"
      ]
    }
  ]
}