{
  "nbformat": 4,
  "nbformat_minor": 0,
  "metadata": {
    "colab": {
      "name": "char_rnn_newspaper.ipynb",
      "version": "0.3.2",
      "provenance": [],
      "include_colab_link": true
    },
    "kernelspec": {
      "name": "python3",
      "display_name": "Python 3"
    },
    "accelerator": "GPU"
  },
  "cells": [
    {
      "cell_type": "markdown",
      "metadata": {
        "id": "view-in-github",
        "colab_type": "text"
      },
      "source": [
        "[View in Colaboratory](https://colab.research.google.com/github/Masum06/gender_newspaper/blob/master/char_rnn_newspaper.ipynb)"
      ]
    },
    {
      "metadata": {
        "id": "Uq-imMZIwkLt",
        "colab_type": "text"
      },
      "cell_type": "markdown",
      "source": [
        "https://colab.research.google.com/drive/1kF8m15c6lr4bqfnPMja0zXjFlvDo7z4i\n",
        "\n"
      ]
    },
    {
      "metadata": {
        "id": "x3ZS9d7qH-ra",
        "colab_type": "text"
      },
      "cell_type": "markdown",
      "source": [
        "**Description:**\n",
        "\n",
        "*   Create a character based RNN gender recognizer from the 3 million name data\n",
        "*   Take the 600MB newspaper crawled data as input\n",
        "*   Keep only the national news\n",
        "*   Create 4 datasets from the newspaper data, \n",
        "*   Save them in drive, to later make word vectors with each dataset\n",
        "\n"
      ]
    },
    {
      "metadata": {
        "id": "Tm9Qp693F4Zy",
        "colab_type": "text"
      },
      "cell_type": "markdown",
      "source": [
        "# Download Data\n",
        "Run either 1 or 2"
      ]
    },
    {
      "metadata": {
        "id": "v2071cph1gXB",
        "colab_type": "text"
      },
      "cell_type": "markdown",
      "source": [
        "### 1. Connect to Google drive"
      ]
    },
    {
      "metadata": {
        "id": "DxqotBND1kfO",
        "colab_type": "code",
        "colab": {
          "base_uri": "https://localhost:8080/",
          "height": 110
        },
        "outputId": "ebae3b78-d59d-47c0-b1c6-7287edf7fe8b"
      },
      "cell_type": "code",
      "source": [
        "!apt-get install -y -qq software-properties-common python-software-properties module-init-tools\n",
        "!add-apt-repository -y ppa:alessandro-strada/ppa 2>&1 > /dev/null\n",
        "!apt-get update -qq 2>&1 > /dev/null\n",
        "!apt-get -y install -qq google-drive-ocamlfuse fuse\n",
        "from google.colab import auth\n",
        "auth.authenticate_user()\n",
        "from oauth2client.client import GoogleCredentials\n",
        "creds = GoogleCredentials.get_application_default()\n",
        "import getpass\n",
        "!google-drive-ocamlfuse -headless -id={creds.client_id} -secret={creds.client_secret} < /dev/null 2>&1 | grep URL\n",
        "vcode = getpass.getpass()\n",
        "!echo {vcode} | google-drive-ocamlfuse -headless -id={creds.client_id} -secret={creds.client_secret}"
      ],
      "execution_count": 1,
      "outputs": [
        {
          "output_type": "stream",
          "text": [
            "Please, open the following URL in a web browser: https://accounts.google.com/o/oauth2/auth?client_id=32555940559.apps.googleusercontent.com&redirect_uri=urn%3Aietf%3Awg%3Aoauth%3A2.0%3Aoob&scope=https%3A%2F%2Fwww.googleapis.com%2Fauth%2Fdrive&response_type=code&access_type=offline&approval_prompt=force\r\n",
            "··········\n",
            "Please, open the following URL in a web browser: https://accounts.google.com/o/oauth2/auth?client_id=32555940559.apps.googleusercontent.com&redirect_uri=urn%3Aietf%3Awg%3Aoauth%3A2.0%3Aoob&scope=https%3A%2F%2Fwww.googleapis.com%2Fauth%2Fdrive&response_type=code&access_type=offline&approval_prompt=force\n",
            "Please enter the verification code: Access token retrieved correctly.\n"
          ],
          "name": "stdout"
        }
      ]
    },
    {
      "metadata": {
        "id": "WGPaQfoj1uIf",
        "colab_type": "code",
        "colab": {}
      },
      "cell_type": "code",
      "source": [
        "!mkdir -p drive\n",
        "!google-drive-ocamlfuse drive"
      ],
      "execution_count": 0,
      "outputs": []
    },
    {
      "metadata": {
        "id": "it6H9pGYczyv",
        "colab_type": "code",
        "colab": {
          "base_uri": "https://localhost:8080/",
          "height": 145
        },
        "outputId": "d18debb9-6ee2-43ed-84be-a5edc1704d18"
      },
      "cell_type": "code",
      "source": [
        "ls -l drive/data/"
      ],
      "execution_count": 4,
      "outputs": [
        {
          "output_type": "stream",
          "text": [
            "total 700503\r\n",
            "drwxr-xr-x 2 root root      4096 Aug  7 04:58 \u001b[0m\u001b[01;34marchived\u001b[0m/\r\n",
            "-rw-r--r-- 1 root root      1954 Aug  6 13:04 cse13_names.txt\r\n",
            "-rw-r--r-- 1 root root  58668225 Aug  6 15:36 hsc_unique.csv\r\n",
            "-rw-r--r-- 1 root root     27174 Aug  6 08:48 news_db_instance.json\r\n",
            "-rw-r--r-- 1 root root 658608032 Aug  6 08:49 news_db.json\r\n",
            "drwxr-xr-x 2 root root      4096 Aug  6 15:33 \u001b[01;34mnewspaper_text\u001b[0m/\r\n"
          ],
          "name": "stdout"
        }
      ]
    },
    {
      "metadata": {
        "id": "T8ZOy13Fcjvy",
        "colab_type": "code",
        "colab": {
          "base_uri": "https://localhost:8080/",
          "height": 54
        },
        "outputId": "d617bfef-45f2-4a23-d054-17401d663802"
      },
      "cell_type": "code",
      "source": [
        "!cp drive/data/* ./"
      ],
      "execution_count": 3,
      "outputs": [
        {
          "output_type": "stream",
          "text": [
            "cp: -r not specified; omitting directory 'drive/data/archived'\n",
            "cp: -r not specified; omitting directory 'drive/data/newspaper_text'\n"
          ],
          "name": "stdout"
        }
      ]
    },
    {
      "metadata": {
        "id": "uICWKtwbZJgM",
        "colab_type": "code",
        "colab": {
          "base_uri": "https://localhost:8080/",
          "height": 145
        },
        "outputId": "d664d7d2-fc86-42d4-bad1-f0aef3264753"
      },
      "cell_type": "code",
      "source": [
        "ls -l"
      ],
      "execution_count": 5,
      "outputs": [
        {
          "output_type": "stream",
          "text": [
            "total 700516\r\n",
            "-rw-r--r-- 1 root root      1954 Aug  7 18:27 cse13_names.txt\r\n",
            "drwxr-xr-x 1 root root      4096 Aug  7 18:26 \u001b[0m\u001b[01;34mdatalab\u001b[0m/\r\n",
            "drwxr-xr-x 2 root root      4096 Aug  7 18:26 \u001b[01;34mdrive\u001b[0m/\r\n",
            "-rw-r--r-- 1 root root  58668225 Aug  7 18:27 hsc_unique.csv\r\n",
            "-rw-r--r-- 1 root root     27174 Aug  7 18:27 news_db_instance.json\r\n",
            "-rw-r--r-- 1 root root 658608032 Aug  7 18:27 news_db.json\r\n"
          ],
          "name": "stdout"
        }
      ]
    },
    {
      "metadata": {
        "id": "T2ihWdwlp7Nx",
        "colab_type": "text"
      },
      "cell_type": "markdown",
      "source": [
        "### 2. Down From Mega"
      ]
    },
    {
      "metadata": {
        "id": "8nqiFtVXoDRA",
        "colab_type": "code",
        "colab": {
          "base_uri": "https://localhost:8080/",
          "height": 401
        },
        "outputId": "a836873a-e137-4bc7-aba8-fa4024befde1"
      },
      "cell_type": "code",
      "source": [
        "%%bash\n",
        "git clone https://github.com/jeroenmeulenaar/python3-mega.git python3mega\n",
        "cd python3mega\n",
        "pip install -r requirements.txt"
      ],
      "execution_count": 4,
      "outputs": [
        {
          "output_type": "stream",
          "text": [
            "Requirement already satisfied: requests>=1.1.0 in /usr/local/lib/python3.6/dist-packages (from -r requirements.txt (line 1)) (2.18.4)\n",
            "Collecting URLObject>=2.1.1 (from -r requirements.txt (line 2))\n",
            "  Downloading https://files.pythonhosted.org/packages/e2/b8/1d0a916f4b34c4618846e6da0e4eeaa8fcb4a2f39e006434fe38acb74b34/URLObject-2.4.3.tar.gz\n",
            "Collecting pycrypto>=2.6 (from -r requirements.txt (line 3))\n",
            "  Downloading https://files.pythonhosted.org/packages/60/db/645aa9af249f059cc3a368b118de33889219e0362141e75d4eaf6f80f163/pycrypto-2.6.1.tar.gz (446kB)\n",
            "Requirement already satisfied: idna<2.7,>=2.5 in /usr/local/lib/python3.6/dist-packages (from requests>=1.1.0->-r requirements.txt (line 1)) (2.6)\n",
            "Requirement already satisfied: urllib3<1.23,>=1.21.1 in /usr/local/lib/python3.6/dist-packages (from requests>=1.1.0->-r requirements.txt (line 1)) (1.22)\n",
            "Requirement already satisfied: certifi>=2017.4.17 in /usr/local/lib/python3.6/dist-packages (from requests>=1.1.0->-r requirements.txt (line 1)) (2018.4.16)\n",
            "Requirement already satisfied: chardet<3.1.0,>=3.0.2 in /usr/local/lib/python3.6/dist-packages (from requests>=1.1.0->-r requirements.txt (line 1)) (3.0.4)\n",
            "Building wheels for collected packages: URLObject, pycrypto\n",
            "  Running setup.py bdist_wheel for URLObject: started\n",
            "  Running setup.py bdist_wheel for URLObject: finished with status 'done'\n",
            "  Stored in directory: /content/.cache/pip/wheels/fd/7e/18/ccb55ecc2834f945b769c1ff1df12ca5a14400ccfc58e3c515\n",
            "  Running setup.py bdist_wheel for pycrypto: started\n",
            "  Running setup.py bdist_wheel for pycrypto: finished with status 'done'\n",
            "  Stored in directory: /content/.cache/pip/wheels/27/02/5e/77a69d0c16bb63c6ed32f5386f33a2809c94bd5414a2f6c196\n",
            "Successfully built URLObject pycrypto\n",
            "Installing collected packages: URLObject, pycrypto\n",
            "Successfully installed URLObject-2.4.3 pycrypto-2.6.1\n"
          ],
          "name": "stdout"
        },
        {
          "output_type": "stream",
          "text": [
            "Cloning into 'python3mega'...\n"
          ],
          "name": "stderr"
        }
      ]
    },
    {
      "metadata": {
        "id": "9zvLQHBXoS-i",
        "colab_type": "code",
        "colab": {}
      },
      "cell_type": "code",
      "source": [
        "import os\n",
        "os.chdir('python3mega')\n",
        "from mega import Mega\n",
        "m = Mega.from_ephemeral()\n",
        "os.chdir('..')"
      ],
      "execution_count": 0,
      "outputs": []
    },
    {
      "metadata": {
        "id": "D50oD1yhoVWV",
        "colab_type": "code",
        "colab": {}
      },
      "cell_type": "code",
      "source": [
        "m.download_from_url('https://mega.nz/#!NI4HwbBZ!tmDw05UD1Iro-upNHXr5hLdj-VgbFWEMJW3zO9iB0cE') # HSC Unique Name dataset"
      ],
      "execution_count": 0,
      "outputs": []
    },
    {
      "metadata": {
        "id": "owtaV9Dp57lK",
        "colab_type": "code",
        "colab": {}
      },
      "cell_type": "code",
      "source": [
        "m.download_from_url('https://mega.nz/#!5VZTGC4Y!zYlnGkVKoEOVaNqm2UwCSWDZXE_g9u4E3JcYj0ipE8Q') #news_db_instance.json"
      ],
      "execution_count": 0,
      "outputs": []
    },
    {
      "metadata": {
        "id": "sNpLvKQ3iZSh",
        "colab_type": "code",
        "colab": {}
      },
      "cell_type": "code",
      "source": [
        "m.download_from_url('https://mega.nz/#!sBIyzQJK!blCZdV-tca0uJ0yR4l08DEcFoMGuQ3PuNDLbTaD_NqY') #news_db.json"
      ],
      "execution_count": 0,
      "outputs": []
    },
    {
      "metadata": {
        "id": "4IDci8fdaYDh",
        "colab_type": "code",
        "colab": {
          "base_uri": "https://localhost:8080/",
          "height": 108
        },
        "outputId": "c75ad542-ac43-428d-9bee-8d73a7b1cade"
      },
      "cell_type": "code",
      "source": [
        "!ls"
      ],
      "execution_count": 147,
      "outputs": [
        {
          "output_type": "stream",
          "text": [
            "bothReplaced.txt     hsc_unique\t\t    nonGender.txt\r\n",
            "datalab\t\t     hsc_unique.csv\t    python3mega\r\n",
            "drive\t\t     maleReplaced.txt\t    uniqueNames.txt\r\n",
            "femaleReplaced.txt   news_db_instance.json  weights-improvement-01-0.9763.hdf5\r\n",
            "hsc_name_gender.csv  news_db.json\t    weights-improvement-02-0.9767.hdf5\r\n"
          ],
          "name": "stdout"
        }
      ]
    },
    {
      "metadata": {
        "id": "KGv-jPikZFds",
        "colab_type": "code",
        "colab": {}
      },
      "cell_type": "code",
      "source": [
        ""
      ],
      "execution_count": 0,
      "outputs": []
    },
    {
      "metadata": {
        "id": "iBty_3rIfNQE",
        "colab_type": "text"
      },
      "cell_type": "markdown",
      "source": [
        "# Character RNN"
      ]
    },
    {
      "metadata": {
        "id": "Nye5MCwGfvAH",
        "colab_type": "text"
      },
      "cell_type": "markdown",
      "source": [
        "### Installation and Import"
      ]
    },
    {
      "metadata": {
        "id": "WG-S9co5IEQ6",
        "colab_type": "code",
        "colab": {}
      },
      "cell_type": "code",
      "source": [
        "# ignore in colab\n",
        "!pip install -q keras\n",
        "!pip install scikit-learn\n",
        "!pip install matplotlib"
      ],
      "execution_count": 0,
      "outputs": []
    },
    {
      "metadata": {
        "id": "BrSTmoIKHuGD",
        "colab_type": "code",
        "colab": {
          "base_uri": "https://localhost:8080/",
          "height": 35
        },
        "outputId": "f4f19201-5326-4982-e198-6b22ff17889a"
      },
      "cell_type": "code",
      "source": [
        "%matplotlib inline\n",
        "import itertools\n",
        "import keras\n",
        "from sklearn.metrics import confusion_matrix\n",
        "import matplotlib.pyplot as plt\n",
        "from keras.callbacks import ModelCheckpoint\n",
        "import pandas as pd\n",
        "import numpy as np\n",
        "from keras.preprocessing import sequence\n",
        "from keras.models import Sequential\n",
        "from keras.layers import Dense, Embedding, Bidirectional\n",
        "from keras.layers import LSTM, GRU\n",
        "from sklearn.model_selection import train_test_split\n",
        "from sklearn.utils import shuffle\n",
        "from sklearn.metrics import confusion_matrix"
      ],
      "execution_count": 6,
      "outputs": [
        {
          "output_type": "stream",
          "text": [
            "Using TensorFlow backend.\n"
          ],
          "name": "stderr"
        }
      ]
    },
    {
      "metadata": {
        "id": "zAZgU2Dlf4BX",
        "colab_type": "text"
      },
      "cell_type": "markdown",
      "source": [
        "### Code for plotting Confusion Matrix"
      ]
    },
    {
      "metadata": {
        "id": "KlqkCFi_D7_x",
        "colab_type": "code",
        "colab": {}
      },
      "cell_type": "code",
      "source": [
        "def plot_confusion_matrix(cm, classes,\n",
        "                          normalize=False,\n",
        "                          title='Confusion matrix',\n",
        "                          cmap=plt.cm.Blues):\n",
        "    \"\"\"\n",
        "    This function prints and plots the confusion matrix.\n",
        "    Normalization can be applied by setting `normalize=True`.\n",
        "    \"\"\"\n",
        "    if normalize:\n",
        "        cm = cm.astype('float') / cm.sum(axis=1)[:, np.newaxis]\n",
        "        print(\"Normalized confusion matrix\")\n",
        "    else:\n",
        "        print('Confusion matrix, without normalization')\n",
        "\n",
        "    print(cm)\n",
        "\n",
        "    plt.imshow(cm, interpolation='nearest', cmap=cmap)\n",
        "    plt.title(title)\n",
        "    plt.colorbar()\n",
        "    tick_marks = np.arange(len(classes))\n",
        "    plt.xticks(tick_marks, classes, rotation=45)\n",
        "    plt.yticks(tick_marks, classes)\n",
        "\n",
        "    fmt = '.2f' if normalize else 'd'\n",
        "    thresh = cm.max() / 2.\n",
        "    for i, j in itertools.product(range(cm.shape[0]), range(cm.shape[1])):\n",
        "        plt.text(j, i, format(cm[i, j], fmt),\n",
        "                 horizontalalignment=\"center\",\n",
        "                 color=\"white\" if cm[i, j] > thresh else \"black\")\n",
        "\n",
        "    plt.tight_layout()\n",
        "    plt.ylabel('True label')\n",
        "    plt.xlabel('Predicted label')"
      ],
      "execution_count": 0,
      "outputs": []
    },
    {
      "metadata": {
        "id": "tdNoqbDigDOF",
        "colab_type": "text"
      },
      "cell_type": "markdown",
      "source": [
        "### Read data"
      ]
    },
    {
      "metadata": {
        "id": "wSzzIa81G3Bt",
        "colab_type": "code",
        "colab": {}
      },
      "cell_type": "code",
      "source": [
        "fileName = './hsc_unique.csv'\n",
        "\n",
        "df = pd.read_csv(fileName, encoding='utf-8')\n",
        "df.columns = ['name', 'gender']\n",
        "df['name'] = df['name'].str.lower()\n",
        "\n",
        "\n",
        "# Getting all available strings to find out the characters used\n",
        "all_string = \"\".join([name for name in df['name']])\n",
        "unique_characters = sorted(list(set(list(all_string))))\n",
        "\n",
        "# Mapping between character to index and index to character\n",
        "char2idx = { c : i for i, c in enumerate(unique_characters) }\n",
        "idx2char = { c : k for k, c in char2idx.items() }"
      ],
      "execution_count": 0,
      "outputs": []
    },
    {
      "metadata": {
        "id": "poOSbcpdnJT3",
        "colab_type": "code",
        "colab": {
          "base_uri": "https://localhost:8080/",
          "height": 74
        },
        "outputId": "0194b1b1-0f81-4dd0-b737-a7ffb2d4d167"
      },
      "cell_type": "code",
      "source": [
        "print(\"char2idx: \", char2idx)\n",
        "print(\"idx2char: \", idx2char)"
      ],
      "execution_count": 9,
      "outputs": [
        {
          "output_type": "stream",
          "text": [
            "char2idx:  {'\\t': 0, ' ': 1, '\"': 2, \"'\": 3, '(': 4, ')': 5, '*': 6, '+': 7, '-': 8, '.': 9, '/': 10, '0': 11, '1': 12, '2': 13, '3': 14, '4': 15, '5': 16, '6': 17, '7': 18, '8': 19, '9': 20, ':': 21, ';': 22, '=': 23, '>': 24, '?': 25, '[': 26, '\\\\': 27, ']': 28, '_': 29, '`': 30, 'a': 31, 'b': 32, 'c': 33, 'd': 34, 'e': 35, 'f': 36, 'g': 37, 'h': 38, 'i': 39, 'j': 40, 'k': 41, 'l': 42, 'm': 43, 'n': 44, 'o': 45, 'p': 46, 'q': 47, 'r': 48, 's': 49, 't': 50, 'u': 51, 'v': 52, 'w': 53, 'x': 54, 'y': 55, 'z': 56, '{': 57, '|': 58, '}': 59, '\\x83': 60, '\\x96': 61, '¨': 62, 'ÿ': 63}\n",
            "idx2char:  {0: '\\t', 1: ' ', 2: '\"', 3: \"'\", 4: '(', 5: ')', 6: '*', 7: '+', 8: '-', 9: '.', 10: '/', 11: '0', 12: '1', 13: '2', 14: '3', 15: '4', 16: '5', 17: '6', 18: '7', 19: '8', 20: '9', 21: ':', 22: ';', 23: '=', 24: '>', 25: '?', 26: '[', 27: '\\\\', 28: ']', 29: '_', 30: '`', 31: 'a', 32: 'b', 33: 'c', 34: 'd', 35: 'e', 36: 'f', 37: 'g', 38: 'h', 39: 'i', 40: 'j', 41: 'k', 42: 'l', 43: 'm', 44: 'n', 45: 'o', 46: 'p', 47: 'q', 48: 'r', 49: 's', 50: 't', 51: 'u', 52: 'v', 53: 'w', 54: 'x', 55: 'y', 56: 'z', 57: '{', 58: '|', 59: '}', 60: '\\x83', 61: '\\x96', 62: '¨', 63: 'ÿ'}\n"
          ],
          "name": "stdout"
        }
      ]
    },
    {
      "metadata": {
        "id": "dhFdt9_AX6IT",
        "colab_type": "code",
        "colab": {}
      },
      "cell_type": "code",
      "source": [
        "# Converts a name into vector\n",
        "def name2vector(name):\n",
        "    chars = list(name)\n",
        "    vector = [ char2idx[c] for c in chars ]\n",
        "    return np.array(vector)\n",
        "\n",
        "# Converts names to fixed size tensor\n",
        "def names2tensor(names, maxlen=30):\n",
        "    namelist = [name2vector(name) for name in names]\n",
        "    return sequence.pad_sequences(np.array(namelist), maxlen=maxlen) \n",
        "\n",
        "# Convert name vectors to name string\n",
        "def vector2name(vector):\n",
        "  name = \"\"\n",
        "  for id in vector:\n",
        "    name+=idx2char[id]\n",
        "  return name\n",
        "\n",
        "# Convert a bunch of name vectors, i.e. tensors to a list of names\n",
        "def tensor2name(tensor):\n",
        "  namelist = [vector2name(vector) for vector in tensor]\n",
        "  return namelist"
      ],
      "execution_count": 0,
      "outputs": []
    },
    {
      "metadata": {
        "id": "WYwg_TGli-V1",
        "colab_type": "text"
      },
      "cell_type": "markdown",
      "source": [
        "### Preparing Train and Test set"
      ]
    },
    {
      "metadata": {
        "id": "O8dCZDwCwD7P",
        "colab_type": "code",
        "colab": {}
      },
      "cell_type": "code",
      "source": [
        "# train dataset\n",
        "X = np.array(names2tensor(df['name'], maxlen=25)) #\n",
        "Y = np.array([int(g) for g in df['gender']])\n",
        "\n",
        "X, Y = shuffle(X, Y, random_state=42)\n",
        "\n",
        "x_train, x_test, y_train, y_test = train_test_split(X, Y, test_size=0.3) #changed"
      ],
      "execution_count": 0,
      "outputs": []
    },
    {
      "metadata": {
        "id": "HKZLYghkjbXV",
        "colab_type": "text"
      },
      "cell_type": "markdown",
      "source": [
        "### Building Model"
      ]
    },
    {
      "metadata": {
        "id": "Np307D0QjMRw",
        "colab_type": "text"
      },
      "cell_type": "markdown",
      "source": [
        "Setting up parameters"
      ]
    },
    {
      "metadata": {
        "id": "Al_uJUWujKet",
        "colab_type": "code",
        "colab": {}
      },
      "cell_type": "code",
      "source": [
        "# max features\n",
        "max_features = 200 # Changed\n",
        "batch_size = 32\n",
        "epochs = 1"
      ],
      "execution_count": 0,
      "outputs": []
    },
    {
      "metadata": {
        "id": "bUqeHfAKi7Wl",
        "colab_type": "code",
        "colab": {
          "base_uri": "https://localhost:8080/",
          "height": 35
        },
        "outputId": "1f1e930d-23da-41a3-804e-f9e7e2b72119"
      },
      "cell_type": "code",
      "source": [
        "# Model building and training\n",
        "print('Build model...')\n",
        "model = Sequential()\n",
        "model.add(Embedding(max_features, 128))\n",
        "model.add(LSTM(128, dropout=0.5, recurrent_dropout=0.5))\n",
        "model.add(Dense(1, activation='sigmoid'))\n",
        "\n",
        "# try using different optimizers and different optimizer configs\n",
        "model.compile(loss='binary_crossentropy',\n",
        "              optimizer='adam',\n",
        "              metrics=['accuracy']\n",
        "             )"
      ],
      "execution_count": 19,
      "outputs": [
        {
          "output_type": "stream",
          "text": [
            "Build model...\n"
          ],
          "name": "stdout"
        }
      ]
    },
    {
      "metadata": {
        "id": "MHr-5xQlnY1L",
        "colab_type": "text"
      },
      "cell_type": "markdown",
      "source": [
        "Autosaving models parameters"
      ]
    },
    {
      "metadata": {
        "id": "ix_Fo6lTnWmr",
        "colab_type": "code",
        "colab": {}
      },
      "cell_type": "code",
      "source": [
        "filepath=\"weights-improvement-{epoch:02d}-{val_acc:.4f}.hdf5\"\n",
        "checkpoint = ModelCheckpoint(filepath, monitor='val_acc', verbose=1, save_best_only=True, mode='max')\n",
        "callbacks_list = [checkpoint]"
      ],
      "execution_count": 0,
      "outputs": []
    },
    {
      "metadata": {
        "id": "PdidAHU7jYTq",
        "colab_type": "text"
      },
      "cell_type": "markdown",
      "source": [
        "\n",
        "### Train"
      ]
    },
    {
      "metadata": {
        "id": "gipAv4ofyudg",
        "colab_type": "code",
        "colab": {}
      },
      "cell_type": "code",
      "source": [
        "print('Train...')\n",
        "history = model.fit(x_train, y_train,batch_size=batch_size, epochs=1, callbacks=callbacks_list, validation_data=(x_test, y_test))"
      ],
      "execution_count": 0,
      "outputs": []
    },
    {
      "metadata": {
        "id": "aZzvaXi7LMgJ",
        "colab_type": "code",
        "colab": {
          "base_uri": "https://localhost:8080/",
          "height": 35
        },
        "outputId": "34e9bb27-eb4c-4fbc-c734-e038f120b5cb"
      },
      "cell_type": "code",
      "source": [
        "model"
      ],
      "execution_count": 25,
      "outputs": [
        {
          "output_type": "execute_result",
          "data": {
            "text/plain": [
              "<keras.models.Sequential at 0x7fea881017f0>"
            ]
          },
          "metadata": {
            "tags": []
          },
          "execution_count": 25
        }
      ]
    },
    {
      "metadata": {
        "id": "baMBga13vp78",
        "colab_type": "code",
        "colab": {
          "base_uri": "https://localhost:8080/",
          "height": 55
        },
        "outputId": "e262f858-52df-489a-ebe5-a98808803b56"
      },
      "cell_type": "code",
      "source": [
        "print(history.history)"
      ],
      "execution_count": 52,
      "outputs": [
        {
          "output_type": "stream",
          "text": [
            "{'val_loss': [0.07453443430023876, 0.07251864034502734, 0.07123359457603891], 'val_acc': [0.974688000176007, 0.9763765668743916, 0.9763655664398744], 'loss': [0.11551457053289926, 0.09080112008274123, 0.08999794562043636], 'acc': [0.9576687099210514, 0.9684271467135851, 0.9688028905401569]}\n"
          ],
          "name": "stdout"
        }
      ]
    },
    {
      "metadata": {
        "id": "ceriEtKV5v3X",
        "colab_type": "text"
      },
      "cell_type": "markdown",
      "source": [
        "# Saving Loading"
      ]
    },
    {
      "metadata": {
        "id": "yqQRcmk0S4RL",
        "colab_type": "text"
      },
      "cell_type": "markdown",
      "source": [
        "### Save Model and Weights"
      ]
    },
    {
      "metadata": {
        "id": "b8mFXwPkdcrt",
        "colab_type": "code",
        "colab": {}
      },
      "cell_type": "code",
      "source": [
        "!mv weights-improvement* drive/deeper/data/char_rnn_hsc_models/"
      ],
      "execution_count": 0,
      "outputs": []
    },
    {
      "metadata": {
        "id": "U8clmgRtMA5M",
        "colab_type": "code",
        "colab": {}
      },
      "cell_type": "code",
      "source": [
        "i = 4\n",
        "\n",
        "model.save('char_rnn_hsc_model_big_data_1.h5')"
      ],
      "execution_count": 0,
      "outputs": []
    },
    {
      "metadata": {
        "id": "c1oqaFosdb2p",
        "colab_type": "code",
        "colab": {}
      },
      "cell_type": "code",
      "source": [
        "!cp char_rnn_hsc_model_big_data_1.h5 drive/deeper/data/char_rnn_hsc_models/\n",
        "!cp char_rnn_hsc_model_big_data_weights_1.h5 drive/deeper/data/char_rnn_hsc_models/"
      ],
      "execution_count": 0,
      "outputs": []
    },
    {
      "metadata": {
        "id": "Smgecjt0etA4",
        "colab_type": "code",
        "colab": {}
      },
      "cell_type": "code",
      "source": [
        "model.load_weights('drive/deeper/data/char_rnn_hsc_models/char_rnn_hsc_model_big_data_weights_1.h5')"
      ],
      "execution_count": 0,
      "outputs": []
    },
    {
      "metadata": {
        "id": "LmEyTQ0Zy1xQ",
        "colab_type": "code",
        "colab": {
          "base_uri": "https://localhost:8080/",
          "height": 35
        },
        "outputId": "ac2f2e0d-87f6-4b96-cdf4-aebf5e0f1236"
      },
      "cell_type": "code",
      "source": [
        "ls"
      ],
      "execution_count": 0,
      "outputs": [
        {
          "output_type": "stream",
          "text": [
            "char_rnn_hsc_model_3.h5  \u001b[0m\u001b[01;34mdatalab\u001b[0m/  \u001b[01;34mdrive\u001b[0m/  hsc_name_gender.csv  \u001b[01;34mpython3mega\u001b[0m/\r\n"
          ],
          "name": "stdout"
        }
      ]
    },
    {
      "metadata": {
        "id": "PuMBGkBuzDnb",
        "colab_type": "text"
      },
      "cell_type": "markdown",
      "source": [
        "Highest accuracy 97.67%\n",
        "\n"
      ]
    },
    {
      "metadata": {
        "id": "8_0YuTeqz7LW",
        "colab_type": "text"
      },
      "cell_type": "markdown",
      "source": [
        "###Load model and run"
      ]
    },
    {
      "metadata": {
        "id": "uy-pu5jj1k41",
        "colab_type": "code",
        "colab": {}
      },
      "cell_type": "code",
      "source": [
        "!cp drive/deeper/data/char_rnn_hsc_models/char_rnn_hsc_model_3.h5 ./"
      ],
      "execution_count": 0,
      "outputs": []
    },
    {
      "metadata": {
        "id": "eR9BEGqP0B2B",
        "colab_type": "code",
        "colab": {}
      },
      "cell_type": "code",
      "source": [
        "model.load_weights('char_rnn_hsc_model_3.h5')"
      ],
      "execution_count": 0,
      "outputs": []
    },
    {
      "metadata": {
        "id": "O1QHA90nE66w",
        "colab_type": "code",
        "colab": {}
      },
      "cell_type": "code",
      "source": [
        "# LOAD SAVED MODEL\n",
        "from keras.models import load_model\n",
        "\n",
        "#del model  # deletes the existing model\n",
        "model = load_model('char_rnn_hsc_model_3.h5')"
      ],
      "execution_count": 0,
      "outputs": []
    },
    {
      "metadata": {
        "id": "aA0cPfF0S9pF",
        "colab_type": "text"
      },
      "cell_type": "markdown",
      "source": [
        "### Save Model using Pickle"
      ]
    },
    {
      "metadata": {
        "id": "FkWcE9vpT8GG",
        "colab_type": "code",
        "colab": {}
      },
      "cell_type": "code",
      "source": [
        "!pip install keras-pickle-wrapper"
      ],
      "execution_count": 0,
      "outputs": []
    },
    {
      "metadata": {
        "id": "NVDaG8btVzph",
        "colab_type": "code",
        "colab": {}
      },
      "cell_type": "code",
      "source": [
        "import pickle\n",
        "from keras_pickle_wrapper import KerasPickleWrapper"
      ],
      "execution_count": 0,
      "outputs": []
    },
    {
      "metadata": {
        "id": "pmc4Wvd5ZHXy",
        "colab_type": "text"
      },
      "cell_type": "markdown",
      "source": [
        "#### Save Pickle"
      ]
    },
    {
      "metadata": {
        "id": "PEWpR-SxX8qD",
        "colab_type": "code",
        "colab": {}
      },
      "cell_type": "code",
      "source": [
        "modelWrapper = KerasPickleWrapper(model)"
      ],
      "execution_count": 0,
      "outputs": []
    },
    {
      "metadata": {
        "id": "tRaZAdegV7oQ",
        "colab_type": "code",
        "colab": {}
      },
      "cell_type": "code",
      "source": [
        "with open(r\"model.pickle\", \"wb\") as output_file:\n",
        "  pickle.dump(modelWrapper, output_file)"
      ],
      "execution_count": 0,
      "outputs": []
    },
    {
      "metadata": {
        "id": "zkaFhy_uYFKw",
        "colab_type": "code",
        "colab": {
          "base_uri": "https://localhost:8080/",
          "height": 108
        },
        "outputId": "ada6889e-13a6-40cf-b0f0-5367ed65ceda"
      },
      "cell_type": "code",
      "source": [
        "ls"
      ],
      "execution_count": 48,
      "outputs": [
        {
          "output_type": "stream",
          "text": [
            "bothReplaced.txt    hsc_unique.csv         nonGender.txt\r\n",
            "cse13_names.txt     maleReplaced.txt       uniqueNames.txt\r\n",
            "\u001b[0m\u001b[01;34mdatalab\u001b[0m/            model.pickle           weights-improvement-01-0.9747.hdf5\r\n",
            "\u001b[01;34mdrive\u001b[0m/              news_db_instance.json  weights-improvement-02-0.9764.hdf5\r\n",
            "femaleReplaced.txt  news_db.json\r\n"
          ],
          "name": "stdout"
        }
      ]
    },
    {
      "metadata": {
        "id": "LuBRTBAYYz6K",
        "colab_type": "code",
        "colab": {}
      },
      "cell_type": "code",
      "source": [
        "!cp model.pickle drive/deeper/data/char_rnn_hsc_models/"
      ],
      "execution_count": 0,
      "outputs": []
    },
    {
      "metadata": {
        "id": "OeyNb5gSZDf_",
        "colab_type": "text"
      },
      "cell_type": "markdown",
      "source": [
        "#### Load Pickle"
      ]
    },
    {
      "metadata": {
        "id": "bcFszbrxY9i3",
        "colab_type": "code",
        "colab": {}
      },
      "cell_type": "code",
      "source": [
        "!cp drive/deeper/data/char_rnn_hsc_models/model.pickle ./"
      ],
      "execution_count": 0,
      "outputs": []
    },
    {
      "metadata": {
        "id": "LU15T3xaWyFX",
        "colab_type": "code",
        "colab": {}
      },
      "cell_type": "code",
      "source": [
        "with open(r\"model.pickle\", \"rb\") as input_file:\n",
        "  model = pickle.load(input_file)()"
      ],
      "execution_count": 0,
      "outputs": []
    },
    {
      "metadata": {
        "id": "K12GKwYEYZU3",
        "colab_type": "code",
        "colab": {
          "base_uri": "https://localhost:8080/",
          "height": 35
        },
        "outputId": "05f5e9ff-b81f-4c08-c60d-a148d7bd628c"
      },
      "cell_type": "code",
      "source": [
        "model"
      ],
      "execution_count": 21,
      "outputs": [
        {
          "output_type": "execute_result",
          "data": {
            "text/plain": [
              "<keras.models.Sequential at 0x7f9bf6407be0>"
            ]
          },
          "metadata": {
            "tags": []
          },
          "execution_count": 21
        }
      ]
    },
    {
      "metadata": {
        "id": "eFSWrxWrrjsH",
        "colab_type": "text"
      },
      "cell_type": "markdown",
      "source": [
        "### Confusion Matrix"
      ]
    },
    {
      "metadata": {
        "id": "gYoyHX_R4jrt",
        "colab_type": "code",
        "colab": {}
      },
      "cell_type": "code",
      "source": [
        "y_pred = np.array([y[0] for y in model.predict_classes(x_test)])"
      ],
      "execution_count": 0,
      "outputs": []
    },
    {
      "metadata": {
        "id": "WU4QlpI64IuW",
        "colab_type": "code",
        "colab": {
          "base_uri": "https://localhost:8080/",
          "height": 365
        },
        "outputId": "69420102-b4e0-462e-e375-734c93247b9b"
      },
      "cell_type": "code",
      "source": [
        "plot_confusion_matrix(confusion_matrix(y_test, y_pred), classes=['Female', 'Male'], normalize=True)"
      ],
      "execution_count": 28,
      "outputs": [
        {
          "output_type": "stream",
          "text": [
            "Normalized confusion matrix\n",
            "[[0.97169338 0.02830662]\n",
            " [0.02017993 0.97982007]]\n"
          ],
          "name": "stdout"
        },
        {
          "output_type": "display_data",
          "data": {
            "image/png": "[encoded data removed]",
            "text/plain": [
              "<matplotlib.figure.Figure at 0x7fea86557588>"
            ]
          },
          "metadata": {
            "tags": []
          }
        }
      ]
    },
    {
      "metadata": {
        "id": "MnKH-YvzExL3",
        "colab_type": "text"
      },
      "cell_type": "markdown",
      "source": [
        "\n",
        "**Confusion Matrix at epoch 1, 97.47% accuracy:**\n",
        "\n",
        "[[0.97392735 0.02607265]\n",
        "\n",
        " [0.02480559 0.97519441]]\n",
        "\n",
        "**Epoch 2: Accuracy 97.58**\n",
        "\n",
        "[[0.97481209 0.02518791]\n",
        "\n",
        " [0.02353943 0.97646057]]\n",
        "\n",
        "**Epoch 3: Accuracy 97.67**\n",
        "\n",
        "[[0.97453167 0.02546833]\n",
        "\n",
        " [0.02165181 0.97834819]]"
      ]
    },
    {
      "metadata": {
        "id": "45ifJE_UR8wi",
        "colab_type": "text"
      },
      "cell_type": "markdown",
      "source": [
        "### Check Mismatched Names"
      ]
    },
    {
      "metadata": {
        "id": "JmvDfWShXkZx",
        "colab_type": "code",
        "colab": {}
      },
      "cell_type": "code",
      "source": [
        "x_test_names = tensor2name(x_test)"
      ],
      "execution_count": 0,
      "outputs": []
    },
    {
      "metadata": {
        "id": "aXQB0xJ6Xd6f",
        "colab_type": "code",
        "colab": {}
      },
      "cell_type": "code",
      "source": [
        "test_indexes = np.arange(len(x_test))"
      ],
      "execution_count": 0,
      "outputs": []
    },
    {
      "metadata": {
        "id": "XxJ010ZNWw-r",
        "colab_type": "code",
        "colab": {
          "base_uri": "https://localhost:8080/",
          "height": 35
        },
        "outputId": "fbf8402e-9dc8-47bc-fefa-b0382d0aa249"
      },
      "cell_type": "code",
      "source": [
        "mismatch_indexes = test_indexes[y_pred != y_test]\n",
        "print(mismatch_indexes)"
      ],
      "execution_count": 27,
      "outputs": [
        {
          "output_type": "stream",
          "text": [
            "[     1      3      6 ... 909048 909052 909054]\n"
          ],
          "name": "stdout"
        }
      ]
    },
    {
      "metadata": {
        "id": "H0tIJfJuXJ72",
        "colab_type": "code",
        "colab": {
          "base_uri": "https://localhost:8080/",
          "height": 35
        },
        "outputId": "7f49ba42-3ce6-4f20-9556-c715c47a946b"
      },
      "cell_type": "code",
      "source": [
        "len(mismatch_indexes)/len(x_test)"
      ],
      "execution_count": 28,
      "outputs": [
        {
          "output_type": "execute_result",
          "data": {
            "text/plain": [
              "0.39161656885446977"
            ]
          },
          "metadata": {
            "tags": []
          },
          "execution_count": 28
        }
      ]
    },
    {
      "metadata": {
        "id": "T5GSMhirXSWH",
        "colab_type": "code",
        "colab": {}
      },
      "cell_type": "code",
      "source": [
        "incorrect_males = {}\n",
        "incorrect_females = {}\n",
        "for i in mismatch_indexes:\n",
        "  if y_pred[i] == 0:\n",
        "    temp = {}\n",
        "    temp[\"name\"] = x_test_names[i]\n",
        "    temp[\"test\"] = y_test[i]\n",
        "    temp[\"pred\"] = y_pred[i]\n",
        "    incorrect_males[i] = temp\n",
        "  else:\n",
        "    temp = {}\n",
        "    temp[\"name\"] = x_test_names[i]\n",
        "    temp[\"test\"] = y_test[i]\n",
        "    temp[\"pred\"] = y_pred[i]\n",
        "    incorrect_females[i] = temp"
      ],
      "execution_count": 0,
      "outputs": []
    },
    {
      "metadata": {
        "id": "oaa2J-JUXVcA",
        "colab_type": "code",
        "colab": {
          "base_uri": "https://localhost:8080/",
          "height": 18217
        },
        "outputId": "8cfe8bb1-82f9-4294-ae1a-d6ac3ae53458"
      },
      "cell_type": "code",
      "source": [
        "incorrect_males"
      ],
      "execution_count": 30,
      "outputs": [
        {
          "output_type": "execute_result",
          "data": {
            "text/plain": [
              "{17: {'name': '0000000abdullah-al-zubaed', 'pred': 0, 'test': 1},\n",
              " 80: {'name': '000000000parimal dasgupta', 'pred': 0, 'test': 1},\n",
              " 115: {'name': '0000000000md. sumon nayeb', 'pred': 0, 'test': 1},\n",
              " 209: {'name': '0000000000md.masum billam', 'pred': 0, 'test': 1},\n",
              " 280: {'name': '000000000000niutan dhalee', 'pred': 0, 'test': 1},\n",
              " 301: {'name': '0000000000md. al mokaddes', 'pred': 0, 'test': 1},\n",
              " 338: {'name': '000000000jhanntu pada dey', 'pred': 0, 'test': 1},\n",
              " 341: {'name': '00000000000000ahmed sayem', 'pred': 0, 'test': 1},\n",
              " 393: {'name': '0000000000md. shazu ahmed', 'pred': 0, 'test': 1},\n",
              " 405: {'name': '0000000md. hossain ahmmed', 'pred': 0, 'test': 1},\n",
              " 487: {'name': 'mir muhammad tarekul alam', 'pred': 0, 'test': 1},\n",
              " 493: {'name': '000000000md khaja ahammad', 'pred': 0, 'test': 1},\n",
              " 518: {'name': '0000000000000nowagsh alam', 'pred': 0, 'test': 1},\n",
              " 547: {'name': '000000000md. faruk ahemed', 'pred': 0, 'test': 1},\n",
              " 575: {'name': '000gouranggha chandra dey', 'pred': 0, 'test': 1},\n",
              " 683: {'name': '000000000md. mojibul alam', 'pred': 0, 'test': 1},\n",
              " 701: {'name': '0000000000md. abdos salam', 'pred': 0, 'test': 1},\n",
              " 707: {'name': '000000syed tonmoy ahammed', 'pred': 0, 'test': 1},\n",
              " 748: {'name': '000000000000sagir ahammed', 'pred': 0, 'test': 1},\n",
              " 788: {'name': '000000000000yeakub ahamed', 'pred': 0, 'test': 1},\n",
              " 796: {'name': '000000000000000lokesh deb', 'pred': 0, 'test': 1},\n",
              " 832: {'name': '00000000000000noyon tigga', 'pred': 0, 'test': 1},\n",
              " 895: {'name': '0000000000md. foyjul alam', 'pred': 0, 'test': 1},\n",
              " 1027: {'name': '00000000000sujon lal dome', 'pred': 0, 'test': 1},\n",
              " 1052: {'name': '00000khondakar abul kalam', 'pred': 0, 'test': 1},\n",
              " 1140: {'name': '00000md. gais uddin ahmed', 'pred': 0, 'test': 1},\n",
              " 1143: {'name': '0md. jahangir alam member', 'pred': 0, 'test': 1},\n",
              " 1201: {'name': '000000000md.  badsha meah', 'pred': 0, 'test': 1},\n",
              " 1210: {'name': '000000000000sayeem ahmmed', 'pred': 0, 'test': 1},\n",
              " 1296: {'name': '000000000000kaiser ahemed', 'pred': 0, 'test': 1},\n",
              " 1355: {'name': '0000000000000altaj ahamed', 'pred': 0, 'test': 1},\n",
              " 1386: {'name': '0000shahidul islam sayeed', 'pred': 0, 'test': 1},\n",
              " 1390: {'name': '00000000000md. alif ahmed', 'pred': 0, 'test': 1},\n",
              " 1416: {'name': '000000md. shah newaz alam', 'pred': 0, 'test': 1},\n",
              " 1442: {'name': '000000shahriar ahmed seam', 'pred': 0, 'test': 1},\n",
              " 1556: {'name': '000000000shyamal dewanjee', 'pred': 0, 'test': 1},\n",
              " 1589: {'name': '0000000000000000madob dey', 'pred': 0, 'test': 1},\n",
              " 1621: {'name': 'md. sazzad hossain nayeem', 'pred': 0, 'test': 1},\n",
              " 1625: {'name': '00000000md. zahanger alam', 'pred': 0, 'test': 1},\n",
              " 1675: {'name': '000000000000000buddha deb', 'pred': 0, 'test': 1},\n",
              " 1702: {'name': '00000000nijam uddin ahmed', 'pred': 0, 'test': 1},\n",
              " 1745: {'name': '0oshiney kumar tanchangya', 'pred': 0, 'test': 1},\n",
              " 1764: {'name': '000000000000ahchanul alam', 'pred': 0, 'test': 1},\n",
              " 1791: {'name': '000000000wazuddin ahammed', 'pred': 0, 'test': 1},\n",
              " 1820: {'name': '00000sheikh khorshed alam', 'pred': 0, 'test': 1},\n",
              " 1823: {'name': '000000mir mozzammel haque', 'pred': 0, 'test': 1},\n",
              " 1871: {'name': '000000000juwel tanchangya', 'pred': 0, 'test': 1},\n",
              " 1898: {'name': '00000000000000md. belaeth', 'pred': 0, 'test': 1},\n",
              " 1931: {'name': '00000000000000shaed ahmed', 'pred': 0, 'test': 1},\n",
              " 2097: {'name': '000000mahatab uddin ahmed', 'pred': 0, 'test': 1},\n",
              " 2148: {'name': '00000000000md.pabel ahmed', 'pred': 0, 'test': 1},\n",
              " 2177: {'name': '0000000nazmul hasan zabed', 'pred': 0, 'test': 1},\n",
              " 2221: {'name': '00000000000md.0hidul alam', 'pred': 0, 'test': 1},\n",
              " 2262: {'name': '000000000000tangel ahamed', 'pred': 0, 'test': 1},\n",
              " 2302: {'name': '00000000md. ektiar ahmmed', 'pred': 0, 'test': 1},\n",
              " 2329: {'name': '000000000krishna pada dey', 'pred': 0, 'test': 1},\n",
              " 2385: {'name': '0mohammad  mahabubul alam', 'pred': 0, 'test': 1},\n",
              " 2417: {'name': '0000000000md. musa parveg', 'pred': 0, 'test': 1},\n",
              " 2501: {'name': '0000000000hafizur rahamam', 'pred': 0, 'test': 1},\n",
              " 2540: {'name': '000md. sanzid hasan bappy', 'pred': 0, 'test': 1},\n",
              " 2571: {'name': '000000muhammed jaher meah', 'pred': 0, 'test': 1},\n",
              " 2588: {'name': '0000000000md razu  ahamed', 'pred': 0, 'test': 1},\n",
              " 2610: {'name': '000000000md. amedul islam', 'pred': 0, 'test': 1},\n",
              " 2616: {'name': '0000000000000md. del alom', 'pred': 0, 'test': 1},\n",
              " 2697: {'name': '00syed tanvir uddin ahmed', 'pred': 0, 'test': 1},\n",
              " 2701: {'name': '00000000000nadem mohammed', 'pred': 0, 'test': 1},\n",
              " 2704: {'name': '000000000000anaadul haque', 'pred': 0, 'test': 1},\n",
              " 2735: {'name': '000000joseph swopon gomes', 'pred': 0, 'test': 1},\n",
              " 2776: {'name': '0000000000md bappy bapery', 'pred': 0, 'test': 1},\n",
              " 2841: {'name': '0000000000shankar sahajee', 'pred': 0, 'test': 1},\n",
              " 2850: {'name': '00000000md. mahabub allom', 'pred': 0, 'test': 1},\n",
              " 2873: {'name': '0md. rashidul islam bappi', 'pred': 0, 'test': 1},\n",
              " 2894: {'name': '000000000md. faruk ahmaed', 'pred': 0, 'test': 1},\n",
              " 2930: {'name': '000000pulak bhattacharjee', 'pred': 0, 'test': 1},\n",
              " 2939: {'name': 'md. abu ayub ansary sayem', 'pred': 0, 'test': 1},\n",
              " 2973: {'name': '00000000md  mokbul  ahmed', 'pred': 0, 'test': 1},\n",
              " 3019: {'name': '000000000000shaleh ahmmed', 'pred': 0, 'test': 1},\n",
              " 3137: {'name': '000000000md. dulal munshe', 'pred': 0, 'test': 1},\n",
              " 3169: {'name': '00000anas ibn abul kashem', 'pred': 0, 'test': 1},\n",
              " 3201: {'name': '000000nazrul islam  suhag', 'pred': 0, 'test': 1},\n",
              " 3249: {'name': '000bishu kumar tanchangya', 'pred': 0, 'test': 1},\n",
              " 3399: {'name': '000000000000faruk ahemmed', 'pred': 0, 'test': 1},\n",
              " 3441: {'name': '000000000md. tofayel alom', 'pred': 0, 'test': 1},\n",
              " 3450: {'name': '00muhammad ashfaq tahmeed', 'pred': 0, 'test': 1},\n",
              " 3468: {'name': '0000000000000furkam ahmed', 'pred': 0, 'test': 1},\n",
              " 3591: {'name': '000000000000shoaiv ahmmed', 'pred': 0, 'test': 1},\n",
              " 3656: {'name': '0000000000md. ajijul alam', 'pred': 0, 'test': 1},\n",
              " 3665: {'name': '000000000000ferdous naeem', 'pred': 0, 'test': 1},\n",
              " 3742: {'name': '000000000000kayesh ahmmed', 'pred': 0, 'test': 1},\n",
              " 3834: {'name': '00000000000md. fuhad alam', 'pred': 0, 'test': 1},\n",
              " 3856: {'name': '000000a.s.m miladul haque', 'pred': 0, 'test': 1},\n",
              " 3864: {'name': '00000indrashen tanchangya', 'pred': 0, 'test': 1},\n",
              " 3911: {'name': '0000000000000md.afadullah', 'pred': 0, 'test': 1},\n",
              " 3975: {'name': '0md. abdul hannan forajee', 'pred': 0, 'test': 1},\n",
              " 4092: {'name': '000000000shuvo chattargee', 'pred': 0, 'test': 1},\n",
              " 4103: {'name': '00000muhammed badiul alam', 'pred': 0, 'test': 1},\n",
              " 4114: {'name': '0000000md. imteaj ahammad', 'pred': 0, 'test': 1},\n",
              " 4213: {'name': '0md. saifur rahman sayeem', 'pred': 0, 'test': 1},\n",
              " 4268: {'name': '0000000000md. nur-e- alam', 'pred': 0, 'test': 1},\n",
              " 4307: {'name': '000000nazmul islam shough', 'pred': 0, 'test': 1},\n",
              " 4381: {'name': '00000000md. misbahul alam', 'pred': 0, 'test': 1},\n",
              " 4386: {'name': '00000000md.muzammal haque', 'pred': 0, 'test': 1},\n",
              " 4432: {'name': '000000000000000hamid alam', 'pred': 0, 'test': 1},\n",
              " 4551: {'name': '0000brajendra chandra dey', 'pred': 0, 'test': 1},\n",
              " 4602: {'name': '000000000000rejowan ahmed', 'pred': 0, 'test': 1},\n",
              " 4642: {'name': '00000ashraful islam bappy', 'pred': 0, 'test': 1},\n",
              " 4724: {'name': '0000kazi imam uddin ahmed', 'pred': 0, 'test': 1},\n",
              " 4729: {'name': '000000000md. eanur ahmmed', 'pred': 0, 'test': 1},\n",
              " 4804: {'name': 'ej mohammed jahangir alam', 'pred': 0, 'test': 1},\n",
              " 4842: {'name': '00md. tanvir ahamed sayem', 'pred': 0, 'test': 1},\n",
              " 4864: {'name': '0000000000000000md. eusup', 'pred': 0, 'test': 1},\n",
              " 4907: {'name': '000000000000bishwadip deb', 'pred': 0, 'test': 1},\n",
              " 4929: {'name': '00000000md. juwel ahammad', 'pred': 0, 'test': 1},\n",
              " 4937: {'name': '0000000000000000a.motaleb', 'pred': 0, 'test': 1},\n",
              " 5024: {'name': '00pranta chandra acharjee', 'pred': 0, 'test': 1},\n",
              " 5037: {'name': '00000000md. fored ahammed', 'pred': 0, 'test': 1},\n",
              " 5275: {'name': '000000000000ridai ahammed', 'pred': 0, 'test': 1},\n",
              " 5276: {'name': '0000000md. abdul  maleque', 'pred': 0, 'test': 1},\n",
              " 5281: {'name': '0000000000ashique ahammed', 'pred': 0, 'test': 1},\n",
              " 5285: {'name': '0000000000000sibly ahamed', 'pred': 0, 'test': 1},\n",
              " 5341: {'name': '000000000md mokbul ahmmed', 'pred': 0, 'test': 1},\n",
              " 5354: {'name': '0000000lintu wilium gomej', 'pred': 0, 'test': 1},\n",
              " 5410: {'name': '0000000000md. tufan ahmed', 'pred': 0, 'test': 1},\n",
              " 5451: {'name': '00000000md. mejbaul haque', 'pred': 0, 'test': 1},\n",
              " 5494: {'name': '00000000000dinabandhu deb', 'pred': 0, 'test': 1},\n",
              " 5567: {'name': '0000000000md. gul ahammad', 'pred': 0, 'test': 1},\n",
              " 5590: {'name': '000000000a.k.m ebne saeed', 'pred': 0, 'test': 1},\n",
              " 5633: {'name': '00000000md. shimul ahmmed', 'pred': 0, 'test': 1},\n",
              " 5684: {'name': '00000000rukan uddin ahmed', 'pred': 0, 'test': 1},\n",
              " 5694: {'name': '0000000000md.jalal madber', 'pred': 0, 'test': 1},\n",
              " 5700: {'name': '0000000md. shakandar alam', 'pred': 0, 'test': 1},\n",
              " 5704: {'name': '0000000000md.kausar ahmed', 'pred': 0, 'test': 1},\n",
              " 5739: {'name': '000000000000miyad ahammed', 'pred': 0, 'test': 1},\n",
              " 5743: {'name': '0000000000000shalek ahmed', 'pred': 0, 'test': 1},\n",
              " 5751: {'name': '000000000md. tanjib ahmed', 'pred': 0, 'test': 1},\n",
              " 5788: {'name': '000000000kodor ahmed emad', 'pred': 0, 'test': 1},\n",
              " 5811: {'name': '00000000000noor momammad.', 'pred': 0, 'test': 1},\n",
              " 5836: {'name': '00rabindro nath das sohag', 'pred': 0, 'test': 1},\n",
              " 5859: {'name': '000muhammad rayhan ahamed', 'pred': 0, 'test': 1},\n",
              " 5983: {'name': '000000000md. samshad alam', 'pred': 0, 'test': 1},\n",
              " 6069: {'name': '000000000000000amal toppo', 'pred': 0, 'test': 1},\n",
              " 6213: {'name': '00000000md. mokshed ahmed', 'pred': 0, 'test': 1},\n",
              " 6247: {'name': '00000000000mobashar ahmed', 'pred': 0, 'test': 1},\n",
              " 6271: {'name': '000md. billal hosson meje', 'pred': 0, 'test': 1},\n",
              " 6312: {'name': 'd. moklesur rahman khadem', 'pred': 0, 'test': 1},\n",
              " 6365: {'name': '00000000000000safeul alam', 'pred': 0, 'test': 1},\n",
              " 6369: {'name': '000tanvir  jafar  ahammed', 'pred': 0, 'test': 1},\n",
              " 6403: {'name': '00000000000md.emran ahmed', 'pred': 0, 'test': 1},\n",
              " 6421: {'name': '000000000000nakib ahammed', 'pred': 0, 'test': 1},\n",
              " 6457: {'name': '0000000000md rassel ahmed', 'pred': 0, 'test': 1},\n",
              " 6471: {'name': '000000000md. mafjal ahmed', 'pred': 0, 'test': 1},\n",
              " 6599: {'name': '00000000000000niyad ahmed', 'pred': 0, 'test': 1},\n",
              " 6608: {'name': '0000000000000ponkaj ghose', 'pred': 0, 'test': 1},\n",
              " 6642: {'name': '00000000apu  kumar nandee', 'pred': 0, 'test': 1},\n",
              " 6687: {'name': '00000000000000rahem ahmed', 'pred': 0, 'test': 1},\n",
              " 6696: {'name': '000000000md. abul kashaem', 'pred': 0, 'test': 1},\n",
              " 6699: {'name': '000md. golam kuddus naeem', 'pred': 0, 'test': 1},\n",
              " 6709: {'name': '00000000000000badal ahmed', 'pred': 0, 'test': 1},\n",
              " 6775: {'name': '000000000md. simul ahmmed', 'pred': 0, 'test': 1},\n",
              " 6820: {'name': '00000mohammed tahmid alam', 'pred': 0, 'test': 1},\n",
              " 6825: {'name': '00000000000000m. abu naem', 'pred': 0, 'test': 1},\n",
              " 6905: {'name': '000000000000dulal goswame', 'pred': 0, 'test': 1},\n",
              " 6912: {'name': '000md. faysal islam nayem', 'pred': 0, 'test': 1},\n",
              " 6934: {'name': '0000000md.mokshed ahammed', 'pred': 0, 'test': 1},\n",
              " 6970: {'name': '000000000000muzahar ahmed', 'pred': 0, 'test': 1},\n",
              " 7017: {'name': '000000000md. elyas madber', 'pred': 0, 'test': 1},\n",
              " 7122: {'name': '0000md. faiaz akram nafee', 'pred': 0, 'test': 1},\n",
              " 7136: {'name': '00000lal kross thang bowm', 'pred': 0, 'test': 1},\n",
              " 7159: {'name': '00000000md. zobayed ahmed', 'pred': 0, 'test': 1},\n",
              " 7203: {'name': '0000000000000babul bauree', 'pred': 0, 'test': 1},\n",
              " 7227: {'name': '000000000000md badsha mea', 'pred': 0, 'test': 1},\n",
              " 7233: {'name': '000000000md. ismail ahmed', 'pred': 0, 'test': 1},\n",
              " 7293: {'name': '0000000000000md. shajaham', 'pred': 0, 'test': 1},\n",
              " 7335: {'name': '00000000syeed bodrul alam', 'pred': 0, 'test': 1},\n",
              " 7340: {'name': '000md. jayeed mohebbullah', 'pred': 0, 'test': 1},\n",
              " 7418: {'name': '000000000tofazzal ahammad', 'pred': 0, 'test': 1},\n",
              " 7544: {'name': '000000000000arshaful alam', 'pred': 0, 'test': 1},\n",
              " 7567: {'name': '0000000000000000ali-ahmed', 'pred': 0, 'test': 1},\n",
              " 7571: {'name': '000000000000emtiaj ahamed', 'pred': 0, 'test': 1},\n",
              " 7607: {'name': '000000000000sagar ganguly', 'pred': 0, 'test': 1},\n",
              " 7639: {'name': '00000000shah junaid ahmed', 'pred': 0, 'test': 1},\n",
              " 7643: {'name': '00000000000000azad moslem', 'pred': 0, 'test': 1},\n",
              " 7662: {'name': '0000000000000000ledu meah', 'pred': 0, 'test': 1},\n",
              " 7735: {'name': '00000000md. moorshed alam', 'pred': 0, 'test': 1},\n",
              " 7740: {'name': '0000shamsur rahman shohag', 'pred': 0, 'test': 1},\n",
              " 7766: {'name': '00000000000md.fajle rabby', 'pred': 0, 'test': 1},\n",
              " 7815: {'name': '000000muhammad noora alam', 'pred': 0, 'test': 1},\n",
              " 7817: {'name': '000000000md. obayed islam', 'pred': 0, 'test': 1},\n",
              " 7834: {'name': '000000000md. salam monshe', 'pred': 0, 'test': 1},\n",
              " 7835: {'name': '00000000000000somra tappa', 'pred': 0, 'test': 1},\n",
              " 7950: {'name': '0000000000tabiulla bapery', 'pred': 0, 'test': 1},\n",
              " 8049: {'name': '00000000md. hafez beparee', 'pred': 0, 'test': 1},\n",
              " 8076: {'name': '00md.sajibur rahman bappi', 'pred': 0, 'test': 1},\n",
              " 8122: {'name': '00000aldrin prottoy gomes', 'pred': 0, 'test': 1},\n",
              " 8136: {'name': '00000000000000riyel ahmed', 'pred': 0, 'test': 1},\n",
              " 8178: {'name': '00000a. k.m. akter ahamed', 'pred': 0, 'test': 1},\n",
              " 8224: {'name': '000000md. hasib ul elahee', 'pred': 0, 'test': 1},\n",
              " 8340: {'name': '00000000000mohammed marup', 'pred': 0, 'test': 1},\n",
              " 8344: {'name': 'sheikh mahtab uddin ahmed', 'pred': 0, 'test': 1},\n",
              " 8362: {'name': '000000000000tonmoy ahmmed', 'pred': 0, 'test': 1},\n",
              " 8369: {'name': '00000000000rased al jabed', 'pred': 0, 'test': 1},\n",
              " 8496: {'name': '000md. borhan hasan bappi', 'pred': 0, 'test': 1},\n",
              " 8552: {'name': '00000000000juglul ahammad', 'pred': 0, 'test': 1},\n",
              " 8571: {'name': '00000nastar faruque ahmed', 'pred': 0, 'test': 1},\n",
              " 8621: {'name': 'd. solayman hossain pappu', 'pred': 0, 'test': 1},\n",
              " 8722: {'name': '00sk. rhadus jaman sheyam', 'pred': 0, 'test': 1},\n",
              " 8748: {'name': '00000000000000ranak ahmed', 'pred': 0, 'test': 1},\n",
              " 8763: {'name': '0000showeyeb md. faruquee', 'pred': 0, 'test': 1},\n",
              " 8764: {'name': '00md. sabbir hosen shohag', 'pred': 0, 'test': 1},\n",
              " 8767: {'name': '00000md. abdul aziz naeem', 'pred': 0, 'test': 1},\n",
              " 8807: {'name': '00000000000000sajid allam', 'pred': 0, 'test': 1},\n",
              " 8822: {'name': '00000arnab majumder prome', 'pred': 0, 'test': 1},\n",
              " 8844: {'name': '00000000m d forkanul alam', 'pred': 0, 'test': 1},\n",
              " 8888: {'name': '000000000s.m.ezazul haque', 'pred': 0, 'test': 1},\n",
              " 8914: {'name': '000000rafiqul islam pabel', 'pred': 0, 'test': 1},\n",
              " 8987: {'name': '000000000md sazzadul alam', 'pred': 0, 'test': 1},\n",
              " 9046: {'name': '000000000md. anamul haque', 'pred': 0, 'test': 1},\n",
              " 9192: {'name': '000000000md. jamshed alam', 'pred': 0, 'test': 1},\n",
              " 9202: {'name': '000000000md. saker ahmmed', 'pred': 0, 'test': 1},\n",
              " 9323: {'name': '00000shariful islam alvee', 'pred': 0, 'test': 1},\n",
              " 9338: {'name': '00000000md. jullur rahmam', 'pred': 0, 'test': 1},\n",
              " 9369: {'name': '000000000000md sad ahmmed', 'pred': 0, 'test': 1},\n",
              " 9415: {'name': '000000000000000tanda meah', 'pred': 0, 'test': 1},\n",
              " 9559: {'name': '00000000000000zawad ahmed', 'pred': 0, 'test': 1},\n",
              " 9587: {'name': '000000000ferdous ahmammad', 'pred': 0, 'test': 1},\n",
              " 9610: {'name': '000000000md. bosir ahamed', 'pred': 0, 'test': 1},\n",
              " 9637: {'name': '000000000000diplash areng', 'pred': 0, 'test': 1},\n",
              " 9653: {'name': '000000000000000zulu ahmed', 'pred': 0, 'test': 1},\n",
              " 9659: {'name': '0000000000mohmmad eshaque', 'pred': 0, 'test': 1},\n",
              " 9694: {'name': '0000000000sibo pada ghose', 'pred': 0, 'test': 1},\n",
              " 9723: {'name': '000000late mohmmed hashem', 'pred': 0, 'test': 1},\n",
              " 9781: {'name': '000abu sahadath md. sayem', 'pred': 0, 'test': 1},\n",
              " 9824: {'name': '000000000000000md. motleb', 'pred': 0, 'test': 1},\n",
              " 9849: {'name': '0000000partha chandra deb', 'pred': 0, 'test': 1},\n",
              " 9856: {'name': '0md. daniel hossain bappy', 'pred': 0, 'test': 1},\n",
              " 9891: {'name': '000000momotaz uddin ahmed', 'pred': 0, 'test': 1},\n",
              " 9909: {'name': '00000000gazi faisal ahmed', 'pred': 0, 'test': 1},\n",
              " 9965: {'name': '0000000000000salah ahamed', 'pred': 0, 'test': 1},\n",
              " 10050: {'name': '0000000000md. titu ahmmed', 'pred': 0, 'test': 1},\n",
              " 10058: {'name': '0000000md. mijanur rahmam', 'pred': 0, 'test': 1},\n",
              " 10073: {'name': '000000000md. azaz ahammed', 'pred': 0, 'test': 1},\n",
              " 10170: {'name': '0000000000000roben ahamed', 'pred': 0, 'test': 1},\n",
              " 10180: {'name': '000000000000faruk ahommed', 'pred': 0, 'test': 1},\n",
              " 10193: {'name': '0000000000faruque ahamade', 'pred': 0, 'test': 1},\n",
              " 10204: {'name': '0000000md. alamgeer islam', 'pred': 0, 'test': 1},\n",
              " 10232: {'name': '00000000000000md. shajeeb', 'pred': 0, 'test': 1},\n",
              " 10313: {'name': 'md. minhajul haque khadem', 'pred': 0, 'test': 1},\n",
              " 10475: {'name': '0md. jannatul naeem poyel', 'pred': 0, 'test': 1},\n",
              " 10532: {'name': '00000000000zuam sang bawm', 'pred': 0, 'test': 1},\n",
              " 10608: {'name': '000000jeneth rahman pabel', 'pred': 0, 'test': 1},\n",
              " 10615: {'name': '00000000kh. sale muhammad', 'pred': 0, 'test': 1},\n",
              " 10621: {'name': '00000000apple kumar pappu', 'pred': 0, 'test': 1},\n",
              " 10655: {'name': '0000000000md. robeul alam', 'pred': 0, 'test': 1},\n",
              " 10675: {'name': '0000000000000farvaze alam', 'pred': 0, 'test': 1},\n",
              " 10686: {'name': '000000000md.billal mollah', 'pred': 0, 'test': 1},\n",
              " 10691: {'name': '0000000000000rabbul ahmed', 'pred': 0, 'test': 1},\n",
              " 10734: {'name': '0000000000000momen ahamed', 'pred': 0, 'test': 1},\n",
              " 10744: {'name': '000000shah muhammad masum', 'pred': 0, 'test': 1},\n",
              " 10829: {'name': '000000000mohadev acharjee', 'pred': 0, 'test': 1},\n",
              " 10855: {'name': '0000000000000shaykul alam', 'pred': 0, 'test': 1},\n",
              " 10863: {'name': '00000000naeem hasan sohag', 'pred': 0, 'test': 1},\n",
              " 10893: {'name': '00md. ardamokaddes shohag', 'pred': 0, 'test': 1},\n",
              " 10913: {'name': '00000000md.  abdul  kalam', 'pred': 0, 'test': 1},\n",
              " 10928: {'name': '0000000000shahadul iaslam', 'pred': 0, 'test': 1},\n",
              " 10974: {'name': '00000000000000gorge gomes', 'pred': 0, 'test': 1},\n",
              " 10981: {'name': 'anjit  chandra   acharjee', 'pred': 0, 'test': 1},\n",
              " 11009: {'name': '00000000000benjir ahammed', 'pred': 0, 'test': 1},\n",
              " 11053: {'name': '000000000000md.gorebullah', 'pred': 0, 'test': 1},\n",
              " 11059: {'name': 'kazi abu ahammed abdullah', 'pred': 0, 'test': 1},\n",
              " 11082: {'name': '0000rakto muni tanchangya', 'pred': 0, 'test': 1},\n",
              " 11090: {'name': '0md. mahabub hasan mahade', 'pred': 0, 'test': 1},\n",
              " 11273: {'name': '00000000fayaz masnun alam', 'pred': 0, 'test': 1},\n",
              " 11290: {'name': '0000000000md. fiddus alam', 'pred': 0, 'test': 1},\n",
              " 11299: {'name': '00000000md.mofazzal haque', 'pred': 0, 'test': 1},\n",
              " 11370: {'name': '00000000md. shahjalal dip', 'pred': 0, 'test': 1},\n",
              " 11395: {'name': '00md. abu bokkor siddeque', 'pred': 0, 'test': 1},\n",
              " 11420: {'name': '0000000000000sayead ahmed', 'pred': 0, 'test': 1},\n",
              " 11456: {'name': '00000000md. biajid ahmmed', 'pred': 0, 'test': 1},\n",
              " 11474: {'name': '000000000000jamshed alam.', 'pred': 0, 'test': 1},\n",
              " 11568: {'name': '00000000000abani banerjee', 'pred': 0, 'test': 1},\n",
              " 11573: {'name': '0000rakhal chandra bangal', 'pred': 0, 'test': 1},\n",
              " 11617: {'name': '00000md. mainuddin ahamed', 'pred': 0, 'test': 1},\n",
              " 11622: {'name': '0000000000md. toni ahamed', 'pred': 0, 'test': 1},\n",
              " 11626: {'name': '0md. mostafa anwarul alam', 'pred': 0, 'test': 1},\n",
              " 11709: {'name': '00000rifakat alim rashkee', 'pred': 0, 'test': 1},\n",
              " 11733: {'name': '000000000ashanonda gonesh', 'pred': 0, 'test': 1},\n",
              " 11777: {'name': '000000000abdul jolil peda', 'pred': 0, 'test': 1},\n",
              " 11787: {'name': '00000jibon moy tanchangya', 'pred': 0, 'test': 1},\n",
              " 11809: {'name': '000000tarequl islam nayem', 'pred': 0, 'test': 1},\n",
              " 11846: {'name': '00000000000000taha ahmmed', 'pred': 0, 'test': 1},\n",
              " 11888: {'name': '0000000000md. badsha meyy', 'pred': 0, 'test': 1},\n",
              " 11929: {'name': 'd. mohaiminul islam bappy', 'pred': 0, 'test': 1},\n",
              " 11960: {'name': '000000sobhash chandra deb', 'pred': 0, 'test': 1},\n",
              " 12004: {'name': '00000000000al imran ahmed', 'pred': 0, 'test': 1},\n",
              " 12007: {'name': '00000000shah alam khiljee', 'pred': 0, 'test': 1},\n",
              " 12063: {'name': '000md. kaje jahangir alam', 'pred': 0, 'test': 1},\n",
              " 12111: {'name': '000000000000shahad ahmad.', 'pred': 0, 'test': 1},\n",
              " 12114: {'name': '0000muhammad shahidulalam', 'pred': 0, 'test': 1},\n",
              " 12144: {'name': '0000000000000000md. sedam', 'pred': 0, 'test': 1},\n",
              " 12148: {'name': '00000000kamrujjaman sohag', 'pred': 0, 'test': 1},\n",
              " 12190: {'name': '00000000000000000md.sheam', 'pred': 0, 'test': 1},\n",
              " 12215: {'name': '0000000000badal kante dey', 'pred': 0, 'test': 1},\n",
              " 12249: {'name': '00000000000000aklak ahmed', 'pred': 0, 'test': 1},\n",
              " 12295: {'name': '000md. masud rana (rasel)', 'pred': 0, 'test': 1},\n",
              " 12398: {'name': '00000000md. mahabub  alam', 'pred': 0, 'test': 1},\n",
              " 12408: {'name': '000000000md. manjur alam.', 'pred': 0, 'test': 1},\n",
              " 12480: {'name': '000000000000siyam ahammed', 'pred': 0, 'test': 1},\n",
              " 12515: {'name': '00000000gazi abdul hassem', 'pred': 0, 'test': 1},\n",
              " 12535: {'name': '0000000000md. altaf ahmed', 'pred': 0, 'test': 1},\n",
              " 12558: {'name': '0000000shohel tangchangya', 'pred': 0, 'test': 1},\n",
              " 12567: {'name': '000000md. mainuddin apple', 'pred': 0, 'test': 1},\n",
              " 12568: {'name': '00000000000000000lal meya', 'pred': 0, 'test': 1},\n",
              " 12595: {'name': '000000000000md. raju beig', 'pred': 0, 'test': 1},\n",
              " 12599: {'name': '00000000late. bazal ahmed', 'pred': 0, 'test': 1},\n",
              " 12662: {'name': '0000000000mubassher ahmed', 'pred': 0, 'test': 1},\n",
              " 12667: {'name': '00000000md.mofajjel haque', 'pred': 0, 'test': 1},\n",
              " 12694: {'name': '00000000md. khalil dhalee', 'pred': 0, 'test': 1},\n",
              " 12708: {'name': '00000000000murshed ahmmed', 'pred': 0, 'test': 1},\n",
              " 12717: {'name': 'hammad abdullah al mahbub', 'pred': 0, 'test': 1},\n",
              " 12748: {'name': '00000000md. moksedul alam', 'pred': 0, 'test': 1},\n",
              " 12751: {'name': '00000000000000000md.boglu', 'pred': 0, 'test': 1},\n",
              " 12777: {'name': '0000000000md. mizu ahmmed', 'pred': 0, 'test': 1},\n",
              " 12779: {'name': '00hafej md. amdadul haque', 'pred': 0, 'test': 1},\n",
              " 12784: {'name': '00000000000md. mim shohag', 'pred': 0, 'test': 1},\n",
              " 12841: {'name': '00000000md. tofazzel pada', 'pred': 0, 'test': 1},\n",
              " 12850: {'name': '000000000000000golam azam', 'pred': 0, 'test': 1},\n",
              " 12886: {'name': '00000000000mahobubul alam', 'pred': 0, 'test': 1},\n",
              " 12894: {'name': '00000000000000palas ahmed', 'pred': 0, 'test': 1},\n",
              " 12895: {'name': '0000000000md. jovial alam', 'pred': 0, 'test': 1},\n",
              " 13067: {'name': '00asadujjaman khan shohag', 'pred': 0, 'test': 1},\n",
              " 13101: {'name': '000md. nazmul islam naeem', 'pred': 0, 'test': 1},\n",
              " 13147: {'name': '000000superson chambugong', 'pred': 0, 'test': 1},\n",
              " 13152: {'name': '000000000000bayzed ahmmed', 'pred': 0, 'test': 1},\n",
              " 13165: {'name': '00000muhammad abdul abeed', 'pred': 0, 'test': 1},\n",
              " 13177: {'name': '0000000000md.barek peyeda', 'pred': 0, 'test': 1},\n",
              " 13270: {'name': '0000000000md moynal haque', 'pred': 0, 'test': 1},\n",
              " 13274: {'name': '000000000md. zahid ahamed', 'pred': 0, 'test': 1},\n",
              " 13285: {'name': 'd. kabir  uddin  akhanjee', 'pred': 0, 'test': 1},\n",
              " 13316: {'name': '0000000000000md.  ibrahem', 'pred': 0, 'test': 1},\n",
              " 13319: {'name': '00000mohammad mahbub alam', 'pred': 0, 'test': 1},\n",
              " 13355: {'name': '0000000kasapya tanchangya', 'pred': 0, 'test': 1},\n",
              " 13359: {'name': '000000sala-ud-din ahammad', 'pred': 0, 'test': 1},\n",
              " 13387: {'name': '0000000000m. m. abu saeed', 'pred': 0, 'test': 1},\n",
              " 13389: {'name': '00000000000md.noor-e-alam', 'pred': 0, 'test': 1},\n",
              " 13392: {'name': '000000000md.hanif beparee', 'pred': 0, 'test': 1},\n",
              " 13550: {'name': '000000000kh. emran  hasem', 'pred': 0, 'test': 1},\n",
              " 13551: {'name': '00000000000000alamin seam', 'pred': 0, 'test': 1},\n",
              " 13613: {'name': '0000000mohammad ali prang', 'pred': 0, 'test': 1},\n",
              " 13630: {'name': '00000000000md. sahel amom', 'pred': 0, 'test': 1},\n",
              " 13668: {'name': '0000000000000jagir ahmmed', 'pred': 0, 'test': 1},\n",
              " 13684: {'name': '000000000syed tarek ahmed', 'pred': 0, 'test': 1},\n",
              " 13731: {'name': '000000000md. abdul-majed.', 'pred': 0, 'test': 1},\n",
              " 13775: {'name': '0000000000md. suny ahamed', 'pred': 0, 'test': 1},\n",
              " 13802: {'name': '0000000000000dulal basake', 'pred': 0, 'test': 1},\n",
              " 13815: {'name': '000000000000000md. chetam', 'pred': 0, 'test': 1},\n",
              " 13824: {'name': '0000000abdur razzak peada', 'pred': 0, 'test': 1},\n",
              " 13838: {'name': '000000000000000iven gomes', 'pred': 0, 'test': 1},\n",
              " 13890: {'name': '000000000000000000tambesh', 'pred': 0, 'test': 1},\n",
              " 13914: {'name': '0md . adnan hossain bappy', 'pred': 0, 'test': 1},\n",
              " 13924: {'name': '00000000000md. manzu meah', 'pred': 0, 'test': 1},\n",
              " 13972: {'name': '000md. abu sofiyan shohag', 'pred': 0, 'test': 1},\n",
              " 13999: {'name': '000000000shah ilyas ahmed', 'pred': 0, 'test': 1},\n",
              " 14010: {'name': '0000000000000mahtab ahmed', 'pred': 0, 'test': 1},\n",
              " 14030: {'name': '0000000syed arshad waheed', 'pred': 0, 'test': 1},\n",
              " 14068: {'name': '00000000000000seyam ahmed', 'pred': 0, 'test': 1},\n",
              " 14070: {'name': '0000000000md.tanjil ahmed', 'pred': 0, 'test': 1},\n",
              " 14138: {'name': '000md. fahim murshed jeem', 'pred': 0, 'test': 1},\n",
              " 14143: {'name': 'bu shaleh mohammad nayeem', 'pred': 0, 'test': 1},\n",
              " 14202: {'name': '000000000000sopon acarjee', 'pred': 0, 'test': 1},\n",
              " 14236: {'name': '0md. imran hossain shohag', 'pred': 0, 'test': 1},\n",
              " 14286: {'name': '0000000000md. junaid alam', 'pred': 0, 'test': 1},\n",
              " 14308: {'name': '0000000000sachin acharjee', 'pred': 0, 'test': 1},\n",
              " 14310: {'name': '000000md. abdur razzaaque', 'pred': 0, 'test': 1},\n",
              " 14351: {'name': '0000mohammad. abdus salam', 'pred': 0, 'test': 1},\n",
              " 14353: {'name': '000000000000sawan ahammed', 'pred': 0, 'test': 1},\n",
              " 14388: {'name': '00000md. soyed golam babu', 'pred': 0, 'test': 1},\n",
              " 14405: {'name': '0000000000000sabid ahamed', 'pred': 0, 'test': 1},\n",
              " 14413: {'name': '00a. b. m  abdul  motaleb', 'pred': 0, 'test': 1},\n",
              " 14441: {'name': '0000000000md. sayem ahmed', 'pred': 0, 'test': 1},\n",
              " 14522: {'name': 'd. abu bokar siddiq nayem', 'pred': 0, 'test': 1},\n",
              " 14549: {'name': '000000000000000sayem alam', 'pred': 0, 'test': 1},\n",
              " 14597: {'name': '00000000000alak mukherjee', 'pred': 0, 'test': 1},\n",
              " 14612: {'name': '0000000000md. roton prang', 'pred': 0, 'test': 1},\n",
              " 14650: {'name': '00000000md. afazul islam.', 'pred': 0, 'test': 1},\n",
              " 14771: {'name': '00000000md. shoyayeb alom', 'pred': 0, 'test': 1},\n",
              " 14780: {'name': '00000000000khokan ahammad', 'pred': 0, 'test': 1},\n",
              " 14786: {'name': '00000md. nurujjaman jiyem', 'pred': 0, 'test': 1},\n",
              " 14792: {'name': '00md. rakibul hasan aslam', 'pred': 0, 'test': 1},\n",
              " 14847: {'name': '00000000kiron chandra deb', 'pred': 0, 'test': 1},\n",
              " 14867: {'name': '00000000nipendra goswamee', 'pred': 0, 'test': 1},\n",
              " 14883: {'name': '0000000000000shoyeb ahmed', 'pred': 0, 'test': 1},\n",
              " 14886: {'name': '0000dewan md mahabub emam', 'pred': 0, 'test': 1},\n",
              " 14937: {'name': '000000000md jannatul alam', 'pred': 0, 'test': 1},\n",
              " 14985: {'name': '00uttam  kumar  mukharjee', 'pred': 0, 'test': 1},\n",
              " 15049: {'name': '000md. abdullah hel haque', 'pred': 0, 'test': 1},\n",
              " 15059: {'name': '00000000md. abu sayed apu', 'pred': 0, 'test': 1},\n",
              " 15110: {'name': 'abu-muhammad sami-ul-alum', 'pred': 0, 'test': 1},\n",
              " 15134: {'name': '0000000000000aladul islam', 'pred': 0, 'test': 1},\n",
              " 15152: {'name': '0000000000md. ahadul alam', 'pred': 0, 'test': 1},\n",
              " 15200: {'name': '0000000000dino bandhu deb', 'pred': 0, 'test': 1},\n",
              " 15218: {'name': '00000000bibakanand panday', 'pred': 0, 'test': 1},\n",
              " 15233: {'name': '00000000dr. owali ahammed', 'pred': 0, 'test': 1},\n",
              " 15267: {'name': '0000md. asik hassan bappy', 'pred': 0, 'test': 1},\n",
              " 15445: {'name': '00000000ratan chandra deb', 'pred': 0, 'test': 1},\n",
              " 15458: {'name': '000000000md. shoeful alam', 'pred': 0, 'test': 1},\n",
              " 15492: {'name': '00000000000000loman ahmed', 'pred': 0, 'test': 1},\n",
              " 15513: {'name': '000000000md. azadul hauqe', 'pred': 0, 'test': 1},\n",
              " 15519: {'name': '00000nowa moni tanchangya', 'pred': 0, 'test': 1},\n",
              " 15528: {'name': '00000000debashis acharjee', 'pred': 0, 'test': 1},\n",
              " 15537: {'name': '000000000md. obaidul haqe', 'pred': 0, 'test': 1},\n",
              " 15597: {'name': '00000mohammed momtaz meah', 'pred': 0, 'test': 1},\n",
              " 15615: {'name': '00000md. abu taher ahamed', 'pred': 0, 'test': 1},\n",
              " 15627: {'name': '0000000000000nadiya begum', 'pred': 0, 'test': 1},\n",
              " 15629: {'name': '00000000000000m. a. halem', 'pred': 0, 'test': 1},\n",
              " 15682: {'name': '00000000000zuhayer nayeem', 'pred': 0, 'test': 1},\n",
              " 15782: {'name': '00000000susan chandra gup', 'pred': 0, 'test': 1},\n",
              " 15786: {'name': '0000000000000tammim ahmed', 'pred': 0, 'test': 1},\n",
              " 15897: {'name': '0000000000000md. jelhaque', 'pred': 0, 'test': 1},\n",
              " 15982: {'name': '0000mohammad nazmul haque', 'pred': 0, 'test': 1},\n",
              " 16027: {'name': '000000000000feroj ahammed', 'pred': 0, 'test': 1},\n",
              " 16069: {'name': '0000000000md. ahmmedullah', 'pred': 0, 'test': 1},\n",
              " 16108: {'name': '00000md.aktaruzzaman meem', 'pred': 0, 'test': 1},\n",
              " 16113: {'name': '000000000md. ajim ahammed', 'pred': 0, 'test': 1},\n",
              " 16128: {'name': '0000000000inmanuel sangma', 'pred': 0, 'test': 1},\n",
              " 16146: {'name': '00000prosonno chandra deb', 'pred': 0, 'test': 1},\n",
              " 16190: {'name': '0000000000md. jabbur alam', 'pred': 0, 'test': 1},\n",
              " 16234: {'name': '000000rakhesh chandra deb', 'pred': 0, 'test': 1},\n",
              " 16254: {'name': '00000000000md.abdur salam', 'pred': 0, 'test': 1},\n",
              " 16280: {'name': '000000000000radowen ahmed', 'pred': 0, 'test': 1},\n",
              " 16358: {'name': '0000maksudur hasan shohag', 'pred': 0, 'test': 1},\n",
              " 16417: {'name': '0000md. mejbahuddin sohag', 'pred': 0, 'test': 1},\n",
              " 16424: {'name': '.m. taohidul islam tameem', 'pred': 0, 'test': 1},\n",
              " 16469: {'name': '000000000000eleas ahammad', 'pred': 0, 'test': 1},\n",
              " 16501: {'name': '0nur-a-alam siddeke bappe', 'pred': 0, 'test': 1},\n",
              " 16571: {'name': '00000000000md. mogle azam', 'pred': 0, 'test': 1},\n",
              " 16577: {'name': '0000md. asadusjaman nayem', 'pred': 0, 'test': 1},\n",
              " 16582: {'name': '0000000000000.feroj ahmed', 'pred': 0, 'test': 1},\n",
              " 16594: {'name': '00000000000sk.abdus salam', 'pred': 0, 'test': 1},\n",
              " 16656: {'name': '000000000md. abdul raggak', 'pred': 0, 'test': 1},\n",
              " 16693: {'name': '000000000surja mia sareng', 'pred': 0, 'test': 1},\n",
              " 16720: {'name': '0000md rakib hossen bappy', 'pred': 0, 'test': 1},\n",
              " 16786: {'name': '00000000md. amirul islamg', 'pred': 0, 'test': 1},\n",
              " 16941: {'name': '00000md. a. mannan garame', 'pred': 0, 'test': 1},\n",
              " 16947: {'name': '00000000000000faisal alam', 'pred': 0, 'test': 1},\n",
              " 16992: {'name': '000000000000md.alek islam', 'pred': 0, 'test': 1},\n",
              " 17072: {'name': '000000000md. moklec phapa', 'pred': 0, 'test': 1},\n",
              " 17119: {'name': '000000000000dawakham bawm', 'pred': 0, 'test': 1},\n",
              " 17143: {'name': '000khandakar shamim ahmed', 'pred': 0, 'test': 1},\n",
              " 17146: {'name': '0000tapash kumar dewanjee', 'pred': 0, 'test': 1},\n",
              " 17165: {'name': '00000md. nuruzzamn miajee', 'pred': 0, 'test': 1},\n",
              " 17224: {'name': '000000000md nazer (babul)', 'pred': 0, 'test': 1},\n",
              " 17234: {'name': '000000000000kouser ahmmed', 'pred': 0, 'test': 1},\n",
              " 17236: {'name': '000000000000sikandar meah', 'pred': 0, 'test': 1},\n",
              " 17297: {'name': '0000000000000fazal mondle', 'pred': 0, 'test': 1},\n",
              " 17372: {'name': '0000000000000soyaib ahmed', 'pred': 0, 'test': 1},\n",
              " 17379: {'name': '000000poranjoy tanchangya', 'pred': 0, 'test': 1},\n",
              " 17471: {'name': '. istiaq ahmmed abu taleb', 'pred': 0, 'test': 1},\n",
              " 17497: {'name': '000000000md. sehab ahamed', 'pred': 0, 'test': 1},\n",
              " 17578: {'name': '00000000sheikh abul hatem', 'pred': 0, 'test': 1},\n",
              " 17582: {'name': '0000000000000numan  ahmed', 'pred': 0, 'test': 1},\n",
              " 17588: {'name': '00000000md. shahil ahmmed', 'pred': 0, 'test': 1},\n",
              " 17609: {'name': '0000000000000bonomaly deb', 'pred': 0, 'test': 1},\n",
              " 17639: {'name': '0000000jahangir alam meah', 'pred': 0, 'test': 1},\n",
              " 17649: {'name': '0000000shusmoy chatterjee', 'pred': 0, 'test': 1},\n",
              " 17654: {'name': '00000000md. tanvir ahmmed', 'pred': 0, 'test': 1},\n",
              " 17690: {'name': '00s.m. mahbub uddin ahmed', 'pred': 0, 'test': 1},\n",
              " 17832: {'name': '000000000000mohammed adel', 'pred': 0, 'test': 1},\n",
              " 17879: {'name': '0000000md. ala box bepary', 'pred': 0, 'test': 1},\n",
              " 17882: {'name': '00000000md. shoyeb ahamed', 'pred': 0, 'test': 1},\n",
              " 17896: {'name': '000000mohammad hasem meah', 'pred': 0, 'test': 1},\n",
              " 17983: {'name': '000000000000000000sejaree', 'pred': 0, 'test': 1},\n",
              " 18008: {'name': '0000md. bodrul alom bappy', 'pred': 0, 'test': 1},\n",
              " 18095: {'name': '00000md. jalal uddin rume', 'pred': 0, 'test': 1},\n",
              " 18187: {'name': '000000000md.maruf ahammed', 'pred': 0, 'test': 1},\n",
              " 18247: {'name': '000000000tofajjal ahammad', 'pred': 0, 'test': 1},\n",
              " 18361: {'name': '0md. shajadul islam sayem', 'pred': 0, 'test': 1},\n",
              " 18418: {'name': '000000000abdur rab bayate', 'pred': 0, 'test': 1},\n",
              " 18429: {'name': '00000000000md. emad ahmed', 'pred': 0, 'test': 1},\n",
              " 18485: {'name': '0000mobarok sohel ahammed', 'pred': 0, 'test': 1},\n",
              " 18647: {'name': '00000000000000000md saeym', 'pred': 0, 'test': 1},\n",
              " 18668: {'name': '000000000000nazmul  ahmed', 'pred': 0, 'test': 1},\n",
              " 18678: {'name': '0000000md. redoyan ahamed', 'pred': 0, 'test': 1},\n",
              " 18729: {'name': '000000000md. moslem ahmed', 'pred': 0, 'test': 1},\n",
              " 18743: {'name': '0000000000md. faysel alam', 'pred': 0, 'test': 1},\n",
              " 18746: {'name': '000000000000000asma begum', 'pred': 0, 'test': 1},\n",
              " 18801: {'name': '0000000000000priyalal dey', 'pred': 0, 'test': 1},\n",
              " 18928: {'name': '0md.khondoker abdul haque', 'pred': 0, 'test': 1},\n",
              " 19008: {'name': '000000000000arfan ahammed', 'pred': 0, 'test': 1},\n",
              " 19020: {'name': '000000000badal tanchangya', 'pred': 0, 'test': 1},\n",
              " 19066: {'name': '00000000000tokhir ahammed', 'pred': 0, 'test': 1},\n",
              " 19091: {'name': '00000000nurul islam peada', 'pred': 0, 'test': 1},\n",
              " 19118: {'name': '000000000sohel rana bappi', 'pred': 0, 'test': 1},\n",
              " 19180: {'name': '00000000000kamrul ahammed', 'pred': 0, 'test': 1},\n",
              " 19215: {'name': '000000md. molla nure alam', 'pred': 0, 'test': 1},\n",
              " 19272: {'name': '0000000000000dulal pandey', 'pred': 0, 'test': 1},\n",
              " 19295: {'name': '000000shahazuddin ahammed', 'pred': 0, 'test': 1},\n",
              " 19325: {'name': '0000000000000suball drong', 'pred': 0, 'test': 1},\n",
              " 19469: {'name': '000000000kazi rabiul alam', 'pred': 0, 'test': 1},\n",
              " 19470: {'name': '000khondokar shakil ahmed', 'pred': 0, 'test': 1},\n",
              " 19486: {'name': '  sajjadul  islam  sajeed', 'pred': 0, 'test': 1},\n",
              " 19527: {'name': '00000000md. alal uddin pm', 'pred': 0, 'test': 1},\n",
              " 19542: {'name': '00000000000000abul kasiem', 'pred': 0, 'test': 1},\n",
              " 19545: {'name': '000000000md.jubayed haque', 'pred': 0, 'test': 1},\n",
              " 19548: {'name': '000000000sontous acharjee', 'pred': 0, 'test': 1},\n",
              " 19580: {'name': '00000miton kumar acharjee', 'pred': 0, 'test': 1},\n",
              " 19632: {'name': '0000000000sahalaang marma', 'pred': 0, 'test': 1},\n",
              " 19810: {'name': '000000probath chandra deb', 'pred': 0, 'test': 1},\n",
              " 19875: {'name': '00000000000000shawpan deb', 'pred': 0, 'test': 1},\n",
              " 19884: {'name': '0000000000mayeen mostavee', 'pred': 0, 'test': 1},\n",
              " 19939: {'name': '000000k. m. ashraful alam', 'pred': 0, 'test': 1},\n",
              " 19943: {'name': '00000000md. forhad bapare', 'pred': 0, 'test': 1},\n",
              " 19976: {'name': '0000000000a.khalek madber', 'pred': 0, 'test': 1},\n",
              " 19993: {'name': '0000000md. kawshar ahamed', 'pred': 0, 'test': 1},\n",
              " 20008: {'name': '0000000md mostofa akunjee', 'pred': 0, 'test': 1},\n",
              " 20055: {'name': '0000000000000masum bapare', 'pred': 0, 'test': 1},\n",
              " 20094: {'name': '000000000000md jaky ahmed', 'pred': 0, 'test': 1},\n",
              " 20111: {'name': '. mahbubul alam siddiquee', 'pred': 0, 'test': 1},\n",
              " 20122: {'name': '00000000de. md. nure alam', 'pred': 0, 'test': 1},\n",
              " 20131: {'name': '000000000000istyaq ahmmed', 'pred': 0, 'test': 1},\n",
              " 20155: {'name': '000000000ratan kumer gope', 'pred': 0, 'test': 1},\n",
              " 20181: {'name': '00000mufidul islam saddam', 'pred': 0, 'test': 1},\n",
              " 20198: {'name': '00000000000mawdud ahammad', 'pred': 0, 'test': 1},\n",
              " 20228: {'name': '00000000proshad mukharjee', 'pred': 0, 'test': 1},\n",
              " 20242: {'name': '00000md. naziruddin ahmed', 'pred': 0, 'test': 1},\n",
              " 20270: {'name': '000000000000ronzo ahammed', 'pred': 0, 'test': 1},\n",
              " 20281: {'name': '0000000fardin hasan rafee', 'pred': 0, 'test': 1},\n",
              " 20286: {'name': '000000000late abul qashem', 'pred': 0, 'test': 1},\n",
              " 20287: {'name': '000000000000suzon  ahamed', 'pred': 0, 'test': 1},\n",
              " 20295: {'name': '0000000000md.khursad alam', 'pred': 0, 'test': 1},\n",
              " 20349: {'name': '0md. tuzamul haque nayeem', 'pred': 0, 'test': 1},\n",
              " 20369: {'name': '0000000000md. shabul alam', 'pred': 0, 'test': 1},\n",
              " 20437: {'name': '0000000md. sahabul islam.', 'pred': 0, 'test': 1},\n",
              " 20507: {'name': '00000000md. akmadul haque', 'pred': 0, 'test': 1},\n",
              " 20541: {'name': '0000000000000javed ahamad', 'pred': 0, 'test': 1},\n",
              " 20546: {'name': '00000000000000abir mahade', 'pred': 0, 'test': 1},\n",
              " 20605: {'name': '0000000000md:faruque peda', 'pred': 0, 'test': 1},\n",
              " 20636: {'name': '0000000000000md. abudllah', 'pred': 0, 'test': 1},\n",
              " 20655: {'name': '0000000000langeaong mrong', 'pred': 0, 'test': 1},\n",
              " 20659: {'name': 'd.  jubayer  ahmed  naiem', 'pred': 0, 'test': 1},\n",
              " 20684: {'name': '000000000000jesen pathang', 'pred': 0, 'test': 1},\n",
              " 20741: {'name': '000000000000farid ahammed', 'pred': 0, 'test': 1},\n",
              " 20766: {'name': '000muhammad rashedul alam', 'pred': 0, 'test': 1},\n",
              " 20846: {'name': '0000000bikash chandra deb', 'pred': 0, 'test': 1},\n",
              " 20861: {'name': '00000000000sulatan ahmmed', 'pred': 0, 'test': 1},\n",
              " 20882: {'name': '0000000kamal joseph gomes', 'pred': 0, 'test': 1},\n",
              " 20888: {'name': '0000000000md  ohidul alam', 'pred': 0, 'test': 1},\n",
              " 20934: {'name': '000000bikash nondon ghose', 'pred': 0, 'test': 1},\n",
              " 20973: {'name': '0000000000bawi thang bawm', 'pred': 0, 'test': 1},\n",
              " 21051: {'name': '00000000000000mahbob alam', 'pred': 0, 'test': 1},\n",
              " 21084: {'name': '0000000000000royhan ahmed', 'pred': 0, 'test': 1},\n",
              " 21103: {'name': '00000000md. rashed ahmmad', 'pred': 0, 'test': 1},\n",
              " 21151: {'name': '000000000md jaan muhammed', 'pred': 0, 'test': 1},\n",
              " 21184: {'name': '0000000000jyaotirmaya nag', 'pred': 0, 'test': 1},\n",
              " 21234: {'name': '000000khurshed alam shoeb', 'pred': 0, 'test': 1},\n",
              " 21297: {'name': '0000000000000000abu-saeed', 'pred': 0, 'test': 1},\n",
              " 21314: {'name': '0000000000md. jinnah alam', 'pred': 0, 'test': 1},\n",
              " 21325: {'name': '0000000000md. sulal ahmed', 'pred': 0, 'test': 1},\n",
              " 21330: {'name': '000000000md sakil ahammad', 'pred': 0, 'test': 1},\n",
              " 21345: {'name': '000000000md. foyej ahmmed', 'pred': 0, 'test': 1},\n",
              " 21394: {'name': 'a.k.m. jashim uddin ahmed', 'pred': 0, 'test': 1},\n",
              " 21433: {'name': '000000000000abdul shamade', 'pred': 0, 'test': 1},\n",
              " 21478: {'name': '0000000000000emon pohsnem', 'pred': 0, 'test': 1},\n",
              " 21511: {'name': '00000deen muhammad seleem', 'pred': 0, 'test': 1},\n",
              " 21525: {'name': '0000000000000000a.  salam', 'pred': 0, 'test': 1},\n",
              " 21589: {'name': '00000000000jalseng ghagra', 'pred': 0, 'test': 1},\n",
              " 21633: {'name': '000000000sheikh abu saeed', 'pred': 0, 'test': 1},\n",
              " 21634: {'name': '00000000000sumit banerjee', 'pred': 0, 'test': 1},\n",
              " 21781: {'name': '00000jahangir alam salime', 'pred': 0, 'test': 1},\n",
              " 21839: {'name': '000000azizul haque palash', 'pred': 0, 'test': 1},\n",
              " 21849: {'name': '00000000syed jumman ahmed', 'pred': 0, 'test': 1},\n",
              " 21912: {'name': '0000000000000koben sangma', 'pred': 0, 'test': 1},\n",
              " 21972: {'name': '0000000md. mesbabul haque', 'pred': 0, 'test': 1},\n",
              " 21977: {'name': '0000000000000fayeg ahamed', 'pred': 0, 'test': 1},\n",
              " 22029: {'name': '00000000000md. ranju alam', 'pred': 0, 'test': 1},\n",
              " 22030: {'name': '000shofique uddin ahammed', 'pred': 0, 'test': 1},\n",
              " 22031: {'name': '0000000bhuban chandra dey', 'pred': 0, 'test': 1},\n",
              " 22060: {'name': '00000000000mohammad shage', 'pred': 0, 'test': 1},\n",
              " 22065: {'name': '0000000md. mizammel haque', 'pred': 0, 'test': 1},\n",
              " 22067: {'name': '000000000md. sameul haque', 'pred': 0, 'test': 1},\n",
              " 22081: {'name': '00000000md. sami-ul- alam', 'pred': 0, 'test': 1},\n",
              " 22109: {'name': '000000goutam chandra gope', 'pred': 0, 'test': 1},\n",
              " 22238: {'name': '0000000000000shanta ahmed', 'pred': 0, 'test': 1},\n",
              " 22246: {'name': '00000md. abu shoaeb ahmed', 'pred': 0, 'test': 1},\n",
              " 22250: {'name': '000000000000redwan  ahmed', 'pred': 0, 'test': 1},\n",
              " 22255: {'name': '000000000000lotas ahammed', 'pred': 0, 'test': 1},\n",
              " 22348: {'name': '000000000md jubaed ahmmed', 'pred': 0, 'test': 1},\n",
              " 22444: {'name': '000000000000md. mamun beg', 'pred': 0, 'test': 1},\n",
              " 22447: {'name': '0000000000000lal mohummed', 'pred': 0, 'test': 1},\n",
              " 22460: {'name': '000000000000000md. pallab', 'pred': 0, 'test': 1},\n",
              " 22573: {'name': '00000000md. sayon ahammed', 'pred': 0, 'test': 1},\n",
              " 22639: {'name': '00000000md. sultan dorjee', 'pred': 0, 'test': 1},\n",
              " 22694: {'name': '0000000000tofayel ahommed', 'pred': 0, 'test': 1},\n",
              " 22721: {'name': '00000000000000rana ahmmed', 'pred': 0, 'test': 1},\n",
              " 22785: {'name': '000000000000yousuf gorame', 'pred': 0, 'test': 1},\n",
              " 22798: {'name': '0000kazimoor rahman kafee', 'pred': 0, 'test': 1},\n",
              " 22824: {'name': '0000000000000000bablu deb', 'pred': 0, 'test': 1},\n",
              " 22855: {'name': '000000000rana chandra deb', 'pred': 0, 'test': 1},\n",
              " 22876: {'name': '0000000000md. abdul kauym', 'pred': 0, 'test': 1},\n",
              " 22941: {'name': '000ahteshamul haque mejba', 'pred': 0, 'test': 1},\n",
              " 22958: {'name': '0000000000md. moksud alam', 'pred': 0, 'test': 1},\n",
              " 23017: {'name': '00000000000000md.apu alam', 'pred': 0, 'test': 1},\n",
              " 23077: {'name': '000000000000000manu tappo', 'pred': 0, 'test': 1},\n",
              " 23094: {'name': '0000000000000000kamal dey', 'pred': 0, 'test': 1},\n",
              " 23143: {'name': '0000000000000rajib ahmmed', 'pred': 0, 'test': 1},\n",
              " 23357: {'name': '000md. saiful islam sayem', 'pred': 0, 'test': 1},\n",
              " 23359: {'name': '00md. nadim mahmud sajeeb', 'pred': 0, 'test': 1},\n",
              " 23423: {'name': '000000ananta bhatacharjee', 'pred': 0, 'test': 1},\n",
              " 23424: {'name': '000000000swapan kumer deb', 'pred': 0, 'test': 1},\n",
              " 23428: {'name': '0000000sk. toufique ahmed', 'pred': 0, 'test': 1},\n",
              " 23487: {'name': '0000000000000hamandra gup', 'pred': 0, 'test': 1},\n",
              " 23599: {'name': '0000md. jamal uddin peada', 'pred': 0, 'test': 1},\n",
              " 23613: {'name': '00syed ashraf uddin ahmed', 'pred': 0, 'test': 1},\n",
              " 23633: {'name': '000000000000joynuddin bag', 'pred': 0, 'test': 1},\n",
              " 23654: {'name': '000000000md. masud ahamed', 'pred': 0, 'test': 1},\n",
              " 23704: {'name': '000000000rezaul islam apu', 'pred': 0, 'test': 1},\n",
              " 23714: {'name': '0md. jihadul haque thayeb', 'pred': 0, 'test': 1},\n",
              " 23719: {'name': '0000000000m. bahadur alam', 'pred': 0, 'test': 1},\n",
              " 23720: {'name': '000000000md. abdul maleqe', 'pred': 0, 'test': 1},\n",
              " 23751: {'name': '0000md. golam fajla rabby', 'pred': 0, 'test': 1},\n",
              " 23765: {'name': '00000000komol kumar ghose', 'pred': 0, 'test': 1},\n",
              " 23872: {'name': '0000000000000000nijam beg', 'pred': 0, 'test': 1},\n",
              " 23975: {'name': '000000000000masudul kalam', 'pred': 0, 'test': 1},\n",
              " 24108: {'name': '00000000sk. md. shah alam', 'pred': 0, 'test': 1},\n",
              " 24139: {'name': '0000000000000wasim nayeem', 'pred': 0, 'test': 1},\n",
              " 24168: {'name': '00khandhaker shamsul alam', 'pred': 0, 'test': 1},\n",
              " 24209: {'name': '000000000000uzzal goswame', 'pred': 0, 'test': 1},\n",
              " 24226: {'name': '00000monsurul hoque suhag', 'pred': 0, 'test': 1},\n",
              " 24256: {'name': '00000md. sumon khan bappy', 'pred': 0, 'test': 1},\n",
              " 24376: {'name': '00000000ebrahim al kashem', 'pred': 0, 'test': 1},\n",
              " 24397: {'name': '0000000000md mokbul ahmed', 'pred': 0, 'test': 1},\n",
              " 24435: {'name': '00000000muhammad lil meah', 'pred': 0, 'test': 1},\n",
              " 24525: {'name': '00000000ridoy hasan naeem', 'pred': 0, 'test': 1},\n",
              " 24582: {'name': '000000000000000kamalahmed', 'pred': 0, 'test': 1},\n",
              " 24688: {'name': '0000000000md.motin munsee', 'pred': 0, 'test': 1},\n",
              " 24862: {'name': '0000md. abu tayab ahammed', 'pred': 0, 'test': 1},\n",
              " 24878: {'name': '000000000000souvik ahamed', 'pred': 0, 'test': 1},\n",
              " 24899: {'name': '00md. sazzad hossen sayam', 'pred': 0, 'test': 1},\n",
              " 24923: {'name': '000000000ali ahmed madber', 'pred': 0, 'test': 1},\n",
              " 24965: {'name': '00000000000000zaber ahmed', 'pred': 0, 'test': 1},\n",
              " 25004: {'name': '000md. naimul islam parag', 'pred': 0, 'test': 1},\n",
              " 25019: {'name': 'abdullah al mohammad naem', 'pred': 0, 'test': 1},\n",
              " 25040: {'name': '0000000ferdous alam naeem', 'pred': 0, 'test': 1},\n",
              " 25068: {'name': '000000000000sayeed ahamad', 'pred': 0, 'test': 1},\n",
              " 25147: {'name': '00000000000000adnane same', 'pred': 0, 'test': 1},\n",
              " 25152: {'name': '000md nayemul islam nayem', 'pred': 0, 'test': 1},\n",
              " 25254: {'name': '00000000md. touqir ahmmed', 'pred': 0, 'test': 1},\n",
              " 25314: {'name': '000000000md. fatin anjume', 'pred': 0, 'test': 1},\n",
              " 25405: {'name': '00000000000md. ibna salam', 'pred': 0, 'test': 1},\n",
              " 25438: {'name': '00000000rusan tanchangyah', 'pred': 0, 'test': 1},\n",
              " 25518: {'name': '000000000000imran munshee', 'pred': 0, 'test': 1},\n",
              " 25531: {'name': '000000000md.menadul islam', 'pred': 0, 'test': 1},\n",
              " 25620: {'name': '0000000000000sajib pandey', 'pred': 0, 'test': 1},\n",
              " 25627: {'name': '00000mahammad ohidul alam', 'pred': 0, 'test': 1},\n",
              " 25649: {'name': '000000000000000md. sojeeb', 'pred': 0, 'test': 1},\n",
              " 25729: {'name': '000000000000000s.m. salam', 'pred': 0, 'test': 1},\n",
              " 25737: {'name': '000000000md. zunaed islam', 'pred': 0, 'test': 1},\n",
              " 25796: {'name': '0000000000md. feroze alam', 'pred': 0, 'test': 1},\n",
              " 25887: {'name': '000000000000000sajeeb dey', 'pred': 0, 'test': 1},\n",
              " 25890: {'name': '0000000000kh. reaid ahmed', 'pred': 0, 'test': 1},\n",
              " 25902: {'name': '000000000hazi abul hashem', 'pred': 0, 'test': 1},\n",
              " 26011: {'name': '0000md.mahedi hasan porag', 'pred': 0, 'test': 1},\n",
              " 26025: {'name': '0000000000swapan acharjee', 'pred': 0, 'test': 1},\n",
              " 26058: {'name': '0000000a.k.m.enamul haque', 'pred': 0, 'test': 1},\n",
              " 26095: {'name': '00000000md. farhanul alam', 'pred': 0, 'test': 1},\n",
              " 26107: {'name': 'rhan uddin ahmed faruquee', 'pred': 0, 'test': 1},\n",
              " 26117: {'name': '000000000000tuallian bawm', 'pred': 0, 'test': 1},\n",
              " 26121: {'name': '0000000fakrul hasan bappi', 'pred': 0, 'test': 1},\n",
              " 26147: {'name': '000000000000elias ahammad', 'pred': 0, 'test': 1},\n",
              " 26263: {'name': '0000000md. faymadin ahmed', 'pred': 0, 'test': 1},\n",
              " 26266: {'name': '00000000s m musfq ahommed', 'pred': 0, 'test': 1},\n",
              " 26301: {'name': '00000000000md.sumsul alam', 'pred': 0, 'test': 1},\n",
              " 26375: {'name': '00md. mehedi hasan  rafee', 'pred': 0, 'test': 1},\n",
              " 26503: {'name': '00000000000000000md. asem', 'pred': 0, 'test': 1},\n",
              " 26538: {'name': '000000a. k. m badrul alam', 'pred': 0, 'test': 1},\n",
              " 26609: {'name': '0000md. masud rana naiyem', 'pred': 0, 'test': 1},\n",
              " 26614: {'name': '00000000abdul kadir bappy', 'pred': 0, 'test': 1},\n",
              " 26630: {'name': '0md. abdur razzak sayedee', 'pred': 0, 'test': 1},\n",
              " 26639: {'name': '000000000000md. babu alam', 'pred': 0, 'test': 1},\n",
              " 26649: {'name': '0000000000md.abdulmaleque', 'pred': 0, 'test': 1},\n",
              " 26756: {'name': '00000000000bashir ahammed', 'pred': 0, 'test': 1},\n",
              " 26770: {'name': '0md. ibrahim khalil pabel', 'pred': 0, 'test': 1},\n",
              " 26777: {'name': '0000md. bakibillah ahmmed', 'pred': 0, 'test': 1},\n",
              " 26783: {'name': '0000000000000roulrem bawm', 'pred': 0, 'test': 1},\n",
              " 26813: {'name': '00000000000md. nowab meah', 'pred': 0, 'test': 1},\n",
              " 26972: {'name': '0000000000000000ad. salam', 'pred': 0, 'test': 1},\n",
              " 27022: {'name': '0000000000000labib sayeed', 'pred': 0, 'test': 1},\n",
              " 27033: {'name': 'd. shohidul islam howlade', 'pred': 0, 'test': 1},\n",
              " 27080: {'name': '000md. asiful islam pabel', 'pred': 0, 'test': 1},\n",
              " 27139: {'name': '0000000000000masudurzamam', 'pred': 0, 'test': 1},\n",
              " 27141: {'name': '0000000000md. awlad ahmed', 'pred': 0, 'test': 1},\n",
              " 27202: {'name': '000000000mathew raj gomes', 'pred': 0, 'test': 1},\n",
              " 27216: {'name': '000000000md. nuru-mohammd', 'pred': 0, 'test': 1},\n",
              " 27252: {'name': '000000000md. abdul khalam', 'pred': 0, 'test': 1},\n",
              " 27265: {'name': 'morhom moyeen udden ahmed', 'pred': 0, 'test': 1},\n",
              " 27312: {'name': '00000000md. zunayeed labu', 'pred': 0, 'test': 1},\n",
              " 27336: {'name': '0000000000000alfajul alam', 'pred': 0, 'test': 1},\n",
              " 27338: {'name': '00000000masud rana parvag', 'pred': 0, 'test': 1},\n",
              " 27430: {'name': '00000000000md lokman tang', 'pred': 0, 'test': 1},\n",
              " 27468: {'name': '00000md. shahojahan hang.', 'pred': 0, 'test': 1},\n",
              " 27505: {'name': '00000000akash chandra gup', 'pred': 0, 'test': 1},\n",
              " 27522: {'name': '00000000000000sim do bawm', 'pred': 0, 'test': 1},\n",
              " 27544: {'name': '000000000000md. zia ahmed', 'pred': 0, 'test': 1},\n",
              " 27568: {'name': '00000000000000md.maheaiam', 'pred': 0, 'test': 1},\n",
              " 27578: {'name': '000000000md panir munshee', 'pred': 0, 'test': 1},\n",
              " 27610: {'name': '000000000mostakin ahammed', 'pred': 0, 'test': 1},\n",
              " 27635: {'name': '0000000000000pranto goshe', 'pred': 0, 'test': 1},\n",
              " 27660: {'name': '000000000000hossen ahmmed', 'pred': 0, 'test': 1},\n",
              " 27782: {'name': '000000sayed sultan ahamed', 'pred': 0, 'test': 1},\n",
              " 27783: {'name': '00000000000solaimon ahmed', 'pred': 0, 'test': 1},\n",
              " 27784: {'name': '0000md esahak ahmed rabby', 'pred': 0, 'test': 1},\n",
              " 27815: {'name': '0000000000000rezaul ahmed', 'pred': 0, 'test': 1},\n",
              " 27866: {'name': '0000000000000000s.m.sagar', 'pred': 0, 'test': 1},\n",
              " 27957: {'name': '00000000md. bosir ahammed', 'pred': 0, 'test': 1},\n",
              " 27979: {'name': '000000000mrinmoy dewanjee', 'pred': 0, 'test': 1},\n",
              " 27993: {'name': '00000000safiuddin ahammed', 'pred': 0, 'test': 1},\n",
              " 28080: {'name': '000md. yousuf alam sajeeb', 'pred': 0, 'test': 1},\n",
              " 28087: {'name': '000md. mehedi hasan sohag', 'pred': 0, 'test': 1},\n",
              " 28163: {'name': '0000000000000gendu bepery', 'pred': 0, 'test': 1},\n",
              " 28207: {'name': '00000000farhan ibna saleh', 'pred': 0, 'test': 1},\n",
              " 28259: {'name': '00000000md. abu mohaddesh', 'pred': 0, 'test': 1},\n",
              " 28288: {'name': '0000000000md. abdul jelel', 'pred': 0, 'test': 1},\n",
              " 28374: {'name': '000000000000tahamim ahmed', 'pred': 0, 'test': 1},\n",
              " 28404: {'name': '0000000000000000nur nabee', 'pred': 0, 'test': 1},\n",
              " 28437: {'name': '00000000000000azhar ahmed', 'pred': 0, 'test': 1},\n",
              " 28439: {'name': '00000000000md.tamjid alam', 'pred': 0, 'test': 1},\n",
              " 28525: {'name': '000000000prokash acharjee', 'pred': 0, 'test': 1},\n",
              " 28526: {'name': 'md. ismail hossain sajeeb', 'pred': 0, 'test': 1},\n",
              " 28561: {'name': '00000000000000govidra nag', 'pred': 0, 'test': 1},\n",
              " 28624: {'name': '000000000al  amin  miajee', 'pred': 0, 'test': 1},\n",
              " 28683: {'name': '0000000000000shohel tappo', 'pred': 0, 'test': 1},\n",
              " 28760: {'name': '0000md. rejaun nabi saheb', 'pred': 0, 'test': 1},\n",
              " 28774: {'name': '00md. mehedi  hasan  depu', 'pred': 0, 'test': 1},\n",
              " 28865: {'name': '00000000000sajahan bapery', 'pred': 0, 'test': 1},\n",
              " 28930: {'name': '00000000000zunaid bugdade', 'pred': 0, 'test': 1},\n",
              " 28938: {'name': '00000000000000md. mushlem', 'pred': 0, 'test': 1},\n",
              " 28961: {'name': '0000000md. siam siddiquee', 'pred': 0, 'test': 1},\n",
              " 28968: {'name': '000000000md. miraj ahamed', 'pred': 0, 'test': 1},\n",
              " 28996: {'name': '000000000biaknunsung bawm', 'pred': 0, 'test': 1},\n",
              " 29002: {'name': '000000000md. abul mokarem', 'pred': 0, 'test': 1},\n",
              " 29011: {'name': '0000000000md feroz ahmmed', 'pred': 0, 'test': 1},\n",
              " 29029: {'name': '00000000000md. nazar alam', 'pred': 0, 'test': 1},\n",
              " 29200: {'name': '00000000000000iram ahmmed', 'pred': 0, 'test': 1},\n",
              " 29280: {'name': '00md. redoy hossain pappu', 'pred': 0, 'test': 1},\n",
              " 29296: {'name': '0000000000000000md. sayeb', 'pred': 0, 'test': 1},\n",
              " 29344: {'name': '00000000saiyad kazal meer', 'pred': 0, 'test': 1},\n",
              " 29345: {'name': '0md. ashikur rahman sohag', 'pred': 0, 'test': 1},\n",
              " 29349: {'name': '0000000000000sahedul alam', 'pred': 0, 'test': 1},\n",
              " 29404: {'name': '00000000000aminul ahammed', 'pred': 0, 'test': 1},\n",
              " 29437: {'name': '000000000jotin tanchangya', 'pred': 0, 'test': 1},\n",
              " 29618: {'name': '000000000md sabbir ahemed', 'pred': 0, 'test': 1},\n",
              " 29693: {'name': '00000000md. jaber ahammed', 'pred': 0, 'test': 1},\n",
              " 29727: {'name': '00md. ragib asahab fayeem', 'pred': 0, 'test': 1},\n",
              " 29768: {'name': '0000000abdulla- al- masum', 'pred': 0, 'test': 1},\n",
              " 29781: {'name': '0000000000md.nasir ahamed', 'pred': 0, 'test': 1},\n",
              " 29785: {'name': '000000000000md. raza alam', 'pred': 0, 'test': 1},\n",
              " 29792: {'name': '00000000000md. faer ahmed', 'pred': 0, 'test': 1},\n",
              " 29840: {'name': '00mohammad taherul kassem', 'pred': 0, 'test': 1},\n",
              " 29856: {'name': '00000000md. isteyak ahmed', 'pred': 0, 'test': 1},\n",
              " 29982: {'name': '0000md. saif mahamud apel', 'pred': 0, 'test': 1},\n",
              " 29996: {'name': '00000000000m. a. abdullah', 'pred': 0, 'test': 1},\n",
              " 30005: {'name': '00000khaled ibne abdullah', 'pred': 0, 'test': 1},\n",
              " 30023: {'name': '0000000000000razzak prang', 'pred': 0, 'test': 1},\n",
              " 30057: {'name': '00000000asis chandra ghop', 'pred': 0, 'test': 1},\n",
              " 30072: {'name': '00000ashraf hossen ahamed', 'pred': 0, 'test': 1},\n",
              " 30094: {'name': '000000000md. plabon ahmed', 'pred': 0, 'test': 1},\n",
              " 30152: {'name': '000bhagya dhan tanchangya', 'pred': 0, 'test': 1},\n",
              " 30154: {'name': '00md asiqur rahman nayeem', 'pred': 0, 'test': 1},\n",
              " 30180: {'name': '00000000000md.fajle rabbe', 'pred': 0, 'test': 1},\n",
              " 30191: {'name': '00000000000milon bairagee', 'pred': 0, 'test': 1},\n",
              " 30225: {'name': '0000000000000khusbul alam', 'pred': 0, 'test': 1},\n",
              " 30250: {'name': '00000000salahud din ahmed', 'pred': 0, 'test': 1},\n",
              " 30296: {'name': '0000k. m. al-mustafa alam', 'pred': 0, 'test': 1},\n",
              " 30299: {'name': '00000000000md. kayde azam', 'pred': 0, 'test': 1},\n",
              " 30318: {'name': '000000000000anayet ahamed', 'pred': 0, 'test': 1},\n",
              " 30325: {'name': '00md. hossain ahmed masum', 'pred': 0, 'test': 1},\n",
              " 30352: {'name': 'tapon kumar bhattacharjee', 'pred': 0, 'test': 1},\n",
              " 30387: {'name': '00000000md. ubaydul haque', 'pred': 0, 'test': 1},\n",
              " 30403: {'name': '0000000md. showrov ahamed', 'pred': 0, 'test': 1},\n",
              " 30433: {'name': '000000sadman sakib reemel', 'pred': 0, 'test': 1},\n",
              " 30434: {'name': '0000000000000babul ahmmed', 'pred': 0, 'test': 1},\n",
              " 30456: {'name': '00md.sahariar ahmed hemel', 'pred': 0, 'test': 1},\n",
              " 30457: {'name': '00000norul alam siddiquee', 'pred': 0, 'test': 1},\n",
              " 30567: {'name': '000000000abul kalam azaed', 'pred': 0, 'test': 1},\n",
              " 30579: {'name': '00000000000md tanim ahmed', 'pred': 0, 'test': 1},\n",
              " 30603: {'name': '0000minhajur rahman sayam', 'pred': 0, 'test': 1},\n",
              " 30638: {'name': '000md. azizul hakim sohag', 'pred': 0, 'test': 1},\n",
              " 30711: {'name': '000000000syed mamun ahmed', 'pred': 0, 'test': 1},\n",
              " 30733: {'name': '0000000000000zahur ahamed', 'pred': 0, 'test': 1},\n",
              " 30771: {'name': '00000000pranash kumar nag', 'pred': 0, 'test': 1},\n",
              " 30810: {'name': '0000000000md.shahed ahmed', 'pred': 0, 'test': 1},\n",
              " 30862: {'name': '000mohammad minhazul alam', 'pred': 0, 'test': 1},\n",
              " 31016: {'name': '0000000000s m abdus salam', 'pred': 0, 'test': 1},\n",
              " 31084: {'name': '0000md. dalil uddin ahmed', 'pred': 0, 'test': 1},\n",
              " 31132: {'name': '000000000000laden   ahmed', 'pred': 0, 'test': 1},\n",
              " 31161: {'name': '00 mahbubur rahman nafeem', 'pred': 0, 'test': 1},\n",
              " 31212: {'name': '000000000md. shajalal bag', 'pred': 0, 'test': 1},\n",
              " 31319: {'name': '0000000000000000md.zamsed', 'pred': 0, 'test': 1},\n",
              " 31347: {'name': '000000000000moksudul alam', 'pred': 0, 'test': 1},\n",
              " 31349: {'name': '0000000000000amir ahammed', 'pred': 0, 'test': 1},\n",
              " 31363: {'name': '000000000md. abdul shalam', 'pred': 0, 'test': 1},\n",
              " 31369: {'name': '00000000gaurab paul galpo', 'pred': 0, 'test': 1},\n",
              " 31397: {'name': '0md. mahadi hasan shohagh', 'pred': 0, 'test': 1},\n",
              " 31405: {'name': '000000000000ikbal ahammed', 'pred': 0, 'test': 1},\n",
              " 31424: {'name': '00000000000md. shek saheb', 'pred': 0, 'test': 1},\n",
              " 31439: {'name': '00000md.mahbub alam zahed', 'pred': 0, 'test': 1},\n",
              " 31475: {'name': '000000000000md. azad meah', 'pred': 0, 'test': 1},\n",
              " 31481: {'name': '00000000000000abdul bayes', 'pred': 0, 'test': 1},\n",
              " 31528: {'name': '00000000m.a.s. shaha alam', 'pred': 0, 'test': 1},\n",
              " 31575: {'name': '000000monir hossain nayem', 'pred': 0, 'test': 1},\n",
              " 31577: {'name': '000000000md. mazedul azam', 'pred': 0, 'test': 1},\n",
              " 31643: {'name': '00md tahzeeb ahsan tazeem', 'pred': 0, 'test': 1},\n",
              " 31728: {'name': '00000000ali uzayear sayem', 'pred': 0, 'test': 1},\n",
              " 31847: {'name': '000000ahamad abu abdullah', 'pred': 0, 'test': 1},\n",
              " 31859: {'name': '0000000minhaz uddin ahmed', 'pred': 0, 'test': 1},\n",
              " 31863: {'name': '000000000abid abdul haque', 'pred': 0, 'test': 1},\n",
              " 31911: {'name': '000000000000nayem ahammad', 'pred': 0, 'test': 1},\n",
              " 32008: {'name': '00000000rubel chandra dey', 'pred': 0, 'test': 1},\n",
              " 32054: {'name': '00000000000000dolal haque', 'pred': 0, 'test': 1},\n",
              " 32120: {'name': '000000000bijoy chambugong', 'pred': 0, 'test': 1},\n",
              " 32121: {'name': '000000md. hasnaeen ahamed', 'pred': 0, 'test': 1},\n",
              " 32139: {'name': '000000000kazi payer ahmed', 'pred': 0, 'test': 1},\n",
              " 32144: {'name': '000000000000jagangir alam', 'pred': 0, 'test': 1},\n",
              " 32172: {'name': '00000000000appel mahammud', 'pred': 0, 'test': 1},\n",
              " 32179: {'name': '0000000md. babul jamadder', 'pred': 0, 'test': 1},\n",
              " 32213: {'name': '000000redoan ahamed pabel', 'pred': 0, 'test': 1},\n",
              " 32272: {'name': '00000000000000delwar alam', 'pred': 0, 'test': 1},\n",
              " 32299: {'name': '00000000md. neyamul haque', 'pred': 0, 'test': 1},\n",
              " 32398: {'name': '00000000000000noor quasem', 'pred': 0, 'test': 1},\n",
              " 32402: {'name': '0000000md mohiuddin bappy', 'pred': 0, 'test': 1},\n",
              " 32428: {'name': '000000olid afzal mohammad', 'pred': 0, 'test': 1},\n",
              " 32448: {'name': '0000000000000000abulhasam', 'pred': 0, 'test': 1},\n",
              " 32472: {'name': '0000md. faij uddin nayeem', 'pred': 0, 'test': 1},\n",
              " 32487: {'name': '000000000md. zobael haque', 'pred': 0, 'test': 1},\n",
              " 32518: {'name': '000000000000dinesh kurmee', 'pred': 0, 'test': 1},\n",
              " 32526: {'name': '000md. shahabuddin faragy', 'pred': 0, 'test': 1},\n",
              " 32621: {'name': '00000debashis tangchangya', 'pred': 0, 'test': 1},\n",
              " 32655: {'name': '0000000biswanath banarjee', 'pred': 0, 'test': 1},\n",
              " 32657: {'name': '000000bishawgit mukhergee', 'pred': 0, 'test': 1},\n",
              " 32673: {'name': '000md. abdullah al nayeem', 'pred': 0, 'test': 1},\n",
              " 32696: {'name': '0000000000000afzal madber', 'pred': 0, 'test': 1},\n",
              " 32712: {'name': '00000000md. kowsar ahamed', 'pred': 0, 'test': 1},\n",
              " 32718: {'name': '0000000000000pintu ahamed', 'pred': 0, 'test': 1},\n",
              " 32744: {'name': '0000000000000tangil ahmed', 'pred': 0, 'test': 1},\n",
              " 32768: {'name': '000000000000md. rohulalam', 'pred': 0, 'test': 1},\n",
              " 32844: {'name': '0000000arjun chandro goap', 'pred': 0, 'test': 1},\n",
              " 32875: {'name': '00md. shamsul alam nayeem', 'pred': 0, 'test': 1},\n",
              " 32878: {'name': '00000muhammed jaidul alam', 'pred': 0, 'test': 1},\n",
              " 32906: {'name': '000000000000shultan ahmed', 'pred': 0, 'test': 1},\n",
              " 32938: {'name': '0000000000md.sonet ahamed', 'pred': 0, 'test': 1},\n",
              " 32944: {'name': '00000000000000000ovee dey', 'pred': 0, 'test': 1},\n",
              " 33005: {'name': '000md. abdur rahman golap', 'pred': 0, 'test': 1},\n",
              " 33013: {'name': '00shekh rohan uddin ahmed', 'pred': 0, 'test': 1},\n",
              " 33016: {'name': '00000000000tahmeed tabeeb', 'pred': 0, 'test': 1},\n",
              " 33054: {'name': '000000000000000jalal meah', 'pred': 0, 'test': 1},\n",
              " 33085: {'name': '000000000md. khalad meaje', 'pred': 0, 'test': 1},\n",
              " 33121: {'name': '0000000late. forid ahmmed', 'pred': 0, 'test': 1},\n",
              " 33130: {'name': '0md. raihanul islam sohag', 'pred': 0, 'test': 1},\n",
              " 33159: {'name': '000000000md. razan ahmmed', 'pred': 0, 'test': 1},\n",
              " 33169: {'name': '000000000000parimal pande', 'pred': 0, 'test': 1},\n",
              " 33250: {'name': '000000000000sekander hang', 'pred': 0, 'test': 1},\n",
              " 33357: {'name': '000000abu sayed md. saleh', 'pred': 0, 'test': 1},\n",
              " 33441: {'name': '00000000md. sajeeb ahamed', 'pred': 0, 'test': 1},\n",
              " 33445: {'name': '0000salsabil islam sayeem', 'pred': 0, 'test': 1},\n",
              " 33531: {'name': '0000000000md. uzzal prang', 'pred': 0, 'test': 1},\n",
              " 33565: {'name': '0md. serajul islam khadem', 'pred': 0, 'test': 1},\n",
              " 33590: {'name': '000000000md. jahidul alam', 'pred': 0, 'test': 1},\n",
              " 33603: {'name': '000000000000000md. kaeyum', 'pred': 0, 'test': 1},\n",
              " 33662: {'name': '00000000nehalahamed sayem', 'pred': 0, 'test': 1},\n",
              " 33712: {'name': '00000000md. reza-ul- alam', 'pred': 0, 'test': 1},\n",
              " 33726: {'name': '0000000000000didar ahamed', 'pred': 0, 'test': 1},\n",
              " 33731: {'name': '00000000000000aslam afrog', 'pred': 0, 'test': 1},\n",
              " 33830: {'name': '000000000md jamal baparee', 'pred': 0, 'test': 1},\n",
              " 34014: {'name': '000khandoker sefayet alam', 'pred': 0, 'test': 1},\n",
              " 34039: {'name': '00000000000md. hasib baga', 'pred': 0, 'test': 1},\n",
              " 34060: {'name': '00000000kamil ahmed suyeb', 'pred': 0, 'test': 1},\n",
              " 34096: {'name': '00000000000000payer ahmed', 'pred': 0, 'test': 1},\n",
              " 34117: {'name': '0000000000000shala ahmmed', 'pred': 0, 'test': 1},\n",
              " 34167: {'name': '00000000000000fazal hajee', 'pred': 0, 'test': 1},\n",
              " 34172: {'name': '000000000000000iman ahmed', 'pred': 0, 'test': 1},\n",
              " 34178: {'name': '0000000000000jutrmoy gope', 'pred': 0, 'test': 1},\n",
              " 34211: {'name': '000000000000khalek farage', 'pred': 0, 'test': 1},\n",
              " 34289: {'name': '00000000md. afridi ahamed', 'pred': 0, 'test': 1},\n",
              " 34311: {'name': '000000mohammad anjum alam', 'pred': 0, 'test': 1},\n",
              " 34356: {'name': '000000000theotonius gomes', 'pred': 0, 'test': 1},\n",
              " 34363: {'name': '00000000000md.fysal haque', 'pred': 0, 'test': 1},\n",
              " 34433: {'name': '00000000subol chandra deb', 'pred': 0, 'test': 1},\n",
              " 34451: {'name': '000000000d. m. aurangageb', 'pred': 0, 'test': 1},\n",
              " 34455: {'name': '000000mehedi hassen bappi', 'pred': 0, 'test': 1},\n",
              " 34472: {'name': '00000000000000000masrafee', 'pred': 0, 'test': 1},\n",
              " 34530: {'name': '0barada kumar tangchangya', 'pred': 0, 'test': 1},\n",
              " 34546: {'name': '0000000000lacky mong bowm', 'pred': 0, 'test': 1},\n",
              " 34680: {'name': '00000000shimul tanchangya', 'pred': 0, 'test': 1},\n",
              " 34713: {'name': '000000md. rayhanul nayeem', 'pred': 0, 'test': 1},\n",
              " 34716: {'name': '000000atik shahriar pappu', 'pred': 0, 'test': 1},\n",
              " 34944: {'name': '00000000000000abul kaseam', 'pred': 0, 'test': 1},\n",
              " 34949: {'name': '0000varat chandra ganguly', 'pred': 0, 'test': 1},\n",
              " 35034: {'name': '0000000md. mosaddak ahmed', 'pred': 0, 'test': 1},\n",
              " 35041: {'name': '0000000000md sakib ahmmed', 'pred': 0, 'test': 1},\n",
              " 35052: {'name': '00000000md. doulat shajee', 'pred': 0, 'test': 1},\n",
              " 35082: {'name': '0000000000bishnu pada nag', 'pred': 0, 'test': 1},\n",
              " 35093: {'name': '00000000000deluoar ahmmed', 'pred': 0, 'test': 1},\n",
              " 35126: {'name': '0000000000md. ali ahemmed', 'pred': 0, 'test': 1},\n",
              " 35185: {'name': '0000000000000000rafej beg', 'pred': 0, 'test': 1},\n",
              " 35186: {'name': '00000md. sayed mia khadem', 'pred': 0, 'test': 1},\n",
              " 35228: {'name': '00000000000000m.a. quayum', 'pred': 0, 'test': 1},\n",
              " 35239: {'name': '000md. nahid hasan sojeeb', 'pred': 0, 'test': 1},\n",
              " 35254: {'name': '000000000000000riya begum', 'pred': 0, 'test': 1},\n",
              " 35366: {'name': '00000000000000anis ahamed', 'pred': 0, 'test': 1},\n",
              " 35435: {'name': '00000000000md. belal alom', 'pred': 0, 'test': 1},\n",
              " 35547: {'name': '0000000a. k.m abdus salam', 'pred': 0, 'test': 1},\n",
              " 35605: {'name': '00000000000000md shahalam', 'pred': 0, 'test': 1},\n",
              " 35617: {'name': '0000000000000md. muzadded', 'pred': 0, 'test': 1},\n",
              " 35688: {'name': '0000000000md. sader ahmed', 'pred': 0, 'test': 1},\n",
              " 35730: {'name': '000000md. jahangir  alam.', 'pred': 0, 'test': 1},\n",
              " 35743: {'name': '0000kazi asaduzzman naeem', 'pred': 0, 'test': 1},\n",
              " 35745: {'name': '000000a.k.m. fazlul haque', 'pred': 0, 'test': 1},\n",
              " 35762: {'name': '00000000000tawkir ahammed', 'pred': 0, 'test': 1},\n",
              " 35779: {'name': '0000000000000000madab nag', 'pred': 0, 'test': 1},\n",
              " 35785: {'name': '00000000000000jesun ahmed', 'pred': 0, 'test': 1},\n",
              " 35811: {'name': '0000000pangkoj chatterjee', 'pred': 0, 'test': 1},\n",
              " 35844: {'name': ' muntasim billah-al-mamum', 'pred': 0, 'test': 1},\n",
              " 35931: {'name': '0000000000md. abul quasem', 'pred': 0, 'test': 1},\n",
              " 35946: {'name': '00000muhammad mamun ahmed', 'pred': 0, 'test': 1},\n",
              " 35951: {'name': '0000md. asadulla helgalib', 'pred': 0, 'test': 1},\n",
              " 35970: {'name': '00000000000md. m.a. sohag', 'pred': 0, 'test': 1},\n",
              " 36003: {'name': '000000000salahuddin nayeb', 'pred': 0, 'test': 1},\n",
              " 36028: {'name': '000000000kazi jamal ahmed', 'pred': 0, 'test': 1},\n",
              " 36179: {'name': '00000000sukanta mukharjee', 'pred': 0, 'test': 1},\n",
              " 36194: {'name': '0000000000md.layeb mollah', 'pred': 0, 'test': 1},\n",
              " 36217: {'name': '0md. abdul  malek  miajee', 'pred': 0, 'test': 1},\n",
              " 36235: {'name': '000000000nurul islam seam', 'pred': 0, 'test': 1},\n",
              " 36263: {'name': '000000000000000s. a. alam', 'pred': 0, 'test': 1},\n",
              " 36279: {'name': '000md. abu saeed abdullah', 'pred': 0, 'test': 1},\n",
              " 36282: {'name': '000000000000mazbaul haque', 'pred': 0, 'test': 1},\n",
              " 36323: {'name': '0000000md. abdul mukaddes', 'pred': 0, 'test': 1},\n",
              " 36348: {'name': '000000000000mosthaq ahmed', 'pred': 0, 'test': 1},\n",
              " 36363: {'name': '0000000000000estik ahmmed', 'pred': 0, 'test': 1},\n",
              " 36461: {'name': '0md. habibur rahman bappy', 'pred': 0, 'test': 1},\n",
              " 36504: {'name': '0000000000000sheak ahamed', 'pred': 0, 'test': 1},\n",
              " 36520: {'name': '00000000000jannatun nayem', 'pred': 0, 'test': 1},\n",
              " 36531: {'name': '0000000000000000ammey mog', 'pred': 0, 'test': 1},\n",
              " 36610: {'name': '00000000000abutaleb islam', 'pred': 0, 'test': 1},\n",
              " 36665: {'name': '00000000000000fozla rabbe', 'pred': 0, 'test': 1},\n",
              " 36736: {'name': '0000000000md. kayed ahmed', 'pred': 0, 'test': 1},\n",
              " 36741: {'name': '000000000md. rafiq ahamed', 'pred': 0, 'test': 1},\n",
              " 36773: {'name': '000000000000ruman ahammed', 'pred': 0, 'test': 1},\n",
              " 36797: {'name': '00000mijanur rahman bappi', 'pred': 0, 'test': 1},\n",
              " 36799: {'name': '0000000000mohammed eleyas', 'pred': 0, 'test': 1},\n",
              " 36807: {'name': '000000000md. piyal ahmmed', 'pred': 0, 'test': 1},\n",
              " 36816: {'name': '  anecur  rohoman  shohag', 'pred': 0, 'test': 1},\n",
              " 36817: {'name': '0000000000md. helal ahmad', 'pred': 0, 'test': 1},\n",
              " 36921: {'name': '0000000000munsur  ahammed', 'pred': 0, 'test': 1},\n",
              " 36930: {'name': '000000000000shaharia seam', 'pred': 0, 'test': 1},\n",
              " 36958: {'name': '0000000000md.kaosar ahmed', 'pred': 0, 'test': 1},\n",
              " 37110: {'name': '00000000kamal uddin bagha', 'pred': 0, 'test': 1},\n",
              " 37113: {'name': '0000000lal than sang bawm', 'pred': 0, 'test': 1},\n",
              " 37142: {'name': '0md. naeem-ul-hasan naeem', 'pred': 0, 'test': 1},\n",
              " 37246: {'name': '00000000md. osman ahammed', 'pred': 0, 'test': 1},\n",
              " 37260: {'name': '000000000md. nayan ahamed', 'pred': 0, 'test': 1},\n",
              " 37280: {'name': '0000000000000woakil ahmed', 'pred': 0, 'test': 1},\n",
              " 37326: {'name': '00000000000000md. sahalam', 'pred': 0, 'test': 1},\n",
              " 37385: {'name': '000000000000shohan ahamed', 'pred': 0, 'test': 1},\n",
              " 37388: {'name': '00md. asraful haque bappy', 'pred': 0, 'test': 1},\n",
              " 37487: {'name': '0000000md. sazedul islam.', 'pred': 0, 'test': 1},\n",
              " 37512: {'name': 'd. abdul khalaque ovelash', 'pred': 0, 'test': 1},\n",
              " 37548: {'name': '00000000masum uddin ahmed', 'pred': 0, 'test': 1},\n",
              " 37566: {'name': '000000000md. zakirul alam', 'pred': 0, 'test': 1},\n",
              " 37567: {'name': '0000000haji jafar ahammed', 'pred': 0, 'test': 1},\n",
              " 37574: {'name': '00000000000md. abul salam', 'pred': 0, 'test': 1},\n",
              " 37733: {'name': '000000diri lal tanchangya', 'pred': 0, 'test': 1},\n",
              " 37740: {'name': '0000000shak md. abu taleb', 'pred': 0, 'test': 1},\n",
              " 37819: {'name': '0000000rashed ahmed jahed', 'pred': 0, 'test': 1},\n",
              " 37863: {'name': '000000000000000000md. mea', 'pred': 0, 'test': 1},\n",
              " 37948: {'name': '000000md.sakif- al- wasee', 'pred': 0, 'test': 1},\n",
              " 37958: {'name': '00000md. salauddin shohag', 'pred': 0, 'test': 1},\n",
              " 38003: {'name': '0000000000ibne sina image', 'pred': 0, 'test': 1},\n",
              " 38005: {'name': '000000000md. raju ahamead', 'pred': 0, 'test': 1},\n",
              " 38021: {'name': '00000000000shoayeb ahmmad', 'pred': 0, 'test': 1},\n",
              " 38034: {'name': '00000md. iqbal reza masum', 'pred': 0, 'test': 1},\n",
              " 38085: {'name': '00000000safil uddin ahmed', 'pred': 0, 'test': 1},\n",
              " 38086: {'name': '000000000md. sagir ahamed', 'pred': 0, 'test': 1},\n",
              " 38098: {'name': '00000md rabiul alam pabel', 'pred': 0, 'test': 1},\n",
              " 38180: {'name': '0000000000000md. baru beg', 'pred': 0, 'test': 1},\n",
              " 38196: {'name': '00000000000khairul- lslam', 'pred': 0, 'test': 1},\n",
              " 38249: {'name': '000000ahamad jamir nejame', 'pred': 0, 'test': 1},\n",
              " 38283: {'name': '0000tirtho mikhayel palma', 'pred': 0, 'test': 1},\n",
              " 38309: {'name': '0md. minhaj parvaj sajeeb', 'pred': 0, 'test': 1},\n",
              " 38318: {'name': '00000mohammad saiful alam', 'pred': 0, 'test': 1},\n",
              " 38395: {'name': '00000000000zayed abdullah', 'pred': 0, 'test': 1},\n",
              " 38431: {'name': '0000000000000sunny ahamed', 'pred': 0, 'test': 1},\n",
              " 38436: {'name': '000000000000nezamul haque', 'pred': 0, 'test': 1},\n",
              " 38487: {'name': '0000000000000ebadul haque', 'pred': 0, 'test': 1},\n",
              " 38512: {'name': '00000000000sha abul kasem', 'pred': 0, 'test': 1},\n",
              " 38514: {'name': '0md. mosabbir hasan naeem', 'pred': 0, 'test': 1},\n",
              " 38532: {'name': 'd. shahidul islam sirajee', 'pred': 0, 'test': 1},\n",
              " 38596: {'name': '000000mohmmad makbul alam', 'pred': 0, 'test': 1},\n",
              " 38641: {'name': '0000000000000jony ahemmed', 'pred': 0, 'test': 1},\n",
              " 38649: {'name': '0000000000md. jibran alam', 'pred': 0, 'test': 1},\n",
              " 38699: {'name': '0000000000abul kalam agat', 'pred': 0, 'test': 1},\n",
              " 38781: {'name': '00000000000linkcon ahmmed', 'pred': 0, 'test': 1},\n",
              " ...}"
            ]
          },
          "metadata": {
            "tags": []
          },
          "execution_count": 30
        }
      ]
    },
    {
      "metadata": {
        "id": "OReGeanpXWTK",
        "colab_type": "code",
        "colab": {
          "base_uri": "https://localhost:8080/",
          "height": 18217
        },
        "outputId": "c4d78dc5-b5c5-4686-e056-0a682d8d81b7"
      },
      "cell_type": "code",
      "source": [
        "incorrect_females"
      ],
      "execution_count": 31,
      "outputs": [
        {
          "output_type": "execute_result",
          "data": {
            "text/plain": [
              "{1: {'name': '00000000000000sonti mormu', 'pred': 1, 'test': 0},\n",
              " 3: {'name': '0000000000shimuli tripura', 'pred': 1, 'test': 0},\n",
              " 6: {'name': '00000000000taposhi barmon', 'pred': 1, 'test': 0},\n",
              " 8: {'name': '000000000000nazma  parvin', 'pred': 1, 'test': 0},\n",
              " 12: {'name': '0000000000maya mary toppo', 'pred': 1, 'test': 0},\n",
              " 22: {'name': '00000000kaniz fatema aniy', 'pred': 1, 'test': 0},\n",
              " 24: {'name': '0000000zosada rani sarkar', 'pred': 1, 'test': 0},\n",
              " 27: {'name': '00000kroi sang thui marma', 'pred': 1, 'test': 0},\n",
              " 30: {'name': '0000000000hosnatul jannat', 'pred': 1, 'test': 0},\n",
              " 33: {'name': '000000yesmin akter parvin', 'pred': 1, 'test': 0},\n",
              " 36: {'name': '000000rabeya sultana keya', 'pred': 1, 'test': 0},\n",
              " 42: {'name': '0000000rabea bosri vhabna', 'pred': 1, 'test': 0},\n",
              " 43: {'name': '00000000000000000fullbanu', 'pred': 1, 'test': 0},\n",
              " 46: {'name': '000000000rakha rani sarma', 'pred': 1, 'test': 0},\n",
              " 48: {'name': '000000000000000sador rini', 'pred': 1, 'test': 0},\n",
              " 53: {'name': '00000000aynunnahar shewly', 'pred': 1, 'test': 0},\n",
              " 54: {'name': '000000000000johora haider', 'pred': 1, 'test': 0},\n",
              " 55: {'name': '0000nowrin jahan haimanti', 'pred': 1, 'test': 0},\n",
              " 56: {'name': '000000kadija akter maliha', 'pred': 1, 'test': 0},\n",
              " 57: {'name': '0000000000000000000tafura', 'pred': 1, 'test': 0},\n",
              " 59: {'name': '00000000000putul joysowal', 'pred': 1, 'test': 0},\n",
              " 64: {'name': '000000saing saing u marma', 'pred': 1, 'test': 0},\n",
              " 69: {'name': '0000000000isma jahan isha', 'pred': 1, 'test': 0},\n",
              " 70: {'name': '000ayesha takia lisa moni', 'pred': 1, 'test': 0},\n",
              " 74: {'name': '0000000000000000ami barua', 'pred': 1, 'test': 0},\n",
              " 75: {'name': '00000000mariam aktar mony', 'pred': 1, 'test': 0},\n",
              " 78: {'name': '00000000000000mst. tojema', 'pred': 1, 'test': 0},\n",
              " 82: {'name': '0000000000000mt. ismotara', 'pred': 1, 'test': 0},\n",
              " 85: {'name': '0000000mrs. kabila yesmin', 'pred': 1, 'test': 0},\n",
              " 86: {'name': '0000000000000milita murmu', 'pred': 1, 'test': 0},\n",
              " 90: {'name': '0000000jotika abedin joya', 'pred': 1, 'test': 0},\n",
              " 91: {'name': '000000000umme hani trisha', 'pred': 1, 'test': 0},\n",
              " 93: {'name': '0000000000000000kana bibi', 'pred': 1, 'test': 0},\n",
              " 95: {'name': '00mst.nusrat jahan jharna', 'pred': 1, 'test': 0},\n",
              " 98: {'name': '0000000priyangka majumder', 'pred': 1, 'test': 0},\n",
              " 104: {'name': '000000000000000ekra bisma', 'pred': 1, 'test': 0},\n",
              " 107: {'name': '0000000000000sabiconnaher', 'pred': 1, 'test': 0},\n",
              " 111: {'name': '00000000mst. naherun bibi', 'pred': 1, 'test': 0},\n",
              " 116: {'name': '00000000samia  jaman  mim', 'pred': 1, 'test': 0},\n",
              " 117: {'name': '000000000000doly talukder', 'pred': 1, 'test': 0},\n",
              " 118: {'name': '00000000mst. nurima akter', 'pred': 1, 'test': 0},\n",
              " 119: {'name': '000000000shadia akter aka', 'pred': 1, 'test': 0},\n",
              " 120: {'name': '0000000ramira sara hassan', 'pred': 1, 'test': 0},\n",
              " 122: {'name': '000000000000000sompa rina', 'pred': 1, 'test': 0},\n",
              " 123: {'name': '00000000mehenaj huda nite', 'pred': 1, 'test': 0},\n",
              " 124: {'name': '0000000tazia parbin mukta', 'pred': 1, 'test': 0},\n",
              " 125: {'name': '000000nasima akhter jahan', 'pred': 1, 'test': 0},\n",
              " 129: {'name': '000000000tania akter  pia', 'pred': 1, 'test': 0},\n",
              " 132: {'name': '000mahfuza sultana bristy', 'pred': 1, 'test': 0},\n",
              " 135: {'name': '0000000000000000urmi saha', 'pred': 1, 'test': 0},\n",
              " 138: {'name': '00000000fahima akter anni', 'pred': 1, 'test': 0},\n",
              " 141: {'name': '0000000000000shital aktar', 'pred': 1, 'test': 0},\n",
              " 142: {'name': '000000000000khadija sayed', 'pred': 1, 'test': 0},\n",
              " 144: {'name': '00000000000000ummaye hani', 'pred': 1, 'test': 0},\n",
              " 149: {'name': '000000000afchna mimi rupa', 'pred': 1, 'test': 0},\n",
              " 150: {'name': '0000000000000sumola akter', 'pred': 1, 'test': 0},\n",
              " 155: {'name': '000000000000lamiya akther', 'pred': 1, 'test': 0},\n",
              " 157: {'name': '0000000000000sathe bhuian', 'pred': 1, 'test': 0},\n",
              " 158: {'name': '0000000000000sompa  akter', 'pred': 1, 'test': 0},\n",
              " 159: {'name': '00000000000zerin tarafdar', 'pred': 1, 'test': 0},\n",
              " 161: {'name': '00000nisat tabassum prova', 'pred': 1, 'test': 0},\n",
              " 165: {'name': '0000farjana afrin sumaiya', 'pred': 1, 'test': 0},\n",
              " 166: {'name': '0000000asha lata majumder', 'pred': 1, 'test': 0},\n",
              " 167: {'name': '000000most. samira parven', 'pred': 1, 'test': 0},\n",
              " 168: {'name': '0000000mrs. momtaz khatun', 'pred': 1, 'test': 0},\n",
              " 170: {'name': '000000000000safarun nessa', 'pred': 1, 'test': 0},\n",
              " 173: {'name': '0000000000000saeara akter', 'pred': 1, 'test': 0},\n",
              " 175: {'name': '0000000000gulshanara hira', 'pred': 1, 'test': 0},\n",
              " 177: {'name': '0000000mahmuda akter mimi', 'pred': 1, 'test': 0},\n",
              " 179: {'name': '000000000000mosa. sultana', 'pred': 1, 'test': 0},\n",
              " 180: {'name': '00000000000mahmudah aktar', 'pred': 1, 'test': 0},\n",
              " 183: {'name': '000000000000sumaya rahman', 'pred': 1, 'test': 0},\n",
              " 188: {'name': '00mst. nahida aktar kusum', 'pred': 1, 'test': 0},\n",
              " 189: {'name': '00000000000000depthi rani', 'pred': 1, 'test': 0},\n",
              " 195: {'name': '000000000000santi rabidas', 'pred': 1, 'test': 0},\n",
              " 196: {'name': '000000mast.shaheda khatun', 'pred': 1, 'test': 0},\n",
              " 197: {'name': '0000000000000joynob zinat', 'pred': 1, 'test': 0},\n",
              " 198: {'name': '00000000nayon rani mondol', 'pred': 1, 'test': 0},\n",
              " 203: {'name': '000000000debosree tikadar', 'pred': 1, 'test': 0},\n",
              " 210: {'name': '000000000shonali rani roy', 'pred': 1, 'test': 0},\n",
              " 214: {'name': '00000000000000000fullrani', 'pred': 1, 'test': 0},\n",
              " 216: {'name': '0000000000000priya sannal', 'pred': 1, 'test': 0},\n",
              " 220: {'name': '0000000000000chapa halder', 'pred': 1, 'test': 0},\n",
              " 222: {'name': '00tania shil sukumar shil', 'pred': 1, 'test': 0},\n",
              " 224: {'name': '00000000000000zasna maddi', 'pred': 1, 'test': 0},\n",
              " 226: {'name': '00000000suda rani bharman', 'pred': 1, 'test': 0},\n",
              " 229: {'name': '0000000000000lifton akter', 'pred': 1, 'test': 0},\n",
              " 231: {'name': '000000000shoma rani ghosh', 'pred': 1, 'test': 0},\n",
              " 233: {'name': '00000000000jakiah sultana', 'pred': 1, 'test': 0},\n",
              " 234: {'name': '00000000mst. sagufa afrin', 'pred': 1, 'test': 0},\n",
              " 238: {'name': '000000mst. ghanara khatun', 'pred': 1, 'test': 0},\n",
              " 242: {'name': '000000rifah tamanna islam', 'pred': 1, 'test': 0},\n",
              " 246: {'name': '000000fahmeda rahman ummi', 'pred': 1, 'test': 0},\n",
              " 252: {'name': '00000000000mst. soma banu', 'pred': 1, 'test': 0},\n",
              " 256: {'name': '0000000000000mirja  afrin', 'pred': 1, 'test': 0},\n",
              " 259: {'name': '00000000000000sorupa rani', 'pred': 1, 'test': 0},\n",
              " 262: {'name': '000000000000sameya rahman', 'pred': 1, 'test': 0},\n",
              " 263: {'name': '000000000000000000samjida', 'pred': 1, 'test': 0},\n",
              " 270: {'name': '00000000000000nilofa ater', 'pred': 1, 'test': 0},\n",
              " 271: {'name': '000000000000000kame shill', 'pred': 1, 'test': 0},\n",
              " 273: {'name': '00000000000khatone jannat', 'pred': 1, 'test': 0},\n",
              " 275: {'name': '0000000afroja akter moyna', 'pred': 1, 'test': 0},\n",
              " 276: {'name': '000jinnatul yesmin sikder', 'pred': 1, 'test': 0},\n",
              " 281: {'name': '000000000000nabila suraya', 'pred': 1, 'test': 0},\n",
              " 282: {'name': '000000000kishoara shehrin', 'pred': 1, 'test': 0},\n",
              " 284: {'name': 'most. fouzia yeasmin mitu', 'pred': 1, 'test': 0},\n",
              " 286: {'name': '0000000000rekha rani paul', 'pred': 1, 'test': 0},\n",
              " 294: {'name': '000000000umme habiba arpi', 'pred': 1, 'test': 0},\n",
              " 300: {'name': '0000000mosa: masuma akter', 'pred': 1, 'test': 0},\n",
              " 304: {'name': '000000000mst. jely akther', 'pred': 1, 'test': 0},\n",
              " 306: {'name': '0000000sadia sultana mona', 'pred': 1, 'test': 0},\n",
              " 308: {'name': '000000most. moniza khatun', 'pred': 1, 'test': 0},\n",
              " 309: {'name': '000000000mrs.mahiron nesa', 'pred': 1, 'test': 0},\n",
              " 314: {'name': '00000000000mst.mukti bewa', 'pred': 1, 'test': 0},\n",
              " 320: {'name': '00000jesika nokrek swasti', 'pred': 1, 'test': 0},\n",
              " 321: {'name': '00000nur-e akhter tahmina', 'pred': 1, 'test': 0},\n",
              " 325: {'name': '000000mst. shagorika hira', 'pred': 1, 'test': 0},\n",
              " 330: {'name': '000000000000hameda akhter', 'pred': 1, 'test': 0},\n",
              " 333: {'name': '000000000000shipu sarkar.', 'pred': 1, 'test': 0},\n",
              " 336: {'name': '000000000000000gopa modak', 'pred': 1, 'test': 0},\n",
              " 339: {'name': '00000000000rumiya sultana', 'pred': 1, 'test': 0},\n",
              " 345: {'name': '000000000juhi aktar shuva', 'pred': 1, 'test': 0},\n",
              " 346: {'name': '000000000000supali khatun', 'pred': 1, 'test': 0},\n",
              " 349: {'name': '00000000000000nupor banik', 'pred': 1, 'test': 0},\n",
              " 350: {'name': '0000000kh. shahanaz munni', 'pred': 1, 'test': 0},\n",
              " 358: {'name': '00mst tanzina ferdous mim', 'pred': 1, 'test': 0},\n",
              " 359: {'name': '000mst. nasrin akter niha', 'pred': 1, 'test': 0},\n",
              " 362: {'name': '000000000000sojita akther', 'pred': 1, 'test': 0},\n",
              " 364: {'name': '000000000000tahsin waseqa', 'pred': 1, 'test': 0},\n",
              " 365: {'name': '0000jannatun fardosh joty', 'pred': 1, 'test': 0},\n",
              " 370: {'name': '0000000rakiba akter shilu', 'pred': 1, 'test': 0},\n",
              " 371: {'name': '00000mahafuja maliha etu.', 'pred': 1, 'test': 0},\n",
              " 374: {'name': '0000000sumsunnahar nasima', 'pred': 1, 'test': 0},\n",
              " 376: {'name': '0000000000000sowete akter', 'pred': 1, 'test': 0},\n",
              " 377: {'name': '0000000mis. sorifa sarkar', 'pred': 1, 'test': 0},\n",
              " 378: {'name': '00000000000zannatul zakia', 'pred': 1, 'test': 0},\n",
              " 382: {'name': '00000jannatul maua antora', 'pred': 1, 'test': 0},\n",
              " 384: {'name': '000000suraiya islam oyshe', 'pred': 1, 'test': 0},\n",
              " 386: {'name': '00000000mst farida khatun', 'pred': 1, 'test': 0},\n",
              " 395: {'name': '0000000000000pronamee das', 'pred': 1, 'test': 0},\n",
              " 398: {'name': '000000000000rabeka khanom', 'pred': 1, 'test': 0},\n",
              " 408: {'name': '00000000mst. rayeda sarna', 'pred': 1, 'test': 0},\n",
              " 412: {'name': '000000most. afruza khatun', 'pred': 1, 'test': 0},\n",
              " 413: {'name': '00000000gulshan ara jihan', 'pred': 1, 'test': 0},\n",
              " 415: {'name': '0000roksana farid chowhan', 'pred': 1, 'test': 0},\n",
              " 416: {'name': '000000000mst jesmin begun', 'pred': 1, 'test': 0},\n",
              " 420: {'name': '000000000000swapna sarkar', 'pred': 1, 'test': 0},\n",
              " 421: {'name': '0000000000000bilkiss alam', 'pred': 1, 'test': 0},\n",
              " 422: {'name': '00000suraiya akter  lamia', 'pred': 1, 'test': 0},\n",
              " 423: {'name': '0000000000000rezwana alif', 'pred': 1, 'test': 0},\n",
              " 426: {'name': '000000000000varoti bormon', 'pred': 1, 'test': 0},\n",
              " 428: {'name': 'mst. farzana easmin ratna', 'pred': 1, 'test': 0},\n",
              " 429: {'name': '00000000000000zarin atiah', 'pred': 1, 'test': 0},\n",
              " 437: {'name': '000000000000avan rani das', 'pred': 1, 'test': 0},\n",
              " 440: {'name': '0000000000000proma boidya', 'pred': 1, 'test': 0},\n",
              " 441: {'name': '0000000mst. mayeda khatun', 'pred': 1, 'test': 0},\n",
              " 442: {'name': '00000000sajia hossen toma', 'pred': 1, 'test': 0},\n",
              " 443: {'name': '000000000000shirty akther', 'pred': 1, 'test': 0},\n",
              " 450: {'name': '0000000000sujata talukder', 'pred': 1, 'test': 0},\n",
              " 452: {'name': '000000000ranita rani shil', 'pred': 1, 'test': 0},\n",
              " 453: {'name': '000000000000zannatunnaher', 'pred': 1, 'test': 0},\n",
              " 454: {'name': '00saptarshee ghosh barsha', 'pred': 1, 'test': 0},\n",
              " 459: {'name': '000000000000shahanur banu', 'pred': 1, 'test': 0},\n",
              " 462: {'name': '000000000most. asia jaman', 'pred': 1, 'test': 0},\n",
              " 467: {'name': '0000000000000areful khtun', 'pred': 1, 'test': 0},\n",
              " 468: {'name': '00000ayndrila paul  tithi', 'pred': 1, 'test': 0},\n",
              " 469: {'name': '0000000000000tarmim islam', 'pred': 1, 'test': 0},\n",
              " 472: {'name': '00000000000000aziza karim', 'pred': 1, 'test': 0},\n",
              " 474: {'name': '0000000arfin sultana safa', 'pred': 1, 'test': 0},\n",
              " 475: {'name': '0000000000000sobita ghose', 'pred': 1, 'test': 0},\n",
              " 479: {'name': '00000000aysha akter rikta', 'pred': 1, 'test': 0},\n",
              " 480: {'name': '0000000rabeya akter punni', 'pred': 1, 'test': 0},\n",
              " 481: {'name': '0000most. asha moni aktar', 'pred': 1, 'test': 0},\n",
              " 482: {'name': '00000sabiha sultana suimy', 'pred': 1, 'test': 0},\n",
              " 483: {'name': '0000000naima akter bristy', 'pred': 1, 'test': 0},\n",
              " 484: {'name': '0000000000000rukya khanam', 'pred': 1, 'test': 0},\n",
              " 486: {'name': '000mst. sunia akter nupur', 'pred': 1, 'test': 0},\n",
              " 490: {'name': '000000000most. rozi islam', 'pred': 1, 'test': 0},\n",
              " 492: {'name': '000000000000rehana ashraf', 'pred': 1, 'test': 0},\n",
              " 494: {'name': '0000000000mos. ritu aktar', 'pred': 1, 'test': 0},\n",
              " 495: {'name': '00mst. farzana islam mitu', 'pred': 1, 'test': 0},\n",
              " 496: {'name': '0000000taslima akter luna', 'pred': 1, 'test': 0},\n",
              " 498: {'name': '000000000000000ruse akter', 'pred': 1, 'test': 0},\n",
              " 500: {'name': '0000000000000amena afroja', 'pred': 1, 'test': 0},\n",
              " 506: {'name': '000000000jahanara sharker', 'pred': 1, 'test': 0},\n",
              " 507: {'name': '000000most. safura akhter', 'pred': 1, 'test': 0},\n",
              " 508: {'name': '000000000mst shlpe khatun', 'pred': 1, 'test': 0},\n",
              " 509: {'name': '00000000000000moyna aktar', 'pred': 1, 'test': 0},\n",
              " 511: {'name': '0000000ummea kulsum oishy', 'pred': 1, 'test': 0},\n",
              " 516: {'name': '0000000mst. sajida khanom', 'pred': 1, 'test': 0},\n",
              " 521: {'name': '000000000000000000rukhser', 'pred': 1, 'test': 0},\n",
              " 529: {'name': '00000000000puspa rani das', 'pred': 1, 'test': 0},\n",
              " 532: {'name': '00000000000happy rani das', 'pred': 1, 'test': 0},\n",
              " 536: {'name': '0000000000lipika torofder', 'pred': 1, 'test': 0},\n",
              " 539: {'name': '00sidratul muntaha sinthi', 'pred': 1, 'test': 0},\n",
              " 540: {'name': '0000000000000sudebi ghosh', 'pred': 1, 'test': 0},\n",
              " 542: {'name': '00000most. jinnat ara mim', 'pred': 1, 'test': 0},\n",
              " 543: {'name': '00000000000tajremin akter', 'pred': 1, 'test': 0},\n",
              " 544: {'name': '0000000mst. musomi khatun', 'pred': 1, 'test': 0},\n",
              " 548: {'name': '00000sharothi rani sarkar', 'pred': 1, 'test': 0},\n",
              " 551: {'name': '0000000000000kajol raykha', 'pred': 1, 'test': 0},\n",
              " 556: {'name': '0000000mst. shofiya zahan', 'pred': 1, 'test': 0},\n",
              " 557: {'name': '000000bithika rani mandol', 'pred': 1, 'test': 0},\n",
              " 558: {'name': '0000000000mst. ayema bibi', 'pred': 1, 'test': 0},\n",
              " 560: {'name': '000000mst. mumtas tamanna', 'pred': 1, 'test': 0},\n",
              " 561: {'name': '0000mahmuda khatun sweety', 'pred': 1, 'test': 0},\n",
              " 565: {'name': '0000000000000dipti choura', 'pred': 1, 'test': 0},\n",
              " 566: {'name': '00most. afrin aktar miton', 'pred': 1, 'test': 0},\n",
              " 576: {'name': '000000000000younus hossen', 'pred': 1, 'test': 0},\n",
              " 577: {'name': '00000000000000anika sayma', 'pred': 1, 'test': 0},\n",
              " 579: {'name': '000000000000mohura khatun', 'pred': 1, 'test': 0},\n",
              " 581: {'name': '0000000000000afaifa akter', 'pred': 1, 'test': 0},\n",
              " 582: {'name': '000000000000000rakha paul', 'pred': 1, 'test': 0},\n",
              " 586: {'name': '000000000000amatta khatun', 'pred': 1, 'test': 0},\n",
              " 587: {'name': '00000mst. momotaz sonaban', 'pred': 1, 'test': 0},\n",
              " 596: {'name': '00000tamanna sultana toma', 'pred': 1, 'test': 0},\n",
              " 597: {'name': '000000000mst. ahitonnessa', 'pred': 1, 'test': 0},\n",
              " 599: {'name': '000000000maisa hasan elma', 'pred': 1, 'test': 0},\n",
              " 601: {'name': '00000000nusrat laila mili', 'pred': 1, 'test': 0},\n",
              " 603: {'name': '00000000mst. mofiza beowa', 'pred': 1, 'test': 0},\n",
              " 607: {'name': '0mst rahima khanom shapna', 'pred': 1, 'test': 0},\n",
              " 612: {'name': '000mst. tahera begum tani', 'pred': 1, 'test': 0},\n",
              " 613: {'name': '00000000israt sarkar hena', 'pred': 1, 'test': 0},\n",
              " 616: {'name': '00000000mumu hasan laboni', 'pred': 1, 'test': 0},\n",
              " 621: {'name': '0mst. nushrat jahan nisha', 'pred': 1, 'test': 0},\n",
              " 622: {'name': '00000000000nadira  rahman', 'pred': 1, 'test': 0},\n",
              " 624: {'name': '000000mst. khaleda akter.', 'pred': 1, 'test': 0},\n",
              " 627: {'name': '00mst. masuda parvin hawa', 'pred': 1, 'test': 0},\n",
              " 630: {'name': 'st. rabeya sultana shanta', 'pred': 1, 'test': 0},\n",
              " 632: {'name': '000000000000urmita mondal', 'pred': 1, 'test': 0},\n",
              " 633: {'name': '00000taslima akter selina', 'pred': 1, 'test': 0},\n",
              " 635: {'name': '0000000joynti chakrabarti', 'pred': 1, 'test': 0},\n",
              " 638: {'name': '00000000000shipadi chakma', 'pred': 1, 'test': 0},\n",
              " 644: {'name': '000000000000maison khatun', 'pred': 1, 'test': 0},\n",
              " 645: {'name': '0mst onamika akter reshmi', 'pred': 1, 'test': 0},\n",
              " 652: {'name': 'mst. umme habibatun nadia', 'pred': 1, 'test': 0},\n",
              " 655: {'name': '00000sumaia  hoque bristi', 'pred': 1, 'test': 0},\n",
              " 662: {'name': '000000mousumi chakrabarti', 'pred': 1, 'test': 0},\n",
              " 663: {'name': '0000000tasriba jaman akhy', 'pred': 1, 'test': 0},\n",
              " 665: {'name': '0000layeba akter munjirin', 'pred': 1, 'test': 0},\n",
              " 669: {'name': '00000000000zasmine sikder', 'pred': 1, 'test': 0},\n",
              " 674: {'name': '00fatema tuj johora mukta', 'pred': 1, 'test': 0},\n",
              " 679: {'name': '00000jannatul fardous any', 'pred': 1, 'test': 0},\n",
              " 680: {'name': '00000000must. sajna akter', 'pred': 1, 'test': 0},\n",
              " 685: {'name': '000000000laila akter nila', 'pred': 1, 'test': 0},\n",
              " 687: {'name': '000000simonti basak sithi', 'pred': 1, 'test': 0},\n",
              " 689: {'name': '00000000000000akhi bhabuk', 'pred': 1, 'test': 0},\n",
              " 692: {'name': '000000000000masukjan bibi', 'pred': 1, 'test': 0},\n",
              " 693: {'name': '00000sreemoti  rani   das', 'pred': 1, 'test': 0},\n",
              " 697: {'name': '0000000000000000tonmi das', 'pred': 1, 'test': 0},\n",
              " 698: {'name': '000000nayma sultana pakhi', 'pred': 1, 'test': 0},\n",
              " 699: {'name': '00000shermeen akter pinki', 'pred': 1, 'test': 0},\n",
              " 700: {'name': '0000000000000naima  akter', 'pred': 1, 'test': 0},\n",
              " 702: {'name': '00000000000tasfiya khatun', 'pred': 1, 'test': 0},\n",
              " 703: {'name': '000000000000sumesun naher', 'pred': 1, 'test': 0},\n",
              " 710: {'name': '00000000000000000000rukia', 'pred': 1, 'test': 0},\n",
              " 712: {'name': '00000000sadia ferdus urmi', 'pred': 1, 'test': 0},\n",
              " 713: {'name': '000000000chitrali mollick', 'pred': 1, 'test': 0},\n",
              " 714: {'name': '00000000000shahidun akter', 'pred': 1, 'test': 0},\n",
              " 716: {'name': '000000000000tonoya khatun', 'pred': 1, 'test': 0},\n",
              " 720: {'name': '00000000mst. ojola khatun', 'pred': 1, 'test': 0},\n",
              " 721: {'name': '00000000mst sadia yeasmin', 'pred': 1, 'test': 0},\n",
              " 726: {'name': '00000000000000arvi khatun', 'pred': 1, 'test': 0},\n",
              " 729: {'name': '0000000000nanita rani sen', 'pred': 1, 'test': 0},\n",
              " 735: {'name': '0000mst. chadni akter mim', 'pred': 1, 'test': 0},\n",
              " 737: {'name': '0000000000mariyam bhuyain', 'pred': 1, 'test': 0},\n",
              " 739: {'name': '0000ambiya khatun sultana', 'pred': 1, 'test': 0},\n",
              " 742: {'name': '00000000000rehana  akhter', 'pred': 1, 'test': 0},\n",
              " 750: {'name': '00000000urpi akter shoiiy', 'pred': 1, 'test': 0},\n",
              " 753: {'name': '000000000000000yea habiba', 'pred': 1, 'test': 0},\n",
              " 756: {'name': '0000shobnom mustariz khan', 'pred': 1, 'test': 0},\n",
              " 758: {'name': '00mst. jorna akter sarmin', 'pred': 1, 'test': 0},\n",
              " 760: {'name': '0000rahimunnasa chowdhury', 'pred': 1, 'test': 0},\n",
              " 762: {'name': '0000000nusrath jahan naba', 'pred': 1, 'test': 0},\n",
              " 763: {'name': '000000000tarin akther mim', 'pred': 1, 'test': 0},\n",
              " 764: {'name': '000000mosammat akther nur', 'pred': 1, 'test': 0},\n",
              " 771: {'name': '000000asma binte amin chy', 'pred': 1, 'test': 0},\n",
              " 774: {'name': '00000000000kamala shikder', 'pred': 1, 'test': 0},\n",
              " 778: {'name': '0000000000000ezeda khatun', 'pred': 1, 'test': 0},\n",
              " 780: {'name': '0must. moriom akter sakhi', 'pred': 1, 'test': 0},\n",
              " 791: {'name': '0000000000umme subbe urmi', 'pred': 1, 'test': 0},\n",
              " 792: {'name': '00000000000000rumpa islam', 'pred': 1, 'test': 0},\n",
              " 795: {'name': '00000000000farhana tahmid', 'pred': 1, 'test': 0},\n",
              " 798: {'name': '000000000000pryanka akter', 'pred': 1, 'test': 0},\n",
              " 801: {'name': '00000000000000promi karon', 'pred': 1, 'test': 0},\n",
              " 803: {'name': 'shah jafrin sarmina matin', 'pred': 1, 'test': 0},\n",
              " 804: {'name': '0000taslima  nasrin  rimu', 'pred': 1, 'test': 0},\n",
              " 810: {'name': '000000000anima alam shifa', 'pred': 1, 'test': 0},\n",
              " 811: {'name': '00jannatul ferdous tasnia', 'pred': 1, 'test': 0},\n",
              " 813: {'name': '000000000swapna rani paul', 'pred': 1, 'test': 0},\n",
              " 823: {'name': '0000000000000piya mallick', 'pred': 1, 'test': 0},\n",
              " 824: {'name': '00000000mst.anjera khatun', 'pred': 1, 'test': 0},\n",
              " 827: {'name': '0000israt jahan nitu mony', 'pred': 1, 'test': 0},\n",
              " 828: {'name': '00000000000000azima islam', 'pred': 1, 'test': 0},\n",
              " 830: {'name': '000000000000000000000paki', 'pred': 1, 'test': 0},\n",
              " 831: {'name': '0000000000000begum mamata', 'pred': 1, 'test': 0},\n",
              " 837: {'name': '0000000ranjona rani ghosh', 'pred': 1, 'test': 0},\n",
              " 839: {'name': '0000adhita baishnab hridi', 'pred': 1, 'test': 0},\n",
              " 840: {'name': '00000000mrs. resona akter', 'pred': 1, 'test': 0},\n",
              " 841: {'name': '00000000000mst shaharbanu', 'pred': 1, 'test': 0},\n",
              " 845: {'name': '000mt. sumaiya jahan setu', 'pred': 1, 'test': 0},\n",
              " 848: {'name': '000000000000sabiha yesmin', 'pred': 1, 'test': 0},\n",
              " 852: {'name': '000000000000000shanta dev', 'pred': 1, 'test': 0},\n",
              " 854: {'name': '000000000rowson ara muqta', 'pred': 1, 'test': 0},\n",
              " 855: {'name': '000000000000000usila bala', 'pred': 1, 'test': 0},\n",
              " 858: {'name': '00000000000000000papy roy', 'pred': 1, 'test': 0},\n",
              " 859: {'name': '000000tahera islam reshmi', 'pred': 1, 'test': 0},\n",
              " 866: {'name': '0000000kabita rani barmon', 'pred': 1, 'test': 0},\n",
              " 868: {'name': '000000dilruba akter putul', 'pred': 1, 'test': 0},\n",
              " 873: {'name': '00000000oishe akhtar ritu', 'pred': 1, 'test': 0},\n",
              " 875: {'name': '0000000000000miss. nargis', 'pred': 1, 'test': 0},\n",
              " 879: {'name': '000000mosst suraya khatun', 'pred': 1, 'test': 0},\n",
              " 881: {'name': '0komola rani bisso sharma', 'pred': 1, 'test': 0},\n",
              " 889: {'name': '000000000sharifa shultana', 'pred': 1, 'test': 0},\n",
              " 890: {'name': '00000000000000ananna azad', 'pred': 1, 'test': 0},\n",
              " 892: {'name': '00000sifat - e - afia sua', 'pred': 1, 'test': 0},\n",
              " 900: {'name': '000000000000000000memajan', 'pred': 1, 'test': 0},\n",
              " 911: {'name': '000000most. shurju khatun', 'pred': 1, 'test': 0},\n",
              " 912: {'name': '00000000tapushe rani saha', 'pred': 1, 'test': 0},\n",
              " 913: {'name': '00000000000000babe parvin', 'pred': 1, 'test': 0},\n",
              " 916: {'name': '00000000nusrat jahan lara', 'pred': 1, 'test': 0},\n",
              " 919: {'name': '00000000000mita rani nath', 'pred': 1, 'test': 0},\n",
              " 922: {'name': 'mat    meherunnesa    ane', 'pred': 1, 'test': 0},\n",
              " 923: {'name': '000khadeja  jannat  jorna', 'pred': 1, 'test': 0},\n",
              " 924: {'name': '000000000shahina ferdousi', 'pred': 1, 'test': 0},\n",
              " 930: {'name': '00000000papia rani sarker', 'pred': 1, 'test': 0},\n",
              " 931: {'name': '0000000000sumaiya seddika', 'pred': 1, 'test': 0},\n",
              " 932: {'name': '00000000000most.khukumoni', 'pred': 1, 'test': 0},\n",
              " 936: {'name': '00000000mst.sadia yeasmin', 'pred': 1, 'test': 0},\n",
              " 940: {'name': '00samia binte mohsin urmi', 'pred': 1, 'test': 0},\n",
              " 948: {'name': '0000000000runa akter riya', 'pred': 1, 'test': 0},\n",
              " 949: {'name': '00000000samia hoque shipa', 'pred': 1, 'test': 0},\n",
              " 952: {'name': '0000000000000oninka barua', 'pred': 1, 'test': 0},\n",
              " 953: {'name': '00000000000fahema rahaman', 'pred': 1, 'test': 0},\n",
              " 954: {'name': '00000000000000noor ayasha', 'pred': 1, 'test': 0},\n",
              " 956: {'name': '00000000000ayesha rezoana', 'pred': 1, 'test': 0},\n",
              " 959: {'name': '00000sabrina rahman oishe', 'pred': 1, 'test': 0},\n",
              " 962: {'name': '000000lamya akter tuktuki', 'pred': 1, 'test': 0},\n",
              " 964: {'name': '0000000000000tanmoie paul', 'pred': 1, 'test': 0},\n",
              " 967: {'name': '000000000rakshana  khatun', 'pred': 1, 'test': 0},\n",
              " 968: {'name': '000syeda vikarunnesa dola', 'pred': 1, 'test': 0},\n",
              " 971: {'name': '000000000000mina mozumder', 'pred': 1, 'test': 0},\n",
              " 972: {'name': '0000000mist.halima khatun', 'pred': 1, 'test': 0},\n",
              " 975: {'name': '00000000sree. moti bancha', 'pred': 1, 'test': 0},\n",
              " 983: {'name': '00000000shamole rani saha', 'pred': 1, 'test': 0},\n",
              " 985: {'name': '000000most. jannatun moya', 'pred': 1, 'test': 0},\n",
              " 987: {'name': '0000000000000shamima rana', 'pred': 1, 'test': 0},\n",
              " 989: {'name': '000000000000000mina shill', 'pred': 1, 'test': 0},\n",
              " 991: {'name': '0000000mrs. sahida parvin', 'pred': 1, 'test': 0},\n",
              " 992: {'name': '0000000000lipi rani shill', 'pred': 1, 'test': 0},\n",
              " 993: {'name': '000000papia rani saha roy', 'pred': 1, 'test': 0},\n",
              " 995: {'name': '0000000taiba akter zharna', 'pred': 1, 'test': 0},\n",
              " 997: {'name': '0000000mst. mausumy akter', 'pred': 1, 'test': 0},\n",
              " 998: {'name': '0000000000000bakul rahman', 'pred': 1, 'test': 0},\n",
              " 999: {'name': '0000golapi  rani   biswas', 'pred': 1, 'test': 0},\n",
              " 1005: {'name': '0000000000joly  rani paul', 'pred': 1, 'test': 0},\n",
              " 1006: {'name': '00000most. khodaja khatun', 'pred': 1, 'test': 0},\n",
              " 1009: {'name': '000000000nondita kormokar', 'pred': 1, 'test': 0},\n",
              " 1012: {'name': '0000000000rongmala barman', 'pred': 1, 'test': 0},\n",
              " 1017: {'name': '000000ashrafur nahar poly', 'pred': 1, 'test': 0},\n",
              " 1018: {'name': '00000000000000000lizamoni', 'pred': 1, 'test': 0},\n",
              " 1019: {'name': '000000000mst.afsana jahan', 'pred': 1, 'test': 0},\n",
              " 1020: {'name': '000000000000anwara bilkis', 'pred': 1, 'test': 0},\n",
              " 1021: {'name': '000000000saida islam sara', 'pred': 1, 'test': 0},\n",
              " 1022: {'name': '0000dipa rani biswasharma', 'pred': 1, 'test': 0},\n",
              " 1023: {'name': '00000000000joyeta mahajon', 'pred': 1, 'test': 0},\n",
              " 1024: {'name': '000000000000000shiren mir', 'pred': 1, 'test': 0},\n",
              " 1025: {'name': '000000mst. rukeya farhana', 'pred': 1, 'test': 0},\n",
              " 1026: {'name': '00000000000manju rani dsa', 'pred': 1, 'test': 0},\n",
              " 1028: {'name': '000000000parvin akter eva', 'pred': 1, 'test': 0},\n",
              " 1029: {'name': '00000000000shobita khatun', 'pred': 1, 'test': 0},\n",
              " 1034: {'name': '00000000mukti rani sarkar', 'pred': 1, 'test': 0},\n",
              " 1036: {'name': '00000000000ganga rani roy', 'pred': 1, 'test': 0},\n",
              " 1038: {'name': '0000000mst. rishita akter', 'pred': 1, 'test': 0},\n",
              " 1055: {'name': '00000tanhura jaman borsha', 'pred': 1, 'test': 0},\n",
              " 1057: {'name': '00000000kazi maisha islam', 'pred': 1, 'test': 0},\n",
              " 1058: {'name': '0000000000000anika samiha', 'pred': 1, 'test': 0},\n",
              " 1060: {'name': '000000mintika alam nizhum', 'pred': 1, 'test': 0},\n",
              " 1063: {'name': '000000sazia afrin snigdha', 'pred': 1, 'test': 0},\n",
              " 1067: {'name': '00000000sanjida eunus era', 'pred': 1, 'test': 0},\n",
              " 1068: {'name': '000000rumana aktar shilpi', 'pred': 1, 'test': 0},\n",
              " 1069: {'name': '00000000000000eite eismen', 'pred': 1, 'test': 0},\n",
              " 1074: {'name': '00000000000000itti khanam', 'pred': 1, 'test': 0},\n",
              " 1080: {'name': '000000sabikun nahar nupur', 'pred': 1, 'test': 0},\n",
              " 1085: {'name': '00000000aleya khatun lipi', 'pred': 1, 'test': 0},\n",
              " 1088: {'name': '00mst. umma habiba sumona', 'pred': 1, 'test': 0},\n",
              " 1090: {'name': '0000000000000aroti shingh', 'pred': 1, 'test': 0},\n",
              " 1093: {'name': '0ummal khare fatema nishi', 'pred': 1, 'test': 0},\n",
              " 1099: {'name': '00000000 mosharef hossain', 'pred': 1, 'test': 0},\n",
              " 1100: {'name': '000000000lacky rani shill', 'pred': 1, 'test': 0},\n",
              " 1102: {'name': '000most. nazma akter keya', 'pred': 1, 'test': 0},\n",
              " 1103: {'name': '0000000mehrun nesa khanum', 'pred': 1, 'test': 0},\n",
              " 1105: {'name': '00000000mst bilkies nahar', 'pred': 1, 'test': 0},\n",
              " 1106: {'name': 's. fatema  khatun   mukta', 'pred': 1, 'test': 0},\n",
              " 1107: {'name': '00000000mst. amena khatua', 'pred': 1, 'test': 0},\n",
              " 1108: {'name': '0000000pronoti rani ghosh', 'pred': 1, 'test': 0},\n",
              " 1109: {'name': '000000000000anjaly rani .', 'pred': 1, 'test': 0},\n",
              " 1112: {'name': '00000fatema begum shamima', 'pred': 1, 'test': 0},\n",
              " 1113: {'name': '00000000000jannati pervin', 'pred': 1, 'test': 0},\n",
              " 1117: {'name': '00000000000000nurya islam', 'pred': 1, 'test': 0},\n",
              " 1120: {'name': '000000000mourshida khatun', 'pred': 1, 'test': 0},\n",
              " 1127: {'name': 'most. nasrin akter sabana', 'pred': 1, 'test': 0},\n",
              " 1128: {'name': '00000000faria yesmin lopa', 'pred': 1, 'test': 0},\n",
              " 1129: {'name': '00000000000000rupa akther', 'pred': 1, 'test': 0},\n",
              " 1132: {'name': '00000000000jaima jahangir', 'pred': 1, 'test': 0},\n",
              " 1135: {'name': '000000000000000000moriyem', 'pred': 1, 'test': 0},\n",
              " 1136: {'name': '000000most. muktum khatun', 'pred': 1, 'test': 0},\n",
              " 1138: {'name': '0000000000000nahar yesmin', 'pred': 1, 'test': 0},\n",
              " 1142: {'name': '000000000most. parul banu', 'pred': 1, 'test': 0},\n",
              " 1145: {'name': '00000000nishat anam nayma', 'pred': 1, 'test': 0},\n",
              " 1147: {'name': '0000000000000padma biswas', 'pred': 1, 'test': 0},\n",
              " 1148: {'name': '000000000000parul jamader', 'pred': 1, 'test': 0},\n",
              " 1149: {'name': '000000sherabony akter mim', 'pred': 1, 'test': 0},\n",
              " 1151: {'name': '00000000000mini chowdhury', 'pred': 1, 'test': 0},\n",
              " 1153: {'name': '00000000000000jeney soren', 'pred': 1, 'test': 0},\n",
              " 1154: {'name': '00000000000jubila ansuary', 'pred': 1, 'test': 0},\n",
              " 1155: {'name': '0000000sahina akter mukta', 'pred': 1, 'test': 0},\n",
              " 1158: {'name': '00000most. dulruba khatun', 'pred': 1, 'test': 0},\n",
              " 1161: {'name': '000000000dayjee chowdhury', 'pred': 1, 'test': 0},\n",
              " 1163: {'name': '000000tanjina aktar tohin', 'pred': 1, 'test': 0},\n",
              " 1165: {'name': '000000zannatul mawa shumi', 'pred': 1, 'test': 0},\n",
              " 1171: {'name': '00mosa. shaharina roksana', 'pred': 1, 'test': 0},\n",
              " 1173: {'name': '0000000miss. ummay kulsum', 'pred': 1, 'test': 0},\n",
              " 1177: {'name': '000000000000000mintu devi', 'pred': 1, 'test': 0},\n",
              " 1178: {'name': '000000000000shiuly baidya', 'pred': 1, 'test': 0},\n",
              " 1185: {'name': '000000000000kanij sultana', 'pred': 1, 'test': 0},\n",
              " 1191: {'name': '000000000mis. tuly khatun', 'pred': 1, 'test': 0},\n",
              " 1193: {'name': '000000000shajanta tashnim', 'pred': 1, 'test': 0},\n",
              " 1194: {'name': '00000000000000reba baidya', 'pred': 1, 'test': 0},\n",
              " 1195: {'name': '00000000parvin akter ranu', 'pred': 1, 'test': 0},\n",
              " 1196: {'name': '000000komari ruponti rani', 'pred': 1, 'test': 0},\n",
              " 1202: {'name': '0000000sadiya afrin anika', 'pred': 1, 'test': 0},\n",
              " 1203: {'name': '000000000000000keya bonik', 'pred': 1, 'test': 0},\n",
              " 1205: {'name': '00000000000jannatul  maua', 'pred': 1, 'test': 0},\n",
              " 1207: {'name': '000000all-mumtahina arika', 'pred': 1, 'test': 0},\n",
              " 1211: {'name': '0000000000sifa akter mitu', 'pred': 1, 'test': 0},\n",
              " 1212: {'name': '0000000ayesha binte masud', 'pred': 1, 'test': 0},\n",
              " 1214: {'name': '0000000mst. marjiah akter', 'pred': 1, 'test': 0},\n",
              " 1222: {'name': '00000000000sargina khatun', 'pred': 1, 'test': 0},\n",
              " 1226: {'name': '000000000000000shaharbanu', 'pred': 1, 'test': 0},\n",
              " 1232: {'name': '000000000000000jhunu paul', 'pred': 1, 'test': 0},\n",
              " 1236: {'name': '0000000000khandokar shila', 'pred': 1, 'test': 0},\n",
              " 1238: {'name': '00000000000000minu sushil', 'pred': 1, 'test': 0},\n",
              " 1241: {'name': '00000000nurun nahar nahin', 'pred': 1, 'test': 0},\n",
              " 1242: {'name': '00000000rishdinaal jannat', 'pred': 1, 'test': 0},\n",
              " 1245: {'name': '000000000mst.jhenia akter', 'pred': 1, 'test': 0},\n",
              " 1247: {'name': '0000000000000siulei akter', 'pred': 1, 'test': 0},\n",
              " 1248: {'name': '00mst. mukta akter fatima', 'pred': 1, 'test': 0},\n",
              " 1254: {'name': '0000000farhana begum lili', 'pred': 1, 'test': 0},\n",
              " 1256: {'name': '00000000kiron maye bhadra', 'pred': 1, 'test': 0},\n",
              " 1261: {'name': '00mst. monika akther mitu', 'pred': 1, 'test': 0},\n",
              " 1264: {'name': '0000000000000000000fakaya', 'pred': 1, 'test': 0},\n",
              " 1267: {'name': '00000000mst. munzu khatun', 'pred': 1, 'test': 0},\n",
              " 1268: {'name': '000000000000bhagroti rani', 'pred': 1, 'test': 0},\n",
              " 1271: {'name': '00000000000purmila halder', 'pred': 1, 'test': 0},\n",
              " 1272: {'name': 'mst. sharjana akter shanu', 'pred': 1, 'test': 0},\n",
              " 1273: {'name': '000000umme tasmin jubaeda', 'pred': 1, 'test': 0},\n",
              " 1274: {'name': '0000000000000shaylla rani', 'pred': 1, 'test': 0},\n",
              " 1282: {'name': '0000000000000mamuni soren', 'pred': 1, 'test': 0},\n",
              " 1285: {'name': '000000fabiha tasnim umama', 'pred': 1, 'test': 0},\n",
              " 1286: {'name': '000000000sudarsona chakma', 'pred': 1, 'test': 0},\n",
              " 1289: {'name': '00000tasmia rahman tanshi', 'pred': 1, 'test': 0},\n",
              " 1290: {'name': '00000ferdousi begam mukta', 'pred': 1, 'test': 0},\n",
              " 1291: {'name': '0000khandaker jabale noor', 'pred': 1, 'test': 0},\n",
              " 1292: {'name': '000000000rituparna biswas', 'pred': 1, 'test': 0},\n",
              " 1294: {'name': '000000000000lima  rahaman', 'pred': 1, 'test': 0},\n",
              " 1295: {'name': '00000000rawsonara  khatun', 'pred': 1, 'test': 0},\n",
              " 1301: {'name': '00000000000000mariam safa', 'pred': 1, 'test': 0},\n",
              " 1304: {'name': '00000000000000most.tasmia', 'pred': 1, 'test': 0},\n",
              " 1305: {'name': '00000000000janehar khatun', 'pred': 1, 'test': 0},\n",
              " 1313: {'name': 'ay habiba begum chowdhury', 'pred': 1, 'test': 0},\n",
              " 1315: {'name': '000000000toma rani chumki', 'pred': 1, 'test': 0},\n",
              " 1319: {'name': '00000000000naharon khatun', 'pred': 1, 'test': 0},\n",
              " 1320: {'name': '0000000000000arati goldar', 'pred': 1, 'test': 0},\n",
              " 1324: {'name': '00000000000nur-mahal nury', 'pred': 1, 'test': 0},\n",
              " 1326: {'name': '0000000owangmaching marma', 'pred': 1, 'test': 0},\n",
              " 1329: {'name': '00000000dristi rani ghosh', 'pred': 1, 'test': 0},\n",
              " 1331: {'name': '000000000000000mala mirja', 'pred': 1, 'test': 0},\n",
              " 1337: {'name': '000000mst. sobura khatun.', 'pred': 1, 'test': 0},\n",
              " 1339: {'name': '00000000000ainoor parveen', 'pred': 1, 'test': 0},\n",
              " 1341: {'name': '000000000000milia sultana', 'pred': 1, 'test': 0},\n",
              " 1343: {'name': '00000kulsum akter sumaiya', 'pred': 1, 'test': 0},\n",
              " 1345: {'name': '00000000putul rani sajjan', 'pred': 1, 'test': 0},\n",
              " 1346: {'name': '000000000000kona roy puja', 'pred': 1, 'test': 0},\n",
              " 1348: {'name': '0000000saira  akter  lipi', 'pred': 1, 'test': 0},\n",
              " 1354: {'name': '00mst.sumaiya khatun popy', 'pred': 1, 'test': 0},\n",
              " 1358: {'name': '000000000000lajjater nesa', 'pred': 1, 'test': 0},\n",
              " 1365: {'name': '000000000lipy akter sorna', 'pred': 1, 'test': 0},\n",
              " 1366: {'name': '000000000sheuli rani nath', 'pred': 1, 'test': 0},\n",
              " 1371: {'name': '000000suborna rani sorker', 'pred': 1, 'test': 0},\n",
              " 1372: {'name': '00000000000sultana razeya', 'pred': 1, 'test': 0},\n",
              " 1375: {'name': '000000000000000000mafruza', 'pred': 1, 'test': 0},\n",
              " 1378: {'name': '0tahmina siddik chowdhury', 'pred': 1, 'test': 0},\n",
              " 1379: {'name': '00000000000000mosa. lakum', 'pred': 1, 'test': 0},\n",
              " 1382: {'name': '00000most. shirity khatun', 'pred': 1, 'test': 0},\n",
              " 1385: {'name': '00000000mrs shirin akthar', 'pred': 1, 'test': 0},\n",
              " 1391: {'name': '000khaleda sultana tasmin', 'pred': 1, 'test': 0},\n",
              " 1392: {'name': '00000000000jerin  raihana', 'pred': 1, 'test': 0},\n",
              " 1393: {'name': '00000000000fawzia sharmin', 'pred': 1, 'test': 0},\n",
              " 1395: {'name': '00000000000afroza afshana', 'pred': 1, 'test': 0},\n",
              " 1397: {'name': '000000musfika jahan shami', 'pred': 1, 'test': 0},\n",
              " 1400: {'name': '00000000mst. remme khatun', 'pred': 1, 'test': 0},\n",
              " 1401: {'name': '00000000ms. abeda sultana', 'pred': 1, 'test': 0},\n",
              " 1406: {'name': '000000000isratjahan kajol', 'pred': 1, 'test': 0},\n",
              " 1413: {'name': '00000000000000000000labli', 'pred': 1, 'test': 0},\n",
              " 1419: {'name': '00000000rahana akter kusi', 'pred': 1, 'test': 0},\n",
              " 1423: {'name': '00000000000sultana ishrat', 'pred': 1, 'test': 0},\n",
              " 1428: {'name': '00000helena munjury gomez', 'pred': 1, 'test': 0},\n",
              " 1431: {'name': '00000000mahbuba haque etu', 'pred': 1, 'test': 0},\n",
              " 1433: {'name': '000000000000nabila khatun', 'pred': 1, 'test': 0},\n",
              " 1434: {'name': '00000000shantana rani ray', 'pred': 1, 'test': 0},\n",
              " 1436: {'name': '0000joyenthie rani mallik', 'pred': 1, 'test': 0},\n",
              " 1437: {'name': '0000000000000khorshed ara', 'pred': 1, 'test': 0},\n",
              " 1441: {'name': '000000shumona rani sarker', 'pred': 1, 'test': 0},\n",
              " 1443: {'name': '0000mst. nilima afroz mow', 'pred': 1, 'test': 0},\n",
              " 1445: {'name': 'tuna jannat fareha khanam', 'pred': 1, 'test': 0},\n",
              " 1447: {'name': '0000000000sujola bala das', 'pred': 1, 'test': 0},\n",
              " 1453: {'name': '000000000000morjana akter', 'pred': 1, 'test': 0},\n",
              " 1457: {'name': '00000000000protyasha saba', 'pred': 1, 'test': 0},\n",
              " 1459: {'name': '000000000000000dipali roy', 'pred': 1, 'test': 0},\n",
              " 1461: {'name': '00000000000chandona shaha', 'pred': 1, 'test': 0},\n",
              " 1466: {'name': '0000lailatul barat nijhum', 'pred': 1, 'test': 0},\n",
              " 1467: {'name': '000000mosmmed parul akter', 'pred': 1, 'test': 0},\n",
              " 1471: {'name': '000000000lamia akther mim', 'pred': 1, 'test': 0},\n",
              " 1472: {'name': 'mst. sumaiya jannat summa', 'pred': 1, 'test': 0},\n",
              " 1473: {'name': '00000fahima akhter  monni', 'pred': 1, 'test': 0},\n",
              " 1474: {'name': '00000000000rina das gupta', 'pred': 1, 'test': 0},\n",
              " 1482: {'name': '0000000mst. anzuman islam', 'pred': 1, 'test': 0},\n",
              " 1485: {'name': '0000000ms. nurunnesa simi', 'pred': 1, 'test': 0},\n",
              " 1488: {'name': '000000000000kabita barman', 'pred': 1, 'test': 0},\n",
              " 1490: {'name': '0000000000000suprava bain', 'pred': 1, 'test': 0},\n",
              " 1499: {'name': '0000anjali rani sutradhar', 'pred': 1, 'test': 0},\n",
              " 1500: {'name': '000mst. shamima umme hani', 'pred': 1, 'test': 0},\n",
              " 1502: {'name': '00000000000takmina alkter', 'pred': 1, 'test': 0},\n",
              " 1503: {'name': '0000000000000anonnya rani', 'pred': 1, 'test': 0},\n",
              " 1504: {'name': '00000000000panna acharjwa', 'pred': 1, 'test': 0},\n",
              " 1510: {'name': '0000janatoul fardous sova', 'pred': 1, 'test': 0},\n",
              " 1512: {'name': '0shree moti costine murmu', 'pred': 1, 'test': 0},\n",
              " 1515: {'name': '000000000000000papri sing', 'pred': 1, 'test': 0},\n",
              " 1517: {'name': '000000000mst alija khatun', 'pred': 1, 'test': 0},\n",
              " 1519: {'name': '000000basratul jannat ema', 'pred': 1, 'test': 0},\n",
              " 1520: {'name': '0000000000merin jahan mou', 'pred': 1, 'test': 0},\n",
              " 1522: {'name': '000000000000duluna parvin', 'pred': 1, 'test': 0},\n",
              " 1523: {'name': '0000000000000000ity akter', 'pred': 1, 'test': 0},\n",
              " 1524: {'name': '00mst. habiba nargis banu', 'pred': 1, 'test': 0},\n",
              " 1531: {'name': 'jhumur rani roy chowdhury', 'pred': 1, 'test': 0},\n",
              " 1532: {'name': '00000sultana akhter papia', 'pred': 1, 'test': 0},\n",
              " 1535: {'name': '000000000000lepea sultana', 'pred': 1, 'test': 0},\n",
              " 1537: {'name': '000000maksuda atika moury', 'pred': 1, 'test': 0},\n",
              " 1541: {'name': '000000000000sumiya sikder', 'pred': 1, 'test': 0},\n",
              " 1542: {'name': '00000sarzina akter samely', 'pred': 1, 'test': 0},\n",
              " 1543: {'name': '0000000000000000ruman ara', 'pred': 1, 'test': 0},\n",
              " 1544: {'name': '000000umme kulsum mahmuda', 'pred': 1, 'test': 0},\n",
              " 1545: {'name': '0000000000000000rup naher', 'pred': 1, 'test': 0},\n",
              " 1546: {'name': '000000000mst ozala khatun', 'pred': 1, 'test': 0},\n",
              " 1550: {'name': '00000000000shamira yesmin', 'pred': 1, 'test': 0},\n",
              " 1551: {'name': '0000000000000dulari ahmed', 'pred': 1, 'test': 0},\n",
              " 1554: {'name': '00000most. sabina yaesmin', 'pred': 1, 'test': 0},\n",
              " 1557: {'name': '00000purnima rani vhowmik', 'pred': 1, 'test': 0},\n",
              " 1558: {'name': '0000000000000papri bepari', 'pred': 1, 'test': 0},\n",
              " 1563: {'name': '0000000000000000000varate', 'pred': 1, 'test': 0},\n",
              " 1567: {'name': '000mst. laboni akter rita', 'pred': 1, 'test': 0},\n",
              " 1569: {'name': '00000000champa rani  shil', 'pred': 1, 'test': 0},\n",
              " 1571: {'name': '000mst. rowshanara mahmud', 'pred': 1, 'test': 0},\n",
              " 1574: {'name': '0000000000rowshana akther', 'pred': 1, 'test': 0},\n",
              " 1575: {'name': '0000000most: tanjil akter', 'pred': 1, 'test': 0},\n",
              " 1578: {'name': '0000most. kohinoor kaatun', 'pred': 1, 'test': 0},\n",
              " 1580: {'name': '000000mst. kakoli  khatun', 'pred': 1, 'test': 0},\n",
              " 1581: {'name': '000000000samina akter mim', 'pred': 1, 'test': 0},\n",
              " 1583: {'name': '000000baby rani  baishnab', 'pred': 1, 'test': 0},\n",
              " 1587: {'name': '0000000000000tasfin akter', 'pred': 1, 'test': 0},\n",
              " 1588: {'name': '000000meherin zannat meri', 'pred': 1, 'test': 0},\n",
              " 1592: {'name': '000gazee   nazmun   naher', 'pred': 1, 'test': 0},\n",
              " 1593: {'name': '0000000000ummay hany setu', 'pred': 1, 'test': 0},\n",
              " 1595: {'name': 'mst. tahmina akter shiuly', 'pred': 1, 'test': 0},\n",
              " 1596: {'name': '000000tazmun yeasmin mary', 'pred': 1, 'test': 0},\n",
              " 1597: {'name': '00000000000000tiloka saha', 'pred': 1, 'test': 0},\n",
              " 1602: {'name': '0000000000000asima mollik', 'pred': 1, 'test': 0},\n",
              " 1605: {'name': '000000000000sayma sharmin', 'pred': 1, 'test': 0},\n",
              " 1607: {'name': '00000000000000000000 nanu', 'pred': 1, 'test': 0},\n",
              " 1609: {'name': '0000mst. arefa akter toma', 'pred': 1, 'test': 0},\n",
              " 1611: {'name': '0000000000000000asma ruby', 'pred': 1, 'test': 0},\n",
              " 1619: {'name': '00000000000000rita khatun', 'pred': 1, 'test': 0},\n",
              " 1622: {'name': '00000000mst. elifa  akter', 'pred': 1, 'test': 0},\n",
              " 1628: {'name': '000000sanjida akter rumki', 'pred': 1, 'test': 0},\n",
              " 1644: {'name': '00000000000gayatri  lohar', 'pred': 1, 'test': 0},\n",
              " 1645: {'name': '00000000syeda israt jahan', 'pred': 1, 'test': 0},\n",
              " 1646: {'name': '0000000mahfiza mamun momy', 'pred': 1, 'test': 0},\n",
              " 1652: {'name': '000mst. nusrat jahan mina', 'pred': 1, 'test': 0},\n",
              " 1654: {'name': '0000000000farjahan yasmin', 'pred': 1, 'test': 0},\n",
              " 1655: {'name': '0000000mst. nishad sarker', 'pred': 1, 'test': 0},\n",
              " 1656: {'name': 'most. nargis sultana nisa', 'pred': 1, 'test': 0},\n",
              " 1658: {'name': '0000000000morseda sultana', 'pred': 1, 'test': 0},\n",
              " 1661: {'name': '00000000summya akter tuli', 'pred': 1, 'test': 0},\n",
              " 1665: {'name': '00000000afsana akter moon', 'pred': 1, 'test': 0},\n",
              " 1669: {'name': '0000000most. razia khanam', 'pred': 1, 'test': 0},\n",
              " 1671: {'name': '0000rubayat jahan tamanna', 'pred': 1, 'test': 0},\n",
              " 1672: {'name': '000000000000most. bulbuly', 'pred': 1, 'test': 0},\n",
              " 1673: {'name': '0000most. kurshida gaffar', 'pred': 1, 'test': 0},\n",
              " 1677: {'name': '00000sanjida islam faheba', 'pred': 1, 'test': 0},\n",
              " 1679: {'name': '0000000pushpa rani baidya', 'pred': 1, 'test': 0},\n",
              " 1680: {'name': '000000000priya rani bosak', 'pred': 1, 'test': 0},\n",
              " 1682: {'name': 'ida akter  chowdhury  eva', 'pred': 1, 'test': 0},\n",
              " 1683: {'name': '000000000maria afrin jaba', 'pred': 1, 'test': 0},\n",
              " 1684: {'name': '000000000000chamely  bosu', 'pred': 1, 'test': 0},\n",
              " 1689: {'name': '00000sultana parveen lipi', 'pred': 1, 'test': 0},\n",
              " 1690: {'name': '000000000000000md. robiul', 'pred': 1, 'test': 0},\n",
              " 1699: {'name': '000000000000000amena azad', 'pred': 1, 'test': 0},\n",
              " 1706: {'name': '000000000loxmirane sarkar', 'pred': 1, 'test': 0},\n",
              " 1707: {'name': '0000000000000000suki shil', 'pred': 1, 'test': 0},\n",
              " 1709: {'name': '0000000000000000monoswari', 'pred': 1, 'test': 0},\n",
              " 1713: {'name': '000000000md. imamul islam', 'pred': 1, 'test': 0},\n",
              " 1722: {'name': '000000000000antora mistri', 'pred': 1, 'test': 0},\n",
              " 1725: {'name': '0000000bina rani kormokar', 'pred': 1, 'test': 0},\n",
              " 1726: {'name': '00000000000000mst. labani', 'pred': 1, 'test': 0},\n",
              " 1728: {'name': '0000000000000sintia afroz', 'pred': 1, 'test': 0},\n",
              " 1731: {'name': '0000imrana parveen muskan', 'pred': 1, 'test': 0},\n",
              " 1738: {'name': '00mst. razia sultana akhi', 'pred': 1, 'test': 0},\n",
              " 1739: {'name': '000000aysha siddika tonni', 'pred': 1, 'test': 0},\n",
              " 1742: {'name': 'most. farjana aktar lucky', 'pred': 1, 'test': 0},\n",
              " 1743: {'name': '000000000000hasina sarwar', 'pred': 1, 'test': 0},\n",
              " 1747: {'name': '000000000000000alfa katun', 'pred': 1, 'test': 0},\n",
              " 1751: {'name': '000000000000000000semafru', 'pred': 1, 'test': 0},\n",
              " 1754: {'name': '000000itika rani karmaker', 'pred': 1, 'test': 0},\n",
              " 1759: {'name': '000000000000000abdul alim', 'pred': 1, 'test': 0},\n",
              " 1760: {'name': '000000000000000bibi arofa', 'pred': 1, 'test': 0},\n",
              " 1766: {'name': '000000000papiya rani dash', 'pred': 1, 'test': 0},\n",
              " 1773: {'name': '000000000000000shimu paul', 'pred': 1, 'test': 0},\n",
              " 1774: {'name': '000000farhana haque masud', 'pred': 1, 'test': 0},\n",
              " 1776: {'name': '00000000umaiya zaman asha', 'pred': 1, 'test': 0},\n",
              " 1784: {'name': '0000000easmin akter rotna', 'pred': 1, 'test': 0},\n",
              " 1786: {'name': '00000000000arthona mondol', 'pred': 1, 'test': 0},\n",
              " 1789: {'name': '0000000000000zinia khatun', 'pred': 1, 'test': 0},\n",
              " 1792: {'name': '00000000000000milona gain', 'pred': 1, 'test': 0},\n",
              " 1793: {'name': '00000fatema islam tamanna', 'pred': 1, 'test': 0},\n",
              " 1795: {'name': '00000000faria hoque zahin', 'pred': 1, 'test': 0},\n",
              " 1796: {'name': '0000000000000rimpy mollik', 'pred': 1, 'test': 0},\n",
              " 1799: {'name': '.  suraiya  khan  majlish', 'pred': 1, 'test': 0},\n",
              " 1803: {'name': '0mst. mahafuza tanminrifa', 'pred': 1, 'test': 0},\n",
              " 1805: {'name': '0000000amman shahin priya', 'pred': 1, 'test': 0},\n",
              " 1806: {'name': '00000000most- umme habiba', 'pred': 1, 'test': 0},\n",
              " 1807: {'name': '00000000samsurnahar akter', 'pred': 1, 'test': 0},\n",
              " 1808: {'name': '0000jannatul ferdows rumi', 'pred': 1, 'test': 0},\n",
              " 1810: {'name': '000000000000tasmina karim', 'pred': 1, 'test': 0},\n",
              " 1815: {'name': '000000000most.seema akter', 'pred': 1, 'test': 0},\n",
              " 1818: {'name': 'mst.shabrin sultana suchi', 'pred': 1, 'test': 0},\n",
              " 1822: {'name': '000000shoma rani robi das', 'pred': 1, 'test': 0},\n",
              " 1827: {'name': '00000000000ruposri sarkar', 'pred': 1, 'test': 0},\n",
              " 1832: {'name': '000000000000000asma harun', 'pred': 1, 'test': 0},\n",
              " 1833: {'name': '00000000000000borna ghosh', 'pred': 1, 'test': 0},\n",
              " 1838: {'name': '00000000000000nomita roy.', 'pred': 1, 'test': 0},\n",
              " 1842: {'name': '000000000ummay salma mala', 'pred': 1, 'test': 0},\n",
              " 1843: {'name': '00000000000selina   akter', 'pred': 1, 'test': 0},\n",
              " 1846: {'name': '00000000toni bala tripura', 'pred': 1, 'test': 0},\n",
              " 1849: {'name': '0000000000000sornali banu', 'pred': 1, 'test': 0},\n",
              " 1850: {'name': '000000nishat jahan mithun', 'pred': 1, 'test': 0},\n",
              " 1851: {'name': '0000sangana islam safitri', 'pred': 1, 'test': 0},\n",
              " 1852: {'name': '000000000000000000suburna', 'pred': 1, 'test': 0},\n",
              " 1858: {'name': '00000000000sandhya sarder', 'pred': 1, 'test': 0},\n",
              " 1868: {'name': '000000000umme fatema riya', 'pred': 1, 'test': 0},\n",
              " 1870: {'name': '00000mossa. yesmin akter.', 'pred': 1, 'test': 0},\n",
              " 1873: {'name': '000000ishrat zahan lovely', 'pred': 1, 'test': 0},\n",
              " 1874: {'name': '00000000000000urmi boidya', 'pred': 1, 'test': 0},\n",
              " 1876: {'name': '00000afifa maliha hridita', 'pred': 1, 'test': 0},\n",
              " 1878: {'name': '0000000000joyonti rozario', 'pred': 1, 'test': 0},\n",
              " 1879: {'name': '000000000000fardous aleya', 'pred': 1, 'test': 0},\n",
              " 1881: {'name': '00000late. nioti rani roy', 'pred': 1, 'test': 0},\n",
              " 1887: {'name': '00mst. shamima aktar lima', 'pred': 1, 'test': 0},\n",
              " 1888: {'name': '000000000000sultana afruz', 'pred': 1, 'test': 0},\n",
              " 1890: {'name': '000000tokiotunnesa tasnur', 'pred': 1, 'test': 0},\n",
              " 1891: {'name': '000000mst. shirajummunira', 'pred': 1, 'test': 0},\n",
              " 1892: {'name': '00000000000mst joynob ara', 'pred': 1, 'test': 0},\n",
              " 1893: {'name': '000000000mst.mina  khatun', 'pred': 1, 'test': 0},\n",
              " 1894: {'name': '0000000000000banu malaker', 'pred': 1, 'test': 0},\n",
              " 1896: {'name': '000sharnali mondal bristy', 'pred': 1, 'test': 0},\n",
              " 1900: {'name': '000000000000santona aysha', 'pred': 1, 'test': 0},\n",
              " 1905: {'name': '000000000000ishika rahman', 'pred': 1, 'test': 0},\n",
              " 1907: {'name': '00000000000000nipa  barai', 'pred': 1, 'test': 0},\n",
              " 1910: {'name': '0000khorshida jahan tarin', 'pred': 1, 'test': 0},\n",
              " 1911: {'name': '000000000000lalima khatun', 'pred': 1, 'test': 0},\n",
              " 1913: {'name': '000000000miss rupa kahtun', 'pred': 1, 'test': 0},\n",
              " 1914: {'name': '0000000000000reva shikari', 'pred': 1, 'test': 0},\n",
              " 1917: {'name': '00000most. shomona akhter', 'pred': 1, 'test': 0},\n",
              " 1918: {'name': '0000sabiha tabassuma riya', 'pred': 1, 'test': 0},\n",
              " 1921: {'name': '        nahar        lata', 'pred': 1, 'test': 0},\n",
              " 1926: {'name': '00000000000000zakia zarin', 'pred': 1, 'test': 0},\n",
              " 1928: {'name': '000000000saida akter laki', 'pred': 1, 'test': 0},\n",
              " 1929: {'name': '00000000000mss. mim aktar', 'pred': 1, 'test': 0},\n",
              " 1934: {'name': '000000000000shawona akter', 'pred': 1, 'test': 0},\n",
              " 1935: {'name': '0000000000000shiuly kamal', 'pred': 1, 'test': 0},\n",
              " 1938: {'name': '00000000000kazi afia taqi', 'pred': 1, 'test': 0},\n",
              " 1939: {'name': '0000000000000maghla hasan', 'pred': 1, 'test': 0},\n",
              " 1941: {'name': '000000000000nisath khatun', 'pred': 1, 'test': 0},\n",
              " 1943: {'name': '00000000kazi tahsin mahua', 'pred': 1, 'test': 0},\n",
              " 1944: {'name': '000000israt jahan shahara', 'pred': 1, 'test': 0},\n",
              " 1947: {'name': '00000000sabithri  bardhan', 'pred': 1, 'test': 0},\n",
              " 1957: {'name': '000000000mst.nasrin akter', 'pred': 1, 'test': 0},\n",
              " 1962: {'name': '0000000000000shida pervin', 'pred': 1, 'test': 0},\n",
              " 1963: {'name': '00000000000bally rani roy', 'pred': 1, 'test': 0},\n",
              " 1964: {'name': '0000rasmin sultana swarna', 'pred': 1, 'test': 0},\n",
              " 1965: {'name': '000000prosadi rani mondal', 'pred': 1, 'test': 0},\n",
              " 1973: {'name': '000mobassara zannat tinni', 'pred': 1, 'test': 0},\n",
              " 1976: {'name': '0000000000000monira shoma', 'pred': 1, 'test': 0},\n",
              " 1977: {'name': '0000000mst  jesmin  nahar', 'pred': 1, 'test': 0},\n",
              " 1979: {'name': '00dilruba shahanaz lovely', 'pred': 1, 'test': 0},\n",
              " 1980: {'name': '000000naima ferdous sreya', 'pred': 1, 'test': 0},\n",
              " 1981: {'name': '00000000000bristy bairagi', 'pred': 1, 'test': 0},\n",
              " 1983: {'name': '000000000000mona kirtunia', 'pred': 1, 'test': 0},\n",
              " 1986: {'name': '0000000000roksana  hasnat', 'pred': 1, 'test': 0},\n",
              " 1987: {'name': '000000000000tushiba aktar', 'pred': 1, 'test': 0},\n",
              " 1993: {'name': '000000kumari  sumita rani', 'pred': 1, 'test': 0},\n",
              " 1996: {'name': '00000000000ms. joti akter', 'pred': 1, 'test': 0},\n",
              " 1998: {'name': '000jannatul tajri shuhagi', 'pred': 1, 'test': 0},\n",
              " 1999: {'name': '0000maliha monowara turna', 'pred': 1, 'test': 0},\n",
              " 2002: {'name': '0000000000000000000sristy', 'pred': 1, 'test': 0},\n",
              " 2004: {'name': '0000000000000anjali badya', 'pred': 1, 'test': 0},\n",
              " 2005: {'name': '00000000000000farjana nur', 'pred': 1, 'test': 0},\n",
              " 2006: {'name': '00000000shakowat un nessa', 'pred': 1, 'test': 0},\n",
              " 2009: {'name': '00000000rabeya islam toma', 'pred': 1, 'test': 0},\n",
              " 2012: {'name': '0000000000aishwarya mrong', 'pred': 1, 'test': 0},\n",
              " 2014: {'name': '0000000sharif esrat jahan', 'pred': 1, 'test': 0},\n",
              " 2015: {'name': '000000000kazi safina banu', 'pred': 1, 'test': 0},\n",
              " 2018: {'name': '00000most. minuwara akter', 'pred': 1, 'test': 0},\n",
              " 2019: {'name': '000000most. suruja khatun', 'pred': 1, 'test': 0},\n",
              " 2022: {'name': '000shahanara shahin monju', 'pred': 1, 'test': 0},\n",
              " 2025: {'name': '0000shymoli akter (shimu)', 'pred': 1, 'test': 0},\n",
              " 2028: {'name': '00000000rahima akter sumi', 'pred': 1, 'test': 0},\n",
              " 2029: {'name': '00000000000000milon madhu', 'pred': 1, 'test': 0},\n",
              " 2034: {'name': '00000000000sanjahan meher', 'pred': 1, 'test': 0},\n",
              " 2035: {'name': '000000afruja khanom mukta', 'pred': 1, 'test': 0},\n",
              " 2040: {'name': '000000000000mohona akhter', 'pred': 1, 'test': 0},\n",
              " 2042: {'name': '00000000000tama shamadder', 'pred': 1, 'test': 0},\n",
              " 2043: {'name': '000000000000shoria yasmin', 'pred': 1, 'test': 0},\n",
              " 2044: {'name': '000000tanjila akter porna', 'pred': 1, 'test': 0},\n",
              " 2045: {'name': '00000000najmin akter riea', 'pred': 1, 'test': 0},\n",
              " 2049: {'name': '00000000000000shirin bala', 'pred': 1, 'test': 0},\n",
              " 2050: {'name': '000000000000sabita sikder', 'pred': 1, 'test': 0},\n",
              " 2052: {'name': '000000000mst. mousumi alo', 'pred': 1, 'test': 0},\n",
              " 2053: {'name': '000000sayeda nowrin heara', 'pred': 1, 'test': 0},\n",
              " 2055: {'name': '00000000000000anika elias', 'pred': 1, 'test': 0},\n",
              " 2057: {'name': '0000000000zannatun peyara', 'pred': 1, 'test': 0},\n",
              " 2058: {'name': '0000000000000aleyea akter', 'pred': 1, 'test': 0},\n",
              " 2059: {'name': '000000000000000tulcy rani', 'pred': 1, 'test': 0},\n",
              " 2062: {'name': '00000000000mst. lacky ara', 'pred': 1, 'test': 0},\n",
              " 2065: {'name': '0000000000000000fency roy', 'pred': 1, 'test': 0},\n",
              " 2066: {'name': '000mst. faria akter rumpa', 'pred': 1, 'test': 0},\n",
              " 2070: {'name': '0most. arnika nousin anni', 'pred': 1, 'test': 0},\n",
              " 2073: {'name': '00000000000shorove khanom', 'pred': 1, 'test': 0},\n",
              " 2075: {'name': '000000000000parbati mitra', 'pred': 1, 'test': 0},\n",
              " 2080: {'name': '000000000madhubi rani ray', 'pred': 1, 'test': 0},\n",
              " 2081: {'name': '000000most. zohura khatun', 'pred': 1, 'test': 0},\n",
              " 2082: {'name': '000000000giri bala singha', 'pred': 1, 'test': 0},\n",
              " 2083: {'name': '00000000000mst. worme ara', 'pred': 1, 'test': 0},\n",
              " 2084: {'name': '0000000000alena akter eva', 'pred': 1, 'test': 0},\n",
              " 2088: {'name': '0000000000jannatul tohura', 'pred': 1, 'test': 0},\n",
              " 2090: {'name': '00000jainuka akter khushi', 'pred': 1, 'test': 0},\n",
              " 2100: {'name': '0000000aleya begum shilpi', 'pred': 1, 'test': 0},\n",
              " 2101: {'name': '0000000000000000sipa rani', 'pred': 1, 'test': 0},\n",
              " 2103: {'name': '00000000000000bharati kar', 'pred': 1, 'test': 0},\n",
              " 2111: {'name': '00000000khaleda ferdhoshy', 'pred': 1, 'test': 0},\n",
              " 2114: {'name': '00000000samia akter shama', 'pred': 1, 'test': 0},\n",
              " 2117: {'name': '0000000000nargis    akter', 'pred': 1, 'test': 0},\n",
              " 2119: {'name': '000000000mukti rani kunda', 'pred': 1, 'test': 0},\n",
              " 2121: {'name': '000sreemoti  rani  boidya', 'pred': 1, 'test': 0},\n",
              " 2123: {'name': '00000000000000rima mahmud', 'pred': 1, 'test': 0},\n",
              " 2125: {'name': '00000shammi akhter sabina', 'pred': 1, 'test': 0},\n",
              " 2131: {'name': '000000000000lebudon akter', 'pred': 1, 'test': 0},\n",
              " 2132: {'name': '00000000sadhona sutradhor', 'pred': 1, 'test': 0},\n",
              " 2133: {'name': '000000mst ferdowse khatun', 'pred': 1, 'test': 0},\n",
              " 2134: {'name': '00000000amena akter taspy', 'pred': 1, 'test': 0},\n",
              " 2135: {'name': '00000mahmuda hasan shopna', 'pred': 1, 'test': 0},\n",
              " 2139: {'name': '00000000000most. kahinoor', 'pred': 1, 'test': 0},\n",
              " 2144: {'name': '000000000000shima kaucher', 'pred': 1, 'test': 0},\n",
              " 2145: {'name': '000000000000rojuba khatun', 'pred': 1, 'test': 0},\n",
              " 2155: {'name': '0000000kaushar afrin retu', 'pred': 1, 'test': 0},\n",
              " 2156: {'name': '000000000iffat shah shimu', 'pred': 1, 'test': 0},\n",
              " 2157: {'name': '000000mst. morseda khaton', 'pred': 1, 'test': 0},\n",
              " 2159: {'name': '00000000mst. kunsun nahar', 'pred': 1, 'test': 0},\n",
              " 2171: {'name': '000000000000showdia akter', 'pred': 1, 'test': 0},\n",
              " 2173: {'name': '0000000mst. mithila aktar', 'pred': 1, 'test': 0},\n",
              " 2175: {'name': '000000tanzila islam ayshi', 'pred': 1, 'test': 0},\n",
              " 2181: {'name': '0000000farhana afrin keya', 'pred': 1, 'test': 0},\n",
              " 2182: {'name': '0000000fatama akter shima', 'pred': 1, 'test': 0},\n",
              " 2188: {'name': '00kazi maherun nahar kaya', 'pred': 1, 'test': 0},\n",
              " 2189: {'name': '000000000rubina akter mow', 'pred': 1, 'test': 0},\n",
              " 2192: {'name': '0hosneara begum chowdhury', 'pred': 1, 'test': 0},\n",
              " 2193: {'name': '000000hosneara akter hasi', 'pred': 1, 'test': 0},\n",
              " 2194: {'name': '00000000000mashhuda akter', 'pred': 1, 'test': 0},\n",
              " 2195: {'name': '000000000000priyanka bosu', 'pred': 1, 'test': 0},\n",
              " 2198: {'name': '00000mst. hurjahan parvin', 'pred': 1, 'test': 0},\n",
              " 2199: {'name': '0000000000000nishat jalil', 'pred': 1, 'test': 0},\n",
              " 2201: {'name': '000000sanjida akter abeda', 'pred': 1, 'test': 0},\n",
              " 2202: {'name': '0000000most. amena  akter', 'pred': 1, 'test': 0},\n",
              " 2203: {'name': '000000000000sonali  aktar', 'pred': 1, 'test': 0},\n",
              " 2204: {'name': '0000000000000ajmeer sadia', 'pred': 1, 'test': 0},\n",
              " 2206: {'name': '00000000mrs isaron khatun', 'pred': 1, 'test': 0},\n",
              " 2208: {'name': ': zannatul ferdows labony', 'pred': 1, 'test': 0},\n",
              " 2209: {'name': '000000sohana arifin ayshi', 'pred': 1, 'test': 0},\n",
              " 2220: {'name': '0000000most. dilara akter', 'pred': 1, 'test': 0},\n",
              " 2225: {'name': '00000000000chathega akter', 'pred': 1, 'test': 0},\n",
              " 2226: {'name': '00000000md. bayejed hosen', 'pred': 1, 'test': 0},\n",
              " 2227: {'name': '000000khengchengfru marma', 'pred': 1, 'test': 0},\n",
              " 2237: {'name': '0000000000sangthui  marma', 'pred': 1, 'test': 0},\n",
              " 2240: {'name': '00mst. jafrin sultana jim', 'pred': 1, 'test': 0},\n",
              " 2242: {'name': '000000000shraboni mankhin', 'pred': 1, 'test': 0},\n",
              " 2245: {'name': '0000000mst. rabaka  akter', 'pred': 1, 'test': 0},\n",
              " 2247: {'name': '000000000nazmonnahar simo', 'pred': 1, 'test': 0},\n",
              " 2248: {'name': '000000000srabonti debnath', 'pred': 1, 'test': 0},\n",
              " 2250: {'name': '0000000000000sampati rani', 'pred': 1, 'test': 0},\n",
              " 2251: {'name': '0khadija-tul-kobra sujana', 'pred': 1, 'test': 0},\n",
              " 2255: {'name': '00000000m. t rubina aktar', 'pred': 1, 'test': 0},\n",
              " 2260: {'name': '00000000nayma akter ellin', 'pred': 1, 'test': 0},\n",
              " 2267: {'name': '0000000mst. sadika pervin', 'pred': 1, 'test': 0},\n",
              " 2271: {'name': '000000meharun nessa mokta', 'pred': 1, 'test': 0},\n",
              " 2275: {'name': '000000000kumari dipa rani', 'pred': 1, 'test': 0},\n",
              " 2278: {'name': '00000000000000jenita toju', 'pred': 1, 'test': 0},\n",
              " 2280: {'name': '000000000mst. romisa bewa', 'pred': 1, 'test': 0},\n",
              " 2283: {'name': '0000musammad sathi khatun', 'pred': 1, 'test': 0},\n",
              " 2284: {'name': '000000000anika anan oyshi', 'pred': 1, 'test': 0},\n",
              " 2285: {'name': '000000barsha chakrobarthe', 'pred': 1, 'test': 0},\n",
              " 2286: {'name': 'mst. sadika yesmin sondha', 'pred': 1, 'test': 0},\n",
              " 2288: {'name': '00000000irina akter bithi', 'pred': 1, 'test': 0},\n",
              " 2292: {'name': '000000000000000mera khanm', 'pred': 1, 'test': 0},\n",
              " 2293: {'name': '000000000000sabra sultana', 'pred': 1, 'test': 0},\n",
              " 2296: {'name': '00000mis. jannatul khatun', 'pred': 1, 'test': 0},\n",
              " 2299: {'name': '000000sabrina haque tithe', 'pred': 1, 'test': 0},\n",
              " 2300: {'name': '000000000000norzahan bibi', 'pred': 1, 'test': 0},\n",
              " 2303: {'name': '0000000000mst. meher vanu', 'pred': 1, 'test': 0},\n",
              " 2306: {'name': '00000000000rabeya mostafa', 'pred': 1, 'test': 0},\n",
              " 2314: {'name': '0000000000monjo rani kuch', 'pred': 1, 'test': 0},\n",
              " 2315: {'name': '0000000000000fatema maria', 'pred': 1, 'test': 0},\n",
              " 2316: {'name': '0000000most. samiya afrin', 'pred': 1, 'test': 0},\n",
              " 2318: {'name': '0000000000000000manju-ara', 'pred': 1, 'test': 0},\n",
              " 2321: {'name': '00000000000achhiya bapari', 'pred': 1, 'test': 0},\n",
              " 2323: {'name': '0000mist. shahanaz khatun', 'pred': 1, 'test': 0},\n",
              " 2328: {'name': '0000000rong bilashi munda', 'pred': 1, 'test': 0},\n",
              " 2334: {'name': '00000000rezmin akter setu', 'pred': 1, 'test': 0},\n",
              " 2335: {'name': '00000000000jahada  khatun', 'pred': 1, 'test': 0},\n",
              " 2338: {'name': '000000000mst. rozina beya', 'pred': 1, 'test': 0},\n",
              " 2345: {'name': '000000farjana akter rihab', 'pred': 1, 'test': 0},\n",
              " 2346: {'name': '000000000000faujia shirin', 'pred': 1, 'test': 0},\n",
              " 2347: {'name': '00000000000000000popi ray', 'pred': 1, 'test': 0},\n",
              " 2348: {'name': '00000000000000nazbunnahar', 'pred': 1, 'test': 0},\n",
              " 2349: {'name': '00000000suma akter masuma', 'pred': 1, 'test': 0},\n",
              " 2350: {'name': '0000000atia fahmida akter', 'pred': 1, 'test': 0},\n",
              " 2354: {'name': '00000000nilufa easmin chy', 'pred': 1, 'test': 0},\n",
              " 2356: {'name': '00000000000efrat ara mile', 'pred': 1, 'test': 0},\n",
              " 2358: {'name': '0000000mst. rebeakakhatun', 'pred': 1, 'test': 0},\n",
              " 2360: {'name': '00000000afsana akter moni', 'pred': 1, 'test': 0},\n",
              " 2363: {'name': '0000000000000alif kathera', 'pred': 1, 'test': 0},\n",
              " 2366: {'name': '0000000000000000000simola', 'pred': 1, 'test': 0},\n",
              " 2367: {'name': '0000000000000000000sohela', 'pred': 1, 'test': 0},\n",
              " 2368: {'name': '0000000000sultana tanjila', 'pred': 1, 'test': 0},\n",
              " 2371: {'name': '000000000mst: ayesha noor', 'pred': 1, 'test': 0},\n",
              " 2373: {'name': '0000000most. rahuma akter', 'pred': 1, 'test': 0},\n",
              " 2375: {'name': '000000000nor asma tanzila', 'pred': 1, 'test': 0},\n",
              " 2376: {'name': '0000000amena begum aeysha', 'pred': 1, 'test': 0},\n",
              " 2377: {'name': '00000000000kum kum habiba', 'pred': 1, 'test': 0},\n",
              " 2378: {'name': '000000sanjida ahsan jhuma', 'pred': 1, 'test': 0},\n",
              " 2379: {'name': '0000000nahida akter shema', 'pred': 1, 'test': 0},\n",
              " 2380: {'name': '. umme joynab akter juthi', 'pred': 1, 'test': 0},\n",
              " 2382: {'name': '0000000000jharna   khatun', 'pred': 1, 'test': 0},\n",
              " 2388: {'name': '00000000anjana rani rishi', 'pred': 1, 'test': 0},\n",
              " 2389: {'name': '00000000000000zooma akter', 'pred': 1, 'test': 0},\n",
              " 2393: {'name': '00000mst. fojilatun nessa', 'pred': 1, 'test': 0},\n",
              " 2398: {'name': '0000000000pervina  khatun', 'pred': 1, 'test': 0},\n",
              " 2399: {'name': '0000000000000ireen parvin', 'pred': 1, 'test': 0},\n",
              " 2402: {'name': 'shanjida shikder srabonty', 'pred': 1, 'test': 0},\n",
              " 2403: {'name': '0000000000most. nuri sefa', 'pred': 1, 'test': 0},\n",
              " 2410: {'name': '0000000most. momtaz mahal', 'pred': 1, 'test': 0},\n",
              " 2413: {'name': '00000mst.  jobida  khatun', 'pred': 1, 'test': 0},\n",
              " 2430: {'name': '00000geeta rani sutradhar', 'pred': 1, 'test': 0},\n",
              " 2433: {'name': '000000000000rebeka kathun', 'pred': 1, 'test': 0},\n",
              " 2437: {'name': '000most. sadiya akter mou', 'pred': 1, 'test': 0},\n",
              " 2441: {'name': '0000000rokeya begum munni', 'pred': 1, 'test': 0},\n",
              " 2442: {'name': '0000000susmeta  deb  nath', 'pred': 1, 'test': 0},\n",
              " 2445: {'name': '0000asrafun nesha sheerin', 'pred': 1, 'test': 0},\n",
              " 2446: {'name': '0000000000000sohagimittro', 'pred': 1, 'test': 0},\n",
              " 2447: {'name': '00000000rinto  rani  saha', 'pred': 1, 'test': 0},\n",
              " 2448: {'name': '00000000000000fouzia banu', 'pred': 1, 'test': 0},\n",
              " 2450: {'name': '00000000000000sumata saha', 'pred': 1, 'test': 0},\n",
              " 2454: {'name': '0000000000ganga rani paul', 'pred': 1, 'test': 0},\n",
              " 2457: {'name': '000rokyea begum chowdhury', 'pred': 1, 'test': 0},\n",
              " 2460: {'name': '00000mst. fatema mozumder', 'pred': 1, 'test': 0},\n",
              " 2467: {'name': '0000000mos. zorina khatun', 'pred': 1, 'test': 0},\n",
              " 2470: {'name': '0000000sabikunnhar rousni', 'pred': 1, 'test': 0},\n",
              " 2471: {'name': '00000000000sandhya sarkar', 'pred': 1, 'test': 0},\n",
              " 2472: {'name': '0000000000000reatu golder', 'pred': 1, 'test': 0},\n",
              " 2473: {'name': '00000000nazma akther rani', 'pred': 1, 'test': 0},\n",
              " 2481: {'name': '00000000noyan sova chakma', 'pred': 1, 'test': 0},\n",
              " 2487: {'name': 'halima    khatun    kajal', 'pred': 1, 'test': 0},\n",
              " 2489: {'name': '0000000000rehenova akanto', 'pred': 1, 'test': 0},\n",
              " 2490: {'name': '000000miss. momena khatun', 'pred': 1, 'test': 0},\n",
              " 2491: {'name': '00000000mrs. shanta akter', 'pred': 1, 'test': 0},\n",
              " 2493: {'name': '000000000000000joybonnesa', 'pred': 1, 'test': 0},\n",
              " 2495: {'name': '0000000000000000luxmi dey', 'pred': 1, 'test': 0},\n",
              " 2496: {'name': '0000polika rani chowdhury', 'pred': 1, 'test': 0},\n",
              " 2503: {'name': '0000most. moshfeka khatun', 'pred': 1, 'test': 0},\n",
              " 2505: {'name': '000000chitra lekha goldar', 'pred': 1, 'test': 0},\n",
              " 2506: {'name': '000000000000hapy rani roy', 'pred': 1, 'test': 0},\n",
              " 2507: {'name': '000000000000raimoni tanti', 'pred': 1, 'test': 0},\n",
              " 2509: {'name': '000000000nasnahara khatun', 'pred': 1, 'test': 0},\n",
              " 2510: {'name': '0000000000000lovely aktar', 'pred': 1, 'test': 0},\n",
              " 2516: {'name': '0000000000sobita rani kar', 'pred': 1, 'test': 0},\n",
              " 2520: {'name': '0000000nipa akter khadija', 'pred': 1, 'test': 0},\n",
              " 2521: {'name': '000000ishfa zannat sweety', 'pred': 1, 'test': 0},\n",
              " 2523: {'name': '00000000sukla chakroborti', 'pred': 1, 'test': 0},\n",
              " 2524: {'name': '0000000mst.nosiron khatun', 'pred': 1, 'test': 0},\n",
              " 2526: {'name': '0000000000000naerun nessa', 'pred': 1, 'test': 0},\n",
              " 2528: {'name': 't rashida begum chowdhury', 'pred': 1, 'test': 0},\n",
              " 2535: {'name': '000000000duma ching marma', 'pred': 1, 'test': 0},\n",
              " 2541: {'name': '0000000000nayma akter jui', 'pred': 1, 'test': 0},\n",
              " 2542: {'name': '0000mises   hashia khatun', 'pred': 1, 'test': 0},\n",
              " 2543: {'name': '0000000muss. sampa khanam', 'pred': 1, 'test': 0},\n",
              " 2544: {'name': '0000000000ms. nupur akter', 'pred': 1, 'test': 0},\n",
              " 2547: {'name': 'mst. sabira mustari saima', 'pred': 1, 'test': 0},\n",
              " 2548: {'name': '0000000000000000000rakifa', 'pred': 1, 'test': 0},\n",
              " 2549: {'name': '000000sanjida sultana eva', 'pred': 1, 'test': 0},\n",
              " 2551: {'name': '00000000azmary azam bonna', 'pred': 1, 'test': 0},\n",
              " 2555: {'name': '00000000000subasi tripura', 'pred': 1, 'test': 0},\n",
              " 2556: {'name': '00000000sheuli rani ghosh', 'pred': 1, 'test': 0},\n",
              " 2558: {'name': '000000000000000mosa. muna', 'pred': 1, 'test': 0},\n",
              " 2565: {'name': '000000000000asma ui hosna', 'pred': 1, 'test': 0},\n",
              " 2568: {'name': '000000sayda taslima akter', 'pred': 1, 'test': 0},\n",
              " 2572: {'name': '0000000most. halida hanam', 'pred': 1, 'test': 0},\n",
              " 2573: {'name': '000000jannatun nayem rupa', 'pred': 1, 'test': 0},\n",
              " 2574: {'name': '0000000000niyati mazumdar', 'pred': 1, 'test': 0},\n",
              " 2575: {'name': '0000000000000000shiulyara', 'pred': 1, 'test': 0},\n",
              " 2576: {'name': '000000000000onita chowhan', 'pred': 1, 'test': 0},\n",
              " 2578: {'name': '000fahmida islam mozumder', 'pred': 1, 'test': 0},\n",
              " 2580: {'name': '00000000mst kulsum khatun', 'pred': 1, 'test': 0},\n",
              " 2582: {'name': '0000000rahima akhter rozi', 'pred': 1, 'test': 0},\n",
              " 2583: {'name': '00000000000000sonia akter', 'pred': 1, 'test': 0},\n",
              " 2584: {'name': '000000000000payari khatun', 'pred': 1, 'test': 0},\n",
              " 2590: {'name': '000000000rasheda  ferdous', 'pred': 1, 'test': 0},\n",
              " 2591: {'name': '000000000000jannatul nona', 'pred': 1, 'test': 0},\n",
              " 2592: {'name': '000000000akadashi debnath', 'pred': 1, 'test': 0},\n",
              " 2597: {'name': 'most. rubaiya akter misti', 'pred': 1, 'test': 0},\n",
              " 2598: {'name': 'mst. tajrin zahan tamanna', 'pred': 1, 'test': 0},\n",
              " 2599: {'name': '0000000000000bristy dhaly', 'pred': 1, 'test': 0},\n",
              " 2600: {'name': '00000000000000000000basia', 'pred': 1, 'test': 0},\n",
              " 2602: {'name': '00000faujiya sultana rita', 'pred': 1, 'test': 0},\n",
              " 2608: {'name': '00000000000sk salma haque', 'pred': 1, 'test': 0},\n",
              " 2613: {'name': '00000000rehena akter rema', 'pred': 1, 'test': 0},\n",
              " 2620: {'name': '0000000miss urmila  akter', 'pred': 1, 'test': 0},\n",
              " 2621: {'name': '00000000000riktha baiddya', 'pred': 1, 'test': 0},\n",
              " 2622: {'name': '00000000000mouriya khatun', 'pred': 1, 'test': 0},\n",
              " 2624: {'name': '000000000ripa chakraborty', 'pred': 1, 'test': 0},\n",
              " 2627: {'name': '000000000000alima  khatun', 'pred': 1, 'test': 0},\n",
              " 2628: {'name': '0000000000miss khuku mone', 'pred': 1, 'test': 0},\n",
              " 2631: {'name': '000000reboti shuklobaidya', 'pred': 1, 'test': 0},\n",
              " 2632: {'name': '00000mst. shifarul akther', 'pred': 1, 'test': 0},\n",
              " 2635: {'name': '000000usha rani nomosudra', 'pred': 1, 'test': 0},\n",
              " 2640: {'name': '00000000mst sharmin jahan', 'pred': 1, 'test': 0},\n",
              " 2643: {'name': '00most. umma jannaty poly', 'pred': 1, 'test': 0},\n",
              " 2645: {'name': '000000000000000tushi rema', 'pred': 1, 'test': 0},\n",
              " 2646: {'name': '0000000000000jarin akhtar', 'pred': 1, 'test': 0},\n",
              " 2649: {'name': '00000000000rubaiya zishan', 'pred': 1, 'test': 0},\n",
              " 2653: {'name': '0000000000esha akter rumi', 'pred': 1, 'test': 0},\n",
              " 2656: {'name': '0000000000000000eva  rani', 'pred': 1, 'test': 0},\n",
              " 2657: {'name': '00000000mst. hanesa akter', 'pred': 1, 'test': 0},\n",
              " 2662: {'name': '000jannatul fardushi setu', 'pred': 1, 'test': 0},\n",
              " 2664: {'name': '0000000sadia akter masuma', 'pred': 1, 'test': 0},\n",
              " 2672: {'name': '000000arobi akter shurobi', 'pred': 1, 'test': 0},\n",
              " 2674: {'name': '0000000000000000000mahila', 'pred': 1, 'test': 0},\n",
              " 2675: {'name': '0000000000tuhin ara akter', 'pred': 1, 'test': 0},\n",
              " 2677: {'name': '00000000000rima rani paul', 'pred': 1, 'test': 0},\n",
              " 2678: {'name': 'mst. shammi aktar sharmin', 'pred': 1, 'test': 0},\n",
              " 2679: {'name': '000000000000meryna parvin', 'pred': 1, 'test': 0},\n",
              " 2680: {'name': '00000000mst. saimon akter', 'pred': 1, 'test': 0},\n",
              " 2683: {'name': '0000000sahela sultana mou', 'pred': 1, 'test': 0},\n",
              " 2684: {'name': '0000000ninami rani sarkar', 'pred': 1, 'test': 0},\n",
              " 2686: {'name': '000000000000morsada akter', 'pred': 1, 'test': 0},\n",
              " 2690: {'name': '00000000000000samima sima', 'pred': 1, 'test': 0},\n",
              " 2693: {'name': '0000000000sandhya mallick', 'pred': 1, 'test': 0},\n",
              " 2696: {'name': '0000000000jogamaya biswas', 'pred': 1, 'test': 0},\n",
              " 2703: {'name': '0000000mst. jannatun adun', 'pred': 1, 'test': 0},\n",
              " 2710: {'name': '000000000000mrittika pall', 'pred': 1, 'test': 0},\n",
              " 2715: {'name': '0000000mehrin tasnim nitu', 'pred': 1, 'test': 0},\n",
              " 2719: {'name': '0000shabnam atika sharmin', 'pred': 1, 'test': 0},\n",
              " 2720: {'name': 'most. naznin naher jasmin', 'pred': 1, 'test': 0},\n",
              " 2722: {'name': '00000000sabikunnahar mira', 'pred': 1, 'test': 0},\n",
              " 2723: {'name': '00000000mosa. bithy aktar', 'pred': 1, 'test': 0},\n",
              " 2727: {'name': '00000tahmina  akter  tuli', 'pred': 1, 'test': 0},\n",
              " 2736: {'name': '00000000jannatun ferdousy', 'pred': 1, 'test': 0},\n",
              " 2742: {'name': '00000sarika  farin   anha', 'pred': 1, 'test': 0},\n",
              " 2743: {'name': '000000000mosa lipi khanom', 'pred': 1, 'test': 0},\n",
              " 2747: {'name': '0000000000000nimitra rani', 'pred': 1, 'test': 0},\n",
              " 2753: {'name': '0000sabiha  sultana  juli', 'pred': 1, 'test': 0},\n",
              " 2755: {'name': '0000000000asma -ul- husna', 'pred': 1, 'test': 0},\n",
              " 2757: {'name': '0000mosammat zakia khatun', 'pred': 1, 'test': 0},\n",
              " 2760: {'name': '000000000000parvena akter', 'pred': 1, 'test': 0},\n",
              " 2766: {'name': '00mst. anika tahsin mouly', 'pred': 1, 'test': 0},\n",
              " 2767: {'name': '000000shima rani karmokar', 'pred': 1, 'test': 0},\n",
              " 2768: {'name': '000000prerona chakraborti', 'pred': 1, 'test': 0},\n",
              " 2773: {'name': '000000000ferdausi rahaman', 'pred': 1, 'test': 0},\n",
              " 2778: {'name': '00mst. shikha khatun ruku', 'pred': 1, 'test': 0},\n",
              " 2789: {'name': '0000000mst. samuli khatun', 'pred': 1, 'test': 0},\n",
              " 2794: {'name': '00000000paroshmoni barman', 'pred': 1, 'test': 0},\n",
              " 2798: {'name': '0000janatul fardous jarin', 'pred': 1, 'test': 0},\n",
              " ...}"
            ]
          },
          "metadata": {
            "tags": []
          },
          "execution_count": 31
        }
      ]
    },
    {
      "metadata": {
        "id": "2xLydEMMbbqe",
        "colab_type": "code",
        "colab": {
          "base_uri": "https://localhost:8080/",
          "height": 35
        },
        "outputId": "aeff6f90-2c60-442c-b399-0284ee24e635"
      },
      "cell_type": "code",
      "source": [
        "print(len(incorrect_males), len(incorrect_females))"
      ],
      "execution_count": 32,
      "outputs": [
        {
          "output_type": "stream",
          "text": [
            "22755 333246\n"
          ],
          "name": "stdout"
        }
      ]
    },
    {
      "metadata": {
        "id": "JsHWGM-9519h",
        "colab_type": "text"
      },
      "cell_type": "markdown",
      "source": [
        "# Newspaper Data Processing\n",
        "To be done in CPU. Load Pickled model and run on CPU.\n",
        "\n",
        "GPU runtime 4hr, CPU runtime 30 mins."
      ]
    },
    {
      "metadata": {
        "id": "gTSAP9yI8qwQ",
        "colab_type": "code",
        "colab": {
          "base_uri": "https://localhost:8080/",
          "height": 72
        },
        "outputId": "238f102a-346a-419c-c7fe-d637e147aaf2"
      },
      "cell_type": "code",
      "source": [
        "ls"
      ],
      "execution_count": 42,
      "outputs": [
        {
          "output_type": "stream",
          "text": [
            "\u001b[0m\u001b[01;34mdatalab\u001b[0m/             news_db_instance.json  weights-improvement-01-0.9763.hdf5\r\n",
            "\u001b[01;34mdrive\u001b[0m/               news_db.json           weights-improvement-02-0.9767.hdf5\r\n",
            "hsc_name_gender.csv  \u001b[01;34mpython3mega\u001b[0m/\r\n"
          ],
          "name": "stdout"
        }
      ]
    },
    {
      "metadata": {
        "id": "4fu8MwxX8r2E",
        "colab_type": "code",
        "colab": {
          "base_uri": "https://localhost:8080/",
          "height": 35
        },
        "outputId": "6dbc3814-181b-4a3f-9b9b-ecd22499ee4b"
      },
      "cell_type": "code",
      "source": [
        "pwd"
      ],
      "execution_count": 43,
      "outputs": [
        {
          "output_type": "execute_result",
          "data": {
            "text/plain": [
              "'/content'"
            ]
          },
          "metadata": {
            "tags": []
          },
          "execution_count": 43
        }
      ]
    },
    {
      "metadata": {
        "id": "e5aQD2NOveco",
        "colab_type": "code",
        "colab": {}
      },
      "cell_type": "code",
      "source": [
        "#del char2idx\n",
        "#del idx2char"
      ],
      "execution_count": 0,
      "outputs": []
    },
    {
      "metadata": {
        "id": "3k8PR_yboGJe",
        "colab_type": "code",
        "colab": {}
      },
      "cell_type": "code",
      "source": [
        "#char2idx = {'\\t': 0, ' ': 1, '\"': 2, \"'\": 3, '(': 4, ')': 5, '*': 6, '+': 7, '-': 8, '.': 9, '/': 10, '0': 11, '1': 12, '2': 13, '3': 14, '4': 15, '5': 16, '6': 17, '7': 18, '8': 19, '9': 20, ':': 21, ';': 22, '=': 23, '>': 24, '?': 25, '[': 26, '\\\\': 27, ']': 28, '_': 29, '`': 30, 'a': 31, 'b': 32, 'c': 33, 'd': 34, 'e': 35, 'f': 36, 'g': 37, 'h': 38, 'i': 39, 'j': 40, 'k': 41, 'l': 42, 'm': 43, 'n': 44, 'o': 45, 'p': 46, 'q': 47, 'r': 48, 's': 49, 't': 50, 'u': 51, 'v': 52, 'w': 53, 'x': 54, 'y': 55, 'z': 56, '{': 57, '|': 58, '}': 59, '\\x83': 60, '\\x96': 61, '¨': 62, 'ÿ': 63}\n",
        "#idx2char = {0: '\\t', 1: ' ', 2: '\"', 3: \"'\", 4: '(', 5: ')', 6: '*', 7: '+', 8: '-', 9: '.', 10: '/', 11: '0', 12: '1', 13: '2', 14: '3', 15: '4', 16: '5', 17: '6', 18: '7', 19: '8', 20: '9', 21: ':', 22: ';', 23: '=', 24: '>', 25: '?', 26: '[', 27: '\\\\', 28: ']', 29: '_', 30: '`', 31: 'a', 32: 'b', 33: 'c', 34: 'd', 35: 'e', 36: 'f', 37: 'g', 38: 'h', 39: 'i', 40: 'j', 41: 'k', 42: 'l', 43: 'm', 44: 'n', 45: 'o', 46: 'p', 47: 'q', 48: 'r', 49: 's', 50: 't', 51: 'u', 52: 'v', 53: 'w', 54: 'x', 55: 'y', 56: 'z', 57: '{', 58: '|', 59: '}', 60: '\\x83', 61: '\\x96', 62: '¨', 63: 'ÿ'}"
      ],
      "execution_count": 0,
      "outputs": []
    },
    {
      "metadata": {
        "id": "Wwc3p9YsHOlc",
        "colab_type": "text"
      },
      "cell_type": "markdown",
      "source": [
        "**Fucntions for processing newspaper data**"
      ]
    },
    {
      "metadata": {
        "id": "Ibitq9MuH8Rx",
        "colab_type": "code",
        "colab": {}
      },
      "cell_type": "code",
      "source": [
        "import numpy as np\n",
        "from keras.preprocessing import sequence\n",
        "\n",
        "# Converts a name into vector\n",
        "def name2vectorTest(name):\n",
        "    name = name.lower()\n",
        "    new_name = \"\"\n",
        "    for char in name:\n",
        "      if char in char2idx:\n",
        "        new_name += char\n",
        "    chars = list(new_name)\n",
        "    vector = [ char2idx[c] for c in chars ]\n",
        "    return np.array(vector)\n",
        "\n",
        "# Converts names to fixed size tensor\n",
        "def names2tensorTest(names, maxlen=25):\n",
        "    namelist = [name2vectorTest(name) for name in names]\n",
        "    return sequence.pad_sequences(np.array(namelist), maxlen=maxlen)  # root of all troubles\n",
        "\n",
        "def nameTest(name):\n",
        "  result = model.predict_classes(np.array(names2tensorTest([name.lower()])))[0][0]\n",
        "  if result:\n",
        "    print(\"Male\")\n",
        "  else:\n",
        "    print(\"Female\")\n",
        "\n",
        "def returnGender(name):\n",
        "  result = model.predict_classes(np.array(names2tensorTest([name.lower()])))[0][0]\n",
        "  if result:\n",
        "    return \"Male\"\n",
        "  else:\n",
        "    return \"Female\"\n",
        "  \n",
        "def isMale(name):\n",
        "  result = model.predict_classes(np.array(names2tensorTest([name.lower()])))[0][0]\n",
        "  return result\n",
        "\n",
        "def genderDictionary(ner_person):\n",
        "  dictionary = {}\n",
        "  for name in ner_person:\n",
        "    dictionary[name] = isMale(name)\n",
        "  return dictionary\n",
        "\n",
        "def concatAll(content, ner_person):\n",
        "  ner_person = sorted(ner_person, key=len, reverse=True)\n",
        "  for name in ner_person:\n",
        "    content = content.replace(name, name.replace(\" \", \"\"))\n",
        "  return content\n",
        "  \n",
        "def replaceMaleConcatFemale(content, genderDict):\n",
        "  ner_person = sorted(genderDict, key=len, reverse=True)\n",
        "  \n",
        "  for name in ner_person:\n",
        "    if genderDict[name] == 0:\n",
        "      content = content.replace(name, name.replace(\" \", \"\"))\n",
        "    else:\n",
        "      content = content.replace(name, \"man\")\n",
        "  return content\n",
        "\n",
        "def replaceFemaleConcatMale(content, genderDict):\n",
        "  ner_person = sorted(genderDict, key=len, reverse=True)\n",
        "  \n",
        "  for name in ner_person:\n",
        "    if genderDict[name] == 1:\n",
        "      content = content.replace(name, name.replace(\" \", \"\"))\n",
        "    else:\n",
        "      content = content.replace(name, \"woman\")\n",
        "  return content\n",
        "\n",
        "def replaceAll(content, genderDict):\n",
        "  ner_person = sorted(genderDict, key=len, reverse=True)\n",
        "  \n",
        "  for name in ner_person:\n",
        "    if genderDict[name] == 1:\n",
        "      content = content.replace(name, \"man\")\n",
        "    else:\n",
        "      content = content.replace(name, \"woman\")\n",
        "  return content"
      ],
      "execution_count": 0,
      "outputs": []
    },
    {
      "metadata": {
        "id": "c-knA5fgHV3x",
        "colab_type": "text"
      },
      "cell_type": "markdown",
      "source": [
        "**Printing estimated runtime**"
      ]
    },
    {
      "metadata": {
        "id": "g92RX8Yq4HLb",
        "colab_type": "code",
        "colab": {}
      },
      "cell_type": "code",
      "source": [
        "from datetime import datetime\n",
        "from dateutil.relativedelta import relativedelta\n",
        "\n",
        "def diff(t_a, t_b, c):\n",
        "    t_diff = relativedelta(t_b, t_a)*c  # later/end time comes first!\n",
        "    return '{h}h {m}m {s}s'.format(h=t_diff.hours, m=t_diff.minutes, s=t_diff.seconds)"
      ],
      "execution_count": 0,
      "outputs": []
    },
    {
      "metadata": {
        "id": "pKWM3FsoYCDD",
        "colab_type": "code",
        "colab": {
          "base_uri": "https://localhost:8080/",
          "height": 35
        },
        "outputId": "7130ce8c-2601-428c-9c0e-d66312100e55"
      },
      "cell_type": "code",
      "source": [
        "isMale(\"masuma hasan\")"
      ],
      "execution_count": 33,
      "outputs": [
        {
          "output_type": "execute_result",
          "data": {
            "text/plain": [
              "0"
            ]
          },
          "metadata": {
            "tags": []
          },
          "execution_count": 33
        }
      ]
    },
    {
      "metadata": {
        "id": "viYDzAwyHh_X",
        "colab_type": "text"
      },
      "cell_type": "markdown",
      "source": [
        "Read the crawled newspaper file, and create 4 string with processed data."
      ]
    },
    {
      "metadata": {
        "id": "J4xRftw9FsMT",
        "colab_type": "code",
        "colab": {}
      },
      "cell_type": "code",
      "source": [
        "import sys\n",
        "import json\n",
        "\n",
        "input_text_none = \"\"\n",
        "input_text_man = \"\"\n",
        "input_text_woman = \"\"\n",
        "input_text_both = \"\"\n",
        "all_name_set = set()\n",
        "\n",
        "i = 1\n",
        "data = \"news_db.json\"\n",
        "file_len = 165236\n",
        "t_a = datetime.now()\n",
        "\n",
        "with open(data, encoding=\"utf-8\") as file:\n",
        "  for line in file:\n",
        "    try:\n",
        "      i+=1\n",
        "      parsed_json = json.loads(line)\n",
        "      \n",
        "      section = parsed_json[\"section\"]\n",
        "      if section == \"World\" or section == \"Sports\":\n",
        "        continue\n",
        "        \n",
        "      content = parsed_json[\"content\"]\n",
        "      content += \" \"\n",
        "      ner_unique_person = parsed_json[\"ner_unique_person\"]\n",
        "      all_name_set.update(ner_unique_person)\n",
        "      genderDict = genderDictionary(ner_unique_person)\n",
        "      \n",
        "      input_text_none += concatAll(content, ner_unique_person)\n",
        "      input_text_man  += replaceMaleConcatFemale(content, genderDict)\n",
        "      input_text_woman += replaceFemaleConcatMale(content, genderDict)\n",
        "      input_text_both += replaceAll(content, genderDict)\n",
        "      \n",
        "      # PRINT STATUS (print is an expensive function call)\n",
        "      if i%100==0:\n",
        "        t_b = datetime.now()\n",
        "        t_past = diff(t_a, t_b, 1)\n",
        "        t_remain = diff(t_a, t_b, (file_len-i)/(i+0.000001))\n",
        "        print( \"\\r{:.2f}% finished.\".format(100*i/(file_len-1)), \"\\tCurrent Position:\", i, \n",
        "          \"\\tTime Elapsed:\",t_past, \"\\tEstimated Remaining Time:\",t_remain, end=\"\")\n",
        "\n",
        "    except Exception as e:\n",
        "      print(\"\\nException: \", e,\"\\nSys info: \", sys.exc_info()[0])\n",
        "      continue\n",
        "    \n",
        "file.close()"
      ],
      "execution_count": 0,
      "outputs": []
    },
    {
      "metadata": {
        "id": "6M62YoITGZEi",
        "colab_type": "code",
        "colab": {
          "base_uri": "https://localhost:8080/",
          "height": 108
        },
        "outputId": "c70da614-3b2a-4ef5-d274-b9a9b22ae21a"
      },
      "cell_type": "code",
      "source": [
        "print(len(input_text_none.split(\" \")))\n",
        "print(len(input_text_man.split(\" \")))\n",
        "print(len(input_text_woman.split(\" \")))\n",
        "print(len(input_text_both.split(\" \")))\n",
        "print(len(all_name_set))"
      ],
      "execution_count": 36,
      "outputs": [
        {
          "output_type": "stream",
          "text": [
            "3182\n",
            "3182\n",
            "3182\n",
            "3182\n",
            "26\n"
          ],
          "name": "stdout"
        }
      ]
    },
    {
      "metadata": {
        "id": "TKOEV0o1U875",
        "colab_type": "code",
        "colab": {
          "base_uri": "https://localhost:8080/",
          "height": 108
        },
        "outputId": "bcca732f-299e-4bf3-b6b9-2279a2f7d4c5"
      },
      "cell_type": "code",
      "source": [
        "print(\"normal: \", input_text_none[0:50])\n",
        "print(\"Male name replaced: \", input_text_man[0:50])\n",
        "print(\"Female name replaced: \", input_text_woman[0:50])\n",
        "print(\"Both name replaced: \", input_text_both[0:10])\n",
        "print(\"Unique names: \", list(all_name_set)[0:4])"
      ],
      "execution_count": 37,
      "outputs": [
        {
          "output_type": "stream",
          "text": [
            "normal:  From guiding you on using the right equipment in g\n",
            "Male name replaced:  From guiding you on using the right equipment in g\n",
            "Female name replaced:  From guiding you on using the right equipment in g\n",
            "Both name replaced:  From guidi\n",
            "Unique names:  ['Banani', 'Sidr', 'Abbas', 'Bangla Bhai']\n"
          ],
          "name": "stdout"
        }
      ]
    },
    {
      "metadata": {
        "id": "TxMvclzlkZRL",
        "colab_type": "code",
        "colab": {}
      },
      "cell_type": "code",
      "source": [
        "nonGender = open(\"nonGender.txt\", \"w\")\n",
        "maleReplaced = open(\"maleReplaced.txt\", \"w\")\n",
        "femaleReplaced = open(\"femaleReplaced.txt\", \"w\")\n",
        "bothReplaced = open(\"bothReplaced.txt\", \"w\")\n",
        "uniqueNames = open(\"uniqueNames.txt\", \"w\")"
      ],
      "execution_count": 0,
      "outputs": []
    },
    {
      "metadata": {
        "id": "wSrlmrw0k6td",
        "colab_type": "code",
        "colab": {}
      },
      "cell_type": "code",
      "source": [
        "nonGender.write(input_text_none)\n",
        "maleReplaced.write(input_text_man)\n",
        "femaleReplaced.write(input_text_woman)\n",
        "bothReplaced.write(input_text_both)\n",
        "\n",
        "nonGender.close()\n",
        "maleReplaced.close()\n",
        "femaleReplaced.close()\n",
        "bothReplaced.close()"
      ],
      "execution_count": 0,
      "outputs": []
    },
    {
      "metadata": {
        "id": "jWd7Yw0lS-70",
        "colab_type": "code",
        "colab": {}
      },
      "cell_type": "code",
      "source": [
        "for item in all_name_set:\n",
        "  item_gender = returnGender(item)\n",
        "  trunc_item = item.replace(\" \", \"\")\n",
        "  uniqueNames.write(\"{}\\t-\\t{}\\n\".format(trunc_item, item_gender))\n",
        "  \n",
        "uniqueNames.close()"
      ],
      "execution_count": 0,
      "outputs": []
    },
    {
      "metadata": {
        "id": "CF4fIKoGEAnh",
        "colab_type": "code",
        "colab": {}
      },
      "cell_type": "code",
      "source": [
        "%%bash\n",
        "mkdir -p drive/data/newspaper_text/\n",
        "\n",
        "cp nonGender.txt drive/data/newspaper_text/\n",
        "cp maleReplaced.txt drive/data/newspaper_text/\n",
        "cp femaleReplaced.txt drive/data/newspaper_text/\n",
        "cp bothReplaced.txt drive/data/newspaper_text/\n",
        "cp uniqueNames.txt drive/data/newspaper_text/"
      ],
      "execution_count": 0,
      "outputs": []
    },
    {
      "metadata": {
        "id": "xR0q1b44N-u3",
        "colab_type": "code",
        "colab": {
          "base_uri": "https://localhost:8080/",
          "height": 35
        },
        "outputId": "d39db7f5-cf79-4f07-9a81-d76a96229856"
      },
      "cell_type": "code",
      "source": [
        "nameTest(\"Khaleda Zia\")"
      ],
      "execution_count": 42,
      "outputs": [
        {
          "output_type": "stream",
          "text": [
            "Female\n"
          ],
          "name": "stdout"
        }
      ]
    },
    {
      "metadata": {
        "id": "q0FWrli3jvrq",
        "colab_type": "text"
      },
      "cell_type": "markdown",
      "source": [
        "### File analytics"
      ]
    },
    {
      "metadata": {
        "id": "c42CcdTdjxzz",
        "colab_type": "code",
        "colab": {}
      },
      "cell_type": "code",
      "source": [
        "none_set = set(input_text_none.split(\" \"))\n",
        "man_set = set(input_text_man.split(\" \"))\n",
        "woman_set = set(input_text_woman.split(\" \"))\n",
        "both_set = set(input_text_both.split(\" \"))"
      ],
      "execution_count": 0,
      "outputs": []
    },
    {
      "metadata": {
        "id": "V-lPhrQ1kH8W",
        "colab_type": "code",
        "colab": {
          "base_uri": "https://localhost:8080/",
          "height": 35
        },
        "outputId": "5286229c-c400-47c9-9f68-ba58dcc63afe"
      },
      "cell_type": "code",
      "source": [
        "intersection = set.intersection(none_set, man_set, woman_set, both_set)\n",
        "len(intersection)"
      ],
      "execution_count": 0,
      "outputs": [
        {
          "output_type": "execute_result",
          "data": {
            "text/plain": [
              "1185696"
            ]
          },
          "metadata": {
            "tags": []
          },
          "execution_count": 43
        }
      ]
    },
    {
      "metadata": {
        "id": "UfgMl0RAk37p",
        "colab_type": "code",
        "colab": {
          "base_uri": "https://localhost:8080/",
          "height": 35
        },
        "outputId": "75bc98bb-77b1-43e2-e3b6-88dae1f0b28b"
      },
      "cell_type": "code",
      "source": [
        "print(len(none_set), len(man_set), len(woman_set), len(both_set))"
      ],
      "execution_count": 0,
      "outputs": [
        {
          "output_type": "stream",
          "text": [
            "1518332 1300252 1438363 1217811\n"
          ],
          "name": "stdout"
        }
      ]
    },
    {
      "metadata": {
        "id": "IQAmNUwUnJGC",
        "colab_type": "text"
      },
      "cell_type": "markdown",
      "source": [
        "### Pickle this 5 sets"
      ]
    },
    {
      "metadata": {
        "id": "rr96kOxTrfgQ",
        "colab_type": "text"
      },
      "cell_type": "markdown",
      "source": [
        "**Save Pickle**"
      ]
    },
    {
      "metadata": {
        "id": "_xGaB1OXqa8N",
        "colab_type": "code",
        "colab": {}
      },
      "cell_type": "code",
      "source": [
        "import pickle\n",
        "\n",
        "with open('none_set.pickle', 'wb') as handle:\n",
        "    pickle.dump(none_set, handle, protocol=pickle.HIGHEST_PROTOCOL)\n",
        "with open('man_set.pickle', 'wb') as handle:\n",
        "    pickle.dump(man_set, handle, protocol=pickle.HIGHEST_PROTOCOL)\n",
        "with open('woman_set.pickle', 'wb') as handle:\n",
        "    pickle.dump(woman_set, handle, protocol=pickle.HIGHEST_PROTOCOL)\n",
        "with open('both_set.pickle', 'wb') as handle:\n",
        "    pickle.dump(both_set, handle, protocol=pickle.HIGHEST_PROTOCOL)\n",
        "with open('intersection.pickle', 'wb') as handle:\n",
        "    pickle.dump(intersection, handle, protocol=pickle.HIGHEST_PROTOCOL)"
      ],
      "execution_count": 0,
      "outputs": []
    },
    {
      "metadata": {
        "id": "HUpZjCt3rVPN",
        "colab_type": "code",
        "colab": {
          "base_uri": "https://localhost:8080/",
          "height": 363
        },
        "outputId": "07249e99-afd4-41ec-8511-d0cb4101a972"
      },
      "cell_type": "code",
      "source": [
        "ls -l"
      ],
      "execution_count": 0,
      "outputs": [
        {
          "output_type": "stream",
          "text": [
            "total 1701272\r\n",
            "-rw-r--r-- 1 root root 227822867 Aug  8 02:50 bothReplaced.txt\r\n",
            "-rw-r--r-- 1 root root  16746298 Aug  8 03:56 both_set.pickle\r\n",
            "-rw-r--r-- 1 root root      1954 Aug  8 02:05 cse13_names.txt\r\n",
            "drwxr-xr-x 1 root root      4096 Aug  8 02:03 \u001b[0m\u001b[01;34mdatalab\u001b[0m/\r\n",
            "drwxr-xr-x 2 root root      4096 Aug  8 02:03 \u001b[01;34mdrive\u001b[0m/\r\n",
            "-rw-r--r-- 1 root root 233136902 Aug  8 02:50 femaleReplaced.txt\r\n",
            "-rw-r--r-- 1 root root        32 Aug  8 03:40 filename.pickle\r\n",
            "-rw-r--r-- 1 root root  58668225 Aug  8 02:05 hsc_unique.csv\r\n",
            "-rw-r--r-- 1 root root  16253493 Aug  8 03:56 intersection.pickle\r\n",
            "-rw-r--r-- 1 root root 228913277 Aug  8 02:50 maleReplaced.txt\r\n",
            "-rw-r--r-- 1 root root  18079100 Aug  8 03:56 man_set.pickle\r\n",
            "-rw-r--r-- 1 root root   1915057 Aug  8 02:04 model.pickle\r\n",
            "-rw-r--r-- 1 root root     27174 Aug  8 02:06 news_db_instance.json\r\n",
            "-rw-r--r-- 1 root root 658608032 Aug  8 02:06 news_db.json\r\n",
            "-rw-r--r-- 1 root root  22017202 Aug  8 03:56 none_set.pickle\r\n",
            "-rw-r--r-- 1 root root 234264261 Aug  8 02:50 nonGender.txt\r\n",
            "-rw-r--r-- 1 root root   4887090 Aug  8 03:01 uniqueNames.txt\r\n",
            "-rw-r--r-- 1 root root  20707603 Aug  8 03:56 woman_set.pickle\r\n"
          ],
          "name": "stdout"
        }
      ]
    },
    {
      "metadata": {
        "id": "Hmp8fdMlq3xp",
        "colab_type": "code",
        "colab": {}
      },
      "cell_type": "code",
      "source": [
        "%%bash\n",
        "mkdir -p drive/data/analytics/\n",
        "\n",
        "cp *.pickle drive/data/analytics/"
      ],
      "execution_count": 0,
      "outputs": []
    },
    {
      "metadata": {
        "id": "Z-czE3mvs2xF",
        "colab_type": "code",
        "colab": {}
      },
      "cell_type": "code",
      "source": [
        "cp woman_set.pickle drive/data/analytics/"
      ],
      "execution_count": 0,
      "outputs": []
    },
    {
      "metadata": {
        "id": "-knqczFKri1n",
        "colab_type": "text"
      },
      "cell_type": "markdown",
      "source": [
        "**Load Pickled data**"
      ]
    },
    {
      "metadata": {
        "id": "jZSDrLsgrLL6",
        "colab_type": "code",
        "colab": {}
      },
      "cell_type": "code",
      "source": [
        "!cp drive/data/newspaper_text/analytics/*.pickle ./"
      ],
      "execution_count": 0,
      "outputs": []
    },
    {
      "metadata": {
        "id": "ipfsz8UCqfO8",
        "colab_type": "code",
        "colab": {}
      },
      "cell_type": "code",
      "source": [
        "import pickle\n",
        "\n",
        "with open('none_set.pickle', 'rb') as handle:\n",
        "    none_set = pickle.load(handle)\n",
        "with open('man_set.pickle', 'rb') as handle:\n",
        "    man_set = pickle.load(handle)\n",
        "with open('woman_set.pickle', 'rb') as handle:\n",
        "    woman_set = pickle.load(handle)\n",
        "with open('both_set.pickle', 'rb') as handle:\n",
        "    both_set = pickle.load(handle)\n",
        "with open('intersection.pickle', 'rb') as handle:\n",
        "    intersection = pickle.load(handle)"
      ],
      "execution_count": 0,
      "outputs": []
    },
    {
      "metadata": {
        "id": "fRU5w-PBoRZ7",
        "colab_type": "code",
        "colab": {}
      },
      "cell_type": "code",
      "source": [
        ""
      ],
      "execution_count": 0,
      "outputs": []
    }
  ]
}