{
  "nbformat": 4,
  "nbformat_minor": 0,
  "metadata": {
    "colab": {
      "name": "word2vec_diff.ipynb",
      "version": "0.3.2",
      "provenance": [],
      "collapsed_sections": [
        "ypzRKtvi6XyO"
      ],
      "include_colab_link": true
    },
    "kernelspec": {
      "name": "python3",
      "display_name": "Python 3"
    },
    "accelerator": "GPU"
  },
  "cells": [
    {
      "cell_type": "markdown",
      "metadata": {
        "id": "view-in-github",
        "colab_type": "text"
      },
      "source": [
        "[View in Colaboratory](https://colab.research.google.com/github/Masum06/gender_newspaper/blob/master/word2vec_diff.ipynb)"
      ]
    },
    {
      "metadata": {
        "id": "s-6aQuZm6OLv",
        "colab_type": "text"
      },
      "cell_type": "markdown",
      "source": [
        "**Description**\n",
        "\n",
        "\n",
        "\n",
        "*   Many kind of operations with Gensim word2vec model\n",
        "*   Playing with word2vec\n",
        "*   Comparison between 2 models\n",
        "\n"
      ]
    },
    {
      "metadata": {
        "id": "nYDUoT_znply",
        "colab_type": "code",
        "colab": {
          "base_uri": "https://localhost:8080/",
          "height": 35
        },
        "outputId": "f2e523b3-6f89-49d8-d5eb-91ae75b5d127"
      },
      "cell_type": "code",
      "source": [
        "ls"
      ],
      "execution_count": 0,
      "outputs": [
        {
          "output_type": "stream",
          "text": [
            "\u001b[0m\u001b[01;34mdatalab\u001b[0m/\r\n"
          ],
          "name": "stdout"
        }
      ]
    },
    {
      "metadata": {
        "id": "Jxe66wc9sTvY",
        "colab_type": "code",
        "colab": {
          "base_uri": "https://localhost:8080/",
          "height": 35
        },
        "outputId": "1cf7d8ad-42ec-42fe-dae4-c408dbd4c789"
      },
      "cell_type": "code",
      "source": [
        "!pip install lxml"
      ],
      "execution_count": 0,
      "outputs": [
        {
          "output_type": "stream",
          "text": [
            "Requirement already satisfied: lxml in /usr/local/lib/python3.6/dist-packages (4.2.3)\r\n"
          ],
          "name": "stdout"
        }
      ]
    },
    {
      "metadata": {
        "id": "kLgvhh9RUo8-",
        "colab_type": "code",
        "colab": {
          "base_uri": "https://localhost:8080/",
          "height": 783
        },
        "outputId": "a536da34-f364-428b-8ddf-84922ec89f52"
      },
      "cell_type": "code",
      "source": [
        "!pip install gensim"
      ],
      "execution_count": 0,
      "outputs": [
        {
          "output_type": "stream",
          "text": [
            "Collecting gensim\n",
            "\u001b[?25l  Downloading https://files.pythonhosted.org/packages/86/f3/37504f07651330ddfdefa631ca5246974a60d0908216539efda842fd080f/gensim-3.5.0-cp36-cp36m-manylinux1_x86_64.whl (23.5MB)\n",
            "\u001b[K    100% |████████████████████████████████| 23.5MB 1.7MB/s \n",
            "\u001b[?25hRequirement already satisfied: numpy>=1.11.3 in /usr/local/lib/python3.6/dist-packages (from gensim) (1.14.5)\n",
            "Requirement already satisfied: six>=1.5.0 in /usr/local/lib/python3.6/dist-packages (from gensim) (1.11.0)\n",
            "Collecting smart-open>=1.2.1 (from gensim)\n",
            "  Downloading https://files.pythonhosted.org/packages/cf/3d/5f3a9a296d0ba8e00e263a8dee76762076b9eb5ddc254ccaa834651c8d65/smart_open-1.6.0.tar.gz\n",
            "Requirement already satisfied: scipy>=0.18.1 in /usr/local/lib/python3.6/dist-packages (from gensim) (0.19.1)\n",
            "Collecting boto>=2.32 (from smart-open>=1.2.1->gensim)\n",
            "\u001b[?25l  Downloading https://files.pythonhosted.org/packages/23/10/c0b78c27298029e4454a472a1919bde20cb182dab1662cec7f2ca1dcc523/boto-2.49.0-py2.py3-none-any.whl (1.4MB)\n",
            "\u001b[K    100% |████████████████████████████████| 1.4MB 12.5MB/s \n",
            "\u001b[?25hCollecting bz2file (from smart-open>=1.2.1->gensim)\n",
            "  Downloading https://files.pythonhosted.org/packages/61/39/122222b5e85cd41c391b68a99ee296584b2a2d1d233e7ee32b4532384f2d/bz2file-0.98.tar.gz\n",
            "Requirement already satisfied: requests in /usr/local/lib/python3.6/dist-packages (from smart-open>=1.2.1->gensim) (2.18.4)\n",
            "Collecting boto3 (from smart-open>=1.2.1->gensim)\n",
            "\u001b[?25l  Downloading https://files.pythonhosted.org/packages/b8/7c/f7213ba8cf2b660a6c0cdf055290e6df71037a60fc1db3d8e4a79b4789ee/boto3-1.7.58-py2.py3-none-any.whl (128kB)\n",
            "\u001b[K    100% |████████████████████████████████| 133kB 22.3MB/s \n",
            "\u001b[?25hRequirement already satisfied: certifi>=2017.4.17 in /usr/local/lib/python3.6/dist-packages (from requests->smart-open>=1.2.1->gensim) (2018.4.16)\n",
            "Requirement already satisfied: idna<2.7,>=2.5 in /usr/local/lib/python3.6/dist-packages (from requests->smart-open>=1.2.1->gensim) (2.6)\n",
            "Requirement already satisfied: chardet<3.1.0,>=3.0.2 in /usr/local/lib/python3.6/dist-packages (from requests->smart-open>=1.2.1->gensim) (3.0.4)\n",
            "Requirement already satisfied: urllib3<1.23,>=1.21.1 in /usr/local/lib/python3.6/dist-packages (from requests->smart-open>=1.2.1->gensim) (1.22)\n",
            "Collecting s3transfer<0.2.0,>=0.1.10 (from boto3->smart-open>=1.2.1->gensim)\n",
            "\u001b[?25l  Downloading https://files.pythonhosted.org/packages/d7/14/2a0004d487464d120c9fb85313a75cd3d71a7506955be458eebfe19a6b1d/s3transfer-0.1.13-py2.py3-none-any.whl (59kB)\n",
            "\u001b[K    100% |████████████████████████████████| 61kB 19.3MB/s \n",
            "\u001b[?25hCollecting jmespath<1.0.0,>=0.7.1 (from boto3->smart-open>=1.2.1->gensim)\n",
            "  Downloading https://files.pythonhosted.org/packages/b7/31/05c8d001f7f87f0f07289a5fc0fc3832e9a57f2dbd4d3b0fee70e0d51365/jmespath-0.9.3-py2.py3-none-any.whl\n",
            "Collecting botocore<1.11.0,>=1.10.58 (from boto3->smart-open>=1.2.1->gensim)\n",
            "\u001b[?25l  Downloading https://files.pythonhosted.org/packages/cb/6e/4d961f0c98007ba077a64626f4e0056e5351cca54653b15d12bb03c32110/botocore-1.10.58-py2.py3-none-any.whl (4.4MB)\n",
            "\u001b[K    100% |████████████████████████████████| 4.4MB 6.5MB/s \n",
            "\u001b[?25hRequirement already satisfied: python-dateutil<3.0.0,>=2.1; python_version >= \"2.7\" in /usr/local/lib/python3.6/dist-packages (from botocore<1.11.0,>=1.10.58->boto3->smart-open>=1.2.1->gensim) (2.5.3)\n",
            "Collecting docutils>=0.10 (from botocore<1.11.0,>=1.10.58->boto3->smart-open>=1.2.1->gensim)\n",
            "\u001b[?25l  Downloading https://files.pythonhosted.org/packages/36/fa/08e9e6e0e3cbd1d362c3bbee8d01d0aedb2155c4ac112b19ef3cae8eed8d/docutils-0.14-py3-none-any.whl (543kB)\n",
            "\u001b[K    100% |████████████████████████████████| 552kB 20.8MB/s \n",
            "\u001b[?25hBuilding wheels for collected packages: smart-open, bz2file\n",
            "  Running setup.py bdist_wheel for smart-open ... \u001b[?25l-\b \bdone\n",
            "\u001b[?25h  Stored in directory: /content/.cache/pip/wheels/73/f1/9b/ccf93d4ba073b6f79b1ed9df68ab5ce048d8136d0efcf90b30\n",
            "  Running setup.py bdist_wheel for bz2file ... \u001b[?25l-\b \bdone\n",
            "\u001b[?25h  Stored in directory: /content/.cache/pip/wheels/81/75/d6/e1317bf09bf1af5a30befc2a007869fa6e1f516b8f7c591cb9\n",
            "Successfully built smart-open bz2file\n",
            "Installing collected packages: boto, bz2file, jmespath, docutils, botocore, s3transfer, boto3, smart-open, gensim\n",
            "Successfully installed boto-2.49.0 boto3-1.7.58 botocore-1.10.58 bz2file-0.98 docutils-0.14 gensim-3.5.0 jmespath-0.9.3 s3transfer-0.1.13 smart-open-1.6.0\n"
          ],
          "name": "stdout"
        }
      ]
    },
    {
      "metadata": {
        "id": "KqfICs-iiD3N",
        "colab_type": "text"
      },
      "cell_type": "markdown",
      "source": [
        "###Load Trained Models"
      ]
    },
    {
      "metadata": {
        "id": "lvHx0zv6iCtU",
        "colab_type": "code",
        "colab": {
          "base_uri": "https://localhost:8080/",
          "height": 401
        },
        "outputId": "e198cf5c-6662-4abf-c9b8-0814638fb2da"
      },
      "cell_type": "code",
      "source": [
        "%%bash\n",
        "git clone https://github.com/jeroenmeulenaar/python3-mega.git python3mega\n",
        "cd python3mega\n",
        "pip install -r requirements.txt"
      ],
      "execution_count": 0,
      "outputs": [
        {
          "output_type": "stream",
          "text": [
            "Requirement already satisfied: requests>=1.1.0 in /usr/local/lib/python3.6/dist-packages (from -r requirements.txt (line 1)) (2.18.4)\n",
            "Collecting URLObject>=2.1.1 (from -r requirements.txt (line 2))\n",
            "  Downloading https://files.pythonhosted.org/packages/e2/b8/1d0a916f4b34c4618846e6da0e4eeaa8fcb4a2f39e006434fe38acb74b34/URLObject-2.4.3.tar.gz\n",
            "Collecting pycrypto>=2.6 (from -r requirements.txt (line 3))\n",
            "  Downloading https://files.pythonhosted.org/packages/60/db/645aa9af249f059cc3a368b118de33889219e0362141e75d4eaf6f80f163/pycrypto-2.6.1.tar.gz (446kB)\n",
            "Requirement already satisfied: certifi>=2017.4.17 in /usr/local/lib/python3.6/dist-packages (from requests>=1.1.0->-r requirements.txt (line 1)) (2018.4.16)\n",
            "Requirement already satisfied: chardet<3.1.0,>=3.0.2 in /usr/local/lib/python3.6/dist-packages (from requests>=1.1.0->-r requirements.txt (line 1)) (3.0.4)\n",
            "Requirement already satisfied: urllib3<1.23,>=1.21.1 in /usr/local/lib/python3.6/dist-packages (from requests>=1.1.0->-r requirements.txt (line 1)) (1.22)\n",
            "Requirement already satisfied: idna<2.7,>=2.5 in /usr/local/lib/python3.6/dist-packages (from requests>=1.1.0->-r requirements.txt (line 1)) (2.6)\n",
            "Building wheels for collected packages: URLObject, pycrypto\n",
            "  Running setup.py bdist_wheel for URLObject: started\n",
            "  Running setup.py bdist_wheel for URLObject: finished with status 'done'\n",
            "  Stored in directory: /content/.cache/pip/wheels/fd/7e/18/ccb55ecc2834f945b769c1ff1df12ca5a14400ccfc58e3c515\n",
            "  Running setup.py bdist_wheel for pycrypto: started\n",
            "  Running setup.py bdist_wheel for pycrypto: finished with status 'done'\n",
            "  Stored in directory: /content/.cache/pip/wheels/27/02/5e/77a69d0c16bb63c6ed32f5386f33a2809c94bd5414a2f6c196\n",
            "Successfully built URLObject pycrypto\n",
            "Installing collected packages: URLObject, pycrypto\n",
            "Successfully installed URLObject-2.4.3 pycrypto-2.6.1\n"
          ],
          "name": "stdout"
        },
        {
          "output_type": "stream",
          "text": [
            "Cloning into 'python3mega'...\n"
          ],
          "name": "stderr"
        }
      ]
    },
    {
      "metadata": {
        "id": "BtKrU2piiWAp",
        "colab_type": "code",
        "colab": {}
      },
      "cell_type": "code",
      "source": [
        "import os\n",
        "os.chdir(\"python3mega\")\n",
        "from mega import Mega\n",
        "m = Mega.from_ephemeral()\n",
        "os.chdir(\"..\")"
      ],
      "execution_count": 0,
      "outputs": []
    },
    {
      "metadata": {
        "id": "sNpLvKQ3iZSh",
        "colab_type": "code",
        "colab": {}
      },
      "cell_type": "code",
      "source": [
        "m.download_from_url('https://mega.nz/#!1BJ1iYKZ!05H-DDnvzcfN4btuCF3ThExeG5T1xKvjzkOm2U6x5Uk')"
      ],
      "execution_count": 0,
      "outputs": []
    },
    {
      "metadata": {
        "id": "4M1T8uI1vASY",
        "colab_type": "code",
        "colab": {}
      },
      "cell_type": "code",
      "source": [
        "m.download_from_url('https://mega.nz/#!MdYlBYRQ!qav9Yh_gjnhwiHonVYwfe_qq6rLZCglCbuA5AlFqX6U')"
      ],
      "execution_count": 0,
      "outputs": []
    },
    {
      "metadata": {
        "id": "iBIQxen-w3Nc",
        "colab_type": "code",
        "colab": {
          "base_uri": "https://localhost:8080/",
          "height": 35
        },
        "outputId": "daa055fa-7e8d-41f3-c079-74e727940711"
      },
      "cell_type": "code",
      "source": [
        "ls"
      ],
      "execution_count": 0,
      "outputs": [
        {
          "output_type": "stream",
          "text": [
            "\u001b[0m\u001b[01;34mdatalab\u001b[0m/  model_news_db_1  model_news_db_2  \u001b[01;34mpython3mega\u001b[0m/\r\n"
          ],
          "name": "stdout"
        }
      ]
    },
    {
      "metadata": {
        "id": "YIXPi6kHjAm1",
        "colab_type": "text"
      },
      "cell_type": "markdown",
      "source": [
        "###Playing with model"
      ]
    },
    {
      "metadata": {
        "id": "aZbWPMK5lIoV",
        "colab_type": "code",
        "colab": {
          "base_uri": "https://localhost:8080/",
          "height": 171
        },
        "outputId": "e77deece-c600-4a66-f76e-5a91e5fb8f3d"
      },
      "cell_type": "code",
      "source": [
        "len(model)"
      ],
      "execution_count": 0,
      "outputs": [
        {
          "output_type": "error",
          "ename": "TypeError",
          "evalue": "ignored",
          "traceback": [
            "\u001b[0;31m---------------------------------------------------------------------------\u001b[0m",
            "\u001b[0;31mTypeError\u001b[0m                                 Traceback (most recent call last)",
            "\u001b[0;32m<ipython-input-16-bafc21b277ab>\u001b[0m in \u001b[0;36m<module>\u001b[0;34m()\u001b[0m\n\u001b[0;32m----> 1\u001b[0;31m \u001b[0mlen\u001b[0m\u001b[0;34m(\u001b[0m\u001b[0mmodel\u001b[0m\u001b[0;34m)\u001b[0m\u001b[0;34m\u001b[0m\u001b[0m\n\u001b[0m",
            "\u001b[0;31mTypeError\u001b[0m: object of type 'Word2Vec' has no len()"
          ]
        }
      ]
    },
    {
      "metadata": {
        "id": "k6vgBxQ1XPos",
        "colab_type": "code",
        "colab": {
          "base_uri": "https://localhost:8080/",
          "height": 199
        },
        "outputId": "38d540b4-e9e9-4a74-a913-6bf58b14a9cd"
      },
      "cell_type": "code",
      "source": [
        "model.wv.most_similar(\"entrepreneur\")"
      ],
      "execution_count": 0,
      "outputs": [
        {
          "output_type": "execute_result",
          "data": {
            "text/plain": [
              "[('economist', 0.902117133140564),\n",
              " ('architect', 0.900246262550354),\n",
              " ('activist', 0.8866156339645386),\n",
              " ('anthropologist', 0.8654515147209167),\n",
              " ('artist', 0.8624669313430786),\n",
              " ('astronaut', 0.8581064939498901),\n",
              " ('expert', 0.8556488752365112),\n",
              " ('actor', 0.8503183126449585),\n",
              " ('atheist', 0.8391861915588379),\n",
              " ('impostor', 0.8351146578788757)]"
            ]
          },
          "metadata": {
            "tags": []
          },
          "execution_count": 11
        }
      ]
    },
    {
      "metadata": {
        "id": "K9ryU7K0i_uU",
        "colab_type": "code",
        "colab": {
          "base_uri": "https://localhost:8080/",
          "height": 35
        },
        "outputId": "6f7fda9c-691a-45d0-f306-67e6e0067d4c"
      },
      "cell_type": "code",
      "source": [
        "type(model)"
      ],
      "execution_count": 0,
      "outputs": [
        {
          "output_type": "execute_result",
          "data": {
            "text/plain": [
              "gensim.models.word2vec.Word2Vec"
            ]
          },
          "metadata": {
            "tags": []
          },
          "execution_count": 12
        }
      ]
    },
    {
      "metadata": {
        "id": "IImrGeh4jSxf",
        "colab_type": "code",
        "colab": {
          "base_uri": "https://localhost:8080/",
          "height": 189
        },
        "outputId": "3e828d6a-da3b-43b1-b503-46d4ee5ee125"
      },
      "cell_type": "code",
      "source": [
        "minus_model = model - model\n",
        "# NOT SUPPORTED"
      ],
      "execution_count": 0,
      "outputs": [
        {
          "output_type": "error",
          "ename": "TypeError",
          "evalue": "ignored",
          "traceback": [
            "\u001b[0;31m---------------------------------------------------------------------------\u001b[0m",
            "\u001b[0;31mTypeError\u001b[0m                                 Traceback (most recent call last)",
            "\u001b[0;32m<ipython-input-13-c8645cb498f1>\u001b[0m in \u001b[0;36m<module>\u001b[0;34m()\u001b[0m\n\u001b[0;32m----> 1\u001b[0;31m \u001b[0mminus_model\u001b[0m \u001b[0;34m=\u001b[0m \u001b[0mmodel\u001b[0m \u001b[0;34m-\u001b[0m \u001b[0mmodel\u001b[0m\u001b[0;34m\u001b[0m\u001b[0m\n\u001b[0m\u001b[1;32m      2\u001b[0m \u001b[0;31m# NOT SUPPORTED\u001b[0m\u001b[0;34m\u001b[0m\u001b[0;34m\u001b[0m\u001b[0m\n",
            "\u001b[0;31mTypeError\u001b[0m: unsupported operand type(s) for -: 'Word2Vec' and 'Word2Vec'"
          ]
        }
      ]
    },
    {
      "metadata": {
        "id": "XsI3Qpj6jhEU",
        "colab_type": "code",
        "colab": {
          "base_uri": "https://localhost:8080/",
          "height": 189
        },
        "outputId": "4f98c141-0cd8-45ce-f13f-b26e2bb8057e"
      },
      "cell_type": "code",
      "source": [
        "type(model[\"entrepreneur\"])\n",
        "# numpy.ndarray"
      ],
      "execution_count": 0,
      "outputs": [
        {
          "output_type": "error",
          "ename": "NameError",
          "evalue": "ignored",
          "traceback": [
            "\u001b[0;31m---------------------------------------------------------------------------\u001b[0m",
            "\u001b[0;31mNameError\u001b[0m                                 Traceback (most recent call last)",
            "\u001b[0;32m<ipython-input-1-bb31b78f8b2e>\u001b[0m in \u001b[0;36m<module>\u001b[0;34m()\u001b[0m\n\u001b[0;32m----> 1\u001b[0;31m \u001b[0mtype\u001b[0m\u001b[0;34m(\u001b[0m\u001b[0mmodel\u001b[0m\u001b[0;34m[\u001b[0m\u001b[0;34m\"entrepreneur\"\u001b[0m\u001b[0;34m]\u001b[0m\u001b[0;34m)\u001b[0m\u001b[0;34m\u001b[0m\u001b[0m\n\u001b[0m\u001b[1;32m      2\u001b[0m \u001b[0;31m# numpy.ndarray\u001b[0m\u001b[0;34m\u001b[0m\u001b[0;34m\u001b[0m\u001b[0m\n",
            "\u001b[0;31mNameError\u001b[0m: name 'model' is not defined"
          ]
        }
      ]
    },
    {
      "metadata": {
        "id": "IYTtKxrpj5UM",
        "colab_type": "code",
        "colab": {
          "base_uri": "https://localhost:8080/",
          "height": 455
        },
        "outputId": "733cee6d-5529-4328-9977-19d585d4e529"
      },
      "cell_type": "code",
      "source": [
        "model[\"entrepreneur\"]"
      ],
      "execution_count": 0,
      "outputs": [
        {
          "output_type": "stream",
          "text": [
            "/usr/local/lib/python3.6/dist-packages/ipykernel_launcher.py:1: DeprecationWarning: Call to deprecated `__getitem__` (Method will be removed in 4.0.0, use self.wv.__getitem__() instead).\n",
            "  \"\"\"Entry point for launching an IPython kernel.\n"
          ],
          "name": "stderr"
        },
        {
          "output_type": "execute_result",
          "data": {
            "text/plain": [
              "array([ 0.20235166,  0.53796643, -0.07205287, -0.4917733 , -0.18315537,\n",
              "        0.44496745,  0.08833359, -0.21318987,  0.11201645,  0.43335387,\n",
              "       -0.1899689 , -0.42741352, -0.12580433, -0.58701867,  0.23723133,\n",
              "       -0.2702044 , -0.44369557, -0.1932195 ,  0.35374677, -0.11754068,\n",
              "       -0.6376186 , -0.39672828, -0.08301786, -0.01188317,  0.37585056,\n",
              "       -0.2097196 ,  0.01382275, -0.11978568, -0.1440628 ,  0.00935103,\n",
              "        0.5103125 , -0.22633967, -0.00617537,  0.43256795,  0.06657786,\n",
              "        0.46839565,  0.2057064 ,  0.03313362,  0.22063555, -0.10881404,\n",
              "       -0.16358085, -0.832392  , -0.5055351 ,  0.17539665, -0.09579752,\n",
              "        0.16052523,  0.13410763, -0.7746147 , -0.36171466,  0.1506706 ,\n",
              "       -0.00747181, -0.50304437, -0.31410804, -0.22962591, -0.70568955,\n",
              "        0.32004496, -0.2550136 , -0.7883951 ,  0.1766998 , -0.60241157,\n",
              "        0.05927536,  0.14790818, -0.4264756 , -0.33307618, -0.2593861 ,\n",
              "       -0.15762675,  0.0022651 , -0.1491662 ,  0.20896941, -0.17778169,\n",
              "       -0.18684359,  0.08955149, -0.01010921, -0.52880496,  0.29254046,\n",
              "       -0.49543378,  0.10499967,  0.15312214,  0.21825325,  0.17438197,\n",
              "        0.35409924,  0.35619688,  0.06399439, -0.30707866, -0.00757208,\n",
              "       -0.28544873,  0.0918268 , -0.20434466,  0.74293786,  0.03097636,\n",
              "       -0.01951007,  0.15683241,  0.25389382,  0.05626117,  0.17829074,\n",
              "       -0.096786  ,  0.53414375,  0.4339385 , -0.13950425,  0.17351392],\n",
              "      dtype=float32)"
            ]
          },
          "metadata": {
            "tags": []
          },
          "execution_count": 13
        }
      ]
    },
    {
      "metadata": {
        "id": "QI4qA44JkHNh",
        "colab_type": "code",
        "colab": {
          "base_uri": "https://localhost:8080/",
          "height": 227
        },
        "outputId": "0f70ffa4-2237-402f-9538-c7afbce07bf2"
      },
      "cell_type": "code",
      "source": [
        "model[\"entrepreneur\"] = model[\"entrepreneur\"] - model[\"entrepreneur\"]\n",
        "# NOT SUPPORTED"
      ],
      "execution_count": 0,
      "outputs": [
        {
          "output_type": "stream",
          "text": [
            "/usr/local/lib/python3.6/dist-packages/ipykernel_launcher.py:1: DeprecationWarning: Call to deprecated `__getitem__` (Method will be removed in 4.0.0, use self.wv.__getitem__() instead).\n",
            "  \"\"\"Entry point for launching an IPython kernel.\n"
          ],
          "name": "stderr"
        },
        {
          "output_type": "error",
          "ename": "TypeError",
          "evalue": "ignored",
          "traceback": [
            "\u001b[0;31m---------------------------------------------------------------------------\u001b[0m",
            "\u001b[0;31mTypeError\u001b[0m                                 Traceback (most recent call last)",
            "\u001b[0;32m<ipython-input-15-55a3167ac291>\u001b[0m in \u001b[0;36m<module>\u001b[0;34m()\u001b[0m\n\u001b[0;32m----> 1\u001b[0;31m \u001b[0mmodel\u001b[0m\u001b[0;34m[\u001b[0m\u001b[0;34m\"entrepreneur\"\u001b[0m\u001b[0;34m]\u001b[0m \u001b[0;34m=\u001b[0m \u001b[0mmodel\u001b[0m\u001b[0;34m[\u001b[0m\u001b[0;34m\"entrepreneur\"\u001b[0m\u001b[0;34m]\u001b[0m \u001b[0;34m-\u001b[0m \u001b[0mmodel\u001b[0m\u001b[0;34m[\u001b[0m\u001b[0;34m\"entrepreneur\"\u001b[0m\u001b[0;34m]\u001b[0m\u001b[0;34m\u001b[0m\u001b[0m\n\u001b[0m",
            "\u001b[0;31mTypeError\u001b[0m: 'Word2Vec' object does not support item assignment"
          ]
        }
      ]
    },
    {
      "metadata": {
        "id": "LhODs6M7oXY2",
        "colab_type": "code",
        "colab": {
          "base_uri": "https://localhost:8080/",
          "height": 455
        },
        "outputId": "ce0cc953-5dac-4f6e-a7e9-78030e20c14e"
      },
      "cell_type": "code",
      "source": [
        "model['boy']"
      ],
      "execution_count": 0,
      "outputs": [
        {
          "output_type": "stream",
          "text": [
            "/usr/local/lib/python3.6/dist-packages/ipykernel_launcher.py:1: DeprecationWarning: Call to deprecated `__getitem__` (Method will be removed in 4.0.0, use self.wv.__getitem__() instead).\n",
            "  \"\"\"Entry point for launching an IPython kernel.\n"
          ],
          "name": "stderr"
        },
        {
          "output_type": "execute_result",
          "data": {
            "text/plain": [
              "array([ 0.53867334, -0.361385  , -0.86674654, -0.17131948,  0.98401344,\n",
              "        0.8067845 ,  0.1111766 , -0.01106134, -0.56461835,  1.3948219 ,\n",
              "        1.6091311 ,  0.88039017, -0.7051991 , -0.2688786 , -0.41667518,\n",
              "       -0.04546946, -0.48960957, -0.65181327,  0.12261411, -0.49630257,\n",
              "        0.9350181 ,  0.8128392 ,  0.4655204 ,  1.6427513 ,  1.1391753 ,\n",
              "       -0.8352595 , -0.75343394,  0.8382971 ,  1.9420936 , -0.48434746,\n",
              "       -0.1996124 ,  1.2369007 , -0.1574192 ,  0.5786293 , -0.38559145,\n",
              "        1.0986748 ,  0.70707583,  0.17745115,  1.5451361 ,  1.2911285 ,\n",
              "       -1.5712801 ,  0.03593261,  0.74058783, -0.46568307, -1.5376679 ,\n",
              "        0.64817244, -0.20519069,  0.19935532,  0.5433881 , -0.5299435 ,\n",
              "       -1.8901308 ,  0.19142722,  0.01346795,  0.89286166,  1.1135262 ,\n",
              "       -0.9282615 , -0.17957479,  1.0986031 , -0.52507997, -1.415834  ,\n",
              "        0.08894284,  0.12335753, -0.4992399 , -1.046179  , -1.4660685 ,\n",
              "       -1.7220666 , -0.00293653, -0.39979893, -1.7703484 ,  1.1757406 ,\n",
              "        0.8617702 ,  0.41592017, -0.8222763 ,  0.10738578,  0.64219165,\n",
              "       -1.2104254 , -0.04212843,  0.35315925, -0.22225256,  1.1254174 ,\n",
              "        0.38606587, -0.73375297,  0.04722973, -1.1636169 , -0.5905771 ,\n",
              "        0.02039725,  0.72053653, -0.13297644, -0.3359452 ,  0.00476219,\n",
              "       -0.4023889 ,  0.60238856, -0.23153926,  0.60191274,  0.62879884,\n",
              "        0.22276922,  0.91345286,  0.35369092, -0.5161203 , -0.59917223],\n",
              "      dtype=float32)"
            ]
          },
          "metadata": {
            "tags": []
          },
          "execution_count": 14
        }
      ]
    },
    {
      "metadata": {
        "id": "KQf5bvjFkxjF",
        "colab_type": "code",
        "colab": {
          "base_uri": "https://localhost:8080/",
          "height": 74
        },
        "outputId": "315dd972-697d-44e5-d512-23c5a031722f"
      },
      "cell_type": "code",
      "source": [
        "model.wv.syn0[model.wv.vocab['boy'].index] += 10"
      ],
      "execution_count": 0,
      "outputs": [
        {
          "output_type": "stream",
          "text": [
            "/usr/local/lib/python3.6/dist-packages/ipykernel_launcher.py:1: DeprecationWarning: Call to deprecated `syn0` (Attribute will be removed in 4.0.0, use self.wv.vectors instead).\n",
            "  \"\"\"Entry point for launching an IPython kernel.\n"
          ],
          "name": "stderr"
        }
      ]
    },
    {
      "metadata": {
        "id": "cNyGC3GLogaE",
        "colab_type": "code",
        "colab": {
          "base_uri": "https://localhost:8080/",
          "height": 455
        },
        "outputId": "f5b515bd-f34a-4b6e-c776-792a5c08cc91"
      },
      "cell_type": "code",
      "source": [
        "model['boy']"
      ],
      "execution_count": 0,
      "outputs": [
        {
          "output_type": "stream",
          "text": [
            "/usr/local/lib/python3.6/dist-packages/ipykernel_launcher.py:1: DeprecationWarning: Call to deprecated `__getitem__` (Method will be removed in 4.0.0, use self.wv.__getitem__() instead).\n",
            "  \"\"\"Entry point for launching an IPython kernel.\n"
          ],
          "name": "stderr"
        },
        {
          "output_type": "execute_result",
          "data": {
            "text/plain": [
              "array([10.538673 ,  9.638615 ,  9.133253 ,  9.82868  , 10.984014 ,\n",
              "       10.806785 , 10.1111765,  9.988938 ,  9.435382 , 11.394822 ,\n",
              "       11.609131 , 10.88039  ,  9.294801 ,  9.731121 ,  9.583324 ,\n",
              "        9.954531 ,  9.51039  ,  9.3481865, 10.122614 ,  9.503697 ,\n",
              "       10.935019 , 10.8128395, 10.465521 , 11.642752 , 11.139175 ,\n",
              "        9.164741 ,  9.246566 , 10.838297 , 11.942094 ,  9.515653 ,\n",
              "        9.800387 , 11.2369   ,  9.842581 , 10.5786295,  9.6144085,\n",
              "       11.098675 , 10.707076 , 10.177451 , 11.545136 , 11.291128 ,\n",
              "        8.4287195, 10.035933 , 10.740588 ,  9.534317 ,  8.462332 ,\n",
              "       10.648172 ,  9.794809 , 10.199355 , 10.543388 ,  9.470057 ,\n",
              "        8.109869 , 10.191427 , 10.013468 , 10.892861 , 11.113526 ,\n",
              "        9.071738 ,  9.820425 , 11.098603 ,  9.47492  ,  8.584166 ,\n",
              "       10.088943 , 10.123358 ,  9.50076  ,  8.953821 ,  8.533932 ,\n",
              "        8.277933 ,  9.997064 ,  9.600201 ,  8.229651 , 11.17574  ,\n",
              "       10.861771 , 10.41592  ,  9.177724 , 10.107386 , 10.642192 ,\n",
              "        8.789575 ,  9.957871 , 10.353159 ,  9.777747 , 11.125418 ,\n",
              "       10.3860655,  9.266247 , 10.04723  ,  8.836383 ,  9.409423 ,\n",
              "       10.020397 , 10.720536 ,  9.867023 ,  9.664055 , 10.004763 ,\n",
              "        9.597611 , 10.602388 ,  9.76846  , 10.6019125, 10.6287985,\n",
              "       10.222769 , 10.913453 , 10.353691 ,  9.48388  ,  9.400827 ],\n",
              "      dtype=float32)"
            ]
          },
          "metadata": {
            "tags": []
          },
          "execution_count": 17
        }
      ]
    },
    {
      "metadata": {
        "id": "wCxS_OVapWzg",
        "colab_type": "code",
        "colab": {
          "base_uri": "https://localhost:8080/",
          "height": 35
        },
        "outputId": "bd28863c-5d48-4d5a-bb5f-3019b01621bf"
      },
      "cell_type": "code",
      "source": [
        "type(model1.wv.vocab)"
      ],
      "execution_count": 0,
      "outputs": [
        {
          "output_type": "execute_result",
          "data": {
            "text/plain": [
              "dict"
            ]
          },
          "metadata": {
            "tags": []
          },
          "execution_count": 28
        }
      ]
    },
    {
      "metadata": {
        "id": "T6mzUtLAqZ4l",
        "colab_type": "code",
        "colab": {
          "base_uri": "https://localhost:8080/",
          "height": 35
        },
        "outputId": "6af7bd5f-b3c1-482e-cd54-3807d6de8225"
      },
      "cell_type": "code",
      "source": [
        "len(model1.wv.vocab)"
      ],
      "execution_count": 0,
      "outputs": [
        {
          "output_type": "execute_result",
          "data": {
            "text/plain": [
              "94734"
            ]
          },
          "metadata": {
            "tags": []
          },
          "execution_count": 27
        }
      ]
    },
    {
      "metadata": {
        "id": "tTT9iBls5x7n",
        "colab_type": "code",
        "colab": {
          "base_uri": "https://localhost:8080/",
          "height": 35
        },
        "outputId": "5180a0f1-1e67-4ff3-85a8-317eff56b324"
      },
      "cell_type": "code",
      "source": [
        "model1.wv.vocab[\"boy\"]"
      ],
      "execution_count": 0,
      "outputs": [
        {
          "output_type": "execute_result",
          "data": {
            "text/plain": [
              "<gensim.models.keyedvectors.Vocab at 0x7fdecdaf6908>"
            ]
          },
          "metadata": {
            "tags": []
          },
          "execution_count": 29
        }
      ]
    },
    {
      "metadata": {
        "id": "pSohP_Srp_ch",
        "colab_type": "code",
        "colab": {
          "base_uri": "https://localhost:8080/",
          "height": 55
        },
        "outputId": "ba89ee8e-5173-4b14-ce12-460fcf581401"
      },
      "cell_type": "code",
      "source": [
        "for key in model.wv.vocab:\n",
        "  print(key, end=\" \")"
      ],
      "execution_count": 0,
      "outputs": [
        {
          "output_type": "stream",
          "text": [
            "here are two reasons companies fail they only do more of the same or what s new to me real solution quality growth is figuring out balance between activities exploration and exploitation both necessary but it can be too much a good thing consider facit i m actually old enough remember them was fantastic company were born deep in swedish forest made best mechanical calculators world everybody used did when electronic calculator came along continued doing exactly six months went from maximum revenue gone irony about story hearing engineers who had bought cheap small japan that double check their go wild few years back worked closely alongside european biotech let call brilliant applications promised diagnose even cure certain forms blood cancer every day creating something extremely innovative mantra we get right want perfect sad before became obsolete first heard 15 ago as visiting scholar at stanford university founder idea jim march power its coming up with search discovery products innovations changing our frontiers heroes people have done madame picasso neil armstrong sir edmund hillary etc come norway all explorers deserve know risky don t answers if re going find risks high opposite taking knowledge making better trains run on time faster cheaper not short term exploit very long think memories famous pop groups keep singing songs again until become pathetic risk so take perspective explore children grow older less because goes for by nature competent this course big worry ceos hear often questions different ways example how effectively reinvent my make sure changes hit crisis one well difficult art pushing ve found percent able parallel payoffs huge lots great examples lego into animated films toyota hybrids unilever sustainability there benefits why balancing many traps us where ll talk perpetual trap discover patience persistence work instead staying create then vicious circle ideas being frustrated xerox see public sector any kind effective reform education research health care defense takes 10 maybe 20 still change really give chance another success fell literally held future hands couldn simply loved wouldn like bill gates has said lousy teacher thinking cannot challenge some lessons apply lesson ahead innovate also buy an insurance netflix could easily been content earlier generations distribution always will next battle other say win innovation cycle whatever multiple scales share chart you wonderful look year looking valuation typically accounts 30 isn important move suddenly ability renew account 70 choose need fund journey lead invite talent possible ourselves team sport allow challenging mark open challenged corporate board parenting skeptical useful triumph marches rome generals after victory given celebration riding carriage companion whispering ear human hope point payoff conscious just question your own which areas falling autopilot last effect should case yes leave whether explorer tend already forget beauty thank lands far earth itself hospitable humans measure survive primitive ancestors homes livelihood endangered dared way unfamiliar territories opportunities descendants these nomadic coursing through veins distracted bread wars waged each seems forgotten desire species evolved uniquely living conditions grown complacent busy notice resources finite sun life while mars movies name ethos space travel seem truly realize fragile constitution unprepared duration journeys trek local national quick reality show would lush wilderness days lot weeks decent amount pretty now imagine experiences eternal winter quite fun twist source water available trapped frozen blocks miles below surface soil nutrients minimal no vegetation hardly atmosphere exists speak such challenges face planet steel voyages whose destinations removed tropical vacation continuously ship supplies build elevators impossible transport belts tether choice home things food grew getting myself under likely than spending hermetic flying possibly longest continuous spent vicinity 12 14 astronauts environment means bone loss muscle atrophy cardiovascular problems among complications range physiological psychological variation gravitational pull cosmic fraught dangers known unknown piece technology generation robot part lineup ensure safe passage believe complement bulky giants invented microbe single celled organism self generating machine requires fairly little maintain offers flexibility design asks carried plastic tube field study enabled utilize capabilities synthetic biology comes molecular antibiotics vaccines observe nuances body using tools edit genes nearly microscopic incredible speed fidelity limitations man machines engineer fuel compensate physical survival use return martian composition similar hawaiian volcanic ash trace amounts organic material hypothetically support plant without derived probably ask plants cold tolerant average temperature negative 60 degrees centigrade drought considering most frost evaporates quickly word evaporate turns borrowing anti freeze protein fish tolerance rice tolerate droughts freezes genetically modified organisms rely feed mouths civilization does stuff help precise genetic makeup mean needing endless acres land entirely releasing trillions gallons atmospheric gasses constructing giant glass dome contain unrealistic engineering enterprise becomes cost cargo mission air bring engineered adapt harsh environments essence medicine highly else mentioned fact changed five minutes sitting standing dump minute ample suit experience unpleasant radiation planets unless plan stay underground must protecting resort wearing armor weighs equal weight hide behind wall appeal inspiration plethora subset lovers extreme school bacterium deinococcus radiodurans withstand vacuum acid notably mechanisms yet relevant mammals particularly easy facets simple transferring gene bit ingenuity hard either borrow fraction infinitely melanin skin harness thrive otherwise lethal doses homo sapiens evolves continues evolve thousands evolution low oxygen ingest metabolize chemical element kill accidental mutations equally accidentally persevere dismal situations may afford death struggle place universe natural extra functions non e o wilson termed age during remedy defects cystic fibrosis muscular temporary external supplements passing approach capacity decide destiny augmenting abilities longer especially moral ethical humanity star happens genius direct surely waste sit marvel protect pose engender fear science light possibilities afforded coalesce discuss embrace solutions caution courage destination true final frontier line cross deciding improbable intelligence brutal unforgiving path stars trials lie abandon gleaned define weirdly obsessed advertising watching saturday morning cartoons paying attention commercials shows trying figure inside head ultimately led dream job partner york ad agency february 23 1997 brother matt shot shooting happened observation deck empire state building family thrown middle nightmare told die opportunity goodbye him several emergency brain surgeries lifetime recovering traumatic injury he definitely hero yeah deserves tragedy worse 90 families aren fortunate lose ones brothers sisters sons daughters parents headlines largely nation accept disgraceful epidemic normal quit try preventing gun violence love engage sell save lives down finding common ground overlaps might surprised learn hunt enjoyed millions across proud tradition places hunting season holiday hunters guns deeply second amendment those doesn starting basic keeping dangerous away agree shouldn convicted violent criminals domestic dangerously mentally ill appreciate brady background checks incredibly federally licensed dealers blocked 2 4 million sales hate online lines airplane security numbers overwhelming agreement american americans expanding including republicans 80 owners nra members controversial percentage believes moon landing fake government putting mind controlling tv broadcast signals extent 300 america mostly law abiding choosing ten 42 believed incorrectly makes safer today number 63 gets dark underbelly tell times eventually truth lobby billions dollars blocking cdc pediatricians talking smart prevent kids firing desperate view threat bottom dying result nine 900 teens almost parent thirds shootings happen taken terrible sandy hook meet heartbreaking bad unimaginable consequences decision based information put minds misery causing mine end organization campaign reflected bold goal cut deaths half 2025 tonight strong sense absolutely within reach folks movement around moment started clearly tipping together never mass malls movie theaters churches schools daily terror streets claimed women young black men staggering proportions access group politicians interests elected represent exciting usual suspects saying anymore bigger proof start conversations kim kardashian joke issues political advocacy culture voices everywhere celebrities platforms musicians athletes nba forward conservative pundits imagined cultural ted happening unsolicited passionate her 35 twitter followers expanded elections heating classic third rail issue democrats fast candidates running forced reverse positions defended comfortably recently somebody wave ratings surreal watch needs smarter side offense internet social media organizing plug democratized activism allowed looks sometimes converging attacking instantly white cells close disconnect wants leaders narrative congress calls flipping recent san jammed congressional 000 24 hours got vote nobody thought anytime soon seeing evil ugly legislation passed over decade broken seen president obama historic executive actions expand didn previously marching country waiting act definition insanity marriage equality style winning wake wrong history shakes speech large although intimidating woman favorite mad period 1960s remarks d glance screen seemed smoking office pregnant drinking driving seat sexually harassing coworker dawned tremendous relatively behaviors once considered commonplace glamorous sexy stigmatized magnitude potential someday depict 128 since abolished slavery 53 martin luther king pronounced his live color gives impression lasting remains full colors father son maid whom inherited intense chocolate tone adopted grandparents matriarch grandma cotton hair grandpa somewhere vanilla strawberry yogurt uncle cousin mother daughter native brazilian pinch honey mix coffee milk she toasted peanut beige pancake growing outside however meanings drawing bunch contradictory feelings creative understood unique flesh colored pencil wasn pink brown seven mess later took usually nanny helping kitchen friend party treated prostitute walking alone beach friends upper class buildings invited main elevator belong keeps revolving struggling married chose lobster chase understand concern previous personal exercise photographer humanae pursuit highlight rather red yellow associated race game codes progress global portray subjects 11 pixel square nose paint corresponding industrial palette joined adventure thanks concept invites push button computer snowball roll project welcome invitations exhibitions formats galleries museums occupies spaces appears street fosters popular debate creates feeling community portrayed 3 13 countries 19 cities mention someone included forbes list refugees crossed mediterranean boat paris unesco headquarters shelter students switzerland favelas rio de janeiro kinds beliefs gender identities impairments newborn terminally portraits rethink modern questioning eye mouth origin nationality bank turned realized represents sort mirror themselves label amazing thoughts hundreds girl wrote tool confidence past weekend girlfriends argued special heart shared portrait facebook globe difficulties stereotype box perhaps stop framing individual yourself hi dominican dutch mixed bisexual besides unexpected touching reactions finds variety fields reference sketches studies collection faces researchers anthropology physics neuroscience scientific approaches related ethnicity recognition alzheimer impacts chosen cover foreign affairs publications ambassadors teachers educational purposes passion encourages classes adults channel others communicate picture feel am front therapist frustration loneliness felt brazil abolish discrimination practice worldwide disappear century computing fascinating peculiar reduced 2d interacting singular 100 vastness communicated entertained managed spend tapping screens limited monitors pixels limitation connect inspires creator brings closer devices center everything senses touch embraces experienced enables enable interactions voice controls step microsoft hololens fully holographic 3d enhancing beyond ordinary perceptions distant car volvo designing cars differently universities western redefining medical nasa scientists bringing holograms device freeing confines traditional adjusted cave terms barely discovered charcoal stick figures explain setup demo ever stage momentarily camera walked onstage begin lens brand marvelous causality developers causes program effects click icon cause application compare overly digital analog zero false exist governed quantum infinite probabilities shades gray worlds collide pervasive fall asleep computers superpowers displace matter entertainment productivity communication television theater displaced immediately lovely seattle displacement dimensional current powers glimmers devoid remarkable understands enhance limit answer required problem sensing break classify object interact three input biometric secondly output finally exchange energy via virtual hologram having force collapse matrix secret excited reduce smartphones becoming capable understanding significantly granular control dial entire transform play courageous landed powerful phones pockets hundred watched grainy televisions mesmerized universal translators squint telepresence near lucky crazy anywhere dr jeffrey jet propulsion laboratory finger jeff hey alex phew awesome week room wow data replica built captured curiosity rover present extend vision decades explored keyboards leaping antennas relay satellites steps landscape alien familiar exploring dreams magical invisible wavelengths top mountain minerals rock whole join joining bye tribes interacted beginning brought remembering feels phenomenal ok press straight difference demos commercial product type buys receiving haven answered purposely ignored equivalent showing size irrelevant density lights angular resolution saw wanted cheat wider points matters volume sees jesus christ oh shit knew super crisp per unit area mapping map apartment maps frames spatial placing learning wireless connectivity conferences pre store viewing beautiful um sight smell scientifically technologies parts improve station spacecraft please began africa bar kicked off guess south according rules continual attempts society ravaged apartheid tweeted ifafricawasabar alcohol begging stomach waited funny wondered sent tweets african read tweet convince remind fine luckily participating july hashtag garnered lit continent poke stereotypes nigeria explaining pay entrance fee details criticize ordering bottles pronounce tab won geopolitical tensions sudan guy serious anger management lesotho person knows pictures egypt libya tunisia algeria morocco hell note turnaround rwanda money leaves drunk happy rich importantly connecting thrilled mainly pan africanism fingertips platform needed spark hunger 22 birth called botswana southern slightly germany celebrate 50th stable democracy progressive policies kingdom swaziland complete monarchy ruled royal paper kid rained rain mattered raised moved toddler spoke fluent nothing introduced identity outsider incapable anything traditions meant shed constantly confronted add entry private system purpose beat adolescence interest strange intersection belonging vast simultaneously politics geography philosophies towards works intellectuals steve tackled complex consciousness digested grand speeches iconic statesmen burkina faso thomas congo fiction hopped enthusiasm teenage bored random 2011 affordable packages surfing easier sending messages 140 characters creativity lectures lunch breaks everyday realities luxury english follow africans nigerians opened followed vibrant posting google animals guys cocktails hotel ownership tourism sectors beaches cocktail bars nairobi travels literature economic policy invariably discussing restriction borders finances governments westerners accident bombarded message destined failure crushing rule free colonial archaic 1920s various europe 200 neighboring fates intertwined disaster hits turmoil flee largest refugee centers sudanese kenyan sharing successes shoot increasing inter trade removing pressure fulfill regional agreements signed biggest foster inventing totally unity elite benefit exclusively bursting governance shaky institutions handful majority populations alive allowing circumstance suffocate canvas collaboratively networks violently youth 65 minister medication plans tyrannical pushed protest suffer fingers against ridiculously fees parliament journalists illegally detained pain aspiration witnessed empathize rescue natalia specializes digging dead interesting digs above arctic remote canadian tundra summer 2006 dig site leaf bed latitude magnetic north pole sound backpack gps notebook picking fossil noticed rusty palm hand lying wood prehistoric night camp realizing tree rings preservation huh four spot collected fragments exact tiny fits bag tried jigsaw puzzle pieces sand scanner ooh virtually leg specifically belonged mammal cow sheep animal showed colleagues hers colorado edge smelled recognized cutting skulls gross anatomy lab collagen structure bones acted freezer preserved conference bristol colleague named mike process structures profile match shipped fedex track processed compared 37 5 dug camel tested larger camels feet tall weighed ton east central asia chances postcard image quintessential desert creature hangs hot sahara hump storing broad dunes originally 40 45 sizes necks functionally giraffes crocodiles early rabbits rabbit sized earliest recognize god pet branch bridge ice extinct wise polar fair celsius warmer boreal siberia month winters ponds darkness saharan superstars survived features suited snow pair news contains fat scarce retrofit instance helpful hotter insulation rest helps heat dissipate evolutionary keyhole climate reason trained historian learned historians stories adapted lived uncover evidence forces reframe scientist shard counterintuitive theory absurd seuss completely niche specific traveler azuri regular gig radio city music hall anyway reminder dynamic willingness reimagine anew returning career relaunchers elder childcare pursuing veterans military spouses retirement employers hiring gap resume proposition individuals doubts careers solve successful sami nuclear physicist uk singapore nurses speaking mimi kahn worker orange county california returned services 25 aware supreme court justice sandra connor tracy essays mom divorce plus working finance accounting role diligently researching applying jobs results met june asked turn house everyone expect discouraged workforce diminished farther professional boost vividly kept business caring afraid interview journal handle gem fewer maternity settled mature employer expense precisely flip concerns worried technologically condition financial analysis lotus 1 anyone excel commands powerpoint table software responsibility skills demonstrate value 2010 noticing tracking programs 2008 paid internship professionals goldman sachs lee reentry candidate level permanent afterward integrate internships mid report article harvard review intern editors title artwork midst college courtesy fox 50 participated roles commanding competitive salaries piloting initiative embracing allows base actual sample series interviews testing removes perceived managers attach attracting excellent turning interested engaging developed r sum institutional shift retiree pool critical conversation offer department possibility guarantees though decided ended blowing expectations 2012 2015 promoted mba hired meantime hesitate suggest arrangement formal following opinions reflect particular prosecutor order police officer marine accountability communities drank legal illegal drug fight sibling jail decisions danger defined youthful criminal focus confession servant division boston municipal impoverished neighborhood plagued crime courtroom auditorium words guilty predominately judge attorney altering approached facts predicted preventable expert accused murder worst contained childhood trauma poverty disengagement interaction leading condemned prison meetings fathom prevented crimes homeless addicted send assistance weren giving prosecuted drove defender jails prisons incarcerated probation parole disproportionately affects poor failures equipped prosecutors receive complain sentencing laws rarely 2009 arrested 18 senior sights set minimum wage providing enroll stole laptops sold arrest complaint felony charges faced stressed christopher impact record desk sounding dramatic 29 appreciation dealt branding onto regardless intent despite discretion avoid rendering basically useless conditioned somehow improves safety contrary judged internally externally convictions trial wins incentivized outdated method counterproductive achieving harder setting motion defines failing unable employment housing protective factors commit further contact peers ladies gentlemen outcome expected none actors boundless cases legislature mayor governor prosecute leverage plea deal position unaware grave gathering stood stuffing sandwiches waving smiling approaching hugging thanking cared accountable offend recovered 75 gave repay recover service essay reflecting applied obtained aid graduate finished looked tag manager accomplished credit certainly locked employed retrospect throw book intervention caught selling quantity drugs late firsthand opposed wrath guidance district supervisor judges ruining helped stealing groceries abused teenager adult punching secured mental treatment supervision runaway gang loaded 9 millimeter normally prepping road presented prefer theirs billion industry substance abuse investment develop neighborhoods costs states lock disciplines election jurisdiction neighbors collecting training fix breathing discipline committed greatest united wield catastrophe qualities hallmarks lawyers elect inefficient expensive methods demand tied harlem profound dive columbia studied fellow student replace phone pulls himself starts typing eyeballs eyes glazed meanwhile holding instagram laughing hysterically dichotomy crappy display separating binding connected telling campfire bodies email wife composing symphony hunched rectangles fumbling buttons menus principles versus meta audience immersive appear realistic glasses shopping nicely iron architect naturally laying floor graphics selecting interior decor professor adam ucsf memorize augmented layer storytellers painters surgeons effort extends smallest strips hardware operating neuroscientist dreamt ios least windows graphical user interface scares isolate intuitive infinity drive guidelines letting designers boardroom principle revolve neural resistance curve employ form foremost file systems abstract decode panel memory retrieve tesla model guideline babies grabs visual fundamental proprioception directly hence inherently primates leads neuron suggests video users playing grab kicks reminding explode thousand sensor currently scanning co ray photo crowd gift collaborate 2016 administrative staff executives throwing replacing profoundly shown technologists broader measures videos simulate corners liberal washington artist grateful upbringing comfortable fit route dropped splitting hairs french horn player lifelong played chamber toured couple jazz guitar charlie bird 20s wound member barcelona orchestra spain complained supported awkward lifestyle 27 christmas cooking dinner quiet dad honest voting epiphany detected confusion capitalism stems lower 1970s prosaic trite geographic magazine flies belly helpless west grinding haunted poorest gotten 1970 population starvation levels dollar obviously inflation declined decline miracle ought achievement mankind lifetimes replicate pulled mainstream economists left globalization property rights entrepreneurship spreading naive accumulation embedded quote summarize pulling follows markets created wealth lifted sounds milton friedman ronald reagan barack hallelujah event subject georgetown facing liberals conservatives anybody polarization risen proceedings academy sciences prestigious journals published 2014 motive asymmetry psychologists phenomenon assuming ideology opponents conflict palestinians israelis authors politically active motivated differences minimize na veteran jonathan psychology values morals differ emphasis jon 59 liberty 28 diversity lies strength obsession accompanied freedom hmm tricky overseas sustainable responsible flexible predictable kinda conventional listening economics taxes regulations income inequality lifting starving distractions mitigate disposal action items item disagree express blessed listen prosperity leadership unpredictable asking ambiguous obligation warrior responsibly ghastly holy war suffering competition solidarity mutual respect hannah wait prove belongs heads campus crush wakes pounding headache flashes staring silently wanting stumbling thinks sex assaulted assault initially dealing girls parties graduation learns unlikely scenario sexual assaults repeat offenders reporting rates perpetrators reported meaning 99 practically deterrent infectious disease concentrate tragic solvable hitting survivors wish website safest written options electronically option secure document preserving lastly critically knowing frame perpetrator yours launched august campuses matching victim saved entered matched verified authorities investigation existed stopping describing escrow entity holds releases agreed upon workplace violating major write papers writes spread slowly heavier civil ready page thesis supposed flow planned bump kick gear staircase walk stairs funniest revised woke deadline pages 72 dove slow tim urban enjoy writer blogger blog procrastination behavior perplexed procrastinators hypothesis brains test mri scan proven procrastinator carefully obvious rational maker instant gratification monkey nope productive wheel says wikipedia nancy tonya scandal remembered fridge youtube spiral richard feynman magnets ends justin bieber schedule sorry cares dog slept fed propagating tribal advanced visualize enjoying earned leisure overlap pleasant sake tends leaving zone playground filled guilt dread anxiety hatred situation blue guardian angel darkest moments panic monster dormant embarrassment scary consequence terrified reached excitement clear accepted zoom india scroll til release speakers losing seconds boom explains insane opening sentence miraculously unbelievable ethic eight amazed response emails bankers phd writing struck contrast post talked deadlines involved starter arts entrepreneurial momentum involve exercising relationship mechanism outward forever visible funnier suffered quietly privately unhappiness regrets emailing spectator achieve chasing healthy trick calendar boxes sometime kidnapped trunk graduating yard sale town trip peace corps beer tells tired mistake host ceiling stranger sleeping psychotic grows leap sneak door bedroom hanging classroom hosting taught strangers gradually francisco unemployed broke roommate moves rent hotels pitch brian bucks breakfast offering crash mat ha guests hardwood swear ham swiss cheese tasted adventures guest latch clicked stared wheels pitched investors publicly intimate bedrooms bathrooms rooms closed sleep sat rocket blast invest objects aiming olympic trust flavor experiment comfort thumbs unlock unlocked hosts toilet al gore discoveries neighbor 150 reviews handing designed reputation key reveal joint location surprisingly bias beats similarity overcome rooted biases disclosure yo acceptance length guide encourage bet willing aside graph rate adoption luck efforts existence unauthorized stranded customer cell breaking hurts disappointment motivator improving thankfully 123 nights hosted problematic justified uruguay attack rushed hospital donated operation travelers prone myocardial hospitals angels rush doctors bypass lonely books charging recommended connection transaction economy admit tripped transactions commerce rental incomplete promise efficient consistent authentic magnificent buffet visited marketplace locals thoroughly pub crawl cook chef restaurant privacy separation embraced isolation korea seoul repurposed parking spots residents empty incubator ups invent hospitality websites ours timing components blows dent wonder souls packed texas church wooden draped worn fabric organ choir nonetheless suspense hopes salvation sweat palms december 31 1999 stopped complaining unfair figured listened silence noise lord hadn backup reading rage rapture midnight beast demons plagues planning pastor altar praying congregation stayed stand wives baptist section elderly backs bent suns burnt noble clay medieval grandmother oprah winfrey 8 clock snuck heaven prayer prayers louder higher rolled gripped clenched tighter wheat separated rang amen believers savior signs upset behalf prayed yielded temptation dipped twice peter jennings announce millennium zones ridiculous hurt believing foundation spring doubt rivers drama prepared y2k convinced dawn refused reaching arrived yale faith oak cliff planted burglar pressed lehman hopeful inform temple crashing dc illinois halt ripped seams cruel gods graveyard brave pilgrimage mecca corner crowded miserable cambridge searching jack thin anyhow 2013 montana detroit swamps orleans businesses revolutionary nonprofit mbas countless entrepreneurs fought preach gospel bind wounds evening museum alumni whale titans celebrated deeds pride net worth assets surpassed trillion farm vacant tony belongings meal pension cab driver salary struggled sting salt tears revelation child glaring cry hungry toward pity disturbed dialysis kidney transplant pick boots structural systemic 9th ward shame washed tongues text disbelief prophecy robbins bible yorker worship desperately charismatic technological price brick shake disruption triple raises hold doors freely permission placed odds miracles fuels troubles overwhelm paths laid demise healers blind humble shines lets raise whisper shout wondering dress underneath bhutan wear bright unlike legs remain carbon neutral proceed context himalayas la bat monastery populated monks 700 china underdeveloped surviving thriving extraordinary kings enlightened monarchs tirelessly development environmental framework holistic happiness gnh fourth famously driven pioneering aims economies gdp individually citizens guaranteed healthcare consultation medicines provided manage faithful core strengthen undermining pristine flourishing continue architecture festivals pocket manner goods wallets ipads files precious demands total shall imposes incidentally impose imposed insisting include provisions empower require retire retired peak popularity 51 remaining biodiversity hotspots threatened odd accurate generates tons dioxide forests sequester sink export renewable electricity generate flowing clean 2020 exporting offset 17 green co2 affecting glaciers melting flash floods widespread destruction lake stunning solid glacier dams havoc valleys caused contend contribute warming bearing landlocked cop copenhagen arguing blaming announced 21 round greenhouse gas emissions un convention intended commitments containing requested organizers blame crucial concerned rural farmers firewood investing subsidizing purchase electric vehicles similarly cleaning planting trees throughout protected strategy lungs parks reserves wildlife sanctuaries network biological corridors roam tiger spotted 250 meters sea jungles alpine mountains poaching mining pollution continuing harmony conservation neither nor backwards majesty essentially funding transition donors corporations predetermined funds closing borrowed supporting underfunded kickstarter horizon stake increase warm mobilize influence conserve kickstart carry events drag cousins jumping games confident hale hearty deteriorate diagnosed parkinson degeneration nervous independent tasks walker hiding pitiful newly rising designs multifaceted solves target aim targeted tea spill cup purely liquid tagged patient clumsy comforting blend solved interviewing superficial deeper eating observing dining flat climb fancy shocked pro climbing suffers symptoms uses vanish translate illusion abruptly froze freezing gait centered projection stuck print synonymous tech empathy scared boil smaller newer insights combined simplicity ocean chemist chemistry fossilized corals antarctica hoping dimensions satellite overall equatorial regions sunlight northern hemisphere plunge toes colder waters fill abyss dense cartoon version covered extended 120 smooth predict solar cores drill annual bands iceberg layers gases increased smoothly rapidly plateau jumps stores acts equator primary spectacular footage kilometer international atlantic amongst seafloor collect samples taxonomy brittle tentacles calcium carbonate massive undersea charter james vessel terribly coral abundance overlaid cruise kilometers traveling scale everest meter deploy equipment fly remotely operated vehicle grade array cameras arms affected ships sponges swimming slug slowed surprise trigger rolling centimeters moving currents chemicals depends ph skeleton specimens reconstruct sampling container brendan 500 hawaii polish microns analyses marks seasonal glacial unpopular sharks ages "
          ],
          "name": "stdout"
        },
        {
          "output_type": "stream",
          "text": [
            "shoveling slice polished optical reactor induced fission decay marked uranium poorly regarded dates laser analyze thorium fossils animation illustrate ancient feedbacks ryan mixing drake strongest oceans forth antarctic surprising dating migrated illustration stops intermediate indeed slide garden sail gmo saving agricultural runoff toxic nutrition discussion apple eaten picked eleven grocery storage documented workers ninety antioxidants ball sugar missing weird empowered questioned democratic californian mexican picks slave traces planes automobiles production digitize particles reconstitute quotes inspire japanese farming fukushima headed tokyo contaminated import eighty shareholder farmer utilities suicides uncomfortable tractor combine bath depot hacking silly dance attached killed relationships language knock electronics historically produced roots monthly harvest cafeteria retail salad bags processing ripping tongue eat lettuce 6 hyper sweet reaction taste physiology conceived facade genome genetics phenomena strawberries mexico expression coding o2 recipe shape texture sensors fortune 60s 70s nitrogen deficiency humidity cloud trend correlate broccoli ip address alerts phosphorus potassium complexity controlled experimenting mir reducing complicated hearts seed adverse tomatoes rare banks tomato sauce ate undergraduate seventh eleventh humbled teach grader idiot alright sets condense fog drip log smartphone tablet select recipes activate kills crank dies iterative download sourced accessible electrical economist planners facility warehouse greens ebola vaccine darpa winner producing resistant pharmaceuticals alike intellectual valuable shifting environmentally friendly mcdonald chicken mysterious marketing servers strings beacons fantasy deploying fighting networking empowering stupid ran safely scenes organizer congresswoman 1992 lost disrupt status quo polls swore snapped hottest races indian aunties wasted votes math humiliating importance leaning 33 gravitate professions smile boys rough swing jump negotiating date rewarded silicon valley seriously failed raising federal deficit bravery underrepresented stem c 1980s psychologist carol fifth graders handled assignment iq energizing routinely hp qualifications invoked socialized aspire perfection cautious ambitious socialization 600 code teaching error command falls apart tries perseverance imperfection blank editor presses undo deleted bust teaches intro java sisterhood supportive cheering menstruation taboo sexism gaming syrian app 16 algorithm detect benign malignant daddy imperfect clinton beyonc defer socialize sister niece employee graduated 7 welcoming graduates partners adobe ibm pixar disney embed teams 85 consumer purchases tomorrow diverse transportation congestion uber introduce jitney 1914 lp salesman cruising downtown los angeles hometown sign wherever slang nickel jumped 1915 rides kansas trolley existing monopoly licenses drivers regulation backseat install pernicious 1919 regulated unfortunate skyrocketed 2007 traffic 160 footprint 96 idle skyscrapers transit densely sophisticated bridges hasn doorstep ride ambitions duplicate trips fortunately uberpool heck roads metric statistic added carpooling exponential suburbs suburb driveway commuter tens sudden 54 cents mile determined owning charge reclaim astounding cool switched radical redesign accomplish immature badge auto patterns u sanskrit mandarin sweating curious enigma supporters entrenched taxi fierce relentless competitor proved controversy entrepreneur evident 400 cement checking stronger occasionally elsewhere claim pressing visionary pricing divers hour drops pickup earnings cuts september prices addresses solving describe hardest factor army missed tk hype manufacturers anxious ridden optimistic resisting optimistically vocational hugely openly ashamed frankly contradictions mourn alan subsequently drowned treaties lebanon syrians smugglers viable seek asylum labor exclude demographic proclaim opposition fundamentalist islam repressive seekers separate seize humanitarian lack globalized regime aftermath fails dignity syria territory persecution immigration block pathway integration indefinite adequately reconsider amira region rubble lottery ticket prospects camps bleak arid locations jordan shells border nighttime restricted activity alternatively beirut difficulty significant savings alternative risking imposing collective assumption inevitable burden argue societies paradigm mobility update enabling beings circumstances oxford embarked uganda representative exceptional capital employs employees settlement congolese rwandan runs recycled constraint innovating gentleman kay filmmaker rented documentary inevitably dependent provide clothes blankets phase banking granted plugged unfortunately pragmatic april traveled paul potentially 83 hussein bin grid lacked inward manufacturing reconstruction recognizing rebuilding london pilot preference outcomes featuring angela merkel alvin roth ranking shapes eventual jones rank preferred types criteria quotas vulnerability successfully patients underlies algorithms greater persuade preferences chaos contradiction arrive spontaneously described era budget airline unnecessary visa embassy ferry flight euros turkey greek islands frankfurt advantages market remove prevents enter arrival scheme received genuine historical precedent 1942 passports documents 450 nobel prize explained conclusion choices recognizes talents aspirations contributions migration managing charity offered urge doctor tests determines cholesterol treat physician submitted fda approved depression pill medications traditionally depend surveillance diagnoses informatics opinion sources begins nick separately database web reports diseases occurring glucose diabetes russ fatigue appetite habits predictor 93 accuracy signal clever paroxetine antidepressant pravastatin estimated mumbo jumbo standard copy identifying records measurement reasonable p milligrams diabetic 125 diagnosis vanderbilt nashville measurements bless somewhat interestingly diabetics messed publish mice lo behold determine experiencing logs searches denied request bummer bing yahoo eric forgive phrases baseline query fold indirectly nice infrastructure feeds medium fundamentally ecosystem optimize pairs replicated b f g sky volunteered databases closes prescribing beneficial novel treatments breakthroughs hiv tuberculosis upside combination textile widely yarn bombing graffiti notions visions grandeur fuzzy wrapped alpha intrigued domain park stare scratch smitten hooked seductive mundane functionality tailored knitting inanimate humor reacting strongly crave billboards advertisements stumble fire hydrants poles insurmountable bus changer soft witnessing wrap pursued goals hidden craft granny hobby unassuming commonality convey possess houses furniture painting controller master knit sweater formally cards tight ponder seamless creatures pictured ruling chain graceful turtles dancing reefs biologist underwater furiously finning cannon shallow reef surrounded rainbow privilege seas photographed breath humpback whales feeding canada bear rainforest mating rituals mozambique compressed predator ripple shock indifference disturbing images merits sorts ecosystems beneath champion uncovering photography touched rugged coast enormous sardines boy agile predators dolphins bait balls upward dine pulsating movable feast mortal enemies coexist dispersed donut spicy prey bumped tail slapped banquet shores maldives archipelago stormy southwest monsoon manta rays speck armies crustaceans pupils diet plankton concentrations puppy densities chains tasty escapes bay swim cyclone swirl formation multi column vortex sucking delivering diving masses unforgettable protection ngos fisherman hunted drums skins ardent champions earn excess dragons closest atolls shipping lanes fishing fleets poignant da outer barrier inner lagoon nursery galapagos shy hunch abundant encountered capturing reminds halfway peninsula pacific calving scene wholesale slaughter nudge youngsters comeback sleepy village overfishing 1995 reserve miraculous 2005 measured recovery recorded densest creators pass resilience photographs showcase respectful hopefully occurrence profession hopeless optimist operate breathe drink pee trans neatly binary navigate blink stall lately focused gym strip fame tackle basis baby masculine appearing predominantly estrogen harassed verbally attacked guards pants screamed whispered lady purse candy dilemmas bathroom bills appropriate assigned arizona florida houston ottawa enforcing genital pools plausible enforce promote drop opt altogether additional accessing libraries airports calling identified cowboy caterpillar toy trucks bug jars yards camouflage october preschool soggy instructed juice halloween resist classmates welcomed 43 cough sneeze upstairs stretching bladder bench overnight escape priority supports offends morality masculinity religious foot shorter disabilities facilities 1985 zimbabwe emerged independence proclaimed socialist agenda expansion roughly accomplishment 1980 immunized 1990 mere proportion tremendously privileged transformation revolution palpable activists daunting aids lay infection soar 1990s prime positive clinic condom demonstrations interventions infected former secretary kofi annan spoken genocide 1994 peacekeeping memorial alarm rally estimates 39 remorse regret technical clinical epidemiology transmission hoped virus socially marginalized disproportionate plantations resembled male superiority migrant colonialism whites unscathed weak condoms climbed potent weapon unaffordable unequal underlying stance loudly pact hippocratic oath variants sanctity epidemics emerge marginalization exclusion sexuality anthropologists haiti inequities premature illness listeners racial disparities institutionalized racism ongoing interpersonal compounded legacy crow commissioner mortality childbirth strides infant statistics noted disappeared injustice protests banner enduring disparate prematurely unfolded angry reluctant ins coats passively affect personalized precision targets tailor inadvertently loves witness advice priorities transgender contemplating suicide advocate rightfully societal credibility equity rise collectively direction trusting escaped elude institution occupying armed defy brightest exam tankers stocks bonds paragraph wishes desires catch waves cycles inundated turbulent steer tides authority participants beneficiaries shareholders ultimate supermarket starbucks sustainably farmed trout bass hybrid fleet combustion engine hill beans mug reusable printed shade artisanal ira standards myths fairy tale magic porridge pot awry fable gold spell coins shrink overwhelmingly formula 71 adding financially bees ben jerry consumers investments preserve brands exception proves researched invested portfolio quarter 46 36 citizen focusing wasting processes ceo contracts served quarterly loyalty retention examined operational efficiency performance stock pioneers pleading firm baked skepticism views outperformed benchmark billionaires microfinance emerging brooklyn sphere obstacle myth rid appreciating fastest segment enormously award author prophetic korean clarity oppressed terrorist airport delay portraying coverage muslims muslim lover espresso cream introvert fitness practicing spiritual gaga gay hijab covering feminist declaration conform wrestled quran doubted surrender deepened rhythmic egyptians egyptian 2001 finishing smoke airplanes malfunction outrage switch eastern descent jihad bomb suspect grad passenger warnings organizations alert congregate friday emotions raw understandably attacks beaten mosques terrorists accusations tough ban tumor extract vital inventors responders terrorism mosque regularly linked faiths civic engagement chief radicalized basement radicalization extremist religion isis bases brutality cast representatives klan christianity scripture prominent imam leader shut trouble nowhere exploited extremists promising constructive consuming accepting authoritarianism conformity prejudice exposed academic sentiment spiked iraq manipulation eroding informed canaries coal harming assigning chapel carolina athlete dental talented sweetest generous visit craig stephen hicks murdered afternoon execution statements bigotry immoral intensely shoes announcement christians jews buddhists atheists compassion chord thinker tank distract unusual oftentimes theme qualify propose necessarily involves hang apollo organized confirmed essential illustrates limitless expanse shell surrounding sewer 110 trapping agriculture permafrost dirty burns ii emission accelerating accumulated released hiroshima atomic bombs exploding 365 checked multiply depiction temperatures arbitrarily cooler appearance statistically 90s shifted numerous fourteen instruments row 20th january fahrenheit buildup depths storms slammed destructive storm pope francis slamming jersey evaporating vapor skies funnel tucson 162 niagara paralyzed chile oil hike losses mounting illusions linear causation kevin moisture underway dries fires lightning builds considerable disasters instability destroyed farms livestock collided warned pandemic microbial tropics latitudes endemic vectors mosquitoes ticks positioned advised lancet labeled extinction flooding midwest melts photograph svalbard greenland southeast miami newark highest tide fort del sunny sewers speaks viewed partisan honor aspects forum davos survey 750 mortgages burned practical imperative projections wind installations dramatically powerhouse vancouver 81 batteries gigawatt 58 68 prevail steeper breakthrough emergence curves crossing parity penetration threshold burning 32 degree flows explosion globally subsidized renewables assume acceptable rapid ma bell commissioned mckinsey clunky mobile appeared 2000 connections landline developing counties grids panels grass huts models muhammad yunus financed bangladesh micro supply nations adopting nationwide cap link union proposed canceled quarters insist marched session finish proposal kennedy reckless cheer controllers 26 poets stevens lesbian resolved fore resource vivid chris honestly terrifying graphs apparently crosses developments phrase singularity default presentations yesterday atlanta debbie chairman enlisted tax roof formed alliance sierra club defeated clich referred economically backed hobbyists poised inspection monitoring film journalism drones aerial package delivery autonomous tower composed bricks centre france ropes speeds autonomously tensile loads cope disturbances general projects boundary achieved function zurich locate studios spin onboard computation aircraft cake fixed wing helicopters variations hovering takeoff susceptible architectures affectionately bodily harm skilled pilots propeller rudder mechanically simplest flaps hinges actuators surfaces fashion probability propellers surplus symmetric ambivalent orientation capability irrespective rotating complexities modeled reliable clockwise behave motor battery pack albeit degraded disabling halves demonstration swarms coordinated entities aesthetic commercially weighing outfitted custom motivate broadway reward creation sculpt icing galaxy holes inexorably converting pure tenth brief glow brighter galaxies bang pumped timescale multicellular dinosaurs audacious mit caltech neat detector colliding nuts construction imagination breathtaking ligo observatory undergoing improvement detection sorted lingering emotionally collaborator scott hughes theoretical studying passes stretches compresses instructors relativity expands stretched decimal zeroes detectors thousandth radius nucleus atom preposterous gravity physicists ingenious obstacles 1973 succeeded likes wavelength audible rhythm infer alice bob interrupting amplitude frequency frequencies audio band convert collision awful spinning chirp modulation vocabulary comparable blender supernova supernovae opaque transparent obscured afterglow collaboration evans addressing produce observed dinosaur archeology angle exquisite rustle cosmos glorious acting poof beckett emerson refers waitress gonna vow titan programming episode episodes grey 350 thursday 256 67 languages personally gather fans campfires impress peck dreaming manning troops marathon exhausting exhilarating hilarious maternal hum joy collaborating buzz strive greatness workaholic ego barriers stares died loving restart weekends sleeps dust river banker painter song ceases momma wanna mourning homelessness sticky gooey kisses crayons swings instantaneous creeps forgot replacement badass ignores expectation original humbling relaxed sing tunes blow bubbles stiff confused itch fills diamond uninterrupted laundry bathe arena succeed shorthand indulging competing melody groove sends humming dinners crap burn happier freer quivering offensive polite henry weather argument trivial passionately pew polarized divided compromise marry due teenagers texts notes conversational competence overlooked skill hone communications 21st sustain coherent winners truck kindergarten plumbers topics advance nod interviewer offending engaged inspired perfectly keys boss boring stamps abortion dick cheney oneself speaker vulnerable listener cue respond bound hugh shop npr careful err equate hawking losers weeds names buddha calvin bolster talks 225 filling shouting sentences beautifully reply retain boils grandfather ritual runner miss sacramento pulitzer russian ballet dancer disappointed neurosurgeon tragedies stroke frustrating neurosurgeons organs repair severe handicap functional neurological surgical strategies stimulation implant electrode modulate circuit neurons improved tremor neuro resident swelling decrease swollen jean fran ois tissue task warmth microscope located niches intriguing divide immortal behaved cortical fetuses participate concentration lesions experimental biopsy eloquent monkeys implanted performed lesion remained vitro perform manual dexterity pellets tray cortex plasticity spontaneous implantation dozen kilograms understandable delicate therapy approval evaluate bg handed questionnaire asian aimed measuring backgrounds investigating association ancestry traits findings validity identify variable predictions physicians prescriptions sociologists referring groupings vary lawmakers biologists definitions unveiled ceremony declared truths expedition collins nih increasingly genomic habit treating estimate filtration interpret indicator automatically produces depending female shortcut crude convenient proxy enzyme adds distraction blinds illnesses substitute sacrificing harmful latino painful fractures exaggerate addiction administration cardiologist regard efficacy speculated wary meeting shouted updated diagnostic tightly samuel cartwright pennsylvania practiced negro 1850s lung sufficiency ignorance presumed uphold adjusts correcting innate appalling gaps deserts exposure toxins incarceration stress category pretends lucrative ending suppose rejected 18th classification incorporated categorized investigated addressed forefront interpretation urgent backward affirm inequalities tallest gaining height taller theories namely dairy meat consumption eggs incomes richer 2050 humankind latest prediction puts institute suggested serves fisheries slashed predatory swordfish bluefin tuna 1950s initiatives practices constant alleviate impossibly mandate 800 malnutrition shortage declining unrest riots aquaculture seaweed shellfish jacques cousteau encounters hunter provides amino acids fatty omega 3s monotonous pig poultry duck sums supermarkets shelves beside amy sylvia earle director netherlands environmentalists stunned stats consumed tonnage beef seafood pounds liters pound experts cows fresh float blooded chills swims drinks insects annually madness sixty badly destroying imaginable acidification interconnected deforestation alternatives reverted soy salmon explodes digest excessive breeding unsustainable ingredients plate consists microbes algae recycling logical producers performing efficiently insect delicious effluent mimicking popping automated feeders spends excuse dots butt rethinking fetched refuse readily detail qaeda library manuscripts arabic ranging astronomy erectile dysfunction wisdom bamako heritage scholars mali rescued jeopardy flung conducted 1500 damage fading mold count renaissance trove radically classics rewrite philosophy transformed reader conjures parcel participant undiscovered chaucer diminishing insight archaeologist discoverer indiana whip chess poem edited manuscript damaged ultraviolet lamp multispectral imaging treatises mathematician archimedes 13th palimpsest erased roger grant faded infrared goggles spectrum leds sequence imaged powered quartz capture statistical clarify geospatial cia scrolls biblical christian codex oldest translation latin emperor council creed centuries swearing ceremonies purple fungus collections esoteric wealthiest founded lazarus profit whatsoever soviet georgia spectral subtly draft jefferson curators scratched evolving columbus consulted inks pigments detailed cultures represented legend monsters ears snake starlight mistakes vet uncensored imperfections begun literary handwriting techniques aided character freshman gathered comic aloud axes shaping specialized sculpting matches manipulate adept interfaces parameters attending aperture static elements belief physically daniel hiroshi ishii gestures arise architects displays manipulating skype distance pins gesture transmitted depth kinect cern mini undergrads pizza screwing screws surf tactile sensations vibration embedding actuation ken interactive mode walls milan spatially defining pandemics seemingly intractable erosion debts deficits vein capita russia virtuous contract powerfully rises disillusioned ascribe overpopulation 2100 arable degradation embodied greedy corrupt backbone critique se pursue properly capitalist simplistic unites tended fostering corruption benefiting ills utility selfish revenues nevertheless sides draw conditional transfers arguments debates blur 19th partnerships advent betterment unnecessarily ideological plague minded enemy react dominant legitimate metrics improvements deliver compromising constrain claims valid desalination reinvest strikes proposals suggesting incentive coefficient discourse humility stockholm partly schism uncertainty contributing swipe dm hello matthew williams medals sports competed basketball train skating coaches consultants olympics accomplishments 1968 retarded 165 62 spectators espn equals transforms epilepsy disability hockey valued frank hayden toronto rigorous encouraging skater provincial compete younger screening communicating teammates nigerian coach emotional whistle stands transforming 44 proving casual insult hurtful insulting messenger john franklin letter unchanged lined teammate jackie newfoundland moose squat holder lifts fifty coliseum cheered inclusion achievements trainer bullied nelson mandela kenema leone battling deadliest threats lassa fever fatal visits spirit bonded outbreak guinea liberia frightening suspected khan diagnostics sensitive outstanding tracing outbreaks tidal ministry 92 specimen discard generated genomes blueprint viruses transmitting intervene therapies drives recalibrate analyzed publication sequences contacted viral connects frightened googling 106 prognosis validate tweaking silos beloved mohamed fueled mistrust thrives vulnerabilities strengths fears translucent gaze intentionally sacrificed illuminated meditate instruction wandered sounded silent retreats shirts drift daydream evolutionarily conserved reinforcement calories tastes triggers nerd rebel cigarette killing obesity morbidity tapped mindfulness forcing smokers mindful smells yuck cognitively curiously smoked prefrontal youngest cookie cognitive cognition offline relate yell spouse visceral magically paradox cravings rewarding tension bite craving choke reactive eagerly awaiting meditators posterior cingulate activated sucked ironically unhealthy addictive peoples contexts tap inherent arises compulsively perpetuate exhaustive loops lima spanish conquest peru inca tales glory towns conquer vengeance amazon el dorado jungle shamans warriors poisoned arrows spiders birds snakes swallowed boiled geothermal boiling generally volcanoes manifestation aunt andr swum kidding heavy shaman mo hiking guided nearest preparing legendary stream surge grabbed 86 flowed apprentice sacred bizarre serpent births motherly jaws thus legends pointed extension intentions relief freaking laughed blessing pour fieldwork demanding featured sheet sandals shorts pouring differential submitting imagery meaningful indigenous indicating sought fault springs arteries cracks faults manifestations lane impressive thermal waterfall mapped heats cools plots dry purest 47 deadly shocking milky carrying sadistic jeez yellowstone hydrothermal refer gradient andes heated geologic spencer wells uc davis sequenced lifeforms significance stationary hovers patch loggers cattle stretch unprotected whoever uniqueness void spirits punk tinker tender vice mr tumblr longing legos plays poetry socks irregular verbs bertrand russell concentrating mystery makers syntax protocols paradigms abstraction astronaut bubble linda oddly pattern symbolic quest mathematics programmer ruby fearless imaginative bossy oriented garbage illustrated bugs colorful leopard robots messy linux penguin ruthlessly idealistic foxes repeating clap stomp counter curriculum organize sessions glowing navigation collar alarms toilets hackers hack stickers bicycle biking tent projector realizes cpu ram rom assembled headphones immersed intergalactic planetary lone orbit inclusive twentysomething norwegian librarians ada whimsical storyteller mornings afternoons evenings logic bali island paradise cubic drains littered bamboo textbook diana mahatma gandhi sofa oakland dublin launch mw campaigning crew volunteer includes layered signature petition inspirational awareness distribute newspaper customers signatures ignore guessed till handles janitor assistant shuffled knocking imitating authorization customs attraction steady ki jane goodall shoots rotary frustrations teamwork friendship balinese commitment tour strike convincing isabel sunrise sunset indonesia twenty escorted thankful promises stated 2018 mindset shops restaurants sticker magazines conversely highlights agendas wrapping motivation arriving declare shanti pleurobot mimic salamander neurobiologists spinal cord locomotion impressed dolphin cat jogging tennis coordinate muscles coordination component underestimate biomechanics simplify reflexes loop generators circuits vertebrate descending cerebellum recording electrodes vertebrae mathematical robotics outdoors terrain marie cats simulations lamprey simulating mud favorites terrestrial ancestor propagate switches periodic activation limbs electrically stimulate induce accelerates pedal flapping wings x motions optimization motors replay comparison scaling eel coupled programmed heading stimulating distributed morphology properties limb segments geometrical coordinates internal lightweight inertia elastic cheetah cub cute investigate compliant feedback mechanics stabilized disturb perturbation expecting vertebrates paraplegic loses initiate reactivate interacts communicates collapsed flooded dogs survivor robust advisor hallway hansen liberties reproductive patents issuing articles sue lawyer patent lawsuit patented dozens isolated dna proponents holders syndrome untreated bankrupt infringement eligible reserved proteins courts narrow obscure typical vigorously coalition plaintiffs myriad utah breast ovarian labs charged kathleen eileen relieved proper illuminate counselors geneticists cease letters obtain invention concepts accurately relying heavily metaphors isolating extracting extracted jewelry filed randomly robert issued eloquently comprehend clerk appealed appeals pivotal concluded hears split moore wherein therefore shortest receives oral arrives courthouse clients chunks dedicate watson patenting volumes brilliantly thrilling aspect grapple analogies feisty exchanges likened medicinal distinguished carving baseball anticipated merely furthermore comprehensive clears biomedical mail duke stuffed twists alliances pigs incorrect crying blown mermaid filter addicts sordid 88 charles scuba suits pumping explosive magnesium powder string explosives gorgeous artificial satisfy crucible absorbing gateway feats fluorescent molecules molecule duct tape filters exhibit blew rubbing trajectory sparks prevalent photographing lenses magnify fluorescence scouring mate translates hole stint racing stripes intensity varieties biofluorescent inspirations captures fascinated seahorse hippocampus erectus filmed upright males awake visor cryptic canyon surfers gulp wedge distinct twinkling shark specialist cornell acutely females solomon turtle reptiles submarines bioluminescent flashing blinking slapping submarine meets woody allen delicately entering teamed rob squishy gentle claw gloves conduct jellyfish intuition vincent responds voltage portal overarching interconnectedness colossal flowers mistakenly begets kuan yew beijing demonstrated receding neck woods representing greece uncertain interfere implemented chinese communist banned dispense threatening twin peaks casting shadow discern cash savers britain eurozone machinery railways except bidding debt cancel stagnant wages olds consequently aggregate reinforces pessimism fearing reproduce oedipus oracle unwittingly insured quarrel energized aristotle athenian excluded migrants slaves dismiss acquired crucially judgments concerning candle brightly democracies athens magna carta whereas masters confine inexorable epic colonizing starve devaluing succeeds reunite spheres marxist debacle eliminate androids automation conflicts reconfigure democratizing lest spawning resembling dystopia serve expend energies agora utopia briefly whichever solely owned profits tug towering currencies floating currency monetary units agreeing proportional utilized 1944 bretton implement libertarian confined descend democratically relevance marx larry summers secular stagnation migrating keen philosopher einstein expressed hypocrisy semblance provocative associate liberalism stuart mill disappointing reboot complacency denial architectural massively manifest stressful loan imagining creditors implementing catastrophic lenders criticism breathes unleashed destroy postmodern 1930 detrimental europeans vatican shuffling statues sistine corridor stair soaring domes choirs curtains painted decoration tapestries encompasses unfold stages wealthy educated priests attracts delights ignited missionary audiences scope parochial worldviews altered voyage rose moses jewish iv michelangelo landscapes artists roman monuments render faraway addition horizons decorate stacked sculpture patrons florence stack commissions lured prospect sculptural fallen commission decorative italy artistic beginnings genesis technique accustomed hammer chisel hacked marble julius nephew steeped artillery raphael st sculptures decidedly envisioned eternally encounter storytelling references monumental opens gated enclosure clergy peer inquiry primal initial churning blurry hurtling treasures culmination leaps arm knee lacks seats pinnacle threw eve curls representation eden posture folded juncture noah ark flood sacrifice grapes wine naked barn gloom emerald prophet prophets parade heroines mothers fathers keystone jonah symbol renewal visitors immediate judgment reformation ottoman household magellan venice excellence covers lion nude adversity combat posing spotlight assembly ruler hardship setbacks forge stew virtue mastery contemporary printing complaints masterpiece pornography criticized dried husk endings totality uplifting elizabeth improper statement encountering pause "
          ],
          "name": "stdout"
        },
        {
          "output_type": "stream",
          "text": [
            "plaster upwards liz lagos waterways infested invasive aquatic weed livelihoods trading yields inflated hyacinth botanical niger delta southwestern yoruba gossip reproduction kp oma shortly relocated conviction mainland arresting boats mats restrictions whereby cleared impacted woven deployed requirement mega thirdly weave directed basket weaving pens thereby durable resilient killer ya du j w provider michael makoko poems thy brush thee thou activist pauses poet william blake regenerated algorithmically gut roar bark exhausted weary sodas pearls turing 1950 benjamin bot yourselves fool fooled readers flags ribbons wounded deer flag ecstasy brake whoa gertrude stein rkcp kurzweil believer analyzes emily dickinson fools boundaries philosophical devised provocation constitutes unstable constructed reflects intelligent wide existential reflection crops resurrection resurrect 48 bulk consideration dai rainfall preferably easiest actively metabolizing comprised behavioral 95 periods attractive avoidance shrubs flushing baobab annuals rains flowering rainy desiccation seeds extremes prolonged germinate colonization maize plenty famine downside vegetative tissues characteristics concerted crop cellular 135 axis relative staple ethiopia gluten undertook drying enzymes tuned arsenal stresses lipid membranes biochemical suggestion biotic modification gm appropriately collaborators jennifer spearheaded embark chromosomes unwind promoter terminator indicates tuning correct antioxidant radicals damaging strain popularly arrow watering collaborations oliver julia diver lifeblood wonders endeavors plunged exit crawling sponge pores materials icebergs ross shelf ecology walks exotic missions caves repositories pigment identical jar fangs venom remarkably rocks bahamas deposits bermuda deepest manned dives lap shoreline paleontologists archaeologists cuba inhabitants ultra swam bowling golf courses lakes groundwater stone morphed artificially jupiter europa doctrine modernity manifesto liberated utilitarian rigor restrained rewriting bernard implausible prototypes explicit conceptual organizational arrange experiential narratives script scripts simultaneous emotive rem koolhaas 2002 skyscraper vertical hierarchical hierarchy needle broadcasting circulatory dissect clusters chat informal thread exceeds comprehension sticks glued confront hypothetical exhibition installation channels completed tip circles backdrop wedding actor assumes performs guiding collaborative scripting residential dominated typology connectedness individuality communal apartments towers residual questionable topple horizontal viewpoint helicopter outdoor courtyards amenities sealed permeable interconnect animating primarily minus multiplying grounds seeking sufficient daylight geometry shading usable prevailing cooling german berlin transitioning envelope modular offices corporation undertake stratford prince albert boris johnson synergies domains animate module ring ventilation modules occupy sits adjacent stadium multiplicity scripted admitted trajectories cinema thailand festival fishermen collaborated gently british archive 1904 wonderland primordial merged liberate anonymously arab revealed shortcomings dictators tore 2000s arabs thirsty logged aspiring browsing tortured khaled recruited admin crowdsourcing established ali fled posted dictatorship posed 14th 25th cairo invitation attendance decentralized announcing telecommunications pray massacre handcuffed blindfolded stations disappearance protesters demanded mubarak inspiring punch euphoria consensus amplified misinformation rumors echo chambers trolls islamists 3rd resignation defeat impulses confirm mute discussions mobs avatars brevity conclusions sharp favors engagements posts comments contributed harassment sensational sided aggressive incentives responding appealing liking captive preacher predated pagers laugh enforcement adopt policing y sergeant commander baltimore unemployment rating zip gotta holistically meds extravagant deployments shove chair 130 cops protectors exercised inch ain mmm hurry audacity nerve loud surrendered elders parental guardians mentality mentors disconnected relational pastors nasty fence sickness partnered root homicides forty commanders proactive officers uprising servicing ashes 1975 vera cologne opera dim concert persuaded musician keith jarrett piano rehearsal introducing instrument producer register sticking tune drenched avoiding registers tones keyboard soothing ambient repetitive twisting peaceful k album solo soared instinct hurdles goodness gain n handouts handout straightforward helvetica bounce sans fonts semester exams font shelley carson undergraduates porous interrupted disadvantage vastly milestone variables prototype tweak marginal gains cycling dash randomness phillips accommodate awkwardness interviewed eno composer catalyst albums david bowie joshua studio instructions card swap drummer embarrassing amplify incorporate disruptive phil cans carlos checklist settle troublesome misses experiments persuasion sheer willpower spam inbox delete dear distributes aww handling shipment hedge postal statisticians assistants carrots dip golden nugget correspondence gummy egg cola bottle ms jelly lizard blah dude joking submit recommend penis transfer husband hysterical kindly sheriff canals reservoirs hoover dam mead las vegas phoenix threaten dropping intake straw australia brisbane paulo reservoir navy showers lawns grabbing likelihood imported dismissed uninformed dreamer starved rainwater concrete asphalt jose stormwater limits dotted tanks harvesting summertime percolate aquifer fernando lawn gutter hooking routing abandoned gravel quarry wetland pump wastewater sewage highway median watered pipe osmosis membrane retains salts hydrogen shine stark recycle santa ana riverside waterborne pathogens anaheim completing futuristic commonly sole astroturf buying irrigation seawater intensive characterization hopelessly diego barbara gallon reliance throws grandchildren telescopes occur diagram reside astronomers distances climates exoplanets venus goddess melt thick steroids atmospheres cc exoplanet fruit headlight calculate suitable kepler nsf funded absorbs redder absorbed orbiting specialty astronomer classically selves ranks roy mediocre entertaining slim spiky describes thrones wire toddlers brainpower bulge evaluation viewers skip emerges sitcom republican senators histories bits license senator nailed seasons savvy determining optimum influenza flu splash computational unsuccessful whenever selected window hindsight pays reveals workings grandest algebra apples arguably stunningly atoms utterly forbid lifeless squirrels hadron collider lhc subatomic smashing gigantic particle collisions higgs boson magnet metal settings scenarios weaker theorists explanations versions brakes 1998 speeding repulsive suspicious astonishing astronomical torn explanation futile unified vibrating musical elegant poetic critics unscientific disprove apparent universes multiverse goldilocks hints reasoning barren conclude stakes harry generational projecting switching 1976 lump intend bruno clues hc millennials lean downright tracked exceedingly 1938 troubled disadvantaged 1930s factory alcoholism schizophrenia ladder founders wildest dedicated clearest questionnaires videotape healthier declines midlife functioning sooner marriages affection divorced 80s satisfied healthiest buffer happily mood unhappy magnified sharper couples toll hills tending happiest leaned stale twain apologies steep correspondent teaming submerged hurricane ivan gardening greenhouses scaled atlas formations configured beetle habitat lobsters urchins crane watercolor lighting explosions timeless procession inquisitive lending submerge amazes applies glide overhead searched sites habitats cancun highlighted leak nearby refinery subsequent pledge coastal instrumental rangers listed lisa cherish assign naming treasure pollute plain iconography foam skis banana installed apocalypse thames philanthropists educators futures aquarium tunnel colonized advantage worthy boarded minneapolis recruit shabaab presence recruitment links borderless bounds agencies pace aptly assessment cyber trafficking precedence crept proliferation foreseeable inability immaterial wholly horrible hacker anonymous je wrist unsuspecting victims downloaded malware appropriated hacks brewing vs zetas cartels hung bloggers beheaded ties governors deals cartel escalating gruesome motivations educate nsa profitable trustworthy pearl harbor imminent fearful banning encryption favor gchq spy backdoor estonia fixing tor bitcoin iran pleasure afghanistan fences triggered relation deteriorating 87 decreased programme abandoning villages breakdown postpone spike occurred 550 lebanese mentioning forgetting adequate reception distributing relocation portugal manageable chaotic balkans sweden austria devil blunt realistically responsibilities shifts poland denmark absolute uncontrolled invaded sheltered screened plane stepping tendency afghans pakistan mixture protections misinterpreted vouchers woken insufficient objectives cooperation loans grants pillars stability indicators bilateral distinction overcrowded comment newspapers nomination donald trump propaganda pave penetrating multicultural recruiting undoubtedly homegrown fighters passport fleeing hostility facilitate integrating cohesion 38 multiplication somalia republic timely relations impunity unpredictability oval handwritten successor honored sucks scrap worthwhile braver shoulder lt glad aging friendships counsel writers congratulations sadness lily joyful conclusive overweight oxytocin hormone testosterone dolly hollywood tennessee sync lifespans admire greatly joan tenderness soul mystified screw bury manly gazing dismay patriarchal girly directions erase grace gloria steinem patriarchy hop consume locally oils alberta tar sands operative greeks provision stature mild lift burial ratio cemeteries projected designer shaped playful exhibits estate cemetery buried graves occupied reuse plot synagogues wales load caravan calculated ludicrous misleading client drawings surroundings weigh disadvantages polluting mausoleum burying technically councils certificate requirements warn legally attitudes bureaucracy funeral directors devote telescope subtle dimming rocky habitable discovering millennia disappearing alter habitability influenced rovers scratching origins vistas resemble driest rainforests carries implication inflicted interplanetary captain titanic hostile fermi enrico civilizations safeguard fostered advancement hubris bend habitation fished connecticut shrunk devastated spite shrimp cod shrinking characteristic pits wolves goats ducks geese turkeys perfected sonar polymers coincidence exceed catcher dragging mangrove mangroves nemo catching bycatch vessels trash spitting tunas naturalist carl conspiracy spectacularly eliminates dot lowered chickens byproducts feathers amorphous cycled culinary sandwich franchise owner catholic kroc hula burger pineapple bun sells england alaska pollock fin fishery tilapia godsend oily epa conservationists halve mussels canned forage filtering microalgae overuse algal blooms vegetable fan vegetarian adaptable stays appetites configuration pops chill payback loser tickle louis dj rapper emulate rap humiliate tuition jam consist jamming aw peek tubes topic spreads droplet routes cabin h1n1 sars superpower sick 97 outlets airflow fluid dynamics resolutions readings modeling calculates simulation sneezing disgusting passengers pending pathogen 55 190 composite swirling elimination sneezes outlet infect aisle certification regulatory suitcase printers skirt printer fashionable textiles factories roommates silk dresses plastics necklace liked fabrics filament garment jacket sweetheart plates slower accelerate shirt rebecca outfits cds intersections liminal arc bustling alabama copper creek ferguson missouri ideologies celestial intersecting fusing entirety shining fusion astrophysicist supermassive hyperactive jets dreamed jamie alexander exhilaration victorious regeneration departure thrust bachelor astrophysics poster striking equations dishes endured mistaken forefathers attend attempt acute richness appreciated absence firmly rosetta decoding encoding enrichment herself resting thorough claudia plasma comet galileo victories jessica inventor soccer implicit perspectives editing toughest outlook enrich resourced distinctly official breaths physiologically compressing reflex peripheral lions squeeze sliding pulmonary erection capillaries suction chest cavity crushed collapsing diaphragm rib cage squeezed enjoyable relied earthly tear spit relaxing relax cocoon swimmers frenchman dived 105 weights balloon sweep 115 pale pointing voyager probe stardust sensation nothingness narcosis dissolving unconscious rope escort buoyancy pushes fueling traumatizing commotion rushing verify protocol clip bilingual competitions ease photos calms weightlessness plight tense correctly flora reconnect guarantee skiing textbooks braille freed ignite dictionary visually impaired tablets accessibility telephone astonished synthesized simplified translated independently ca potato chips gained analyzing beacon permits indoor facial expressions whispers augment weakened buddy pathfinder hallmark topping motherhood annoyed parody promotion leaking presentation ruin flushed contents airborne duty doorway inmates breastfeeding twins unpaid wreck tearing horrified creepy households engines optional procreation palatable quiz structured exceptions nurse pregnancy returns horrific postpartum surgery coworkers implications prior unbearable disorders grief irreplaceable screaming drowning rocked begged hid damn cried serving inconvenience gratitude monitor papua suriname marshall 320 bleeding drain bonding meager parenthood peril chemists fertilizer sediments fins bulldozers warmed compound cura ao intact magnification compounding jeremy jackson slippery slope slime metaphor bacteria headline glossy brochure bothers packaged bundles sperm fertilized divides larva blob sensory textures limestone hardworking stabilizes caribbean certainty tiniest adjust surveys crevices grooves restore pier attract bacterial strains reliably attachment settlers mysteries pillar reproducing spawn tips fertilize aunts uncles larvae pandas secrets embryos crises amazement spawned embryo dividing fertility fungi 1974 gallery 76 coat shoe knife razor blade pistol bullet scissors scar rape performer dialogue ketchup rehearse amsterdam performances pistols bullets beating adrenaline ruins provinces baroque washing bloody wash moma curator subjective hudson upstate fashioned viewer experimenter lockers iphone ipod slowing streams crystal chairs transported counting satisfying corrupted contribution launches qualified ivy league 0 recommendations hopping categories silver spoon scrapper scrappers judgmental patchwork quilt tossing indicate inconsistency attended assignments temporarily paranoid brilliance cuckoo nest profiles distress resulting finishes hops dyslexia hire desirable grit 1966 countryside fend clothing fate selective admissions nap repeated unwavering propelled laughter overcoming encouraged dwell brutally underestimated weapons bookshelves alarming cultured cosmopolitan titles prescribe memoir lists taiwan blogging translations publishing primed publishers upshot sourcing namibia clueless registered com bookshop enthusiastically malaysia lengths kindness holidays panama canal juan morgan novels unpublished horse emailed glimpses imaginary portuguese kuwait angola tom pr dubious margaret costa volunteers copies endeavor weakness wrestling rounded geographical testament worldview shadowy draws hushed paintings triangles muffled flickering torch unexplored crawled dylan trail occasion graphic shoulders inventions gestural ephemeral shelters sheets sweeping plains decorated occasional engraved glimpse bison geometric drew outnumber definitive vague description 52 answering outliers span doodles decorations vanishing clan repetition intentional culturally alphabet offs symmetrical markings stylized representations bracket symbols di weaponry constellations feather revisit classified feat capacities crayfish shocks burrow disorder explores apes ape invertebrate grouper chases bolt partnership fried chimpanzees enormity chimpanzee insecure uh elephants vigilant tourists bushes bother spears imperatives kin elephant courtship anesthesia moods companions contagious sympathy empathic attribute hormones reporter rifle rug couch rolls rubbed rivals carve teeth ranged cape shattered shards wolf elk descended jealous wandering ejected t20 seal seals reunion bunk hint nosed nursing enveloped compassionate jumbled mates frequently chick albatross deemed kiribati gilbert width occasions fragility impending 2003 ipcc predicting forecast skeptic swells freshwater contamination relocate cyclones pam edges southernmost constituency winds geneva substantial migrate adjustments sneaking replied accent chewing chew extraordinarily emphasized zealand industries paused depressed assure indications yellowfin assess prompt negotiations likewise licensing participation penetrate depleted australians australian warning visibly journalist compelled overwhelmed michaela collapses coma evocative seizure ambulance taped dean usc recreated injured bombings victoria advertised tapestry outpouring believable duality journalistic integrity soda george rebuilt 911 forensic productions testify tenets headset sneaker 1988 nike lineage sneakers celebrity camped ebay compelling sneakerheads tastemakers anomaly resell thirty addictions pantheon jordans diverged consultant ahold amusement analytics camping dan identifies 103 modest asset unregulated comparisons gum sixth ninth similarities secondary domination 380 construct passions commodities 104 clones mortar conventions efficiencies transparency authenticity inverse watches handbags baghdad palestine 16th missiles 15th hallways missile cameraman shiny blinded buddies floors exploded bothering soldier discharged shaking panicking casino scars psychiatrists ptsd penetrated minor enters barrel deformed fluffy swallowing perception slaughtered trance horror injuries updating planner remembers sinking tablecloth candles ruined outright soldiers 1939 psychiatric vietnam 1987 102 committing relates warfare heal treatable scream oblivion subway psychiatrist toe rotting lightness immortality philippe scrutiny multinational sanctions inserted orthodox mormon siblings virgin strict wore dated underwear babysitting priesthood budgets disciplinary costly homophobic sexist extremism bred defend tightrope respecting defensive sabbath leaks fiscal prop normality religions halls boards perceptual despised uttered nieces breeds strangely unbiased humanities curl cornerstone philosophically impossibility elaborate complicate israeli acknowledge grounded objective queries michelle caption indication uploaded racist distorted purposefully upload googled cleansing manually anders breivik oslo developer distort civilized poop sidewalks blogs intervened honorable dislike eradicate accordingly tie wonderfully divergent lgbt immigrants filmmaking varied ordered nepal devastating earthquake transgendered expelled restroom freak feminine hindu homophobia rejects threatens empowerment ensuring internationally stigma minority unite dreaded incredulous salon intolerance kenya 89 homosexual senate denying argentina 10th ancestral gays shanghai struggles metro bumpy criminalize homosexuality ireland reviewed vested almighty kiss transmit laptop receiver wi fi li encoded brightness transmitters converts incoming harvested principal fluctuations correspond megabytes broadband streaming blockage handkerchief maintains hut beam integrated tapir offspring tapirs documenting brink tigers rhinos kilos patches herbivores swallow disperse feces maintaining gardeners 1996 pioneer solitary elusive datasets indirect anesthetize collars movements disseminate ants prepare battles 1500s timber establishment reconnecting pantanal bolivia paraguay refreshing cerrado grasslands epicenter eradicated sugarcane soybean roadkill slap highways urgency reflective monitored rita harrowing doaa raging motorcycles kidnap bassem notorious cruelty crammed masa stomachs agitated insulted insults sped deliberately yelled capsized sank doomed swept calm dangling swimmer tread canister exile sanitation amuse blazing sobbing waved merchant clutching crete pediatric kidneys amazingly reunited orphanage slight praise politician vietnamese vain org scouts campaigns butter valentine index hispanic raping chicago unbelievably texting pills counselor drawer bipolar 41 counseling sweaty psyched velocity juicy corpus predictive sleeve mg rubber automatic clinics robin hotline reads queue severity chronological tagging monday suicidal meals reservations nerdy dallas texted raped desperation montreal porch cellphone cardboard contractor cortisol clouds worrying upcoming cloudy raced recline danny prospective gary klein mortem enlarged olfactory exquisitely bowl stolen statin statins prescribed pharmaceutical undergo procedure practitioners bloomberg lowering doc prescription debilitating manufacture harmed ethics consent removal prostate 49 impotence incontinence fecal digestive immune metabolism flawed snowy piles gradual chancellor diplomats gate embassies constitutional dependencies roofs disguised spying makeshift antenna rooftop circled relating ambassador intercepted agents achilles heel twisted noisy drone cyberwar departments leaked parliamentary tours discussed constellation settlements outskirts expulsion suppression gelem roma continents drifting tickets detention veiled procedures operations imprisoned queensland compass marking wept responses censored provoked rival exposing transformative softly score softer demonstrates asl 1800s deaf blindly norms loudspeakers slam chip scrape utensils etiquette eager anticipation signing thumb residency trending auditory regarding unlearn literal fade envision grammatical parameter regards busted romantic notion enlightenment centric innocence hong kong horrifying nets workshop workbench heights grind imaginations prototyping lamps plumbing assemble bare substances tsunami 137 radioactivity masks elevation sprayed radioactive civilians sailing sediment seabed sushi progression optics acceleration wheelchairs shield ella desolate abusive tragically 73 mediate tutor policemen deprivation containment penny touches spins shockingly reversing kicking policeman confessed jargon sliver supper forwards welfare drawn exported contemporaries beveridge sensual trusted bureaucrat detached november colonies bureaucracies ingrained eradication urbanization bureaucratic bingo bulb membership pets dvd darts ballooning belinda hip joe firstly underpins longevity spine administer transactional advert 1948 dreadful omission shaft dimension skewed systematic mammoth kentucky caucasus karstic dissolve soluble forming drainage tunnels passages geologists estimation lava alps farthest basins enchanted waterfalls conan doyle 1912 fortress mineral crust czech venezuela tepuis uplift strangest characterized millimeters shafts contaminate snapshot mushrooms boulder stromatolites resolve cricket italian venezuelan sardinia photographers shutter spray tables polyester redesigning lightbulb fork mediated dumb cups toys bitch berg tangible binoculars birthday sydney anniversary fitted 360 icons versailles shackleton circa 1955 sacks grumpy sailor wand fairies recap underpin widgets cork crispr cas9 infections ticking defuse adaptive degrade insert philadelphia inject plucked chromosome clustered repeats mouthful acronym progeny locus vaccination rna sentinel associates helix programmable harnessed analogous detects pasting mutation sequencing copying laboratories rewire huntington pigmented litter repaired unintended commercialize venture capitalists enhancement enhanced susceptibility cloning validated attitude quarantine therapeutic traction therapeutics delighted viewpoints stakeholders regulate exponentially prisoners ghosts unseen unheard secretive tier cmus guantanamo unto underwent cmu prisoner confinement restrict bomber hug psychologically requests violated saddam 2004 fbi islamic enlist mcgowan defending liberation transferred repeatedly violations warden bureau counterterrorism memo cited fairness officials punished reminded attempted checkpoints ushered outstretched grapefruit orb virginia insists bulletproof boredom rumor secretly twilight bella edward jenny attorneys bush andy punishing puerto conversion advocates amnesty depriving abuses disenfranchised snippets singer influences sonic lineages ethiopian genre soundscape snippet gotcha hungarian slows pitches juxtapose birdsong intuitively integral yared priest scholarship saint compose notation pygmies bernie varying inflection syllable implies wax distilled dips affirmation compositions jason intimately seminal avant garde purchased contracting pipes remixing stove lentils stir lid backyard musically generative fertile researcher surgeon johns hopkins wired permanently oasis soundtrack percussion tires freeway burner clicks dusk avian orchestras composers ashore wetsuit accidents nameless wetsuits calais tomm continental shadi mouaz dubbed terminal flew damascus 1991 reenter decides tire bombed gaddafi belgium stepped despair hopelessness slashing updates noses er withdrawn unacceptable popularized dose fetus disguise breasts ovaries uterus policymakers disservice pediatrics surround aspirin utilizing presents conception xy testes whitehead yang ucla clinicians translating bedside inception incorporating providers emergent paramount jr inevitability individualized scanners recognizable clutter watts processors inexpensive joystick pitching aggressively eagle gracefully coordinating claws maneuver adapts suspended payload altitude honeybees mimics honeybee grams consumes boeing twentieth gram fiber tailed interplay hijacked operator anonymity agnostic circular descriptions execute rectangular ellipse persons malnourished cultivate cultivated inputs pesticide orchard fruits yield optimizing downstream canopy photosynthesis combining compute detecting onset applaud 2030 fanciful suspend exceeded reductions scores lowest 61 kazakhstan regression forecasts deloitte headway rica prioritized prioritize scoring prioritizing yachts grades reject scorecard explicitly kodak kissing babe postcards intention applause alley pie oncologist puzzling cured responded neurogenesis emotion mouse jonas karolinska exchanged differentiate bike antidepressants establishing moreover salk calorie intermittent spacing saturated ethanol quirky crunchy exacerbate neuroscientists vigorous dictated discrete thicker varies elasticity personality ford darwin synthesis uniting confluence additive robotic diameter nanoscale microorganisms archetype van contours waist helmet combines micron ct analytic acoustic absorb carter absorbent rigidity ideal hebrew differentiation branches crabs scorpions butterflies paste robotically nozzles recyclable byproduct photosynthetic seamlessly mesh behaves biodegrade nourish sustaining computationally manufactured biologically alchemy metals synthesizing coli biofuels selection resembles tract desired wearable spans football intestines mary speculate symbiosis inhabit prints sophistication silkworm glue fibers attaches compression manifested spinneret scaffolds silkworms templates template darker caterpillars rim scaffold bucky fuller spun pavilion symmetry moths hatch pavilions dominance antibiotic celebrating hundredth introduction specificity pneumonia syphilis curable penicillin chronic hypertension nodes tinkering downwards regulating semi leukemia carcinogenic nicotine hormonal milieu metabolic serotonin dopamine elicit reframing roost ominous crunch perks mris meniscus cartilage moderate ailments summary naught hypotheses skeletal arthritis schematic columns arisen petri fractured dye fracture precipitously tenfold ascend loading recreate regenerate unleashing miniature latter intangible personalization genomics personalizing immersion converted workplaces lifestyles negotiators summit accord manchester mumbai cooled incompatible aviation grips cumulative projectors lasts accumulate whiz poses upscale biofuel turbines reliant constrained nicholas stern recession upheaval anderson austerity incremental overestimate heroic assumptions levers persist devoted unrelated deny resign scattered abnormal innocuous replies pirate costume chuckle violin ng illustrator romanticized multipotentialite fitting affliction rachel cartography visualization geographically eclectic multipotentialites beginners freelance pianist honed finer quitting adaptability morph abe bond pivot multidimensional thinkers womb paired breadth aligned sadly wiring specialize wishing contracted progressively drifted ghost bluntly utter vanished strapped wheelchair barney jolly powerless observer defenseless worthless whitney grieving smiled fleeting monotony intricate fantasies shadows retreat castle deserving urged expressing liberating conveying respected resigned misconceptions tracks reshape preconceptions increases mindless phantom honors amateur epiphanies rainbows bonus menu rodent gnawing willingly swamp aesthetics wonderment sunshine promoting canoe starry spooky wetlands assumed drained draining interspecies breed gulf unraveling wading latent discomfort pines cypress everglades corkscrew reintroduce watershed okeechobee overflow topography prairies polluted reaches intrinsically oranges pulse dumping fertilizers snail kite nesting ping pong kites sketching snails sunburn mosquito bites gosh gators feared hated misunderstood apex excavating wet reptile dominates wade pit ubiquitous hats plume rebounding concentrated drastic disrupted unstoppable appraisal undertaking stewards ecological yosemite compasses wasteland restoration prod selasi ghana mum colony saudi arabia louisiana locality timor sovereign instructional critic abroad accra suburban limiting thanksgiving writ fez shopkeepers cooked delhi weekly dysfunctional olu scholarships hates udo northwest buenos aires blonde denies quicker occurs players fictional bumping overlapping merge primacy ethnic immigrant colleges pakistani gardener notoriously affair mutually exclusive auguste delusional alois autopsy plaques tangles 114 deter medicare aged triggering reduces expectancy folds origami clumps wires medics mathematicians worms lifespan regulators advancing rhythms distillation advances appalled invoke pdf shuffle irritating tilt buddhist mystic serene emptying poking curb valor exercises relentlessly dancers exert insignificant masked donating reassuring donor liver dice slides dues stain traverse emit illumination bends faint arcs lensing turner hubble provoking pedestrian illogical swift swivel waking arrayed sin dripping barefoot slick slate slabs mint scoop moist grenade blinks fullness manhood melodies tentative cardinal stirs unbearably grieve elbows presidency irish queen residence mayo sovereignty tong fiji eleanor roosevelt chaired bears sow malawi unprecedented emits kg forcibly kerosene dung industrialized pledged 1945 devastation ambition environmentalist urging recall fairer sufficiently admired mentor wangari maathai murderers steven beheadings barbaric barbarians throat beheading desks poll surveyed downloading innocent idol reporters spectacle serial pierre executed crack customary unbeknownst unruly untold framed judicial executions crowds attracted plotting rooftops carts enthusiastic disgust comparatively disgusted monstrous contraption mutilated humane carnival solemn unthinkable incidents gathers 1981 incident intimacy erode contrasted invisibility tempted passive fulfilling murderer trophy staged killers pitt cranial ironic gory savage rationality fascination refuge allah cursed satan gracious merciful businessman pregnancies widow weeping invading locking taliban koran obey sip poured trainers bodyguard kabul yelling shaken sakena guides earning honesty competitors sage warren buffett guessing changers bakery embodies dorm sorting repository smiles bannister milestones compounds precarious murky windy 56 slams limp fists norman cyclists dime genuinely shutting beers ripples ipad fired sunday popped boyfriend promptly impulse arthur aron closeness sustained reciprocal opposing referenced afterwards nodded breakup inoculate heartache reasonably indefinitely thoughtful implied oppression situated startling generic universally sociology alternate lecture biased objectivity disembodied embody genitals akin resists confronting entitlement tilts uphill affirmative turnover satisfaction calculating costing terrific gauge dads dual egalitarian persuasive housework adhd duh marital recreational routine avenue feminism advocated jobana sintia bertha husbands hatched plastered flyers rotate cleaned theresa brianna sparkly outgoing rosie credits academically heartbroken burst baakir greets algiers jerk buttermilk caf homework venue nicole tenacity chores snack cherry spinach revered paycheck hustle denominator equation lazy flame directing incubators accelerators grasp faulty cogs jog butler parable birmingham recite cloth desmond tutu ubuntu reconciliation inextricably bundle elevate thermonuclear rearranged apparatus torture allies casualties emanate fights richest capitals heightened foresight transformational trends racked symptom ignoring sim doctrines formulated kinetic custody operators insurgents apps adversary cafe firewall russians indians brazilians nationalism tanzania delivered debating negotiation iranians partially railroads telegraph radar garages philosophers eras pat bobby opponent ix 1972 monies 50s 40s billie diploma michigan youngster nfl macho millennial benefited strategic philip morris solvers boomers bosses owns tenuous extending rattling robinson lgbtq volts sophomore atop parked licking wears hospice palliative unwitting scariest tease sizing caregiver healing cues caregivers relieve pile rockwell raft anguish flower zen shares sprinkle petals parting usher anesthetic livingston smuggled transcendence seismic spirituality als cigarettes kate austin chemotherapy bake cookies dementia sensorial teasing realm adaptation compulsory cuisine subjected sorrow kneel psychic crescendo bouncing rewards obviousness meaningless eliminated fulfillment warehouses revolt vanishes disappears smith derive indifferent anthropologist unfinished orlando aerospace breathed portion stratosphere linger proceeded parachute analogy visibility redundant capsule simpler balloons helium pad dave clearing faa cutaway curvature drogue yay stabilize tandem skydiving tangled princeton irresistible maxwell taylor agrees newsweek stony brook chern berkeley sub ed witten condensed perceive unreasonable effectiveness lattice squares euler 1700s topology vertices tiles doughnut uncovered volatility assembling 30s commodity copied credited schemes terabytes massage anomalies align persistent worries dandy "
          ],
          "name": "stdout"
        },
        {
          "output_type": "stream",
          "text": [
            "ratios withdraw liquidity narrower boosting marilyn philanthropic 94 coaching geology settling circling surrounds methane formaldehyde frail fallow elon musk infused cocaine browser onion naval browse censorship blower pirated fringes narcotics res crypto vendor pseudonym buyer allegiance vendors attentive frees marijuana encrypted posh reckoning purity censor payment flaw payments purchasing wallet administrator tumbling recipients laundering colombian opted consistently revelations snowden messaging unused extraterrestrial den uniform hesitation consciously seeks groundbreaking heforshe inviting counted pune mobilizing madam 180 electoral nato eu iceland goodwill emma impressions associations delusion widening northeast mountaintop glare exaggeration webb consortium gmt mirrors dwarfs comprise statue housed copernicus buckets bucket icy earths province spectra newest smithsonian carnegie furnace tucked bumps millionth ow coin simulated cluster leveled blasted wendy alma complementary observations tedglobal annum rebound vitamins trinity championship runners edwards medal baton contributes grail compliance measurable anticipate cooperate allocate objectively summaries mindsets personalities quantitative disabled rebuild homeowner uavs hummingbird hawk extensively katrina angles wipe unmanned pipelines ports wiped port bujold assist railroad beams inspected phases compress shorten misnomer pains vomiting diarrhea dengue measles fascinates acquire clue misguided anthrax subsidy epidemiological pipeline stockpile speculative biochemistry spectroscopy interdisciplinary orders nano nanotechnology nanometer billionth lightly nowadays delve weirdness dissolves skier stunt disturbance reductionist deterministic macro schr dinger austrian influential crick paraphrase tunneling electron impenetrable reappear nicest speculation fuse tricks electrons protons proton judith nuclei strands rungs nucleotides replication cancerous coherence biomass multitasking pathways photon chlorophyll confirming scandinavia autumn wolfgang directional entanglement retina entangled infancy lesbians pen aliens spaghetti collage agnes resin bee allergic magnifying frogs girlfriend triptych bosch fountain representational underworld billy graham waldo osama laden mythological beak catches volcano eyeball 1986 encyclopedias dictionaries redefine insides exchanging wiretapping telephones authoritarian cameron sympathetic dealer lawful compromised token feature cabinet tougher lucas le revolutionize rejuvenated circulation reproduced pancreas verbal synapses mechanistic versa maintenance inflammation correlation surgically reasoned saline injected maze mounted injections malleable pint scala branching schema virtues illustrations genealogy rulers employing visualizing centralized mammalian neocortex conceive ramon precursor encyclopedia interdependent rigid programmers madrid publisher tying diagrams immense convergence influencing immensely meme transient sharon pollination mcnally graphite filaments droplets spider wool decentralization interdependence approximately coincidentally bruce mau lucid instincts nikola beta calculus lasted confuse shots flirting asperger autism jokes colbert needless needles shower hygiene verge waffle diner hash dispose corpse sliced peppered topped capped chatting presenting therapists assistive autistic podium austen isaac newton roadblocks succeeding brad angelina dilution counts diluted lymph lasers dentistry transporting pulses swallows microseconds incision sprinkler rumsfeld invasion iraqis monument maya circulate civics notepad iraqi pads smuggling assisted alberto mk smuggle civilian archives archived improvised empathetic stab greet splendid sailboat whitopia charm ne apiece coeur idaho spreadsheets zoning clubs poker premier motel howard visitor golfing scored em salty ho preview handy 1993 l paranoia aryan ministries memorable implicitly operates minorities merit privatized smug segregated proverbial delightful ghetto segregation militias nonviolent confrontation contest tick unarmed hezbollah israel palestinian hamas gaza looting ascent acknowledging blurred peacebuilding nonviolence seventy unimportant fireflies minding superior survives flexibly beehive establish pyramids microphone preparation bananas punish zoos cathedral crusade emphasize maintained wizards ministers coconut objection fond upgraded minaret 57 sketch calligraphy verse tribe reacted universality decipher homage favela thanked slum legit rejection 1937 drafting nerds agloe copyright robbed initials ernest otto rand dirt delight novelist erected adulthood arbitrary twelve boarding learner learners enriched memorized amanda mario inconsistent cantor coastline astonishingly stalin ze fabrication nostalgic builder reddit admittedly experimentally photons quarks assassination sarajevo franz ferdinand bosnian noting joseph mustache serbia mobilized doodling plural serum tusks classrooms instructor genres memes boo criticizing nihilism dorothy parker tornado reclaiming overlook misuse religiously devout blessings diplomacy 101 relatives prohibited inappropriate professors militarily khadija relegated teachings crooked libyan encouragement cite posters verses sayings sermons imams cripple ridicule shaming shameful voiceless advertisers misused democratization hierarchies faking apologize cascading forgiving jury dramas fingernails justine sacco 170 deodorant monologue inhale chuckled congratulate heathrow spare runway straightaway dismantled justinesacco horribly fuck screwed pillow comedy randy newman statesman helen lewis fury annihilation 220 lol protects outrageous voicemail tracker airways 34 approve cathartic mangled distinguishing billionaire carpets villain smartest creeping babble mandatory okay abusing deluge curtis carpenter preceded legged combinations kittens illuminating aphids horns beetles dragonflies penises knives attachments formidable rampant dictates crickets picky nuptial sword appendage gifts nutritious eats stereotypical wasps hive nectar pollen stinging bore sexes ferocious ant rats rat norm variant basics anthropomorphize exoskeletons supernatural departed paranormal replaced curing waits accessed eradicating contacts francesca patrick openness consult founding wellness stacey baker maine alec breaker colin kissed concession thon calves marathons notices complimented sleeper floss chocolates mc restless exterior photographic arranged sb barbecue lied judy louisville owed irs alcoholic swat endurance trailer realization polarizing debated battlefield cofounded exhale gardens queer sameness flaws freaked focuses auntie curtain thai cling tourist bail symbolizes ngo prostitution pimp whopping fraud coercion compel coltan mines washes exporter plentiful burmese cambodian overboard retailers walmart traffickers touring trafficked comparing proportionally greed systematically involving confiscated fainted stemmed inspectors processor grappling plantation op retaliation peach resourceful gamble gong treaty shipyard pinned diligence implicated ohio anna elsa sanctioned princess princesses claus samantha coloring lawsuits scheduled tattoos snowflakes vantage backside polarity unequivocally penalty proponent feminists server lifeline ally porn apathy fluff humiliation ounce fateful cannabis heroin hooks medically junkie ah drugged overdose junkies psychiatry rehab withdrawal cohen traumatized gambling vodka addict gangs jo mechanic garage rediscovered injecting disconnection nuanced steadily traded premise contingent behaving importing motivating entitled puberty initiation fabulous stubborn seated refusing forged cries honoring enforced whilst stadiums guarding ta vernacular wiggle defenders quantitatively predicts shooter overtime recreating announcer josh pointer suck spear officially giraffe zoo rotc amber heidi infantry intel bosnia uniforms lighter stitch afghan ranger martha stewart batch raisin apologizing lieutenant ashley testimony chapter mrs guts paved knees crippling biographies bonica johnny bull 1941 circus flocked walkers bully pin climax persona brute dodo professionally wrestler belt venues madison joints ribs turk mask bruised cauliflower accumulating ether irritated choked unborn beds signaling amputated ringing specialists neurologists quoting lunchtime recast sprung aluminum crutches recalled hyde tampa mansion clad pioneered molded h villagers scriptures ordinarily seminary blight mutilation cutter sterilized genitalia sew 91 98 maturity killings mandates marries disgrace murders perpetrated emory busiest brothel skinned battalion marines rapist publicity rapes accepts 1865 lyndon privileges granddaughters hoisted sails mashed apprenticeship depended nonstop mast sunsets remoteness moby forging horrendous knots horizontally blizzard engulfed smashed knuckles gripping steering headlights lows highs heartbeat toothpaste diesel packet miner trousers miners crusts ponies homepage 118 tin zinc manufacturer wiping uneasy perfecting continually metabolized ellen macarthur biomimicry cradle packaging analysts constraints decoupling flights 1885 karl benz automobile crashed reacts substantially commute commuting ordeal incrementally googlers porsche cable goofy mitigation braking avoids eighth unexpectedly aligning cyclist cones pedestrians dmv handbook simulators boggling driverless interim craters fireman polishing brass hose poisoning dilute surging ox epoch defenses 1943 leapfrog prevention chartered stents pumps replacements athletic hips biopsies cesarean sections motorcycle ski scalp relies morally avert prizes lure asymmetric toss seatbelts expose crackers strokes enthralled perceiving sincere yin decoded germans connotation nickname colorless tropes fortunes skinny transformer sidewalk charming editorial airbnb marker scribble detective apocalyptic midtown zillion graphically roach compartmentalized redesigned mta idiots coke disheartening coca handshake spared yoda backlash trademark mysteriously blih willful hairy hating accusation expects daring legislative oversight evangelical lyrics degrading shaker mortified chooses deflected pedestal disappoint knocked mtv awards endlessly graded dissecting catchy justify lesser treats tokens trickle boldly dare braddock pittsburgh andrew edgar 1875 unions revitalization silenced mills eroded stepfather furnaces benzene atomized rehabilitation conceal eco spirals reclamation socioeconomic disneyland infecting vaccinated allegedly sparked retracted branded deliberate prevalence fundraising leo kanner panicked referrals diagnosing seizures psychosis refrigerator distinguish symphonies beethoven claiming regurgitating lorna affectionate susie gould pavement waxed monolithic avoided hans vienna continuum absent broaden swapping hoffman evaluated deserved puzzles obsessively muir flock suppressing pecking aggression q sensitivity broadly doubling attuned arup firms strung horses haul finest vets spreadsheet reckon imagines friction insisted swedes motivates candor synchronize impatient frequent auditions renowned erodes ozone geoff tackling cracked cyberspace enjoyment blockbuster lip brow eyebrows wrinkles ethnicities genders aha yep eyebrow frown wrinkle valence expressive quantify confirms necessity wristwatch sensed locks outweigh usage responsive humanizing stained lingered grin skirts heterosexual closet barbie evacuate echoes casket lips perverse skeletons coffins mercy unsolved velvet huxley genie correlated odors annihilated photoreceptors discs disks cube jewel swarm mathematically steak enhances centrally intuitions desktop hides zipping trusty constructs inclined peering kicker causal undermine pressures uniformly faculty proposing bishop realism dh trivia format bert ingesting ocular syllabus macy unwilling homemaker locker bio resonant eighteen wiser resonance bi notable voluntarily freedoms attendant jamaican jamaica trinidad whiskey convent embodiment rotten messing wee nun industrialize doll dieting restricting attractiveness bradley sober marrying cooper stripping dudes bros hangover theft prostitutes reformed motivational jong il undercover 270 100th sung heralded prosperous carved slogans guarded meticulously overheard majors zuckerberg chalkboard mythical cloned adore heartbreak casually truthfully forbidden listing articulate persistently arrests progressed rows teased bullying troubling delegate notch lightbulbs discarded remediation extracurricular deployment specified titled consecutive slogan excuses proficient eliminating paving 171 unconditionally negotiable etched gangsters prosecutions foiled 175 informant informants con abu abdul gasoline attempting bronx defendant intercept osmakac agent transcripts squad piss ak martyrdom sentenced investigative errors appearances cbs glenn leveraging orchestrated comical unclear blues cramped ripe nails flick peeling numb encode habituation comedians idiotic comedian innovators 1902 windshield wiper hardwired gadget eternity coveted 1900s thermostat documentation optimized mount velcro mailbox puzzled summed conjecture reconstructed gentler inferences sparse generalization indebted electorate voters generalize sampled generalizations plausibly differs hyowon squeak squeaks whack compartment squeaking imitate confounded laura hg activating shortcuts computations buggy veil occluded effortlessly dispute startup junior idealab accounted punched z insider attributes linkedin timed renting startups cumbersome tripod loose dignified jimmy goat swapped indulgent idealist faked amusing clicker meltdown disgruntled huli highlands shave shaving wig hat moscow compliment aura compliments himba ovation fireplace panoramic ufos mercury teeming originate populate furious zooming tedious orbits speculating hd moons steam blanket spock warp budding shuttle raindrops heavens fingerprint pleased cosmology laureate attributed starshade specially snapping exo interstellar fred resolute outfit scarf outset lurking accusing acknowledged dictate presumably 1952 audition clack heels preliminary tripled severely criticisms technician chicks 64 blacks hispanics supplier mentoring rig abaya tutoring reduction 79 carrier homicide fireworks gunfire bedtime funerals cathedrals preaching sermon rev convenience oblivious jesse carrion deed volunteering sanctuary detriment laborers egos misconduct adage burundi coldest cheeks meditation monk tan gratifying trappings piled amidst stumbled pinpoint troop carriers sketchy scare helplessly shook shore grounding infidelity transgression adultery envy commandment reconcile boast monogamy monogamous erotic marcel proust destroys indispensable betrayal shatters violation heather receipt lipstick stray reversed cheats pathological yearning novelty autonomy vitality propel antidote ambiguity healed vine deceived voracious acknowledges hurting vigil protector inflict motives betray contempt neglect orphan separates nonhuman crown litigation pessimistic bolts somerset scottish enraged ann chained cane mansfield habeus hearings odious determination rub legislatures argues enslave jurisdictions filing intensively scotland ivory smash excavated tommy massachusetts hercules anatomical chimps winston churchill torso elbow flex stiffness dressed suite regain confusing lengthy geeks deposit beehives auction bid 82 seniors orthopedic neurologic eli martine bina discotheque canoes dish subscriptions bottled blending fluidity jenesis arterial cardiology protagonist burroughs wellcome expertise sparkle tahiti digitally cures leonard conceptualize unlimited decoder venter modify recollection stored recapitulate revive upgrade siri communicator undertaken expresses threads handheld mic 1989 forgiveness redemption inmate nichols diane chester ass vexillological kaye rm portland pamphlet symbolism columbian haircut barber remixable firefighter lacking manages motto ribbon usa gambia scourge narrator distinctive breeze milwaukee wisconsin submissions cobbled stalk regiment depressing contests entries discouraging rectangle inches winged flames suggestions feasibility considers signage frivolous cede cheesy cedar mushroom bespoke curving conditioning boxing pod luxuries unproductive clump hollow builders rafts weathers craftsmanship artisan adventurous fours crafted formulas hardcore balanced reap plywood craftsmen splits loaf handmade reinforced idealism pollinate furry pesticides parasitic mite varroa pinhead weakens hatches goo secrete mites develops sprout beekeepers hives usda rouge sedated tradeoff beekeeping exploiting pollinators tori widest rowed rowing ankle adapting sings gibraltar moonlight floats quorum virulent outwards tumors orally probiotics selectively detectable urine localize 1908 invasively vibrations microphones interpreted vibrate loudspeaker micrometer centimeter numerically lamb blasting melted intelligible quieter fleece artifacts coded eavesdrop interactivity geneticist sinister corn grain eggplant breeders mutagenesis induces cereal pest immunity xu sub1 lapse melinda cheapest papaya pathologist dennis rescuing queasy bangladeshi insecticides insecticide pests vitamin rockefeller philippines wines prejudices correctional taxpayers footing oecd negotiate underside punishment seized penn juvenile dissertation handcuffs warrant chuck dragged dropout tri raid committee academics convened disparity possession libertarians wealthier reforming hoo noises ribcage strap zig squeezing stamping contractions tickling laughs behaviorally modulated neurobiological involuntary communicative voluntary recordings acoustically whistling unambiguous scanned spotting dataset phenomenally longitudinal emitting trunks towel heinrich diy sam kelly greg gg discharge miguel kanzi mastered superstring hood ballistic substrate superintelligence console algorithmic hertz transistor tops awaken guru ai cluttered pals timescales replicating uploading trickier configurations superintelligent beaming maximize incorporates neanderthals wiggling circuitry pretend bam nifty python paleontologist expeditions spinosaurus spines slender crocodile deposited partial rex skull paddle compact hind chapman andrews purposeful awakening pedagogy authentically streetlights forearm grip foolish bells steal nail tombstone evel rode stuntman sued thereafter autograph arcade inhabiting conjunction captivated galactic accretion disc accelerated insanely disk approximate inaccessible gamma blobs instances confidently unspeakable cum sponsored jarring zambia uselessness shattering sponsor griselda guatemala snatched malaria locust descends oregon dispatcher slipping bullies disintegration wrenching celebrates drastically neglected unison transformations measurably inexplicable tribunal nazi retrain modestly buck privatization enceladus geyser spa tectonics asteroids comets seeded remnants stripped v mounds thinner slopes sunscreen trader manias disastrous conveniently margins compensation literacy justness mania tudor philanthropist intentioned philanthropy charitable conducting messengers divisions crumble mama sigh par handrail taps waterproof dosage circumference tumble suppress evils deprived 1969 caste temples gandhian ideals untouchable bicycles uncommon courtyard ganges nonsense seeker resulted apparel equitable selfishness revenge cheek hazara homeland hazaras interpreter warlords abducted jakarta distressed en overloaded tossed timbers recalling doomsday jackets slipped coconuts indonesian aired saturn gravitationally kuiper neptune deflect tails ion 1983 arose 1959 navigated landmarks respective arrays elliptical maneuvers lander rotation unavoidable triangle calculation sniff evaporation bounced crater crews bbc filming tinted bitterness guinness preconceived tasting 84 rawls socialism unskilled availability infants desirability jealousy extensive placebo bullshit 77 edifice hardy eduardo technicians permeates thickness pitfalls afar diamonds theorem pythagorean pythagoras alexandria hexagons cubes kelvin voila sequel investor downstairs polio epidemiologists delayed inaccurate handsome 1918 preparedness logistics germ germs troublemaker harmless moi dictator fist jailed cowards coward pretended kenyans filmmakers brainstorm napoleon throne iii preoccupied ukraine herd 1971 conqueror horseshoe pooh classical rendered orgasm thucydides tzu allison sobering humiliated opium legitimacy periphery damned arrogant clapping cyberattacks boot diplomatic aboriginal apology applauded bridging retinal evidently blindness incomprehensible hapless clicking unknowns batman bats sighted optimism ceilings doubly payroll freight buses recorder supersonic sizable millionaires giles contented ventures charities obsessive potter vocation pots excites discontinued kettle inheritance creatives reshaping tricked bookstore folk hub node hubs contingency playbook synergy lease curate recreation splashy trusts stonewall queens manhattan inn documentaries straighten harvey wang storycorps booth facilitator grandkids excerpt sarah obsessions cockroaches venomous cockroach advertisement generosity decency facilitators betting annie dp romance oshea penitentiary alexis harold viscerally inconsequential tattooed mart raisuddin shotgun puncture lays forehead landlord rebellion amid americas admitting olive waiter slash stroman doom shaved viktor holocaust regretted suing rick perry executing fellowship generalized launching testified injection eldest ex neon shrine foreigners citizenship unifying affluent scarcely foods fascism mississippi tweeting begs immerse sorrows stride plow renewed customize prototyped crumpled chubby pointy curled milliseconds imagenet developmental tenure joked cleaner humongous teddy nouns integrates toothbrush zebra easter pondering flattered surprises instantaneously ads unbroken cyberbullying windowless tapes confess portions excruciating regularity dire tyler reliving revolutions mushroomed developmentally lawrence sony mined valuing consistency bystander negativity counteract superhighway id concentric geodesic fabricate inkjet ink transistors 1000 puddle polymer inhibits chemistries cad turbine blades stent dentist electromagnetic bounces receptors dashboards umwelt smelling snout scent nostrils slits feeble optic dialect vault electrochemical cables mole orient substitution demonstrating bach poked cacophony ubiquity portable vest bluetooth deafness cochlear scraping yaw envisioning cockpit gauges microbiome pony pms menstrual roller coaster examine standardization weaknesses inflate dsm redefined clinically slip workshops depressants perpetuating midol caffeine marketed teen adolescents deliveries irrational beasts sheryl chechnya haunting hostage guard kidnapping captivity cellar soup soap mock nerves sanity checkers tormented beg submission interrogated interrogation footsteps supplying sacrifices brigade superheroes irresponsible 155 collateral damages hostages dedication reluctantly interrelated animator wraps mischievous unleash cooks dubai agility brainstorming inquire refine dominate gmail sensibility nurture marketeers vineet outsourcing pyramid visionaries slices unoriginal shiritori trumpet soaking brushing ahh unconsciously rehabilitate rikers tiring pacing politic impulsive commenced disputes trainings adolescent stating sane nicknamed boroughs chests 401 shack balcony indoors pendulum adorable dehumanizing tuscany heady bilbao gehry cleveland galvanized swinging renderings ceased experimentation ammunition intimidated yoga lovable hay hideous scratches sublime greener imf empirical microcredit fixated peasant ibrahim subscribers diffusion enterprises fetch flour financing scramble fragmentation kiva rhetoric revitalize donations diplomat referendum colombia ingredient elated anthem tiananmen hitler resonated anticipating resisted painfully actress housewives outraged copacabana disarmament academia coalitions downsides outlive stamp recipient encrypt compatible invade protonmail basements maximizing zeros maths rude jaw awe disorganized wicked digits unofficial chatter cheers themed numerical tack metropolis a4 pepper pandora persecuted succumb nebula flair bronze evaporated cavities hardened darkened tipped borneo rhinoceros buzzing gibbons gibbon logging chainsaw chainsaws tempting scalable contributor powering afterlife technologist dissent intending positively oppressive regimes dwindling digitizing overdue es spade ace spades crease taxis recorders foil logo nypd readable legislators dirtiest inland coney gov reorganize borough standardize hydrant disagreed subscribe pediatrician sol respiratory whooping distressing 1956 smallpox vaccinate dissemination nephews acquaintances lowers fraudulent cardiac gel prepaid examining hospitalized referral fondly balochistan dweller karachi hyderabad frantic impacting embroidery cd sughar setback nomads nonprofits kb escaping disregard bitten mosquitos anecdotal seldom droves painkillers microbiology vaginal prairie involvement csi asthma allergies coated stool cohort rewind obese mush inflammatory colon sclerosis transplanted supplement kits minnesota melanie personnel openings resonate trailers slot slots tenants homeowners goose labrador vacancies undergrad granddad identification glove grandparent intellect unveil multidisciplinary warping starship termites holland iteration slovenia atacama illiteracy reforms reflexive yemen umm saad literate naughty routines bioengineering treasured fundamentalism transcribed dependence someplace immunization hospitalization hyperactivity burke aces scans amygdala pituitary adrenal governs hypothalamus gland dilate kit tobacco rod spoil interrupt favoritism doctorate saddest pissed packs trembling slid robbery flashlight drags demoralized helplessness moody esteem upsetting rounds fulfilled verifiable portia unattractive cropped bald roaring unmarried optimal ideally rejecting dull darling quantifying gottman murray spiraling annoying wirelessly sock conductive correlations nightly ricardo idleness atms violinist wednesday bride subordinates grammar mosaic montessori grading pi stroll dvds anchor chad sled rationale branson bothered flourish intestinal parasites monarch migrations spores butterfly parasite eaters milkweed advertise toxicity brained avenues remix rip flop archaeology nonlinear chore modernism toast toaster wildly rearranging correlates clearer fluidly synthesize visualized reclaimed alignment thorny consequential standardized inkblot fighter hamster kinesthetic styles revise gcse unpack handers mozart cleverer 66 streaks milgram liar hoax testable alarmed lofa escalate msf chiefs undetected presidents emergencies escalated airlines functioned fluids senegal militaries creep empowers paradoxically weaken gezi turkish cnn istanbul penguins grassroots uprisings mobilization overlooking clashes tahrir occupations occupation racially boycott rosa leaflets logistical carpool repression overcame innovated despairing mt 1963 painstaking transitions circumcision choking malcolm gladwell bedrock participatory democracyos butcher ramadan beards swarming monolith sabbatical nudging deficient tasked halal unethical orthodoxy chops inventive uncompromising fgm vagina clitoris adelaide dumped mall asians educating circumcised itchy moan booking appointment asexual unanswered infertility flown destabilized isabelle looted emphasizes observers revolves continuation municipality peacekeepers elevates localized 1960 allied illegitimate reevaluate understandings foundations inadequate forums specifics juliano brainstorms enacted avatar drawers millisecond quadriplegic 156 awarded reinvented exoskeleton bra wright commanded gordon munich delivers certify certified priceless actuating sms torpedo lever donate eyesight dynamically synchrony socializing maturing unconventional morgana metropolitan suppressed repercussions shortened voted revolting biogas kitchens manure bathing defecation elevated bombay aggregates earners masons muck illiterate governing spaceships picnic silicone aaron cheating rockets fabricated energetic flicking inspect ventilated altruistic anthropocene precipice prosper qualitatively 1900 reversible altruism downs schizophrenic incoherent hobbes tibet fittest darwinism grandmothers banality mob affective burnout max contemplative dalai lama hermitage cooperative unconditional sentient eyelids doubled repairing stillness insidious cadavers sri lanka caracas salvador megacities enthusiasts mayors slums pinker blip manuel eisner pedro honduras demographers turbo 1947 kinshasa interval palo alto mogadishu disconcerting uneducated dynamism edged colonize ju sinaloa dilemma livable crevasses frostbite yacht johannesburg disintegrating definite retrace vegetables recharge billboard jugaad hindi frugal telemedicine pesa telephony scarcity grameen siemens bandwidth 3g debit jams dodge roadside vertically transcend hectares temperate regulates 144 endowment servants liable pine subsidies leftist insurgency mayan gunshot machete fragment diary exhumed sergio saul iowa 1984 hugo 1982 chen os stoning patriotism stones bitter jerusalem cult ave jacobs stanley lynch aggregated robbing 1600s whaling carcasses plumes phytoplankton nutrient extinctions sinks plowed contextualize microscopes revolutionized bale informative pulsing wobbly sway singers vibrates resonates edison 1877 cylinder lexicographer 1958 manners linguists ninja squish verb noun adjective aeronautics omg catadores junk carro dentists eyeglasses curitiba tedx edition trendy riot geek cofounder dia erupt fare clash broadcasters multiplied consolidated subjectivity tyranny validation wisely praising chronically percentile reservation 1962 practitioner geoffrey webpage pathologists radiology pathology radiologist fronts iterations classifying flattened respite horrors sean oscar psyche schooled rocking funky pretending dissociate reset powell inventory anyways ugliness maryland lobe predominant techies gamers funk seating quantities plummeted attendees requiring jazeera nutshell nrk norwegians 1940 bergen railway th downhill luggage hurtigruten 1964 erik bow streamed 148 telly consisted abc timeline kiev siege loyal maidan homemade peacefully dissatisfied intensified barricades visuals maxim costumes decommissioned snipers bunches roses depicting guerrilla farc guerrillas lateral demobilized strictly risked valdez specializing veterinarian veterinarians gorilla aorta murmur lifesaving sac paw congestive syndromes comparative darwinian veterinary intellectually flamingos docs pluck bleed amphibians spanning humanistic bric averaged mismatch replaces automotive slightest averaging intelligentsia 69 summarized falcon uncharted terra nova 1910 petrol tractors amundsen hauling sledges 440 weakest blogged transmitter photovoltaic shimmering airstrip doubles hamburgers sensible exhaust sponsorship headwind hypothermia cooker spikes armpits foreground cliche striving militia intimidation platoon clips investigations methodology atrocities blends securities atrocity metadata superimposed conductor mopping wander havana cobalt appreciative sift slideshow shakespeare hamlet bending furthest override wisest empirically commandments torah exhaustion remake kyoto formerly diversion meadow imparted scrolling charts luxurious filtered slump mccain intrigue directive ankles moderately chevy citation dumps nicer jaguar uncontacted antimony frog loren baskets lick heap staph ayahuasca rosy inhibitors dearly sequestered goliath wingspan mystical nomad roaming sharpen axe danced sang imprint thugs der chased inhuman missionaries outsiders spiritually nonverbal labels artery biomaterials sugars extracellular ecm approximation nyu reassemble clot woo jenn pete neurologist frates culprits lou julie accountant dana motorized 4th 27th nuns jt positivity fetal ditch spraying toughness yup exclamation granddaughter lucy fitzgerald spaceship swoop robbie rotates caps earthquakes democratize cubicle stink tuesday mas ding bloop beep respectfully que extracts grizzly eiffel ensemble paolo retro sour sufi commons toraja merci traitor provoke curly groan chemo regimen suv flimsy gown respondents disclose preventive lunches charlotte mandated icu malpractice cessation combs denver astounded secrecy prohibition prohibit rabbi clearance ethan psychoactive commune opiates puffs nevada prompted sniffing implementation viagra sundays taxpayer intelligently harms spice ineffective pierce gridlock simon kuznets 1929 1932 plummeting inferred astray supposedly considerably ranked poorer flattening stagnating municipalities radcliffe 1940s pennies coevolution cheetahs gazelles informational xdr tb lice pond poisons incentivize crossroads vila cruzeiro upstream tattoo mural organically hectare accommodated atrium hollowed perimeter kilowatts tsunamis disciplined undesirable lobbied authorized subtitles hippie laminate innermost bean quentin plazas credible devise marty serendipitous mauritius madagascar grazing tortoises cosmetic pharma hotspot pathogenic underutilized arrogance reinforce pollinated elixir rightly marsh modifying centella regenerating voter turnout peaked solitude potholes pajamas bia demolition demolished webcam jovita leandro hazare elites tactics respectable nodding resemblance fax unsurprisingly commonalities normative victor disrupting networked specialization britannica skeptics denser chaplain misunderstand proceeds earrings panties extroverted introverted infusion ecstatic agony crucified clinging tomb resurrected truer fur embarrassed intricacies rejoice tethered snapshots kilogram leash naghma jirga grossly underused foreigner bono gill exiled acknowledgment unicef 280 prolong sahar rods unanimously fucking contributors 1965 rotated headaches pricked intolerable ig nominate gills laureates 230 colonoscopies colonoscopy emmanuel chernobyl blackboard dyslexic rovs offshore leviathan oceanic megafauna resides northeastern pollutants redwoods caliber grains wifi lankan maslow android coup mugabe stimulus mobutu zaire rearing delicacy educates erick poo ransom groomed blossom orwell interpreting adams spelled typed assessments resourcefulness blamed susan businesspeople confirmation romans hoc ergo demographics methodologies totalitarian superhero deathly paralysis reciting nurturing walled inwards divine mouthpiece synagogue spasm hallucination twitch celebratory chagall twirl triumphs peg coping revealing hany slit menacing grueling muddy insecurity dusty schooling misunderstanding wished jacob proudly tents tendons micrornas stimuli cancers microrna pancreatic contextual bravely handwashing trachoma cholera 111 victorian usaid myanmar equip galen restorative lymphatic collects disposed csf wastes organizes enclosed amyloid entails engages crux singularly indiscriminate criminality uninteresting schmidt invasions passwords infamous troll instinctively obedience michel overt dissidents abrahamic tyrant crippled bargain adversarial suppresses miranda principled unravel whistleblowers personalize examination endgame remittances exports afflicted suitcases remittance impediment"
          ],
          "name": "stdout"
        },
        {
          "output_type": "stream",
          "text": [
            " humid diaspora apathetic ballot taxation facto mcluhan stacking persuading disagreement affords commenting manipulated playboy finland partake unlocking judging airtime nagging thighs converge reversal managerial illustrating diffuse prestige equilibrium steeply fifths bankruptcy unusually postwar deregulation endowments rankings registry redistribute concerts fluke stimulated invisibly layout arithmetic turquoise ghettos backpacks navigating riddled elam hurricanes georges mitch cuban bolted enrollment chan gar funa med grads rotations midwives haitian strengthening accredited percentages manifests rated acumen communicators emphasizing assertive unexamined succession reactors washer rags latrines emptied flush reused squatter pleasurable drum professionalized prefabricated proliferate shenzhen colombo grasping rider assessed defibrillator remembrance perished photojournalist jeep mohammed pigeons bathtub tel aviv pies inscriptions password dashboard telltale stakeholder advisory emitter notwithstanding decisive smog hazardous reusing 1967 famines appliances materialistic resurgence magma geysers elegance socket ranges circulating assured fractals raining fractal glands mighty biosphere ignorant improbability reverence inferno carpet deprive crystals janine inherit atrophied hull bionics amputees explorations edible flavors rudimentary mac barnett spies riley melon snacks coleridge suspension holmes 826 valencia mcsweeney zoned springtime pirates boulevard dickens pharmacy leeches viking seller champagne novelists twitters premium eliot randolph nico crossword merry herschel uranus unchanging popcorn lsst volkswagen debris scattering forensics asteroid siberian stellar equates veronica 17th persists salute migraine fixes drown straits clinician upstreamists administered landmark exposures linking tripling listens allocation nationalities brotherhood gifted petersburg hulk ironing eruption gapminder halved ola rosling humps exaggerated contacting knowledgeable misconception unsure compares pasta slowness wholeheartedly archaeological collectors redevelopment peel rediscovering reimagining 5th assassinated presidential prep performers plotted bageye poison luton knob exhibited baggy tidy marcus bowls veneer respectability dodgy illicit aspired inspector exhibiting lent wallpaper rift memoirs devotion stung bubbling corporates installing sophia owes orphanages nutritional dependency vanity sins ommm antonio presume ludwig wittgenstein wheeler einsteins leibniz metaphysical mime atheist conceivable enslaved nirvana fluctuation militant pseudo lux clout plato fullest pious coupling constants elementary crummy deity pointless inflationary rhymes 000th mediocrity sidney dined webster admiration majestic blowout pharaoh erect whipped kitty 240 conveyor puppies receivers starters pours circulated chilling 29th repressed insensitive bangalore admission mediums goro insure 185 acre cascade hazards crashes carcinogens freeman dyson foresaw fringe gaia nightmares rogue accelerator reassurance precautionary aversion wipes flares clocks orphans familiarity paralyzing hallucinations canine compulsive prozac paws ting parrots phobia microwave boonlua keepers dressing antianxiety antipsychotics owe gorillas bonobo bonobos orphaned sentimental informing empathizing comics cyborg mutant cafeterias heroism nuggets retrofitted hamburger carton starring medina fountains voids crafts divert plaza leather cleans authorship bathed fragmented crowdsource internalized silences indulge fries conscience endorse residue retreating thoreau signifies gatherings sr mythology virally imbalance cynical outreach amateurs waterfront neutralize tuscaloosa elemental radiating porto wards graft bypassing frameworks catalog 1850 corrections volatile cuff shields bangs sociologist commented experimented rapport superintendent ecologist catchment 01 plutocrats pitchforks neo defeating outsource automate booming oppose righteous transparently statistician miscarriage advocating cervical gestation thyroid erratic stuffy avail ekg bikes nasal sexier confer inducted stutter hamburg kryptonite vibe synaptic halo clathrin animations unparalleled animators toolkit stasi 1917 communists combating sabotage felix emblem 1946 communism 1953 interrogate shadowed finely logos gradients drunken requesting bonkers rigorously thrill wael placement expenses pedagogical thigh misplaced molds amoeba joins foraging damp oats seeming intervals microscopy paints metaphorically rotterdam watermelon tubing daytime helmets symbolically tupperware containers wondrous beads madonna laparoscopic incisions abdomen punctures minimally drilling marrow unlocks applicable centerpiece bead materialist banged dennett postulate fundamentals electromagnetism govern psych knight angst phi panpsychist flux dangle considerations magician hobbies scrabble newborns quixote gwen owl donkey rooster markers algerian fundamentalists targeting grievances staunch theology diversities governmental justification theatre heed lahore sponsors malala wal buffalo bombers maria urges denounce somali bihi tournament infidels amel manya psychoanalyst idealized danish rationally thatcher guesses equivalents 11th chronologically castro characterize quoted liabilities cello fellows discreet marvin minsky muriel ricky wurman seymour oven negroponte periodically teds multimedia cambodia nominated bloodstream fallout loosely geiger counters newtonian cherished perish kindle fiddling limor dupont mainframe radios pentium beforehand grandson suspicion barbed arkansas wyoming latrine skid imprisonment battlefields gothic hillside 442nd greeted quirk swayed jew klee karen puppets puppet blair teresa harriet apocryphal lincoln obligations chopped multitude impartiality casablanca taboos deliberation lender competitiveness psychopaths psychopath adviser advising fuss advise reputations childish conjure seduction smoky eerie glows luminous improvisation firefly tufts antennae lantern proto originated juveniles conspicuous surveying bling sweetness lloyd eavesdropping cleverly vampire culprit meadows sprawl conquered cybersecurity myspace airbags hail overload kitten abstractions crumbs darn gossiping toolbox prosody arousal startled vocal ba siren acoustics sine generator ge successive canonical artifact ikea metallic ocarina flute vibrato accelerometer iphones rendition pascal wager specialties geologist deductive deduce fallacy affirming logically copernican parallax factual eruptions inhibit quotation distrust socrates ignition reliability mellon lowercase digit entropy administrators attackers cracking scrambled attacker bunny dances cartoonist syllables affiliated temper hugged autobiography blackberry fu enrolled guesswork biting snap resented napkin excite disliked tags prose baffled tainted urbanized dis wit mommy suburbia linguistic diversify betty lolita momentous agonizing pork rests quantified curse authored banished rogers contemplate quaint skim pore contested impactful worrisome subtitle judaism hinduism buddhism religiosity contentious proceeding rattray ceremonial tombs chaplin 12th bacon squared mitochondrial kinder elitist scots caretakers oz mist miserably dissonance yanked meditating narrows obscene ron milo motifs narrowed evelyn publishes scooped wisps ag bulldozer pasted sesame router bounty arrangements subculture dwellers redistribution hosni dow jeans untapped hm slayer melbourne prosthetic ramp defeats montgomery greenwich rioting sprang strategists 1979 deceased inauguration disobedience respects maneuverability alternating dissection inversion devoured arnold yeats medial housman exaggerating smack guise armantrout deceive poisonous alienated gloomy dew saves refrain sonically keats haunt thine eh mis postage axon sloppy perfume frontal qualitative aye noon tempest battered grammy platinum muse foreman woe sapling spoiled bows edinburgh anne cloak stately symbiotic intrinsic welder baggage rear pardon newcastle palace bugger mend oncology intervening feasible sinai 23andme berries fiercely creatively moms huddled materialism prism wasteful idyllic citations theodore cornered reassure coyotes conflicted sympathize urbanizing romanticize underdog devour lords flipped postscript taft possum opossum potatoes noodle eyed unsettling perch pygmy ridge muttering neurologically firefight byrne lust brat brochures punchline paperwork naively dodged adjusting maneuvering sprinting ugh oculus adrian shedding displayed leagues fudge percy demeanor chant substituting glamour torment endure awakened lemonade narcissistic loathing neutrality bliss joys nationally herring graze gears snapper chefs anthony bonuses instruct paleolithic saber offended barry alfred wislawa szymborska trilogy mildly allende dietrich greeting tedster earthlings occurrences grilled crochet playlist tolstoy huckleberry finn ralph gatsby peanuts dearest bart simpson dolls tango knockout bollywood cassette saddle vintage pg pheromone pheromones moth goldfish smelly odor receptor combinatorial secreted odorless mammary nipple secretion secreting patrol probable leapt hereditary sincerely additionally sterile arenas fats forager foragers deepening plugging argentine expandable metastatic recurrent frauds enron appraisers mortgage incidence regulator greenspan derivatives dogma designated reel crony tod julian decks dials synthesizers tm stirred pun nash banging masterpieces doo beatles doug debut biggie hypnotize flips hijack nostalgia salaam remi bland cyrus playfulness devalue derek calculations pitcher mound batter engulf disintegrate shredding cam impractical pentagon bled deputy edi coined playwright warranty indistinguishable proximity victorians deception marco inaction entertain ariel stumped evicted pragmatism stereos levine whatnot piracy holler fisher baldness orderly lakota wrongs chop chunk soils skillful orbital intersect variability depletion harnessing depicts progressing owens championships sprinter usain coil humanly 1954 freestyle downward punctuated cliffs turbulence eddy merckx aerodynamic jumper dispersal grouped leonardo vinci weirder polo advantageous extremity coils glut absorption arch primate sweatshirt stitches gabriel shuts labeling fraternal ami biomarkers jfk adored gin blinding subconscious swiftly disoriented harp onscreen tabletop folding anecdote adaptations culminating translator bumblebee banding walter starck neurology nathan anatomically surfer backlit silhouette ethically humanoid stereo sams reluctance biotechnology cent kilowatt repulsion mistress superconducting zap megawatts 650 neutrons pistons exchanger piston neutron doable nut retrospective varsity archer exited cone turf confers kafka onward crafting repertoire kruger ceramics drills attain completion typeface interpretations serif boxed eames compromises newsprint chewed outline vector elegantly curved brackets economical 151 apropos coarse bitmap cartesian sagan coolest eclipse jpl ultrasound anatomic gonads stunted biologic 1957 improvising improv ruthless analytical presumption breadwinners tasking mono depressive haze awfully eulogy slips wrestle standpoint foe constituents gabby giffords pm treadmill scooter tame bmw whirlwind thrived supporter freaks dessert 747 amputation prostheses sockets amputee molding blisters cheaply pillows portals imax aurora dragonfly flier hover dwelling eyelashes flea clogged jewels backyards awaits educator soak lively yorkers greenery stylish creations therein landfill redirect geeky cafes appointed hampshire aka 24th superman pac flyer coupons diapers handbag indicative trait enact savanna vacations diarrheal inequity contraceptives stocked spaced maasai rory showered diligent delegation yearly wiggles fades jill pageant registration spelling marsha realms regenerative foreseen bionic physicality implants unloaded floppy outputs calf augmentation torque medicaid adrianne ballroom prosthetics elliott calamities 999 notification vows brine tapeworm nicolas sociable worm attenborough subverted lexicon bursts wasp zombie solace oddities rooting gal yadda grained informs toxo infects sideways panda zeitgeist norden fabulously buckminster structurally quota summon arches interstate positioning modifications nurtured tvs submissive traced potentials emancipation narrate cr windmill sergey voodoo dismayed rupert murdoch arranging kernels committees balances adversaries bullrun alleged assurance gutenberg inserting telecom analyst fargo admiral sectarian qatari obtaining haystack proportionate badges cowboys predictably twenties investigators investigator busting iranian mafia faceless delaware haunts traders springboard 74 aldrin weightless spacewalk recluse webs spiderwebs attic gunk batting soyuz jettison meteorite simulator clockwork ch reprogram tribute patriot minimizing cooperating consulting assange overblown abide counterpart rationalize sec berners underly wormwood scrubs buzzer categorize almond hemispheres acquiring prerequisite endow reared ladders dissimilar stimulates creationism overrated hearted entail bribing potency reasoner strife gregarious endowed abraham unconnected calamity misfortune reflections sentiments tranquility widen erasing heretics sebastian punishments derives bestseller locke mischief infiltrate contraception penile squid octopus mm vaginas fertilization pleasing appendages favorable outgrowth mustaches hyenas hyena rhetorical robben bribe superb enabler expired subsistence righting borne caregiving breadwinning barter schedules juggling scrambling unsafe infrastructures paternity defect vases crescent etic whoo triplet avaz freespeech retrieval swahili cerebral palsy possessions 1800 malarial stains folder dryer vending caviar vials extraction numbered vial screenshot atrocious stealth spokesperson contractors henderson porter predicated encompassing premises needn salesmen thousandfold proprietary neurosurgery neurotransmitters mixtures dosages descartes bottleneck fmri subtracting cal brainwaves dropper interference unfiltered euro countrymen overhaul incra cultivating probing subtract cosmologists cheated thirteen hurdle pia scribbling donation grander shady prolific honolulu protesting brigades ringed insulating myelin learnt endogenous bottlenecks pluripotent recurring reprogramming counterparts unaffected shaw diseased assay throughput dividend miller conceptually closets monologues ponytail tosses duties hoops chimp jared orangutans oppositional gatherer gatherers promiscuous dietary menopausal orangutan testicles semen instinctive prehistory superstar positives evidenced ol stamina predictability mayans tooth jawbone cataracts prometheus iliac crest vascularized bioreactor inorganic unnatural bearings ensured seduce consumerism fascist reassured mockery computerized utterance customized reconstructing tempo surrogate talker utterances parse infuse esg vanguard tradeoffs 78 overstated biodegradable folklore interlocking cellulose lettuces refrigerators crisper kettles brits ore ramifications externalities kilo paisley 26th 1928 glasgow ginger stevenson floated foresee injure audit tabloid principally renamed undermined workable reconciling conflicting precondition manipulative imperial lax evoke frantically cleaners inhabited puppeteer skipping bobbing detonate demolish garry kasparov tau cosmological entropica cart repel tijuana layering retaining retrofitting quot mutates anecdotes inscribed districts leftover skaters supercomputers hitchhiking lockheed watt noisier recombine capitol congressman polling desserts crayon malicious html javascript accessories steward dyes pinwheel merging cohesive meerkats babysitters pups tactic parallels hasbro willy displaying haters stacks camden moneyball leslie moocs blended herding mongolia indicated fright 30th digestion conducive octave patronizing cords enigmas disengaged kpis repairability discretionary reciprocity rubbish institutes plaque evenly wei faiza certificates knot virginity wishful virgins kinsey pleasures grandfathers occupational cozy improvise taker xylophone fledged dock throes campbell vase aristocracy kiln operas extraneous sequestration tedwomen backstage resonating cisco ss census birthplace syringe nanopatch etching residing sleeves refrigerated refrigeration chilled footnote amplifier detergents frederick geo unfolding mp3 whistles digitization extrapolate digitized transcribe palazzo maritime qualifying diets politely conserving overeating burgers indulgence regained bets 529 pronunciation writings terminology pickle noor cp handicapped weep stunts bodied wacky glorified goldberg conquering prom oklahoma bailout attainment enterprising 620 walkability twentysomethings 22nd bonnie summons hemingway wooo rehearsed saltwater rigged pretzels prius tendencies bribes strata nudges jaipur microprocessor titanium affordability bandages sari plank specter manic lithium maggie schizophrenics communion drumming electroshock rack indigent tylenol rung artifice continuity disappointments relapse locomotives delays luke searchable mechanization foregone citywide unresolved bernstein detroiters vacancy mics depicted buyers stewardship farmland agrarian willie seafarers maersk kendal sailors strait bunker greenest soot retold babylon reinventing omnipotent unreliable troy fashions internalize bounded encompass snows brent dragon gando classmate photoshopped safari slippers solly leopards coincided wham spits elvis pelvis migratory inverted shovel rugby guangzhou 1920 correctness knuckle disagreements vile capillary invaders cilia mucus intestine irritable inhaler cosmetics fifteen essex gratefulness radiate knocks sprint drinkable faucet detergent rodents liability constitute usefulness spells confucius protestant haired scatter incompetent knobs wretched materially mixes pea congested quads trespass altos notre dame cursor willow hoop acuity presently cao basin watery reds tactical himalayan poachers sumatra nests planks fooling multiplayer sunni gamer basking awhile grandmaster coronary hippocrates waithood motorbike motorbikes florist floral weddings brushed retriever juxtaposition humorous propensity walkable industrialization meaningfully surpass headwinds antithesis zambian fibonacci pisa sunflower nixon fruition doctoral muster locomotor leveraged pharmacology refined initiated remodeling maestro sparkling bluff configure respiration michoac incessant ostensibly federation treason supervise royalties petty professionalism margin heroine blissful dynasty expressway trim consolation berserk rusted defied ukrainian chimney nazis boar defiance greenpeace soviets revert maui benches pastry chapters bud warps shatter terrace paradoxical mycorrhiza carrot sorghum commercialized commercialization ian strategically nokia 05 addis ababa photovoltaics tunis accompanying verdict frenzy corrected grim odyssey teller swann boyfriends concede freud ripley nemesis moriarty lestrade barge lend barrels telecoms reinforcing forecasting negatives forestry bulbs incandescent imports cfo patagonia masking robes kung teapot imitated tonal imitation supercomputer marketers composites misdirection imply corbusier expansive zabbaleen props faux subtraction fulbright soybeans terence bryan swine noir coached dartmouth eluded farewell undifferentiated instituted bookstores inactivity emitted gadgets decompose marketplaces egan reviewer foul commentary crimer exceptionally sunglasses cole clustering preceding funders uptake rico interruptions tehran shah rabin ahmadinejad persia babylonian persian tarmac violate islamist prevailed truce inexpensively studs epoxy emulation citi 330 riders kiosk ritz carlton queues lobbyists affluence essentials inert corrosive jain lunar transcendent fiery diverted admits petroleum 1961 liquids lg ferrofluid syringes hydrophobic magnetism serendipity avid golfer quizzes scotch petra highlighting focal commemorating grandiose torajans salient shephelah bethlehem philistines confronts israelites bloodshed shepherd sling cavalry swords slingers pouch ballistics acromegaly seriousness ledge luria crows tenor bribed faculties universals inferior dumbest augustine correction kipling colonel overview midway differentiated madoff trustworthiness dishonest converse distracting apt notebooks connotations stupidity kant propagation pear evaluating weeding titus eyewitness witnesses suggestive psychotherapy ritualistic expos pickles outcry transnational bordered rabbis democrat follower permitted permit bogota rediscover biofabrication daisy connective alligator durability accents ome reminiscent alfalfa pollinating carbohydrates paintbrush growers bumblebees resins masse herbicides monocultures trucked bloom formulation cybercriminals cybercriminal usb www outing inhibited feeder cybercrime evade footprints malarious precautions introduces ddt inconveniences philips keynote synthesizer typewriter 1978 joyce subversive excerpts ascending db artworks firefighters les giuliani dishwasher ecologically aurochs rewilding cascades grazed gorges aspen beavers eagles krill zooplankton sequestering heath kelp retreated leafy acrylic photoshop materiality grease sheila reich plutocracy reformers dazzling von meritocratic decreases meritocracy geniuses increments primes sporting diagonal asthmatic euclid suffice chalk hammers seti rubik umbrella standstill negotiated cheerleaders themes lofty xl straws crystallization nah fry channelrhodopsin sox ahhh unwanted slumber caesar strengthened lag challenger stimulants predisposition dummies mutated expo hutu tutsi kobe crate sichuan g8 gymnasium christchurch libby gayla waltz vermiculite insulate bumper duplicated ghraib cynthia refusal hungary stirring bashed eureka karate molly shoved beard philharmonic chap nervously chopsticks encore tatum rag deceptive emptiness seminar persisted mirrored delusions overtake wreckage comrades metaphorical deconstruct escher typography cote ivoire ituri bracelets cameroon sh mesopotamia 1600 bc dwarf sunflowers noodles proofs juries abject objected articulated arguer reiterate chassis telemetry thresholds glint propane prospera shalt rake banal choreographer erupting sulfur shale cpr falafel hatzalah ambulances tedmed airbus nanotubes outhouse lining millionaire flakes gallup gist wobble procter 1860 shillings nanometers sentience objections irreducible touchy consisting jeanny gyre jy drafted fraser phthalates pollutant bleach amplification toxin contaminants dialects upgrades midair blindfold patron shrinks rarer ufo saucer thunder soundscapes magnificence calibrated spectrogram contention critter favored altitudes beaver dynamite enveloping corresponds intercourse mitt overlay antibodies clown antibody reticent hewlett packard koko rumbaugh panbanisha parrot grooming groom discovers triplets gershenfeld vint conferencing chesapeake vc oops jc fingerprints redwood plated malibu yves nineteen bluegrass banjo fiddle spherical canceling levitation choreography downloads palmpilot palmpilots hotmail flickr herds confucian deng xiaoping mao priori 1949 dory plurality clarke hepburn baxter compensated mildred thylacine gastric tadpoles tummy transplantation tadpole marsupial kangaroo eater thylacines tasmania pup pickled tasmanian distantly frankenstein 1926 contagion cartoonists 1977 mash bm mustard dummy aroused obituary narcissism observational ulcer unlucky insulin partition alluded bruises starches hypothesize biography defies elation possessed theologians ironies condemning theist interconnection tornadoes lester remnant trades koreans transcending ushahidi blackout modem 06 underpinning swan unknowable epileptic derivative ante observable est enshrined oppressor inferiority sci gunpowder piloted geolocation marketer autocratic globalizing dogmas protagonists brussels skyrocketing g20 accuse revival athleticism quad versatile negligible redundancy pluto gratuitous yogi aisles drudgery enlighten hyperbole reuther stifle et theatrical cosmologist booked valve cirque soleil transformers spielberg dorsal acousticians echolocation ultrasonic phonemes sargassum flipper mimicked thief activates concoction phoned tanzanian cocoa anas remedies hazard inconvenient hangers terawatt perceives dwarfism tutors sinclair splendor enslaving jurassic woolly grassland climatic pleistocene strewn discriminate jig hominid arduous penelope interrupts maeda harris quadrant tetris gogh acquisition atm playstation martial serenity fide butts centrality restored tedsters advisers booms blueprints cnc linus torvalds shirley ranch streamlined dipping pencils altruist toby holly wan recommending sisyphus conducts freaky natives trampoline vermont brushes theremin piercing ideo doh sponsoring crumbling utopian euphemism lb strangeness intermediary recommendation flats terry mop untouched rookie gritty janitors hugs capitalize ing stabbed principals maddie allocated revision taping fractions suppliers remedial schoolhouse smiley recess actresses borges antique molten plutonium securing thermodynamics ceramic refueling stainless isotopes puff punctuation dialed packets igniting intuit averages 1879 techno optimists dotcom persians fingered theoretically amused sally jake constructions schoolteacher freshmen pacemaker dystonia lobes impairment parietal temporal abed eardrum brace chopin robe striped slack herman fatalities connectome gyrus overshoot communicable bowels karma inexhaustible brides loo whewell 1812 babbage captains longitude batiuk samaritan customization sicker relic randomized merger cyclical shredder shred overdo uncanny romo semantic assessing majoring goosebumps sailed pumpkin hah bulls bellies obeying gigabytes mater dakota memorizing valves autodesk olson unveiling strand lesterland lesters bipartisan bureaucrats cynicism maneuverable necrophilia marc priced reviewing bargaining recursive anterior junction eeg zebras mismatcher cowshed scaring trenches superhydrophobic coating nanoparticles facet vents laps hush octavio cloudburst beth progeria lumps antiretroviral laos symbolized hydrocarbons hydrocarbon modes 420 cadence precipitation faring propellant grasshopper thrusters directory centrifuges boyle semiconductors formulate nile ness pigeon cincinnati flocks aldo leopold arias iucn condor 226 cruz interfering allan mutants ritalin abnormalities needy netted rhyme beware stalled womanhood angeline liquor beverly impregnated lopez gangsta submersible tiburon monty desertification grasses mulch couchsurfing reuters napster palmer greenville electrolux juarez rounding empires tamil topical distinguishes trench northwestern soles sutherland bloated canon manuals gurus overreaction allowance looming orville wilbur flap contraction corrective multiplexing crab neuromodulators stripe spiking luxembourg dismantle tobago treasury perverted cl bailouts expenditure futureless linguistics takers igbo associating basel lame negatively praised devils lear radiant bifurcation nested foreplay inc termite tncs binder bitumen induction ahmed somber censors anarchy businessmen albania kiosks modernization sarkozy compiling narrowing crafty spilling nucleic lolcats tunisian zipper implements doha qatar dhabi skyline socio disclaimer zigzag scraped scoreboard increment taskrabbit craigslist lotteries specifies outlined conor romeo juliet nightgown gallbladder captioning drilled prenatal aida wizard obi kenobi quests nitric oxide uv clamp warms supplied naomi saliva yeast jasmine cams incense vegetarians preventative achievable relaxation storyline celine worcester alisch tempt flourished casey headmaster spiderman rhode risd transcends levin binds kaaba distortion electromagnet rearrange cranked retiring drifts flatter della trickery dizzy nominee cg chandelier nathaniel cannibals sufferings temperaments mustn noes 1913 lemon flavored promotes backing bollocks insula spect saints zipcar chunky harnesses presenter quickest climbs genus convoluted cunning tilted wolfram hama truthful obliged packing coughing spilled thirst chekhov embryonic grouping territorial hustles scraps limpopo drybath skipped cleanliness lifesaver hindus mujahideen psychopathic endorsing fridays fanatics yemeni ladenism lunatic restoring vultures mps cobra tibetan carcass turkana fused looped chords italians drucker contemplation lfc articulating rested daphne minto autobiographical exuberant laurie mahabharata sultan mailing sanitary napkins multinationals pottery glaze paragraphs sculptor serra joel meyerowitz realist winnipeg liars sincerity walt tenths reviewers cleverness institutionalization cots moldova bulgaria fragrance geological urchin gee micrometeorites au antiquated reintegration burma joplin ticker bypassed movember everlasting teeny advancements tedtalk bihar sweets enriching channeled mashup repairs sheikh omniscient pogo conditioner irreversible rut thermo bimetal ventilate calibrate cusp biscuits turret murdering squeamish dawkins filthy hypnotic rightness enjoys mentions dearth uncontroversial cabinets receipts eminent bribery hassle zooms icelandic wikileaks corrupts blackawton beau natalie definitively dominion computable captcha eddie unicorn reboxetine sausages township horsepower tofu magicians subdivisions weavers silks rollers lavish curated mcqueen salman tenacious noam nand compiler compiled fantastically specifications kerala unfolds tile decomposing authoring modernist asymmetrical pepsi scarred imperialism mavericks provisional schlaug homologous modality juilliard gupta gustavo conduit wagner brahms instill nonverbals chin attributable evaluative marianne impostor deviations darfur evacuation oxfam wormhole beck simplification straightened labyrinth leahy dart 28th maiden misled withheld tamiflu cochrane preamble payne hegemony git workflow interconnections neurotransmitter probes facilitated sellers 192 leah trails extensions laces sunk anesthesiologist staples jumble squirrel warner tata lisbon nylon reverberation acoustician introverts decibels prune limbic bakers bins depositing ecuador frowning domesticated cambrian perennial api rajasthan finalists wikis arduino premiere flatten louise ips incurable interchangeable insatiable ipods dongguan earns min secondhand buick 7th carrillo alibi inference fallibility shocker infill fab moss monterey oysters 325 sculptors propositions neutrinos catalyze undefined hal licklider foldit deciphering mason repeatable originals paddles sausage yankees subs baron buster kathmandu vcs jaundice phototherapy vent crazier broadmoor yawn bundy hare carnage piling chimneys brainer fema theorist fourths weirdos warheads disposable petrified dyed volta winding panning burton jay rebels han shameless veg herbs sprouting prickly relegate virtuosos virtuoso foxp2 catastrophes budapest aung suu kyi dictatorships synchronized instrumentation flutes conductors concerto conventionally warped stinking sirens retouched cindy hyperbolic sigma forks hamptons destitute shelving interiors nbc richards greening cranking styrofoam kermit netizens weibo clone microbloggers microblogging birthright factions sopa pipa meats squash specifying cylinders femto synchronization visualizations earring johannes vermeer blush doublet protested interagency nicaragua salvaged cottage asha affinity lovelace byron tamara ab teas baba immediacy hasten upbeat oncogene miniaturization readout spoofer counterfeit skate rails tedtalks blackberries h5n1 workload transplants crohn deathbed farmville concussion reed bp spills tacked protei inflatable ballast mae netra nehru frighten levitating superconductor straps restraints defective kaplan wiki starlings joey pebble chimborazo bulges lagging gagarin billiard scout quarries accountants amp subsidiary caveat pbs stadia bayes synesthesia subclinical acne medicalized menopause vivor gnarly eisenhower seduced godfather skateboarding ferris bueller remark parades itjtawy seashells robbers bmi ajax mister sleek chariot diverge daycare divergence collector precipitating transmits hydrostatic spongy helices vascular fuses neanderthal mutate inconceivable synesthetic forger chatroom guitars oyster saucers homeopathy pc revolted tectonic mahmoud parchment quark scribe demosthenes oratory louvre tele logarithmic ferrari des superstition retroviral retool arcane jugglers juggler juggle beijerinck refining tooling pods monica firemen explanatory bandura doings linearly strolling 404 foyer britney savant competes cicero brit cubs calcutta cultivation distill sensuality 1880 alienating antisocial irritation tolls subsidize stinks leaky collusion liter undoing primeval autos opec productively acupuncture electrified quadruple integrative lovins chiefly hydro transitional distinctions urbanism hirshhorn maimed airbag lounge ft wii proclamation mexicans towels zodiac hateful 00 cigar unification concluding yielding churn archeologists reshaped savor uttar pradesh bloodline virulence serbian milosevic scorpion rembrandt archetypal aol cellphones craftsman checklists complication grove wong aortic rebirth populous rupees rupee propels sacredness capuchin cucumber grape artful postsecret frailty matty voicemails dominating aral cadaver moron littlebits leymah 1903 mach hypersonic glider gecko adhesive trusses worthiness katie celebrations oed electrolyte dissolved dimitri aggregating megawatt amenable euthanasia slippage flare oars boone hypothesized lumpy cedars mammograms fracking psychedelic durkheim duplex profane superorganism ingrid auditioned snowed trashcan sulfuric summoned coffin rebellious slinky dialogues distorting wrongly extrovert introversion extroverts jung emphatically charisma rotors rotor recovers nuance kamen innovator fishes trawling fishers oceanographic barcode distributions techie remixes fm gasping hunches thaler indra crystalline fey palin bastards herald belshazzar ezra marduk isaiah caribou ontario athabasca canadians tailings impoundments exxon kibera peat sunfish achill lance manila kerry isle archival detach aed numbing berry atrazine aromatase chemically bpa onus placenta utero pcbs stupidest lollipop ontogeny stygimoloch dracorex triceratops triangular torosaurus rockies tyrannosaurus christie marbles tribeca thyself indiscriminately homer towed zoology chk clams microprocessors concentrator bellows bobo novocure gbm recurrence noninvasive lydia transducer concludes legitimized consultancy sewing immunize stethoscope factly sore barbs convulsions lbs slicing sandstone bladders horoscope profiling messiah carpenters greenlab racetrack salicornia offerings retailer outlaw dmca thieves diginotar trojan atheism didactic calendars ridiculed canary scripps scaffolding isaf landmines ammonia decreasing messes ducts lauren bibles myhrvold lad nielsen canning counterbalance wholeness najmuddin prosthesis newcomers assisting khmer torturing drc corrugated odysseus untie villa macular encoder abstracted retinas controversies perpendicular carmen br spices nachos shredded deposition nurseries topsoil burqa bandstand metastases relieving buttock symptomatic abdominal copious dragline radii spigot adhere scytodes kevlar regrow captchas recaptcha duolingo beginner depp heals outpatient ooze swell humbly buds anise idiosyncratic mon snowboard lothar meggendorfer rezero yucatan antelope apophis excavate astrology archie daf igf foxo fuselage rossy km parachutes chute divinity escalators modalities buddhas stirling mitchell lifelike childlike protocell micrograph protocells squirt corrupting bayesian discrepancy hanger centrifuge hasan safeway barrage papercutting freudian hells acorn brd4 bombsight nordic reinnervation capsules lightest gigatons condenses nanotube bleached sq dazzled compost decompiculture timothy flared whomever electroencephalogram vannevar engelbart macintosh hypertext hypercard ritchie extrinsic plumber initiating petrochemicals viability replicator otherness dealings impotent gillian chanting heresy fildes doodle averse venereal christine aspirational oriental princes mercedes riches irreverence bellwether deletion dopa newsroom singh vis accumulates patriotic evolvable bleaching tamper randall psycho asanga maitreya maggots budrus livers denisovans ceasefire 174 oiled sanccob stockpiles hawken recklessness interactively slugs conceit emanating progresses arrowheads petrochemical rf discount sen goering meegeren forgery capgras 1931 clooney itunes kurt sigmoidal kosovo overconfidence insurgent climbers transatlantic accenture oneness basit amjad stuxnet jagger cesar nozzle taniyama allegiances capitalizing islamism civilizational mena marshmallow tilting migraines volumetric mann orchid orchids starch wok acidic cookbook gelatin kilimanjaro hippies indus indo dravidian merchants pakistanis cassini jansky wagon springing snowflake restrictive biennial mimicry radiologists caloric pathologies aimee lumber quake proteomics intersex androgen individualism refinement uninhabited noaa maltese archaeopteryx dum norse paula dune umar buckle info juxtaposed thom bioluminescence luminescence starfish chandler ibuprofen glial anesthetics capitalized stimulators baloney partons wayne ekman reforestation optically landfills inuit aah blubber copepods goran boltzmann radiates fermentation indigo sculpted aicha icosahedron platonic solids boon pulley windmills abalone diatoms biomaterial mangoes rot rhino hominids interruption enticing neutrino submersibles mcmurdo coyote roadrunner generously gen transplanting chaz wmap folly seventeenth boardwalk asses perpetuity freshness matthieu habitual bragg sherman dough soprano stilts twigs natanz warhead bess ode vie refuses indignant uniformity merchandise bezos schwarzschild humanism brooks ied landmine douglas brewers guga zoomed montage humanize estimating lindbergh baking fucked forbidding mendel polynesian navigators gourmet latte pol mathare jacqueline connotes vanier remen diminish whistled roundabout namibian antoine kismet stan derartu tulu canyons tarahumara savannah sashimi gowanus marshes hotdog sloan broker psalm intra enliven cartooning psa pluralistic autopsies motts throwaway clam dispersants precaution geoengineering sulfates warcraft leveling rumi sludge kew holiness leans grier roast rollercoaster mammography mammogram hummer mbi carrie understatement braun magnetically metronome styling bedouin forer dewey characterizes unnamed muffin rodeo tutored legadema swaptree twittering rufus embarrass chasm trekking cushions yugoslavia budweiser formalized neurotic gs seamounts sargasso skylights pvc whiteboard goddamn peacock gorge heparin sioux laramie 1890 bertie raleigh zullinger galvani susana negotiates virtuality aphid replenish sweats sputnik ratan ts masonry cites leatherbacks leatherback oceanography sal ecosia feedstock mycelium husks connectomes synapse insignificance lids headphone unaids pmtct avelile coffeehouse malthus bleep hurdy gurdy barking fowler quasi rube ninos nino christina kosovars mysore lichens clonal nuisance tariffs credentials quadrillion gobble saturation seth jabbar tidying manju beatrice cargill greats cody anagrams ligament evan crossover fuckin declassified cs cala boca galvao lhasa conceivably hemispheric monet mcnuggets roughness brownian mandelbrot carolyn scum vibrio retrofits phony okolloh weblogs sao sistema intermission seeding vivian joie vivre bhutanese simulcast durga animates clark fusiform esther aristotelian helios 4chan outlawed capricious farce tacks lambs linearity kipp watermarks mycoplasma genitalium rhinovirus punta tombo angiogenesis antiangiogenic groupers trickster paddy climber monaco pierpont langley tivo benoit mathematica croatia microfluidic injectors browne randi godless lucifer auschwitz haphazard whining quack cassava milly strider bipedal frankie parikrma ahmedabad dodgers landers olympus ares shekhar mythic dwarfed icefall rebreather juniper crinkle herodotus catherine sulfide agribusiness preity zinta kolkata prakash mantis hillis electro decrepit outs levitated unexplained humberto rehydration namaste sunitha dee proscenium balconies fiberglass chitra karnataka frigoris fluctus andromeda dodecahedron gharial cobras chambal atkins musica moai ikigai adventists magritte unquote tritium kiki mal timer 4shbab aravind abbott clare heh nintendo gypsum donna brahmin vishnu 1858 tse tung guizhou astrolabe rete astrolabes gymnosophist krishna completes benki ashaninka sanghamitra pranav im galois alhambra symmetries creationists muti karajan kleiber lenny molars hens kogi zappos neocortical shreddies carroll mosses nollywood sitopia grandchild casa extrasolar brunel kurdistan azerbaijan amitabha edits bonnet yum tms deflation cymatics upwake receptacle motivators soros orkut guild snobbery darkly pigmentation squatters livermore healer centerline memetics ensuing lynn geckos appliance ehrlich deconstructive goldie benevolent fingertip palate headrest euclidean allosphere ayn fischeri airstream wingsuit hooves madly snares wah verizon sculpey hammett supernormal http husky alessi scrotum anagnorisis epiphytes zander rockett jeweled quincy siftables siftable piero quartile parabola parabolas donnell breton fiddler parainfluenza rhinoviruses antiviral skied iridium permian megabyte terroir worldchanging lionel leaven dialog bateson opposable volantor skycar herbie tso suey tinier foie gras pei cheval blanc bernoulli granola journeyman hy jh hemlock gavage sousa kleiner siq tidied haring hexene vibrational coumarin mckim elmo blogosphere yochai sumness swami compassionately giacometti biafran gossamer carbs hedy rca gell e8 summarizes soho technorati mola furby rb pleo dub suki kiloton selam gombe astonishment winky dink ansari spaceshipone emeka zoe eighteenth genealogical sixteenth kareem technocratic seligman len meetup botany okapi faunal hyun sook gail keene natasha clonie seatbelt springy rhex liposuction orion barricelli neumann bigelow picchu synecdochically replicators temes teme wishbone landmass mildness amd kaluza hyperscore tewksbury tipper moog tendai oldenburg claes rads archaea bf sweeney yad vashem dirigible piazza toonchi napot hungarians wofford teszler bartok robicsek milliken heinz tembererana tembere midden patrollers mapendo seva 683 ack barbaria stomatopod bioenergy convulsion obsessional basingstoke ecx buba huygens cheetos taji lexicography lexicographical thula kigali idris hippo sys molas approtec mumble aveling kiteflyer mockingbirds mockingbird kludge otaku pauling wilkins nyota cavitation nematode huck myesha ethnosphere dharamsala huaorani cot briquettes electrogram nikolayevich chemokines gerontology rejuvenation fishbowl sudhir moskowitz prego poupon queerer connexions xml gphin kooks libra lamanites "
          ],
          "name": "stdout"
        }
      ]
    },
    {
      "metadata": {
        "id": "WOMFUdP1pgfh",
        "colab_type": "code",
        "colab": {
          "base_uri": "https://localhost:8080/",
          "height": 92
        },
        "outputId": "6a74f22c-37b0-4dea-c75e-ca21ca9214be"
      },
      "cell_type": "code",
      "source": [
        "type(model.wv.syn0)"
      ],
      "execution_count": 0,
      "outputs": [
        {
          "output_type": "stream",
          "text": [
            "/usr/local/lib/python3.6/dist-packages/ipykernel_launcher.py:1: DeprecationWarning: Call to deprecated `syn0` (Attribute will be removed in 4.0.0, use self.wv.vectors instead).\n",
            "  \"\"\"Entry point for launching an IPython kernel.\n"
          ],
          "name": "stderr"
        },
        {
          "output_type": "execute_result",
          "data": {
            "text/plain": [
              "numpy.ndarray"
            ]
          },
          "metadata": {
            "tags": []
          },
          "execution_count": 21
        }
      ]
    },
    {
      "metadata": {
        "id": "H8tp6atgpl5a",
        "colab_type": "code",
        "colab": {
          "base_uri": "https://localhost:8080/",
          "height": 92
        },
        "outputId": "5cf704cc-4667-4039-a68b-a950c2dd0b1b"
      },
      "cell_type": "code",
      "source": [
        "model.wv.syn0.shape"
      ],
      "execution_count": 0,
      "outputs": [
        {
          "output_type": "stream",
          "text": [
            "/usr/local/lib/python3.6/dist-packages/ipykernel_launcher.py:1: DeprecationWarning: Call to deprecated `syn0` (Attribute will be removed in 4.0.0, use self.wv.vectors instead).\n",
            "  \"\"\"Entry point for launching an IPython kernel.\n"
          ],
          "name": "stderr"
        },
        {
          "output_type": "execute_result",
          "data": {
            "text/plain": [
              "(21444, 100)"
            ]
          },
          "metadata": {
            "tags": []
          },
          "execution_count": 22
        }
      ]
    },
    {
      "metadata": {
        "id": "sC5dbR7Iri6G",
        "colab_type": "text"
      },
      "cell_type": "markdown",
      "source": [
        "### Operation with models"
      ]
    },
    {
      "metadata": {
        "id": "BesLxrw_rluJ",
        "colab_type": "code",
        "colab": {}
      },
      "cell_type": "code",
      "source": [
        "model2 = Word2Vec(sentences=sentences_ted, size=100, window=5, min_count=5, workers=4, sg=0)"
      ],
      "execution_count": 0,
      "outputs": []
    },
    {
      "metadata": {
        "id": "ivzof6wpsFAe",
        "colab_type": "code",
        "colab": {
          "base_uri": "https://localhost:8080/",
          "height": 455
        },
        "outputId": "01cc8adc-d0f6-492e-eba0-07a8ff6cefbf"
      },
      "cell_type": "code",
      "source": [
        "model.wv.syn0[model.wv.vocab['girl'].index]"
      ],
      "execution_count": 0,
      "outputs": [
        {
          "output_type": "stream",
          "text": [
            "/usr/local/lib/python3.6/dist-packages/ipykernel_launcher.py:1: DeprecationWarning: Call to deprecated `syn0` (Attribute will be removed in 4.0.0, use self.wv.vectors instead).\n",
            "  \"\"\"Entry point for launching an IPython kernel.\n"
          ],
          "name": "stderr"
        },
        {
          "output_type": "execute_result",
          "data": {
            "text/plain": [
              "array([ 0.68554425,  0.10157108, -0.7449454 , -0.24022916,  0.5441695 ,\n",
              "        0.610383  , -0.20478608, -0.28613013,  0.01091533,  1.9975687 ,\n",
              "        2.186959  ,  0.71507174, -1.3840693 , -0.5798922 , -0.73626065,\n",
              "        0.05398396, -0.6080174 , -0.89196277, -0.20498388, -0.08830798,\n",
              "        1.8380361 ,  0.7997554 ,  0.80265677,  1.2184932 ,  0.9914013 ,\n",
              "       -0.5328405 , -1.5946094 ,  0.70062786,  2.1661685 , -0.7763247 ,\n",
              "       -0.02111788,  1.2333499 , -0.04017907,  0.68666005, -0.8404691 ,\n",
              "        0.8378871 ,  1.3610681 ,  0.2582959 ,  1.7071942 ,  1.8665423 ,\n",
              "       -1.8624346 ,  0.2010817 ,  1.0139104 ,  0.06464671, -2.0761201 ,\n",
              "        0.61766857, -0.45810017,  0.6618068 ,  0.8667535 , -0.581396  ,\n",
              "       -2.5663757 , -0.17998584,  0.11594088,  1.0170196 ,  1.5246077 ,\n",
              "       -0.86083686, -0.6543994 ,  1.6371385 , -1.677256  , -2.0057821 ,\n",
              "        0.05091102,  0.02741045, -1.3440304 , -1.2876939 , -1.4983475 ,\n",
              "       -2.3604245 ,  0.581793  , -0.64178944, -2.0869982 ,  0.92542034,\n",
              "        0.60128814,  0.12574959, -0.38319817,  0.70620096,  1.0515244 ,\n",
              "       -1.3032202 ,  0.32821074,  0.6182204 , -0.5624883 ,  1.0149707 ,\n",
              "        0.662111  , -0.4745331 , -0.06041558, -1.3267665 , -0.6863159 ,\n",
              "        0.9171233 ,  0.76206124, -0.34708053, -0.6128969 , -0.02181281,\n",
              "       -0.15506175,  1.0172226 , -0.07973944,  0.8771033 ,  0.5480517 ,\n",
              "        0.05226738,  1.1165003 ,  0.26396093, -0.80977446,  0.00726331],\n",
              "      dtype=float32)"
            ]
          },
          "metadata": {
            "tags": []
          },
          "execution_count": 48
        }
      ]
    },
    {
      "metadata": {
        "id": "6yk4CS5rsF8I",
        "colab_type": "code",
        "colab": {
          "base_uri": "https://localhost:8080/",
          "height": 455
        },
        "outputId": "9c8f2c11-1faa-4a2d-baa0-5b48e93f5806"
      },
      "cell_type": "code",
      "source": [
        "model2.wv.syn0[model2.wv.vocab['girl'].index]"
      ],
      "execution_count": 0,
      "outputs": [
        {
          "output_type": "stream",
          "text": [
            "/usr/local/lib/python3.6/dist-packages/ipykernel_launcher.py:1: DeprecationWarning: Call to deprecated `syn0` (Attribute will be removed in 4.0.0, use self.wv.vectors instead).\n",
            "  \"\"\"Entry point for launching an IPython kernel.\n"
          ],
          "name": "stderr"
        },
        {
          "output_type": "execute_result",
          "data": {
            "text/plain": [
              "array([ 0.73765516,  0.14410049, -1.5159734 ,  0.11026169, -0.36297452,\n",
              "        0.8716696 , -0.5489038 , -0.6679041 , -1.0622243 ,  1.8582126 ,\n",
              "        1.6077975 ,  0.59419405, -1.4578733 , -0.33425564, -0.46074915,\n",
              "       -1.2662373 , -0.8607062 , -0.81939465, -0.3693235 , -0.68424463,\n",
              "        0.7406587 ,  1.0476669 ,  0.6308879 ,  1.5753742 ,  0.42115074,\n",
              "       -0.44284433, -0.98523235,  0.6673049 ,  2.430775  , -0.5298175 ,\n",
              "       -0.27842575,  0.82246333,  0.36350924,  0.7610863 , -0.22944477,\n",
              "        0.76905406,  1.8934758 ,  0.09810046,  2.3696966 ,  1.5012349 ,\n",
              "       -1.8743044 , -0.48837948,  1.3475703 ,  0.07082885, -1.3105445 ,\n",
              "        1.098289  , -0.39137998,  0.43321988,  0.78511906,  0.66490215,\n",
              "       -2.0185492 ,  0.9107035 ,  0.5364828 ,  0.20638907,  0.6617599 ,\n",
              "       -0.85498923, -0.7027098 ,  1.2930545 , -0.8082383 , -1.8763634 ,\n",
              "       -0.36142313,  0.23691738, -1.3211718 , -1.0809972 , -2.2425928 ,\n",
              "       -1.670221  ,  0.5504213 , -1.6773217 , -3.0626001 ,  0.69226664,\n",
              "        0.23552704,  0.8631843 ,  0.08809509,  1.0635922 ,  0.9673499 ,\n",
              "       -1.5502127 ,  1.2389534 ,  0.25027606,  0.08183488,  1.382329  ,\n",
              "        0.8911227 , -0.06525441,  0.41970393, -0.22676875, -0.26445156,\n",
              "        0.7211229 ,  0.6976515 ,  0.16018817, -0.04449509, -0.4987678 ,\n",
              "        0.11602283,  0.91142136,  0.9358844 ,  0.91714424,  0.54990536,\n",
              "        0.19369946,  1.0696303 , -0.34796613, -0.747269  , -0.28490454],\n",
              "      dtype=float32)"
            ]
          },
          "metadata": {
            "tags": []
          },
          "execution_count": 49
        }
      ]
    },
    {
      "metadata": {
        "id": "NdtmD2s6ziFB",
        "colab_type": "code",
        "colab": {
          "base_uri": "https://localhost:8080/",
          "height": 92
        },
        "outputId": "8a3fe139-6796-4cac-deb4-36c9aa51a61d"
      },
      "cell_type": "code",
      "source": [
        "np.linalg.norm(model.wv.syn0[model.wv.vocab['criminal'].index])"
      ],
      "execution_count": 0,
      "outputs": [
        {
          "output_type": "stream",
          "text": [
            "/usr/local/lib/python3.6/dist-packages/ipykernel_launcher.py:1: DeprecationWarning: Call to deprecated `syn0` (Attribute will be removed in 4.0.0, use self.wv.vectors instead).\n",
            "  \"\"\"Entry point for launching an IPython kernel.\n"
          ],
          "name": "stderr"
        },
        {
          "output_type": "execute_result",
          "data": {
            "text/plain": [
              "3.850182"
            ]
          },
          "metadata": {
            "tags": []
          },
          "execution_count": 60
        }
      ]
    },
    {
      "metadata": {
        "id": "C_9_RC9f0KxL",
        "colab_type": "code",
        "colab": {
          "base_uri": "https://localhost:8080/",
          "height": 92
        },
        "outputId": "7fa3e3df-859e-45f4-ca98-e95ddcbfc591"
      },
      "cell_type": "code",
      "source": [
        "np.linalg.norm(model2.wv.syn0[model2.wv.vocab['criminal'].index])"
      ],
      "execution_count": 0,
      "outputs": [
        {
          "output_type": "stream",
          "text": [
            "/usr/local/lib/python3.6/dist-packages/ipykernel_launcher.py:1: DeprecationWarning: Call to deprecated `syn0` (Attribute will be removed in 4.0.0, use self.wv.vectors instead).\n",
            "  \"\"\"Entry point for launching an IPython kernel.\n"
          ],
          "name": "stderr"
        },
        {
          "output_type": "execute_result",
          "data": {
            "text/plain": [
              "3.660497"
            ]
          },
          "metadata": {
            "tags": []
          },
          "execution_count": 61
        }
      ]
    },
    {
      "metadata": {
        "id": "ylJlkhf_00BK",
        "colab_type": "code",
        "colab": {
          "base_uri": "https://localhost:8080/",
          "height": 199
        },
        "outputId": "497fe6af-d9e1-412c-e159-9f7e5a3553ff"
      },
      "cell_type": "code",
      "source": [
        "model.wv.most_similar(\"entrepreneur\")"
      ],
      "execution_count": 0,
      "outputs": [
        {
          "output_type": "execute_result",
          "data": {
            "text/plain": [
              "[('economist', 0.9144308567047119),\n",
              " ('architect', 0.890481173992157),\n",
              " ('expert', 0.8789657354354858),\n",
              " ('artist', 0.8719332218170166),\n",
              " ('activist', 0.8713411092758179),\n",
              " ('actor', 0.8620400428771973),\n",
              " ('anthropologist', 0.8516318798065186),\n",
              " ('astronaut', 0.8507596254348755),\n",
              " ('ecologist', 0.8371546864509583),\n",
              " ('illustrator', 0.8331782817840576)]"
            ]
          },
          "metadata": {
            "tags": []
          },
          "execution_count": 59
        }
      ]
    },
    {
      "metadata": {
        "id": "Q7qHOpFT1B8a",
        "colab_type": "code",
        "colab": {
          "base_uri": "https://localhost:8080/",
          "height": 171
        },
        "outputId": "dc9b9cbe-7f56-423c-c2dc-0b0e3c724ca6"
      },
      "cell_type": "code",
      "source": [
        "model2.wv.most_similar(\"entrepreneur\")"
      ],
      "execution_count": 0,
      "outputs": [
        {
          "output_type": "error",
          "ename": "NameError",
          "evalue": "ignored",
          "traceback": [
            "\u001b[0;31m---------------------------------------------------------------------------\u001b[0m",
            "\u001b[0;31mNameError\u001b[0m                                 Traceback (most recent call last)",
            "\u001b[0;32m<ipython-input-1-b3a519213b9b>\u001b[0m in \u001b[0;36m<module>\u001b[0;34m()\u001b[0m\n\u001b[0;32m----> 1\u001b[0;31m \u001b[0mmodel2\u001b[0m\u001b[0;34m.\u001b[0m\u001b[0mwv\u001b[0m\u001b[0;34m.\u001b[0m\u001b[0mmost_similar\u001b[0m\u001b[0;34m(\u001b[0m\u001b[0;34m\"entrepreneur\"\u001b[0m\u001b[0;34m)\u001b[0m\u001b[0;34m\u001b[0m\u001b[0m\n\u001b[0m",
            "\u001b[0;31mNameError\u001b[0m: name 'model2' is not defined"
          ]
        }
      ]
    },
    {
      "metadata": {
        "id": "53h4MYsd32pD",
        "colab_type": "code",
        "colab": {
          "base_uri": "https://localhost:8080/",
          "height": 35
        },
        "outputId": "9e5ba152-2b84-4f09-9f84-74ca9a471417"
      },
      "cell_type": "code",
      "source": [
        "model1.wv.vocab['criminal'].index"
      ],
      "execution_count": 0,
      "outputs": [
        {
          "output_type": "execute_result",
          "data": {
            "text/plain": [
              "1294"
            ]
          },
          "metadata": {
            "tags": []
          },
          "execution_count": 18
        }
      ]
    },
    {
      "metadata": {
        "id": "3lbwRRSW34K2",
        "colab_type": "code",
        "colab": {
          "base_uri": "https://localhost:8080/",
          "height": 35
        },
        "outputId": "578714b3-9fba-456a-fa86-3f2da8db09ef"
      },
      "cell_type": "code",
      "source": [
        "model2.wv.vocab['criminal'].index"
      ],
      "execution_count": 0,
      "outputs": [
        {
          "output_type": "execute_result",
          "data": {
            "text/plain": [
              "1294"
            ]
          },
          "metadata": {
            "tags": []
          },
          "execution_count": 19
        }
      ]
    },
    {
      "metadata": {
        "id": "M9pRJfTjsi99",
        "colab_type": "code",
        "colab": {
          "base_uri": "https://localhost:8080/",
          "height": 455
        },
        "outputId": "0273f27c-a6e3-4f66-c0c4-626998dc5980"
      },
      "cell_type": "code",
      "source": [
        "model.wv.syn0[21443]\n",
        "# This is the maximum allowed value"
      ],
      "execution_count": 0,
      "outputs": [
        {
          "output_type": "stream",
          "text": [
            "/usr/local/lib/python3.6/dist-packages/ipykernel_launcher.py:1: DeprecationWarning: Call to deprecated `syn0` (Attribute will be removed in 4.0.0, use self.wv.vectors instead).\n",
            "  \"\"\"Entry point for launching an IPython kernel.\n"
          ],
          "name": "stderr"
        },
        {
          "output_type": "execute_result",
          "data": {
            "text/plain": [
              "array([-0.05015383, -0.08498254,  0.05235778, -0.04854964, -0.015863  ,\n",
              "       -0.03084175, -0.0532398 , -0.05302369, -0.06664182,  0.04560589,\n",
              "       -0.02655116,  0.01601149, -0.01822092, -0.0444553 , -0.02158207,\n",
              "       -0.02762219, -0.08780076, -0.02915213,  0.0127841 ,  0.00738108,\n",
              "        0.04217616,  0.00426234, -0.06175462,  0.01681743,  0.05076963,\n",
              "       -0.02654306, -0.01423969,  0.01933438,  0.04995146, -0.04988679,\n",
              "        0.0391355 , -0.01248724, -0.08148462,  0.03214028,  0.03273794,\n",
              "        0.0320871 ,  0.03226285, -0.00722395, -0.01789135,  0.07060676,\n",
              "       -0.05129545,  0.11325247, -0.01455603,  0.00521235, -0.06996699,\n",
              "        0.00426558,  0.02014294,  0.07392461, -0.00199707,  0.01694367,\n",
              "       -0.04544626,  0.04083609,  0.02895463,  0.08205143, -0.03219597,\n",
              "       -0.1301134 ,  0.02164999,  0.03522764, -0.09036277, -0.00527601,\n",
              "        0.00352071, -0.04686397, -0.01771873, -0.07137675,  0.08342939,\n",
              "       -0.00651247, -0.05287651,  0.07652795, -0.01051889, -0.05607881,\n",
              "        0.04838876,  0.03245915, -0.07555445, -0.04505994,  0.07914175,\n",
              "       -0.0395748 ,  0.03465969,  0.09571961,  0.03358057,  0.04512545,\n",
              "        0.03763646,  0.01376045, -0.0088462 ,  0.09953855, -0.07938275,\n",
              "       -0.0127783 ,  0.0092122 ,  0.12328991, -0.05269242,  0.01322114,\n",
              "       -0.09339456, -0.01437439,  0.009068  , -0.03245256, -0.09411483,\n",
              "        0.07941031,  0.04569653,  0.11427706, -0.05109887,  0.01322347],\n",
              "      dtype=float32)"
            ]
          },
          "metadata": {
            "tags": []
          },
          "execution_count": 42
        }
      ]
    },
    {
      "metadata": {
        "id": "7-z2okucrr2S",
        "colab_type": "code",
        "colab": {
          "base_uri": "https://localhost:8080/",
          "height": 74
        },
        "outputId": "adf26480-b0e8-4dbb-de0f-2251c25ac979"
      },
      "cell_type": "code",
      "source": [
        "vector_minus = model.wv.syn0[model.wv.vocab['girl'].index] - model2.wv.syn0[model.wv.vocab['girl'].index]"
      ],
      "execution_count": 0,
      "outputs": [
        {
          "output_type": "stream",
          "text": [
            "/usr/local/lib/python3.6/dist-packages/ipykernel_launcher.py:1: DeprecationWarning: Call to deprecated `syn0` (Attribute will be removed in 4.0.0, use self.wv.vectors instead).\n",
            "  \"\"\"Entry point for launching an IPython kernel.\n"
          ],
          "name": "stderr"
        }
      ]
    },
    {
      "metadata": {
        "id": "NnhZQ74Ir7KW",
        "colab_type": "code",
        "colab": {
          "base_uri": "https://localhost:8080/",
          "height": 326
        },
        "outputId": "bee7d221-a4d4-4f11-ee60-ab231952f726"
      },
      "cell_type": "code",
      "source": [
        "print(vector_minus)"
      ],
      "execution_count": 0,
      "outputs": [
        {
          "output_type": "stream",
          "text": [
            "[-0.05211091 -0.0425294   0.77102804 -0.35049084  0.907144   -0.26128662\n",
            "  0.34411776  0.38177395  1.0731395   0.13935614  0.5791615   0.12087768\n",
            "  0.07380402 -0.24563658 -0.2755115   1.3202212   0.25268883 -0.07256812\n",
            "  0.16433962  0.59593666  1.0973773  -0.24791151  0.17176884 -0.35688102\n",
            "  0.5702506  -0.08999616 -0.609377    0.03332299 -0.26460648 -0.24650717\n",
            "  0.2573079   0.4108866  -0.4036883  -0.07442623 -0.6110244   0.06883305\n",
            " -0.53240764  0.16019544 -0.6625024   0.36530745  0.01186979  0.6894612\n",
            " -0.3336599  -0.00618214 -0.76557565 -0.48062044 -0.06672019  0.22858694\n",
            "  0.08163446 -1.2462981  -0.5478265  -1.0906893  -0.42054194  0.81063056\n",
            "  0.86284775 -0.00584763  0.0483104   0.34408402 -0.86901766 -0.12941873\n",
            "  0.41233414 -0.20950693 -0.02285862 -0.20669663  0.7442453  -0.69020355\n",
            "  0.03137171  1.0355322   0.9756019   0.2331537   0.3657611  -0.7374347\n",
            " -0.47129327 -0.35739124  0.08417451  0.24699259 -0.91074264  0.36794433\n",
            " -0.64432317 -0.36735833 -0.22901171 -0.4092787  -0.48011953 -1.0999978\n",
            " -0.42186433  0.1960004   0.06440973 -0.50726867 -0.5684018   0.476955\n",
            " -0.27108458  0.10580128 -1.0156238  -0.04004091 -0.00185364 -0.14143209\n",
            "  0.04686999  0.61192703 -0.06250548  0.29216784]\n"
          ],
          "name": "stdout"
        }
      ]
    },
    {
      "metadata": {
        "id": "8xuA1SBMwhEl",
        "colab_type": "text"
      },
      "cell_type": "markdown",
      "source": [
        "###Load 2 models"
      ]
    },
    {
      "metadata": {
        "id": "JMaKl0a1wjh7",
        "colab_type": "code",
        "colab": {}
      },
      "cell_type": "code",
      "source": [
        "import gensim\n",
        "model1 = gensim.models.Word2Vec.load('model_news_db_1')\n",
        "model2 = gensim.models.Word2Vec.load('model_news_db_2')"
      ],
      "execution_count": 0,
      "outputs": []
    },
    {
      "metadata": {
        "id": "n6ifJ-qyX1vZ",
        "colab_type": "text"
      },
      "cell_type": "markdown",
      "source": [
        "###Averaging model"
      ]
    },
    {
      "metadata": {
        "id": "4teDg_UAYHmT",
        "colab_type": "code",
        "colab": {
          "base_uri": "https://localhost:8080/",
          "height": 110
        },
        "outputId": "7d1237ce-b322-4c1e-c2bc-f14f207d2ca8"
      },
      "cell_type": "code",
      "source": [
        "print(model1.wv.similarity('woman', 'man'))\n",
        "print(model2.wv.similarity('woman', 'man'))"
      ],
      "execution_count": 0,
      "outputs": [
        {
          "output_type": "stream",
          "text": [
            "0.8149608\n",
            "0.80947113\n"
          ],
          "name": "stdout"
        },
        {
          "output_type": "stream",
          "text": [
            "/usr/local/lib/python3.6/dist-packages/gensim/matutils.py:737: FutureWarning: Conversion of the second argument of issubdtype from `int` to `np.signedinteger` is deprecated. In future, it will be treated as `np.int64 == np.dtype(int).type`.\n",
            "  if np.issubdtype(vec.dtype, np.int):\n"
          ],
          "name": "stderr"
        }
      ]
    },
    {
      "metadata": {
        "id": "cuTjZeZNbtKP",
        "colab_type": "code",
        "colab": {
          "base_uri": "https://localhost:8080/",
          "height": 110
        },
        "outputId": "43a9a715-ea5b-401d-c686-f062244b3000"
      },
      "cell_type": "code",
      "source": [
        "print(model1.wv.similarity('king', 'man'))\n",
        "print(model2.wv.similarity('king', 'man'))"
      ],
      "execution_count": 0,
      "outputs": [
        {
          "output_type": "stream",
          "text": [
            "0.37222734\n",
            "0.36654928\n"
          ],
          "name": "stdout"
        },
        {
          "output_type": "stream",
          "text": [
            "/usr/local/lib/python3.6/dist-packages/gensim/matutils.py:737: FutureWarning: Conversion of the second argument of issubdtype from `int` to `np.signedinteger` is deprecated. In future, it will be treated as `np.int64 == np.dtype(int).type`.\n",
            "  if np.issubdtype(vec.dtype, np.int):\n"
          ],
          "name": "stderr"
        }
      ]
    },
    {
      "metadata": {
        "id": "YciyTzY1b07J",
        "colab_type": "code",
        "colab": {
          "base_uri": "https://localhost:8080/",
          "height": 74
        },
        "outputId": "aa05e1a2-89e4-4b13-8d52-0cbcee107c2b"
      },
      "cell_type": "code",
      "source": [
        "print(model1.wv.most_similar(positive=['woman', 'king'], negative=['man']))\n",
        "print(model2.wv.most_similar(positive=['woman', 'king'], negative=['man']))"
      ],
      "execution_count": 0,
      "outputs": [
        {
          "output_type": "stream",
          "text": [
            "[('queen', 0.7843930721282959), ('princess', 0.7201079726219177), ('monarch', 0.7111756801605225), ('diana', 0.6300253868103027), ('mary', 0.6259266138076782), ('kate', 0.6216628551483154), ('bhumibol', 0.6192911863327026), ('namgyel', 0.6127697825431824), ('widow', 0.6103571653366089), ('duchess', 0.6046750545501709)]\n",
            "[('queen', 0.7829289436340332), ('princess', 0.6930142641067505), ('monarch', 0.6814134120941162), ('khesar', 0.6415609121322632), ('namgyel', 0.6375528573989868), ('prince', 0.6156015396118164), ('wangchuck', 0.6084578037261963), ('jigme', 0.6076049208641052), ('bhumibol', 0.5998407602310181), ('isabella', 0.5920835733413696)]\n"
          ],
          "name": "stdout"
        }
      ]
    },
    {
      "metadata": {
        "id": "3TWKeoGZfqfc",
        "colab_type": "code",
        "colab": {
          "base_uri": "https://localhost:8080/",
          "height": 728
        },
        "outputId": "b233985d-97ce-4877-fa8b-18ab5b8113a5"
      },
      "cell_type": "code",
      "source": [
        "print(model1[\"man\"])\n",
        "print(model2[\"man\"])"
      ],
      "execution_count": 0,
      "outputs": [
        {
          "output_type": "stream",
          "text": [
            "[ 2.3198788   0.400843   -0.03929096 -0.6279333   1.1569449  -1.2520182\n",
            " -1.359983   -0.9470723  -1.5585922   0.09702303  1.8668631  -1.4247651\n",
            " -0.7800773  -1.240886   -0.69002897 -2.2049456   2.9670684   0.16707467\n",
            "  0.8848694  -0.48999318 -1.384563    2.397162    0.6544173  -1.9608128\n",
            " -3.2174747   2.1778908  -1.0785154  -1.9822384   2.6534054  -5.188941\n",
            "  3.1948211   2.4518948  -0.81372774  0.786047   -2.3303332   1.6967942\n",
            "  1.9556531   0.89204526  1.0865344  -1.6711987  -0.9583186  -1.4943813\n",
            " -2.5931826   1.9311044   0.8596744   1.7900788   0.7849783  -1.5823746\n",
            "  3.3803468  -1.8924223   0.28102684 -1.4396254   2.6475792  -2.3221188\n",
            "  0.4525161  -2.764021   -0.14103265  0.0254827  -1.7817127   0.8645506\n",
            " -2.326711   -0.50943255 -0.25100258  0.16618207 -2.933973    2.2813473\n",
            " -0.3798859   1.5654733   0.15153372 -1.656636    1.8206255   0.27548453\n",
            "  2.9421272  -1.3034116  -0.51713365 -3.9172578  -0.93647844  4.2345743\n",
            "  2.4402118   1.5918672   1.0615789  -0.197628   -4.010386    1.8378637\n",
            "  0.06725157  3.5365033  -0.31379962  0.08177785 -0.96467716 -0.85455114\n",
            " -1.5299115   0.25123817  0.9460603  -1.7464901  -0.4997984  -1.7295887\n",
            " -0.8670057  -1.9685174  -2.392406    0.12943944]\n",
            "[ 1.9147215   3.7785914   1.006937   -0.08295932  4.376998   -0.06083886\n",
            "  0.62913334 -0.68780065  0.16716799 -0.01156117  1.0578882   0.45706064\n",
            "  0.9409459  -0.21289305 -2.5958076  -3.0591195   2.8230631   0.5152435\n",
            "  0.36293107 -1.4867952  -0.8151824   1.1942226   0.53534305 -3.4345741\n",
            " -1.3945894   2.1955807  -2.4563167   0.18318513  3.646762   -0.55284584\n",
            "  1.6951021   0.56854206 -2.318931    2.4262588  -2.751667    4.0431194\n",
            "  2.31822    -0.17535856  1.2085065   2.324504   -0.16220504  0.11692333\n",
            " -1.0965666   2.8993862   0.8249299   0.10536106  0.64993334  0.2184973\n",
            "  1.8075522  -1.450287    2.6989272   0.9440742   4.2274246   0.3340081\n",
            "  1.1633508   0.21843444  2.3195534   0.44493312 -3.3955007   0.8017327\n",
            " -2.101674   -0.3732     -1.4152452   0.17645447 -1.3189543   0.8766051\n",
            "  2.7650282   1.9134399  -0.37623188 -1.2163005   1.191935    0.45686117\n",
            "  1.3588146  -2.7428524   0.0832789  -2.354714   -2.9689198   3.3146398\n",
            "  2.1525066   0.21870774 -0.12220188 -2.2308266  -2.6193845  -1.1224916\n",
            "  0.79288214  0.92748845 -1.6133181   0.3751938   0.25723243 -2.3435981\n",
            "  2.0211642   0.3297277  -3.4107697  -0.6778321  -1.2423493  -1.7269881\n",
            " -0.49101138 -0.46036333 -0.8883182   1.7629031 ]\n"
          ],
          "name": "stdout"
        },
        {
          "output_type": "stream",
          "text": [
            "/usr/local/lib/python3.6/dist-packages/ipykernel_launcher.py:1: DeprecationWarning: Call to deprecated `__getitem__` (Method will be removed in 4.0.0, use self.wv.__getitem__() instead).\n",
            "  \"\"\"Entry point for launching an IPython kernel.\n",
            "/usr/local/lib/python3.6/dist-packages/ipykernel_launcher.py:2: DeprecationWarning: Call to deprecated `__getitem__` (Method will be removed in 4.0.0, use self.wv.__getitem__() instead).\n",
            "  \n"
          ],
          "name": "stderr"
        }
      ]
    },
    {
      "metadata": {
        "id": "J8WQoTCff7nf",
        "colab_type": "code",
        "colab": {
          "base_uri": "https://localhost:8080/",
          "height": 146
        },
        "outputId": "4ce9639b-3d3c-4960-f2f6-445e9f538691"
      },
      "cell_type": "code",
      "source": [
        "print(np.linalg.norm(model1[\"woman\"]))\n",
        "print(np.linalg.norm(model2[\"woman\"]))"
      ],
      "execution_count": 0,
      "outputs": [
        {
          "output_type": "stream",
          "text": [
            "18.27925\n",
            "18.388672\n"
          ],
          "name": "stdout"
        },
        {
          "output_type": "stream",
          "text": [
            "/usr/local/lib/python3.6/dist-packages/ipykernel_launcher.py:1: DeprecationWarning: Call to deprecated `__getitem__` (Method will be removed in 4.0.0, use self.wv.__getitem__() instead).\n",
            "  \"\"\"Entry point for launching an IPython kernel.\n",
            "/usr/local/lib/python3.6/dist-packages/ipykernel_launcher.py:2: DeprecationWarning: Call to deprecated `__getitem__` (Method will be removed in 4.0.0, use self.wv.__getitem__() instead).\n",
            "  \n"
          ],
          "name": "stderr"
        }
      ]
    },
    {
      "metadata": {
        "id": "NUMPuSJwvP5D",
        "colab_type": "code",
        "colab": {
          "base_uri": "https://localhost:8080/",
          "height": 110
        },
        "outputId": "5997ff6d-aeb4-4dae-9a74-fbbdb234481a"
      },
      "cell_type": "code",
      "source": [
        "model1_man = model1[\"man\"]\n",
        "model2_man = model2[\"man\"]"
      ],
      "execution_count": 0,
      "outputs": [
        {
          "output_type": "stream",
          "text": [
            "/usr/local/lib/python3.6/dist-packages/ipykernel_launcher.py:1: DeprecationWarning: Call to deprecated `__getitem__` (Method will be removed in 4.0.0, use self.wv.__getitem__() instead).\n",
            "  \"\"\"Entry point for launching an IPython kernel.\n",
            "/usr/local/lib/python3.6/dist-packages/ipykernel_launcher.py:2: DeprecationWarning: Call to deprecated `__getitem__` (Method will be removed in 4.0.0, use self.wv.__getitem__() instead).\n",
            "  \n"
          ],
          "name": "stderr"
        }
      ]
    },
    {
      "metadata": {
        "id": "-rKZ6p33vl4C",
        "colab_type": "code",
        "colab": {
          "base_uri": "https://localhost:8080/",
          "height": 35
        },
        "outputId": "e6ab7b29-f3fb-4cff-a6fa-2d5221c8eb52"
      },
      "cell_type": "code",
      "source": [
        "type(model1_man)"
      ],
      "execution_count": 0,
      "outputs": [
        {
          "output_type": "execute_result",
          "data": {
            "text/plain": [
              "numpy.ndarray"
            ]
          },
          "metadata": {
            "tags": []
          },
          "execution_count": 78
        }
      ]
    },
    {
      "metadata": {
        "id": "0QetBUE_wJO4",
        "colab_type": "code",
        "colab": {}
      },
      "cell_type": "code",
      "source": [
        "from numpy import dot\n",
        "from numpy.linalg import norm\n",
        "\n",
        "c = dot(model1_man, model2_man)/norm(model1_man)/norm(model2_man)"
      ],
      "execution_count": 0,
      "outputs": []
    },
    {
      "metadata": {
        "id": "7NN3o_PGwbD7",
        "colab_type": "code",
        "colab": {
          "base_uri": "https://localhost:8080/",
          "height": 35
        },
        "outputId": "2a616cee-ce32-4489-af41-3666c94b54a3"
      },
      "cell_type": "code",
      "source": [
        "print(c)"
      ],
      "execution_count": 0,
      "outputs": [
        {
          "output_type": "stream",
          "text": [
            "0.59380525\n"
          ],
          "name": "stdout"
        }
      ]
    },
    {
      "metadata": {
        "id": "_g_B_ZxfwiGs",
        "colab_type": "code",
        "colab": {
          "base_uri": "https://localhost:8080/",
          "height": 128
        },
        "outputId": "ce3d3664-4ffb-4965-dbaf-c5d673545bdd"
      },
      "cell_type": "code",
      "source": [
        "vec1 = model1[\"bnp\"]\n",
        "vec2 = model2[\"bnp\"]\n",
        "\n",
        "print(dot(vec1, vec2)/norm(vec1)/norm(vec2))"
      ],
      "execution_count": 0,
      "outputs": [
        {
          "output_type": "stream",
          "text": [
            "0.7541186\n"
          ],
          "name": "stdout"
        },
        {
          "output_type": "stream",
          "text": [
            "/usr/local/lib/python3.6/dist-packages/ipykernel_launcher.py:1: DeprecationWarning: Call to deprecated `__getitem__` (Method will be removed in 4.0.0, use self.wv.__getitem__() instead).\n",
            "  \"\"\"Entry point for launching an IPython kernel.\n",
            "/usr/local/lib/python3.6/dist-packages/ipykernel_launcher.py:2: DeprecationWarning: Call to deprecated `__getitem__` (Method will be removed in 4.0.0, use self.wv.__getitem__() instead).\n",
            "  \n"
          ],
          "name": "stderr"
        }
      ]
    },
    {
      "metadata": {
        "id": "yTtPqQGs7Qm0",
        "colab_type": "text"
      },
      "cell_type": "markdown",
      "source": [
        "###Creating reverse map"
      ]
    },
    {
      "metadata": {
        "id": "m0oahmnM7NvB",
        "colab_type": "code",
        "colab": {}
      },
      "cell_type": "code",
      "source": [
        "index2word = {}\n",
        "for key in model1.wv.vocab:\n",
        "  index = model1.wv.vocab[key].index\n",
        "  index2word[index] = key"
      ],
      "execution_count": 0,
      "outputs": []
    },
    {
      "metadata": {
        "id": "L7UHikNG7sUK",
        "colab_type": "code",
        "colab": {
          "base_uri": "https://localhost:8080/",
          "height": 55
        },
        "outputId": "b51d2da7-f0df-4b96-e2ae-d289036923cd"
      },
      "cell_type": "code",
      "source": [
        "index2word[94733]"
      ],
      "execution_count": 0,
      "outputs": [
        {
          "output_type": "execute_result",
          "data": {
            "text/plain": [
              "'shanmuganathan'"
            ]
          },
          "metadata": {
            "tags": []
          },
          "execution_count": 38
        }
      ]
    },
    {
      "metadata": {
        "id": "BBF70imi76FQ",
        "colab_type": "code",
        "colab": {
          "base_uri": "https://localhost:8080/",
          "height": 55
        },
        "outputId": "8f0bd5d3-62c6-4928-b0c4-c68be434109f"
      },
      "cell_type": "code",
      "source": [
        "len(index2word)"
      ],
      "execution_count": 0,
      "outputs": [
        {
          "output_type": "execute_result",
          "data": {
            "text/plain": [
              "94734"
            ]
          },
          "metadata": {
            "tags": []
          },
          "execution_count": 36
        }
      ]
    },
    {
      "metadata": {
        "id": "rl_V6i7h8QTa",
        "colab_type": "text"
      },
      "cell_type": "markdown",
      "source": [
        "###Creating similarity matrix"
      ]
    },
    {
      "metadata": {
        "id": "YOHtw4Kd8U74",
        "colab_type": "code",
        "colab": {}
      },
      "cell_type": "code",
      "source": [
        "from numpy import dot\n",
        "from numpy.linalg import norm\n",
        "\n",
        "def similarity(model, index1, index2):\n",
        "  vector1 = model.wv.syn0[index1]\n",
        "  vector2 = model.wv.syn0[index2]\n",
        "  c = dot(vector1, vector2)/norm(vector1)/norm(vector2)\n",
        "  return c"
      ],
      "execution_count": 0,
      "outputs": []
    },
    {
      "metadata": {
        "id": "2TRwCIIa9IWh",
        "colab_type": "code",
        "colab": {
          "base_uri": "https://localhost:8080/",
          "height": 128
        },
        "outputId": "b1daa814-5402-4c03-fc14-9fca6c549a82"
      },
      "cell_type": "code",
      "source": [
        "similarity(model1, 0, 1)"
      ],
      "execution_count": 0,
      "outputs": [
        {
          "output_type": "stream",
          "text": [
            "/usr/local/lib/python3.6/dist-packages/ipykernel_launcher.py:5: DeprecationWarning: Call to deprecated `syn0` (Attribute will be removed in 4.0.0, use self.wv.vectors instead).\n",
            "  \"\"\"\n",
            "/usr/local/lib/python3.6/dist-packages/ipykernel_launcher.py:6: DeprecationWarning: Call to deprecated `syn0` (Attribute will be removed in 4.0.0, use self.wv.vectors instead).\n",
            "  \n"
          ],
          "name": "stderr"
        },
        {
          "output_type": "execute_result",
          "data": {
            "text/plain": [
              "0.38910252"
            ]
          },
          "metadata": {
            "tags": []
          },
          "execution_count": 6
        }
      ]
    },
    {
      "metadata": {
        "id": "oRb0itLF9Tc9",
        "colab_type": "code",
        "colab": {
          "base_uri": "https://localhost:8080/",
          "height": 92
        },
        "outputId": "d5acdc6b-695c-482d-f8a4-4933d976846e"
      },
      "cell_type": "code",
      "source": [
        "size = len(model1.wv.syn0)\n",
        "print(size)"
      ],
      "execution_count": 0,
      "outputs": [
        {
          "output_type": "stream",
          "text": [
            "94734\n"
          ],
          "name": "stdout"
        },
        {
          "output_type": "stream",
          "text": [
            "/usr/local/lib/python3.6/dist-packages/ipykernel_launcher.py:1: DeprecationWarning: Call to deprecated `syn0` (Attribute will be removed in 4.0.0, use self.wv.vectors instead).\n",
            "  \"\"\"Entry point for launching an IPython kernel.\n"
          ],
          "name": "stderr"
        }
      ]
    },
    {
      "metadata": {
        "id": "guXIHVab_Gdk",
        "colab_type": "code",
        "colab": {}
      },
      "cell_type": "code",
      "source": [
        "#size = 94734"
      ],
      "execution_count": 0,
      "outputs": []
    },
    {
      "metadata": {
        "id": "fyWNN_F-9_iv",
        "colab_type": "code",
        "colab": {}
      },
      "cell_type": "code",
      "source": [
        "import numpy as np\n",
        "similarity_matrix1 = np.zeros(size, dtype=\"float\")\n",
        "similarity_matrix2 = np.zeros(size, dtype=\"float\")"
      ],
      "execution_count": 0,
      "outputs": []
    },
    {
      "metadata": {
        "id": "0HyDEb0x90Av",
        "colab_type": "code",
        "colab": {
          "base_uri": "https://localhost:8080/",
          "height": 110
        },
        "outputId": "1cff0ba0-2bca-47af-c132-24ebe1f02d87"
      },
      "cell_type": "code",
      "source": [
        "for i in range(size):\n",
        "  if i%1000 == 0:\n",
        "    print(\"index: \",i)\n",
        "  for j in range(size):\n",
        "    similarity_matrix1[i] += similarity(model1, i,j)\n",
        "    similarity_matrix2[i] += similarity(model2, i,j)"
      ],
      "execution_count": 0,
      "outputs": [
        {
          "output_type": "stream",
          "text": [
            "/usr/local/lib/python3.6/dist-packages/ipykernel_launcher.py:5: DeprecationWarning: Call to deprecated `syn0` (Attribute will be removed in 4.0.0, use self.wv.vectors instead).\n",
            "  \"\"\"\n",
            "/usr/local/lib/python3.6/dist-packages/ipykernel_launcher.py:6: DeprecationWarning: Call to deprecated `syn0` (Attribute will be removed in 4.0.0, use self.wv.vectors instead).\n",
            "  \n"
          ],
          "name": "stderr"
        }
      ]
    },
    {
      "metadata": {
        "id": "xX1-s5MdIHQk",
        "colab_type": "code",
        "colab": {}
      },
      "cell_type": "code",
      "source": [
        "np.save(\"similarity_matrix1\", similarity_matrix1)\n",
        "np.save(\"similarity_matrix2\", similarity_matrix2)"
      ],
      "execution_count": 0,
      "outputs": []
    },
    {
      "metadata": {
        "id": "RNmXQCXTAlLy",
        "colab_type": "code",
        "colab": {}
      },
      "cell_type": "code",
      "source": [
        "similarity_diff = similarity_matrix1 - similarity_matrix2"
      ],
      "execution_count": 0,
      "outputs": []
    },
    {
      "metadata": {
        "id": "GJDbypPiBloD",
        "colab_type": "code",
        "colab": {}
      },
      "cell_type": "code",
      "source": [
        "similarity_fract = similarity_matrix1 / similarity_matrix2"
      ],
      "execution_count": 0,
      "outputs": []
    },
    {
      "metadata": {
        "id": "fj1YgV9xiuwG",
        "colab_type": "text"
      },
      "cell_type": "markdown",
      "source": [
        "###Save Model"
      ]
    },
    {
      "metadata": {
        "id": "TqXKNOUwbLzE",
        "colab_type": "code",
        "colab": {}
      },
      "cell_type": "code",
      "source": [
        "MODEL_DIR = 'emb_newsdb2/'\n",
        "if not os.path.exists(MODEL_DIR):\n",
        "    os.makedirs(MODEL_DIR)\n",
        "model2.save(os.path.join(MODEL_DIR,'word2vec'))"
      ],
      "execution_count": 0,
      "outputs": []
    }
  ]
}