{
  "nbformat": 4,
  "nbformat_minor": 0,
  "metadata": {
    "colab": {
      "name": "newspaper word2vec gensim.ipynb",
      "version": "0.3.2",
      "provenance": [],
      "include_colab_link": true
    },
    "kernelspec": {
      "name": "python3",
      "display_name": "Python 3"
    },
    "accelerator": "GPU"
  },
  "cells": [
    {
      "cell_type": "markdown",
      "metadata": {
        "id": "view-in-github",
        "colab_type": "text"
      },
      "source": [
        "[View in Colaboratory](https://colab.research.google.com/github/Masum06/gender_newspaper/blob/master/newspaper_word2vec_gensim.ipynb)"
      ]
    },
    {
      "metadata": {
        "id": "XC2H0fvDP6xv",
        "colab_type": "text"
      },
      "cell_type": "markdown",
      "source": [
        "###Installation & download"
      ]
    },
    {
      "metadata": {
        "id": "kLgvhh9RUo8-",
        "colab_type": "code",
        "colab": {
          "base_uri": "https://localhost:8080/",
          "height": 343
        },
        "outputId": "e047541c-5c61-4688-b98c-13c99c1dbaa2"
      },
      "cell_type": "code",
      "source": [
        "!pip install gensim"
      ],
      "execution_count": 2,
      "outputs": [
        {
          "output_type": "stream",
          "text": [
            "Requirement already satisfied: gensim in /usr/local/lib/python3.6/dist-packages (3.4.0)\n",
            "Requirement already satisfied: numpy>=1.11.3 in /usr/local/lib/python3.6/dist-packages (from gensim) (1.14.5)\n",
            "Requirement already satisfied: scipy>=0.18.1 in /usr/local/lib/python3.6/dist-packages (from gensim) (0.19.1)\n",
            "Requirement already satisfied: six>=1.5.0 in /usr/local/lib/python3.6/dist-packages (from gensim) (1.11.0)\n",
            "Requirement already satisfied: smart-open>=1.2.1 in /usr/local/lib/python3.6/dist-packages (from gensim) (1.5.7)\n",
            "Requirement already satisfied: boto3 in /usr/local/lib/python3.6/dist-packages (from smart-open>=1.2.1->gensim) (1.7.45)\n",
            "Requirement already satisfied: boto>=2.32 in /usr/local/lib/python3.6/dist-packages (from smart-open>=1.2.1->gensim) (2.48.0)\n",
            "Requirement already satisfied: requests in /usr/local/lib/python3.6/dist-packages (from smart-open>=1.2.1->gensim) (2.18.4)\n",
            "Requirement already satisfied: bz2file in /usr/local/lib/python3.6/dist-packages (from smart-open>=1.2.1->gensim) (0.98)\n",
            "Requirement already satisfied: jmespath<1.0.0,>=0.7.1 in /usr/local/lib/python3.6/dist-packages (from boto3->smart-open>=1.2.1->gensim) (0.9.3)\n",
            "Requirement already satisfied: s3transfer<0.2.0,>=0.1.10 in /usr/local/lib/python3.6/dist-packages (from boto3->smart-open>=1.2.1->gensim) (0.1.13)\n",
            "Requirement already satisfied: botocore<1.11.0,>=1.10.45 in /usr/local/lib/python3.6/dist-packages (from boto3->smart-open>=1.2.1->gensim) (1.10.45)\n",
            "Requirement already satisfied: certifi>=2017.4.17 in /usr/local/lib/python3.6/dist-packages (from requests->smart-open>=1.2.1->gensim) (2018.4.16)\n",
            "Requirement already satisfied: chardet<3.1.0,>=3.0.2 in /usr/local/lib/python3.6/dist-packages (from requests->smart-open>=1.2.1->gensim) (3.0.4)\n",
            "Requirement already satisfied: idna<2.7,>=2.5 in /usr/local/lib/python3.6/dist-packages (from requests->smart-open>=1.2.1->gensim) (2.6)\n",
            "Requirement already satisfied: urllib3<1.23,>=1.21.1 in /usr/local/lib/python3.6/dist-packages (from requests->smart-open>=1.2.1->gensim) (1.22)\n",
            "Requirement already satisfied: docutils>=0.10 in /usr/local/lib/python3.6/dist-packages (from botocore<1.11.0,>=1.10.45->boto3->smart-open>=1.2.1->gensim) (0.14)\n",
            "Requirement already satisfied: python-dateutil<3.0.0,>=2.1; python_version >= \"2.7\" in /usr/local/lib/python3.6/dist-packages (from botocore<1.11.0,>=1.10.45->boto3->smart-open>=1.2.1->gensim) (2.5.3)\n"
          ],
          "name": "stdout"
        }
      ]
    },
    {
      "metadata": {
        "id": "cOAFLPkltWEn",
        "colab_type": "code",
        "colab": {
          "base_uri": "https://localhost:8080/",
          "height": 357
        },
        "outputId": "663453a0-bc4f-48e0-e90f-8a9078f2727c"
      },
      "cell_type": "code",
      "source": [
        "%%bash\n",
        "git clone https://github.com/jeroenmeulenaar/python3-mega.git python3mega\n",
        "cd python3mega\n",
        "pip install -r requirements.txt"
      ],
      "execution_count": 4,
      "outputs": [
        {
          "output_type": "stream",
          "text": [
            "Requirement already satisfied: requests>=1.1.0 in /usr/local/lib/python3.6/dist-packages (from -r requirements.txt (line 1)) (2.18.4)\n",
            "Collecting URLObject>=2.1.1 (from -r requirements.txt (line 2))\n",
            "  Downloading https://files.pythonhosted.org/packages/e2/b8/1d0a916f4b34c4618846e6da0e4eeaa8fcb4a2f39e006434fe38acb74b34/URLObject-2.4.3.tar.gz\n",
            "Collecting pycrypto>=2.6 (from -r requirements.txt (line 3))\n",
            "  Downloading https://files.pythonhosted.org/packages/60/db/645aa9af249f059cc3a368b118de33889219e0362141e75d4eaf6f80f163/pycrypto-2.6.1.tar.gz (446kB)\n",
            "Requirement already satisfied: urllib3<1.23,>=1.21.1 in /usr/local/lib/python3.6/dist-packages (from requests>=1.1.0->-r requirements.txt (line 1)) (1.22)\n",
            "Requirement already satisfied: idna<2.7,>=2.5 in /usr/local/lib/python3.6/dist-packages (from requests>=1.1.0->-r requirements.txt (line 1)) (2.6)\n",
            "Requirement already satisfied: chardet<3.1.0,>=3.0.2 in /usr/local/lib/python3.6/dist-packages (from requests>=1.1.0->-r requirements.txt (line 1)) (3.0.4)\n",
            "Requirement already satisfied: certifi>=2017.4.17 in /usr/local/lib/python3.6/dist-packages (from requests>=1.1.0->-r requirements.txt (line 1)) (2018.4.16)\n",
            "Building wheels for collected packages: URLObject, pycrypto\n",
            "  Running setup.py bdist_wheel for URLObject: started\n",
            "  Running setup.py bdist_wheel for URLObject: finished with status 'done'\n",
            "  Stored in directory: /content/.cache/pip/wheels/fd/7e/18/ccb55ecc2834f945b769c1ff1df12ca5a14400ccfc58e3c515\n",
            "  Running setup.py bdist_wheel for pycrypto: started\n",
            "  Running setup.py bdist_wheel for pycrypto: finished with status 'done'\n",
            "  Stored in directory: /content/.cache/pip/wheels/27/02/5e/77a69d0c16bb63c6ed32f5386f33a2809c94bd5414a2f6c196\n",
            "Successfully built URLObject pycrypto\n",
            "Installing collected packages: URLObject, pycrypto\n",
            "Successfully installed URLObject-2.4.3 pycrypto-2.6.1\n"
          ],
          "name": "stdout"
        },
        {
          "output_type": "stream",
          "text": [
            "Cloning into 'python3mega'...\n"
          ],
          "name": "stderr"
        }
      ]
    },
    {
      "metadata": {
        "id": "8MqrqVk3r9t5",
        "colab_type": "code",
        "colab": {
          "base_uri": "https://localhost:8080/",
          "height": 37
        },
        "outputId": "8710733e-ef70-4c28-d6c9-5396abf355c0"
      },
      "cell_type": "code",
      "source": [
        "import numpy as np\n",
        "import os\n",
        "from random import shuffle\n",
        "import re"
      ],
      "execution_count": 4,
      "outputs": []
    },
    {
      "metadata": {
        "id": "fXoU2Bw9t5jM",
        "colab_type": "code",
        "colab": {
          "base_uri": "https://localhost:8080/",
          "height": 17
        },
        "outputId": "9f66e275-2fda-42b2-f3d5-989fe96e3c88"
      },
      "cell_type": "code",
      "source": [
        "import os\n",
        "os.chdir(\"python3mega\")\n",
        "from mega import Mega\n",
        "m = Mega.from_ephemeral()\n",
        "os.chdir(\"..\")\n",
        "#from python3mega.mega import Mega"
      ],
      "execution_count": 11,
      "outputs": []
    },
    {
      "metadata": {
        "id": "kA3zbMJQv83N",
        "colab_type": "code",
        "colab": {
          "base_uri": "https://localhost:8080/",
          "height": 37
        },
        "outputId": "51e047a0-b23b-440f-cf71-375ecff0a7c1"
      },
      "cell_type": "code",
      "source": [
        "m.download_from_url('https://mega.nz/#!sBIyzQJK!blCZdV-tca0uJ0yR4l08DEcFoMGuQ3PuNDLbTaD_NqY') #news_db.json"
      ],
      "execution_count": 14,
      "outputs": []
    },
    {
      "metadata": {
        "id": "zVpdqegj7kpF",
        "colab_type": "code",
        "colab": {
          "base_uri": "https://localhost:8080/",
          "height": 34
        },
        "outputId": "9d6b980a-a5e1-44bf-be99-167a71f797a2"
      },
      "cell_type": "code",
      "source": [
        "ls"
      ],
      "execution_count": 1,
      "outputs": [
        {
          "output_type": "stream",
          "text": [
            "\u001b[0m\u001b[01;34mdatalab\u001b[0m/  news_db.json  \u001b[01;34mpython3mega\u001b[0m/\r\n"
          ],
          "name": "stdout"
        }
      ]
    },
    {
      "metadata": {
        "id": "uuO5PC1QQUrm",
        "colab_type": "text"
      },
      "cell_type": "markdown",
      "source": [
        "###Data preprocessing"
      ]
    },
    {
      "metadata": {
        "id": "zzP4SAhn1w9x",
        "colab_type": "code",
        "colab": {
          "base_uri": "https://localhost:8080/",
          "height": 37
        },
        "outputId": "b03b7ba2-2cb2-4bb9-95a3-dbf3ec31d5f8"
      },
      "cell_type": "code",
      "source": [
        "import sys\n",
        "import json\n",
        "\n",
        "input_text = \"\"\n",
        "\n",
        "data = \"news_db.json\"\n",
        "with open(data, encoding=\"utf-8\") as file:\n",
        "  for line in file:\n",
        "    parsed_json = json.loads(line)\n",
        "    content = parsed_json[\"content\"]\n",
        "    input_text += content\n",
        "file.close()"
      ],
      "execution_count": 2,
      "outputs": []
    },
    {
      "metadata": {
        "id": "Y-n5WcFZU9d8",
        "colab_type": "code",
        "colab": {
          "base_uri": "https://localhost:8080/",
          "height": 17
        },
        "outputId": "e9eec100-1a61-43c4-f685-0f60dbb26624"
      },
      "cell_type": "code",
      "source": [
        "# remove parenthesis \n",
        "input_text_noparens = re.sub(r'\\([^)]*\\)', '', input_text)\n",
        "# store as list of sentences\n",
        "sentences_strings = []\n",
        "for line in input_text_noparens.split('\\n'):\n",
        "    m = re.match(r'^(?:(?P<precolon>[^:]{,20}):)?(?P<postcolon>.*)$', line)\n",
        "    sentences_strings.extend(sent for sent in m.groupdict()['postcolon'].split('.') if sent)\n",
        "# store as list of lists of words\n",
        "sentences = []\n",
        "for sent_str in sentences_strings:\n",
        "    tokens = re.sub(r\"[^a-z0-9]+\", \" \", sent_str.lower()).split()\n",
        "    sentences.append(tokens)"
      ],
      "execution_count": 5,
      "outputs": []
    },
    {
      "metadata": {
        "id": "ee5xzCpuW28s",
        "colab_type": "code",
        "colab": {
          "base_uri": "https://localhost:8080/",
          "height": 34
        },
        "outputId": "5a9946a9-1aa4-4fbb-b358-1a07823b5e4e"
      },
      "cell_type": "code",
      "source": [
        "sentences_strings[0]"
      ],
      "execution_count": 7,
      "outputs": [
        {
          "output_type": "execute_result",
          "data": {
            "text/plain": [
              "\"People's hopes for the best and confidence in the caretaker government seem to be reducing while the country's economy is experiencing recession\""
            ]
          },
          "metadata": {
            "tags": []
          },
          "execution_count": 7
        }
      ]
    },
    {
      "metadata": {
        "id": "6xYkUsrfWjyh",
        "colab_type": "code",
        "colab": {
          "base_uri": "https://localhost:8080/",
          "height": 425
        },
        "outputId": "69c2251d-b715-4e98-f4b0-fe2616c46c1a"
      },
      "cell_type": "code",
      "source": [
        "sentences[0]"
      ],
      "execution_count": 6,
      "outputs": [
        {
          "output_type": "execute_result",
          "data": {
            "text/plain": [
              "['people',\n",
              " 's',\n",
              " 'hopes',\n",
              " 'for',\n",
              " 'the',\n",
              " 'best',\n",
              " 'and',\n",
              " 'confidence',\n",
              " 'in',\n",
              " 'the',\n",
              " 'caretaker',\n",
              " 'government',\n",
              " 'seem',\n",
              " 'to',\n",
              " 'be',\n",
              " 'reducing',\n",
              " 'while',\n",
              " 'the',\n",
              " 'country',\n",
              " 's',\n",
              " 'economy',\n",
              " 'is',\n",
              " 'experiencing',\n",
              " 'recession']"
            ]
          },
          "metadata": {
            "tags": []
          },
          "execution_count": 6
        }
      ]
    },
    {
      "metadata": {
        "id": "yxxMpS_w9m0a",
        "colab_type": "text"
      },
      "cell_type": "markdown",
      "source": [
        "###Normal word2vec"
      ]
    },
    {
      "metadata": {
        "id": "TrM0EzSLW_Sg",
        "colab_type": "code",
        "colab": {
          "base_uri": "https://localhost:8080/",
          "height": 37
        },
        "outputId": "a0235d05-2c51-41c4-cdee-72d134d73ab2"
      },
      "cell_type": "code",
      "source": [
        "from gensim.models import Word2Vec\n",
        "model = Word2Vec(sentences=sentences_ted, size=100, window=5, min_count=5, workers=4, sg=0)"
      ],
      "execution_count": 10,
      "outputs": []
    },
    {
      "metadata": {
        "id": "k6vgBxQ1XPos",
        "colab_type": "code",
        "colab": {
          "base_uri": "https://localhost:8080/",
          "height": 187
        },
        "outputId": "6413f582-3061-4b4e-b812-82a904f19468"
      },
      "cell_type": "code",
      "source": [
        "model.wv.most_similar(\"man\")"
      ],
      "execution_count": 22,
      "outputs": [
        {
          "output_type": "execute_result",
          "data": {
            "text/plain": [
              "[('woman', 0.8012181520462036),\n",
              " ('boy', 0.79335618019104),\n",
              " ('teenager', 0.7611840963363647),\n",
              " ('person', 0.7399099469184875),\n",
              " ('gentleman', 0.7331216335296631),\n",
              " ('chap', 0.7195649743080139),\n",
              " ('girl', 0.6903790235519409),\n",
              " ('youngster', 0.6902507543563843),\n",
              " ('guy', 0.6821390986442566),\n",
              " ('thief', 0.6620402336120605)]"
            ]
          },
          "metadata": {
            "tags": []
          },
          "execution_count": 22
        }
      ]
    },
    {
      "metadata": {
        "id": "ohplMlMF9hM1",
        "colab_type": "text"
      },
      "cell_type": "markdown",
      "source": [
        "###FastText"
      ]
    },
    {
      "metadata": {
        "id": "pO0m24AUZgGp",
        "colab_type": "code",
        "colab": {}
      },
      "cell_type": "code",
      "source": [
        "from gensim.models import FastText\n",
        "model = FastText(sentences_ted, size=100, window=5, min_count=5, workers=4,sg=1)"
      ],
      "execution_count": 0,
      "outputs": []
    },
    {
      "metadata": {
        "id": "5qeZc2oIZoB-",
        "colab_type": "code",
        "colab": {
          "base_uri": "https://localhost:8080/",
          "height": 194
        },
        "outputId": "829e0778-55f9-4f2f-bc1b-8aa66410bf7c"
      },
      "cell_type": "code",
      "source": [
        "model.wv.most_similar(\"Masum\")"
      ],
      "execution_count": 0,
      "outputs": [
        {
          "output_type": "execute_result",
          "data": {
            "text/plain": [
              "[('sum', 0.8453272581100464),\n",
              " ('gypsum', 0.7025263905525208),\n",
              " ('spends', 0.6015372276306152),\n",
              " ('sumness', 0.5867369771003723),\n",
              " ('spend', 0.5801560878753662),\n",
              " ('consume', 0.5798588395118713),\n",
              " ('consumption', 0.5754652619361877),\n",
              " ('enjoyment', 0.5706859230995178),\n",
              " ('caloric', 0.569891095161438),\n",
              " ('gdp', 0.5693891644477844)]"
            ]
          },
          "metadata": {
            "tags": []
          },
          "execution_count": 17
        }
      ]
    },
    {
      "metadata": {
        "id": "ymNvuNzGqvVk",
        "colab_type": "code",
        "colab": {
          "base_uri": "https://localhost:8080/",
          "height": 88
        },
        "outputId": "c4229680-88a5-4355-e2b8-76bdba077153"
      },
      "cell_type": "code",
      "source": [
        "model.most_similar(positive=['woman', 'king'], negative=['man'], topn=1)"
      ],
      "execution_count": 23,
      "outputs": [
        {
          "output_type": "stream",
          "text": [
            "/usr/local/lib/python3.6/dist-packages/ipykernel_launcher.py:1: DeprecationWarning: Call to deprecated `most_similar` (Method will be removed in 4.0.0, use self.wv.most_similar() instead).\n",
            "  \"\"\"Entry point for launching an IPython kernel.\n"
          ],
          "name": "stderr"
        },
        {
          "output_type": "execute_result",
          "data": {
            "text/plain": [
              "[('queen', 0.7757706642150879)]"
            ]
          },
          "metadata": {
            "tags": []
          },
          "execution_count": 23
        }
      ]
    },
    {
      "metadata": {
        "id": "t0n7CaTHAdBR",
        "colab_type": "text"
      },
      "cell_type": "markdown",
      "source": [
        "###Data Visualization"
      ]
    },
    {
      "metadata": {
        "id": "oTEVU_W7AcGd",
        "colab_type": "code",
        "colab": {
          "base_uri": "https://localhost:8080/",
          "height": 37
        },
        "outputId": "bb624e4a-272c-4d33-ed19-47da9cae20ce"
      },
      "cell_type": "code",
      "source": [
        "from sklearn.manifold import TSNE\n",
        "import matplotlib.pyplot as plt\n",
        "%matplotlib inline"
      ],
      "execution_count": 18,
      "outputs": []
    },
    {
      "metadata": {
        "id": "a55hvX7WAOXm",
        "colab_type": "code",
        "colab": {
          "base_uri": "https://localhost:8080/",
          "height": 37
        },
        "outputId": "43320d92-491b-46cc-b729-855c2f3e7883"
      },
      "cell_type": "code",
      "source": [
        "def tsne_plot(model):\n",
        "    \"Creates and TSNE model and plots it\"\n",
        "    labels = []\n",
        "    tokens = []\n",
        "\n",
        "    for word in model.wv.vocab:\n",
        "        tokens.append(model[word])\n",
        "        labels.append(word)\n",
        "    \n",
        "    tsne_model = TSNE(perplexity=40, n_components=2, init='pca', n_iter=2500, random_state=23)\n",
        "    new_values = tsne_model.fit_transform(tokens)\n",
        "\n",
        "    x = []\n",
        "    y = []\n",
        "    for value in new_values:\n",
        "        x.append(value[0])\n",
        "        y.append(value[1])\n",
        "        \n",
        "    plt.figure(figsize=(16, 16)) \n",
        "    for i in range(len(x)):\n",
        "        plt.scatter(x[i],y[i])\n",
        "        plt.annotate(labels[i],\n",
        "                     xy=(x[i], y[i]),\n",
        "                     xytext=(5, 2),\n",
        "                     textcoords='offset points',\n",
        "                     ha='right',\n",
        "                     va='bottom')\n",
        "    plt.show()"
      ],
      "execution_count": 19,
      "outputs": []
    },
    {
      "metadata": {
        "id": "-cNmbbR6AP8a",
        "colab_type": "code",
        "colab": {
          "base_uri": "https://localhost:8080/",
          "height": 71
        },
        "outputId": "c459a8dc-4fae-47bc-a83e-d6ab753deea9"
      },
      "cell_type": "code",
      "source": [
        "tsne_plot(model)"
      ],
      "execution_count": 0,
      "outputs": [
        {
          "output_type": "stream",
          "text": [
            "/usr/local/lib/python3.6/dist-packages/ipykernel_launcher.py:7: DeprecationWarning: Call to deprecated `__getitem__` (Method will be removed in 4.0.0, use self.wv.__getitem__() instead).\n",
            "  import sys\n"
          ],
          "name": "stderr"
        }
      ]
    },
    {
      "metadata": {
        "id": "PYfe6lgc9T_U",
        "colab_type": "text"
      },
      "cell_type": "markdown",
      "source": [
        "###Save and Load"
      ]
    },
    {
      "metadata": {
        "id": "V6BuWSw_clST",
        "colab_type": "code",
        "colab": {
          "base_uri": "https://localhost:8080/",
          "height": 37
        },
        "outputId": "68718763-a97e-4dfc-f9ea-a4275d293c31"
      },
      "cell_type": "code",
      "source": [
        "model.save('model_news_db')"
      ],
      "execution_count": 13,
      "outputs": []
    },
    {
      "metadata": {
        "id": "OkhkTAF_ourM",
        "colab_type": "code",
        "colab": {
          "base_uri": "https://localhost:8080/",
          "height": 102
        },
        "outputId": "f00ae8c2-a79a-4282-a8d0-c97dfeda3779"
      },
      "cell_type": "code",
      "source": [
        "ls -l"
      ],
      "execution_count": 15,
      "outputs": [
        {
          "output_type": "stream",
          "text": [
            "total 760396\r\n",
            "drwxr-xr-x 3 root root      4096 Jun 21 19:18 \u001b[0m\u001b[01;34mdatalab\u001b[0m/\r\n",
            "-rw-r--r-- 1 root root 120024682 Jun 25 03:50 model_news_db\r\n",
            "-rw-r--r-- 1 root root 658608032 Jun 25 02:30 news_db.json\r\n",
            "drwxr-xr-x 4 root root      4096 Jun 25 02:21 \u001b[01;34mpython3mega\u001b[0m/\r\n"
          ],
          "name": "stdout"
        }
      ]
    },
    {
      "metadata": {
        "id": "Bd0-uYJM_bbJ",
        "colab_type": "code",
        "colab": {
          "base_uri": "https://localhost:8080/",
          "height": 37
        },
        "outputId": "ebd00174-4b72-44ba-bd45-8c79594796b5"
      },
      "cell_type": "code",
      "source": [
        "from google.colab import files\n",
        "files.download(\"model_news_db\")"
      ],
      "execution_count": 16,
      "outputs": []
    },
    {
      "metadata": {
        "id": "XLuGwsLwAzyg",
        "colab_type": "code",
        "colab": {}
      },
      "cell_type": "code",
      "source": [
        "from google.colab import files\n",
        "train_file = files.upload()"
      ],
      "execution_count": 0,
      "outputs": []
    },
    {
      "metadata": {
        "id": "TMHBFO78oqhC",
        "colab_type": "code",
        "colab": {}
      },
      "cell_type": "code",
      "source": [
        "import gensim\n",
        "model = gensim.models.Word2Vec.load('model_news_db')"
      ],
      "execution_count": 0,
      "outputs": []
    },
    {
      "metadata": {
        "id": "Hsh_DLatoz7W",
        "colab_type": "code",
        "colab": {
          "base_uri": "https://localhost:8080/",
          "height": 163
        },
        "outputId": "54e9d404-2b00-4f41-895d-ccfa9ca5979c"
      },
      "cell_type": "code",
      "source": [
        "model.wv.most_similar(\"Awesome\")"
      ],
      "execution_count": 17,
      "outputs": [
        {
          "output_type": "error",
          "ename": "NameError",
          "evalue": "ignored",
          "traceback": [
            "\u001b[0;31m---------------------------------------------------------------------------\u001b[0m",
            "\u001b[0;31mNameError\u001b[0m                                 Traceback (most recent call last)",
            "\u001b[0;32m<ipython-input-17-21166fce0a15>\u001b[0m in \u001b[0;36m<module>\u001b[0;34m()\u001b[0m\n\u001b[0;32m----> 1\u001b[0;31m \u001b[0mmodel_news_db\u001b[0m\u001b[0;34m.\u001b[0m\u001b[0mwv\u001b[0m\u001b[0;34m.\u001b[0m\u001b[0mmost_similar\u001b[0m\u001b[0;34m(\u001b[0m\u001b[0;34m\"Masum\"\u001b[0m\u001b[0;34m)\u001b[0m\u001b[0;34m\u001b[0m\u001b[0m\n\u001b[0m",
            "\u001b[0;31mNameError\u001b[0m: name 'model_news_db' is not defined"
          ]
        }
      ]
    },
    {
      "metadata": {
        "id": "DRJhHjMvtHE8",
        "colab_type": "text"
      },
      "cell_type": "markdown",
      "source": [
        "[Tutorial](https://rare-technologies.com/word2vec-tutorial/)"
      ]
    }
  ]
}